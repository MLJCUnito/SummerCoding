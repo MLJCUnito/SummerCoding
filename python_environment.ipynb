{
 "cells": [
  {
   "cell_type": "markdown",
   "metadata": {},
   "source": [
    "# Installation\n",
    "\n",
    "Useful link:\n",
    "* https://docs.anaconda.com/anaconda/install/\n",
    "* https://docs.anaconda.com/anaconda/install/windows/\n",
    "* https://docs.anaconda.com/anaconda/install/mac-os/\n",
    "* https://docs.anaconda.com/anaconda/install/linux/\n",
    "\n"
   ]
  },
  {
   "cell_type": "markdown",
   "metadata": {
    "slideshow": {
     "slide_type": "slide"
    }
   },
   "source": [
    "# Revealing the magic: how python works?\n",
    "At a first glance, when you don't know how stuff work everything seems magical, in the meantime everything runs smooth and you really don't bother how stuff works. This is ok until some troubles kick in and you must start the infamous activity of troubleshooting (a very common activity in programming). \n",
    "\n",
    "This notebook show the main elements of python environment,  how python code is executed and in which way the interpreter is aware of the os environment.\n",
    "\n",
    "![title](img/python_environment_diagram.png)"
   ]
  },
  {
   "cell_type": "markdown",
   "metadata": {
    "slideshow": {
     "slide_type": "slide"
    }
   },
   "source": [
    "## Path and Directories\n",
    "\n",
    "Why I'm not able to run Python? There are at least [googolplex](https://en.wikipedia.org/wiki/Googolplex) reasons, the most common one for a rookie is that doesn't have python interpreter path in path environment variable, so your os doesn't know  how to run it because doesn't know where Python is! Therefore you must **add python interpreter path to environment variable path**.\n",
    "\n",
    "More info:\n",
    "[for Windows](https://docs.python.org/3.7/using/windows.html#configuring-python), [for Unix-like](https://docs.python.org/3.7/using/unix.html)\n",
    "\n",
    "\n",
    "### Three common question:\n",
    "* Which Python interpreter I'm using?\n",
    "* What is the location of my installed modules?\n",
    "* Where I'm working?"
   ]
  },
  {
   "cell_type": "code",
   "execution_count": 8,
   "metadata": {
    "slideshow": {
     "slide_type": "slide"
    }
   },
   "outputs": [
    {
     "name": "stdout",
     "output_type": "stream",
     "text": [
      "Python interpreter is located in: /home/prf/anaconda3/bin/python\n",
      "Modules are located in: ['/home/prf/anaconda3/lib/python36.zip', '/home/prf/anaconda3/lib/python3.6', '/home/prf/anaconda3/lib/python3.6/lib-dynload', '', '/home/prf/anaconda3/lib/python3.6/site-packages', '/home/prf/anaconda3/lib/python3.6/site-packages/IPython/extensions', '/home/prf/.ipython']\n",
      "Current Working Directory: /home/prf/Desktop/MLJC/Analisi dati\n"
     ]
    }
   ],
   "source": [
    "import sys\n",
    "import os\n",
    "print(\"Python interpreter is located in: {}\".format(sys.executable))\n",
    "print(\"Modules are located in: {}\".format(sys.path))\n",
    "print(\"Current Working Directory: {}\".format(os.getcwd()))"
   ]
  },
  {
   "cell_type": "markdown",
   "metadata": {},
   "source": [
    "**The empty string ' ' in sys.path is the current working directory, allowing Python to read modules and files where you are working on!.**"
   ]
  },
  {
   "cell_type": "markdown",
   "metadata": {
    "slideshow": {
     "slide_type": "slide"
    }
   },
   "source": [
    "## Extending python with pip\n",
    "\n",
    "At this point you should have a basic knowledge of python-os interaction. As big as the standard library is, it provides only core modules and function to help in your daily tasks, at some point you'll need to search and install third part packages developed by others. The most common tool used to install and manage third part packages is pip.\n",
    "\n",
    "You can install a package by typing in a shell (without \"!\"):"
   ]
  },
  {
   "cell_type": "code",
   "execution_count": null,
   "metadata": {
    "slideshow": {
     "slide_type": "slide"
    }
   },
   "outputs": [],
   "source": [
    "!pip install twitter"
   ]
  },
  {
   "cell_type": "code",
   "execution_count": 14,
   "metadata": {},
   "outputs": [],
   "source": [
    "import twitter as twt"
   ]
  },
  {
   "cell_type": "markdown",
   "metadata": {},
   "source": [
    "If you didn't receive \"ModuleNotFoundError\" you have successfully installed the package"
   ]
  },
  {
   "cell_type": "code",
   "execution_count": 15,
   "metadata": {},
   "outputs": [
    {
     "name": "stdout",
     "output_type": "stream",
     "text": [
      "Uninstalling twitter-1.18.0:\n",
      "  Successfully uninstalled twitter-1.18.0\n"
     ]
    }
   ],
   "source": [
    "!pip uninstall --yes twitter"
   ]
  },
  {
   "cell_type": "markdown",
   "metadata": {},
   "source": [
    "## Using virtual environments\n",
    "\n",
    "\n",
    "What appens if you find on [GitHub](https://github.com/) some interesting project that you would like to try? Probably you start to download the .py files and lunch those scripts (or evenly better clone the repository with [Git](https://git-scm.com/)), everything goes smooth. But what if this project use a different version of Python or a different version of some library? As soon as you use pip to upgrade/downgrade your libraries the messiness starts to arise. Why? Because you're not using  **virtual environments**!\n",
    "\n",
    "The key concept here is to distinguish between **system-wide** and **local** python installation. The first one is the main installation in your os, when you type \"python script_name.py\" to execute a python script you are using the system python interpreter and all associated *system site-packages*.\n",
    "\n",
    "![virtual environments](img/virtual_environments_diagram.png)\n",
    "\n",
    "To create a new virtual environment type:\n",
    "\n",
    "```python3 -m venv /path/to/new/virtual/environment```\n",
    "\n",
    "\n",
    "\n",
    "\n",
    "\n"
   ]
  },
  {
   "cell_type": "code",
   "execution_count": 8,
   "metadata": {},
   "outputs": [],
   "source": [
    "!python -m venv ./.venv"
   ]
  },
  {
   "cell_type": "markdown",
   "metadata": {},
   "source": [
    "Once created, a virtual environment should be explicitely **activated**. Just type into the shell:\n",
    "\n",
    "```source <venv>/bin/activate``` (for Unix-like os)\n",
    "\n",
    "```C:\\> <venv>\\Scripts\\activate.bat``` (for Windows os)\n",
    "\n",
    "Where ```<venv>``` is the virtual environment path\n",
    "\n",
    "More resources:\n",
    "https://docs.python.org/3/library/venv.html"
   ]
  },
  {
   "cell_type": "code",
   "execution_count": 12,
   "metadata": {},
   "outputs": [
    {
     "name": "stdout",
     "output_type": "stream",
     "text": [
      "/bin/sh: 1: .: Can't open /.venv/bin/activate\n"
     ]
    }
   ],
   "source": [
    "!. /.venv/bin/activate"
   ]
  },
  {
   "cell_type": "markdown",
   "metadata": {},
   "source": [
    "### Thoughts\n",
    "\n",
    "Far now we have seen what is and how to use a virtual environment, to me seems a pretty useful tool. The last remaning question to ask is: why virtual environments should be used? \n",
    "\n",
    "* It helps to **incapsulate** your project dependencies in a single place in an isolated way, leaving the system wide python installation **clean**.\n",
    "\n",
    "* It helps to manage **multiple versioning**, since each environment is isolated from the other you can have different version of the same package in different environments.\n",
    "\n",
    "* It helps to **share** your project. Collecting your project dependencies in requirements.txt helps other people interested to download your project and using a single command ```pip install -r requirements.txt``` allows to rebuild an enviroment nearly identical to yours. "
   ]
  }
 ],
 "metadata": {
  "kernelspec": {
   "display_name": "Python 3",
   "language": "python",
   "name": "python3"
  },
  "language_info": {
   "codemirror_mode": {
    "name": "ipython",
    "version": 3
   },
   "file_extension": ".py",
   "mimetype": "text/x-python",
   "name": "python",
   "nbconvert_exporter": "python",
   "pygments_lexer": "ipython3",
   "version": "3.7.0"
  }
 },
 "nbformat": 4,
 "nbformat_minor": 2
}
