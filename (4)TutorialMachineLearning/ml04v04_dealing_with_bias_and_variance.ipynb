{
 "cells": [
  {
   "cell_type": "markdown",
   "metadata": {},
   "source": [
    "# Dealing with Bias and Variance"
   ]
  },
  {
   "cell_type": "code",
   "execution_count": 1,
   "metadata": {},
   "outputs": [
    {
     "data": {
      "text/html": [
       "<div id='toc-container'><script type='text/javascript'>\n",
       "$(function() {\n",
       "    function regenTOC(){\n",
       "        element = $(\"#toc-container\");\n",
       "\n",
       "\tvar toc = document.createElement(\"div\");\n",
       "\t$(toc).attr(\"class\", \"table-of-contents\");\n",
       "\n",
       "\tvar curLevel = 0;\n",
       "\tvar containerStack = [toc];\n",
       "\tvar levelOfTag = {\"h2\": 1, \"h3\": 2, \"h4\": 3, \"h5\": 4};\n",
       "\n",
       "\tfunction pushLevel() {\n",
       "            var list = document.createElement(\"ul\");\n",
       "            containerStack.push(list);\n",
       "            curLevel++;\n",
       "\t}\n",
       "\t\n",
       "\tfunction popLevel() {\n",
       "            var lastContainer = containerStack.pop();\n",
       "            $(lastContainer).appendTo(containerStack[containerStack.length - 1]);\n",
       "            curLevel--;\n",
       "\t}\n",
       "\t\n",
       "\t$(\".text_cell_render :header\").each(function (i, elem) {\n",
       "            var level = levelOfTag[ elem.tagName.toLowerCase() ];\n",
       "\n",
       "            if (level === undefined)\n",
       "\t\treturn;\n",
       "\n",
       "            while (curLevel < level)\n",
       "\t\tpushLevel();\n",
       "            while (curLevel > level)\n",
       "\t\tpopLevel();\n",
       "            \n",
       "            var listItem = document.createElement(\"li\");\n",
       "            var link = document.createElement(\"a\");\n",
       "            $(link)\n",
       "\t\t.text($(elem).contents().first().text()) // Remove the pilcrow sign\n",
       "\t\t.attr(\"href\", \"#\" + $(elem).attr(\"id\"))\n",
       "\t\t.appendTo(listItem);\n",
       "            $(listItem).appendTo(containerStack[containerStack.length - 1]);\n",
       "\t});\n",
       "\t\n",
       "\twhile (curLevel > 0)\n",
       "            popLevel();\n",
       "\n",
       "        $(\"<a class='btn-update' href='#'>Update</a>\")\n",
       "          .click(regenTOC).prependTo(toc);\n",
       "\n",
       "\t$(toc).prepend(\"<div class='title'>Contents</div>\")\n",
       "          .wrap(\"<div class='toc-headings'/>\");\n",
       "\n",
       "        $(element).empty();\n",
       "        $(element).append(toc);\n",
       "    }\n",
       "\n",
       "    if (typeof(IPython) !== 'undefined')\n",
       "        $([IPython.events]).on('notebook_loaded.Notebook', regenTOC);\n",
       "    regenTOC();\n",
       "});\n",
       "\n",
       "</script></div>"
      ],
      "text/plain": [
       "<IPython.core.display.HTML object>"
      ]
     },
     "execution_count": 1,
     "metadata": {},
     "output_type": "execute_result"
    }
   ],
   "source": [
    "import addutils.toc ; addutils.toc.js(ipy_notebook=True)"
   ]
  },
  {
   "cell_type": "code",
   "execution_count": 2,
   "metadata": {},
   "outputs": [
    {
     "data": {
      "text/html": [
       "<style>\n",
       ".text_cell_render @font-face {\n",
       "    font-family: \"Computer Modern\";\n",
       "    src: url('http://mirrors.ctan.org/fonts/cm-unicode/fonts/otf/cmunss.otf');\n",
       "}\n",
       "\n",
       "div.cell {\n",
       "    width: 900px;\n",
       "    margin-left: 0% !important;\n",
       "    margin-right: 0%;\n",
       "}\n",
       "\n",
       "code {\n",
       "    font-size:10pt;\n",
       "}\n",
       "\n",
       ".text_cell_render  h1 {\n",
       "    font-family: Tahoma, sans-serif;\n",
       "    color: rgb( 10, 88, 126 );\n",
       "    font-size:28pt;\n",
       "}\n",
       ".text_cell_render h2 {\n",
       "    font-family: Tahoma, sans-serif;\n",
       "    color: rgb( 10, 88, 126 );\n",
       "    font-size:24pt;\n",
       "}\n",
       ".text_cell_render h3 {\n",
       "    font-family: Tahoma, sans-serif;\n",
       "    color: rgb( 10, 88, 126 );\n",
       "    font-size:20pt;\n",
       "}\n",
       ".text_cell_render h4 {\n",
       "    font-family: Tahoma, sans-serif;\n",
       "    color: rgb( 10, 88, 126 );\n",
       "    font-size:18pt;\n",
       "    margin-top:12px;\n",
       "    margin-bottom: 3px;\n",
       "}\n",
       "\n",
       ".text_cell_render h5 {\n",
       "    font-weight: 300;\n",
       "    font-size: 11pt;\n",
       "    color: rgb( 48, 48, 48 );\n",
       "    font-style: italic;\n",
       "    margin-bottom: .5em;\n",
       "    margin-top: 0.5em;\n",
       "    display: block;\n",
       "}\n",
       "\n",
       ".text_cell_render ul {\n",
       "    font-family: Tahoma, sans-serif;\n",
       "    color: rgb( 90, 90, 90 );\n",
       "    font-size:11pt;\n",
       "    line-height: 185%;\n",
       "}\n",
       "\n",
       ".text_cell_render yp {\n",
       "    font-family: Tahoma, sans-serif;\n",
       "    color: rgb( 90, 90, 90 );\n",
       "    font-size:11pt;\n",
       "}\n",
       "\n",
       ".text_cell_render strong {\n",
       "    font-family: Tahoma, sans-serif;\n",
       "    color: rgb( 30, 30, 30 );\n",
       "    font-size:11pt;\n",
       "}\n",
       "\n",
       ".text_cell_render a:link {\n",
       "    font-family: Tahoma, sans-serif;\n",
       "    color: rgb( 10, 88, 126 );\n",
       "    font-size:11pt;\n",
       "}\n",
       "\n",
       ".text_cell_render a:visited {\n",
       "    color:rgb( 10, 88, 126 );\n",
       "}\n",
       "\n",
       ".text_cell_render {\n",
       "    font-family: Helvetica, Courier, Computer Modern, \"Helvetica Neue\", Arial, Geneva, sans-serif;\n",
       "    color: rgb( 84, 84, 84 );\n",
       "    font-size:11pt;\n",
       "    line-height: 125%;\n",
       "    font-size: 100%;\n",
       "    width:800px;\n",
       "}\n",
       "\n",
       ".CodeMirror {\n",
       "    font-family: Courier, \"Source Code Pro\", source-code-pro,Consolas, monospace;\n",
       "}\n",
       "\n",
       ".warning {\n",
       "    color: rgb( 240, 20, 20 );\n",
       "}\n",
       "\n",
       "/* Pandas tables */\n",
       "/*\n",
       ".rendered_html td {\n",
       "    text-align: right;\n",
       "}\n",
       "*/\n",
       "\n",
       "table.dataframe td {\n",
       "    text-align: right;\n",
       "}\n",
       "\n",
       ".output .table-of-contents {\n",
       "    border: 1px #cecece solid;\n",
       "    background-color: #fafafa;\n",
       "    padding-top: 10px;\n",
       "    padding-bottom: 5px;\n",
       "    padding-right: 15px;\n",
       "    padding-left: 0px;\n",
       "    margin-bottom: 20px;\n",
       "    display: inline-block;\n",
       "    position: relative;\n",
       "}\n",
       "\n",
       ".output .table-of-contents ul {\n",
       "    list-style-type: none;\n",
       "    padding-left: 20px;\n",
       "}\n",
       "\n",
       ".output .table-of-contents .title {\n",
       "    font-weight: bold;\n",
       "    font-height: 11pt;\n",
       "    padding-left: 20px; /* looks better if it's the same to the <ul> */\n",
       "}\n",
       "\n",
       ".output .table-of-contents .btn-update {\n",
       "    position: absolute;\n",
       "    float: right;\n",
       "    right: 11px;\n",
       "    top: 4px;\n",
       "    font-size: 9pt;\n",
       "}\n",
       "\n",
       "</style>\n",
       "<script>\n",
       "    MathJax.Hub.Config({\n",
       "                        TeX: {\n",
       "                           extensions: [\"AMSmath.js\"]\n",
       "                           },\n",
       "                displayAlign: 'center', // Change this to 'center' to center equations.\n",
       "                \"HTML-CSS\": {\n",
       "                    styles: {'.MathJax_Display': {\"margin\": 4}}\n",
       "                }\n",
       "        });\n",
       "</script>\n"
      ],
      "text/plain": [
       "<IPython.core.display.HTML object>"
      ]
     },
     "execution_count": 2,
     "metadata": {},
     "output_type": "execute_result"
    }
   ],
   "source": [
    "import scipy.io\n",
    "import numpy as np\n",
    "import pandas as pd\n",
    "from time import time\n",
    "from addutils import css_notebook\n",
    "from sklearn import metrics\n",
    "import sys\n",
    "import os\n",
    "from IPython.core.display import Image\n",
    "css_notebook()"
   ]
  },
  {
   "cell_type": "code",
   "execution_count": 3,
   "metadata": {},
   "outputs": [
    {
     "data": {
      "text/html": [
       "\n",
       "    <div class=\"bk-root\">\n",
       "        <a href=\"https://bokeh.pydata.org\" target=\"_blank\" class=\"bk-logo bk-logo-small bk-logo-notebook\"></a>\n",
       "        <span id=\"1001\">Loading BokehJS ...</span>\n",
       "    </div>"
      ]
     },
     "metadata": {},
     "output_type": "display_data"
    },
    {
     "data": {
      "application/javascript": [
       "\n",
       "(function(root) {\n",
       "  function now() {\n",
       "    return new Date();\n",
       "  }\n",
       "\n",
       "  var force = true;\n",
       "\n",
       "  if (typeof root._bokeh_onload_callbacks === \"undefined\" || force === true) {\n",
       "    root._bokeh_onload_callbacks = [];\n",
       "    root._bokeh_is_loading = undefined;\n",
       "  }\n",
       "\n",
       "  var JS_MIME_TYPE = 'application/javascript';\n",
       "  var HTML_MIME_TYPE = 'text/html';\n",
       "  var EXEC_MIME_TYPE = 'application/vnd.bokehjs_exec.v0+json';\n",
       "  var CLASS_NAME = 'output_bokeh rendered_html';\n",
       "\n",
       "  /**\n",
       "   * Render data to the DOM node\n",
       "   */\n",
       "  function render(props, node) {\n",
       "    var script = document.createElement(\"script\");\n",
       "    node.appendChild(script);\n",
       "  }\n",
       "\n",
       "  /**\n",
       "   * Handle when an output is cleared or removed\n",
       "   */\n",
       "  function handleClearOutput(event, handle) {\n",
       "    var cell = handle.cell;\n",
       "\n",
       "    var id = cell.output_area._bokeh_element_id;\n",
       "    var server_id = cell.output_area._bokeh_server_id;\n",
       "    // Clean up Bokeh references\n",
       "    if (id != null && id in Bokeh.index) {\n",
       "      Bokeh.index[id].model.document.clear();\n",
       "      delete Bokeh.index[id];\n",
       "    }\n",
       "\n",
       "    if (server_id !== undefined) {\n",
       "      // Clean up Bokeh references\n",
       "      var cmd = \"from bokeh.io.state import curstate; print(curstate().uuid_to_server['\" + server_id + \"'].get_sessions()[0].document.roots[0]._id)\";\n",
       "      cell.notebook.kernel.execute(cmd, {\n",
       "        iopub: {\n",
       "          output: function(msg) {\n",
       "            var id = msg.content.text.trim();\n",
       "            if (id in Bokeh.index) {\n",
       "              Bokeh.index[id].model.document.clear();\n",
       "              delete Bokeh.index[id];\n",
       "            }\n",
       "          }\n",
       "        }\n",
       "      });\n",
       "      // Destroy server and session\n",
       "      var cmd = \"import bokeh.io.notebook as ion; ion.destroy_server('\" + server_id + \"')\";\n",
       "      cell.notebook.kernel.execute(cmd);\n",
       "    }\n",
       "  }\n",
       "\n",
       "  /**\n",
       "   * Handle when a new output is added\n",
       "   */\n",
       "  function handleAddOutput(event, handle) {\n",
       "    var output_area = handle.output_area;\n",
       "    var output = handle.output;\n",
       "\n",
       "    // limit handleAddOutput to display_data with EXEC_MIME_TYPE content only\n",
       "    if ((output.output_type != \"display_data\") || (!output.data.hasOwnProperty(EXEC_MIME_TYPE))) {\n",
       "      return\n",
       "    }\n",
       "\n",
       "    var toinsert = output_area.element.find(\".\" + CLASS_NAME.split(' ')[0]);\n",
       "\n",
       "    if (output.metadata[EXEC_MIME_TYPE][\"id\"] !== undefined) {\n",
       "      toinsert[toinsert.length - 1].firstChild.textContent = output.data[JS_MIME_TYPE];\n",
       "      // store reference to embed id on output_area\n",
       "      output_area._bokeh_element_id = output.metadata[EXEC_MIME_TYPE][\"id\"];\n",
       "    }\n",
       "    if (output.metadata[EXEC_MIME_TYPE][\"server_id\"] !== undefined) {\n",
       "      var bk_div = document.createElement(\"div\");\n",
       "      bk_div.innerHTML = output.data[HTML_MIME_TYPE];\n",
       "      var script_attrs = bk_div.children[0].attributes;\n",
       "      for (var i = 0; i < script_attrs.length; i++) {\n",
       "        toinsert[toinsert.length - 1].firstChild.setAttribute(script_attrs[i].name, script_attrs[i].value);\n",
       "      }\n",
       "      // store reference to server id on output_area\n",
       "      output_area._bokeh_server_id = output.metadata[EXEC_MIME_TYPE][\"server_id\"];\n",
       "    }\n",
       "  }\n",
       "\n",
       "  function register_renderer(events, OutputArea) {\n",
       "\n",
       "    function append_mime(data, metadata, element) {\n",
       "      // create a DOM node to render to\n",
       "      var toinsert = this.create_output_subarea(\n",
       "        metadata,\n",
       "        CLASS_NAME,\n",
       "        EXEC_MIME_TYPE\n",
       "      );\n",
       "      this.keyboard_manager.register_events(toinsert);\n",
       "      // Render to node\n",
       "      var props = {data: data, metadata: metadata[EXEC_MIME_TYPE]};\n",
       "      render(props, toinsert[toinsert.length - 1]);\n",
       "      element.append(toinsert);\n",
       "      return toinsert\n",
       "    }\n",
       "\n",
       "    /* Handle when an output is cleared or removed */\n",
       "    events.on('clear_output.CodeCell', handleClearOutput);\n",
       "    events.on('delete.Cell', handleClearOutput);\n",
       "\n",
       "    /* Handle when a new output is added */\n",
       "    events.on('output_added.OutputArea', handleAddOutput);\n",
       "\n",
       "    /**\n",
       "     * Register the mime type and append_mime function with output_area\n",
       "     */\n",
       "    OutputArea.prototype.register_mime_type(EXEC_MIME_TYPE, append_mime, {\n",
       "      /* Is output safe? */\n",
       "      safe: true,\n",
       "      /* Index of renderer in `output_area.display_order` */\n",
       "      index: 0\n",
       "    });\n",
       "  }\n",
       "\n",
       "  // register the mime type if in Jupyter Notebook environment and previously unregistered\n",
       "  if (root.Jupyter !== undefined) {\n",
       "    var events = require('base/js/events');\n",
       "    var OutputArea = require('notebook/js/outputarea').OutputArea;\n",
       "\n",
       "    if (OutputArea.prototype.mime_types().indexOf(EXEC_MIME_TYPE) == -1) {\n",
       "      register_renderer(events, OutputArea);\n",
       "    }\n",
       "  }\n",
       "\n",
       "  \n",
       "  if (typeof (root._bokeh_timeout) === \"undefined\" || force === true) {\n",
       "    root._bokeh_timeout = Date.now() + 5000;\n",
       "    root._bokeh_failed_load = false;\n",
       "  }\n",
       "\n",
       "  var NB_LOAD_WARNING = {'data': {'text/html':\n",
       "     \"<div style='background-color: #fdd'>\\n\"+\n",
       "     \"<p>\\n\"+\n",
       "     \"BokehJS does not appear to have successfully loaded. If loading BokehJS from CDN, this \\n\"+\n",
       "     \"may be due to a slow or bad network connection. Possible fixes:\\n\"+\n",
       "     \"</p>\\n\"+\n",
       "     \"<ul>\\n\"+\n",
       "     \"<li>re-rerun `output_notebook()` to attempt to load from CDN again, or</li>\\n\"+\n",
       "     \"<li>use INLINE resources instead, as so:</li>\\n\"+\n",
       "     \"</ul>\\n\"+\n",
       "     \"<code>\\n\"+\n",
       "     \"from bokeh.resources import INLINE\\n\"+\n",
       "     \"output_notebook(resources=INLINE)\\n\"+\n",
       "     \"</code>\\n\"+\n",
       "     \"</div>\"}};\n",
       "\n",
       "  function display_loaded() {\n",
       "    var el = document.getElementById(\"1001\");\n",
       "    if (el != null) {\n",
       "      el.textContent = \"BokehJS is loading...\";\n",
       "    }\n",
       "    if (root.Bokeh !== undefined) {\n",
       "      if (el != null) {\n",
       "        el.textContent = \"BokehJS \" + root.Bokeh.version + \" successfully loaded.\";\n",
       "      }\n",
       "    } else if (Date.now() < root._bokeh_timeout) {\n",
       "      setTimeout(display_loaded, 100)\n",
       "    }\n",
       "  }\n",
       "\n",
       "\n",
       "  function run_callbacks() {\n",
       "    try {\n",
       "      root._bokeh_onload_callbacks.forEach(function(callback) {\n",
       "        if (callback != null)\n",
       "          callback();\n",
       "      });\n",
       "    } finally {\n",
       "      delete root._bokeh_onload_callbacks\n",
       "    }\n",
       "    console.debug(\"Bokeh: all callbacks have finished\");\n",
       "  }\n",
       "\n",
       "  function load_libs(css_urls, js_urls, callback) {\n",
       "    if (css_urls == null) css_urls = [];\n",
       "    if (js_urls == null) js_urls = [];\n",
       "\n",
       "    root._bokeh_onload_callbacks.push(callback);\n",
       "    if (root._bokeh_is_loading > 0) {\n",
       "      console.debug(\"Bokeh: BokehJS is being loaded, scheduling callback at\", now());\n",
       "      return null;\n",
       "    }\n",
       "    if (js_urls == null || js_urls.length === 0) {\n",
       "      run_callbacks();\n",
       "      return null;\n",
       "    }\n",
       "    console.debug(\"Bokeh: BokehJS not loaded, scheduling load and callback at\", now());\n",
       "    root._bokeh_is_loading = css_urls.length + js_urls.length;\n",
       "\n",
       "    function on_load() {\n",
       "      root._bokeh_is_loading--;\n",
       "      if (root._bokeh_is_loading === 0) {\n",
       "        console.debug(\"Bokeh: all BokehJS libraries/stylesheets loaded\");\n",
       "        run_callbacks()\n",
       "      }\n",
       "    }\n",
       "\n",
       "    function on_error() {\n",
       "      console.error(\"failed to load \" + url);\n",
       "    }\n",
       "\n",
       "    for (var i = 0; i < css_urls.length; i++) {\n",
       "      var url = css_urls[i];\n",
       "      const element = document.createElement(\"link\");\n",
       "      element.onload = on_load;\n",
       "      element.onerror = on_error;\n",
       "      element.rel = \"stylesheet\";\n",
       "      element.type = \"text/css\";\n",
       "      element.href = url;\n",
       "      console.debug(\"Bokeh: injecting link tag for BokehJS stylesheet: \", url);\n",
       "      document.body.appendChild(element);\n",
       "    }\n",
       "\n",
       "    for (var i = 0; i < js_urls.length; i++) {\n",
       "      var url = js_urls[i];\n",
       "      var element = document.createElement('script');\n",
       "      element.onload = on_load;\n",
       "      element.onerror = on_error;\n",
       "      element.async = false;\n",
       "      element.src = url;\n",
       "      console.debug(\"Bokeh: injecting script tag for BokehJS library: \", url);\n",
       "      document.head.appendChild(element);\n",
       "    }\n",
       "  };var element = document.getElementById(\"1001\");\n",
       "  if (element == null) {\n",
       "    console.error(\"Bokeh: ERROR: autoload.js configured with elementid '1001' but no matching script tag was found. \")\n",
       "    return false;\n",
       "  }\n",
       "\n",
       "  function inject_raw_css(css) {\n",
       "    const element = document.createElement(\"style\");\n",
       "    element.appendChild(document.createTextNode(css));\n",
       "    document.body.appendChild(element);\n",
       "  }\n",
       "\n",
       "  var js_urls = [\"https://cdn.pydata.org/bokeh/release/bokeh-1.2.0.min.js\", \"https://cdn.pydata.org/bokeh/release/bokeh-widgets-1.2.0.min.js\", \"https://cdn.pydata.org/bokeh/release/bokeh-tables-1.2.0.min.js\", \"https://cdn.pydata.org/bokeh/release/bokeh-gl-1.2.0.min.js\"];\n",
       "  var css_urls = [\"https://cdn.pydata.org/bokeh/release/bokeh-1.2.0.min.css\", \"https://cdn.pydata.org/bokeh/release/bokeh-widgets-1.2.0.min.css\", \"https://cdn.pydata.org/bokeh/release/bokeh-tables-1.2.0.min.css\"];\n",
       "\n",
       "  var inline_js = [\n",
       "    function(Bokeh) {\n",
       "      Bokeh.set_log_level(\"info\");\n",
       "    },\n",
       "    \n",
       "    function(Bokeh) {\n",
       "      \n",
       "    },\n",
       "    function(Bokeh) {} // ensure no trailing comma for IE\n",
       "  ];\n",
       "\n",
       "  function run_inline_js() {\n",
       "    \n",
       "    if ((root.Bokeh !== undefined) || (force === true)) {\n",
       "      for (var i = 0; i < inline_js.length; i++) {\n",
       "        inline_js[i].call(root, root.Bokeh);\n",
       "      }if (force === true) {\n",
       "        display_loaded();\n",
       "      }} else if (Date.now() < root._bokeh_timeout) {\n",
       "      setTimeout(run_inline_js, 100);\n",
       "    } else if (!root._bokeh_failed_load) {\n",
       "      console.log(\"Bokeh: BokehJS failed to load within specified timeout.\");\n",
       "      root._bokeh_failed_load = true;\n",
       "    } else if (force !== true) {\n",
       "      var cell = $(document.getElementById(\"1001\")).parents('.cell').data().cell;\n",
       "      cell.output_area.append_execute_result(NB_LOAD_WARNING)\n",
       "    }\n",
       "\n",
       "  }\n",
       "\n",
       "  if (root._bokeh_is_loading === 0) {\n",
       "    console.debug(\"Bokeh: BokehJS loaded, going straight to plotting\");\n",
       "    run_inline_js();\n",
       "  } else {\n",
       "    load_libs(css_urls, js_urls, function() {\n",
       "      console.debug(\"Bokeh: BokehJS plotting callback run at\", now());\n",
       "      run_inline_js();\n",
       "    });\n",
       "  }\n",
       "}(window));"
      ],
      "application/vnd.bokehjs_load.v0+json": "\n(function(root) {\n  function now() {\n    return new Date();\n  }\n\n  var force = true;\n\n  if (typeof root._bokeh_onload_callbacks === \"undefined\" || force === true) {\n    root._bokeh_onload_callbacks = [];\n    root._bokeh_is_loading = undefined;\n  }\n\n  \n\n  \n  if (typeof (root._bokeh_timeout) === \"undefined\" || force === true) {\n    root._bokeh_timeout = Date.now() + 5000;\n    root._bokeh_failed_load = false;\n  }\n\n  var NB_LOAD_WARNING = {'data': {'text/html':\n     \"<div style='background-color: #fdd'>\\n\"+\n     \"<p>\\n\"+\n     \"BokehJS does not appear to have successfully loaded. If loading BokehJS from CDN, this \\n\"+\n     \"may be due to a slow or bad network connection. Possible fixes:\\n\"+\n     \"</p>\\n\"+\n     \"<ul>\\n\"+\n     \"<li>re-rerun `output_notebook()` to attempt to load from CDN again, or</li>\\n\"+\n     \"<li>use INLINE resources instead, as so:</li>\\n\"+\n     \"</ul>\\n\"+\n     \"<code>\\n\"+\n     \"from bokeh.resources import INLINE\\n\"+\n     \"output_notebook(resources=INLINE)\\n\"+\n     \"</code>\\n\"+\n     \"</div>\"}};\n\n  function display_loaded() {\n    var el = document.getElementById(\"1001\");\n    if (el != null) {\n      el.textContent = \"BokehJS is loading...\";\n    }\n    if (root.Bokeh !== undefined) {\n      if (el != null) {\n        el.textContent = \"BokehJS \" + root.Bokeh.version + \" successfully loaded.\";\n      }\n    } else if (Date.now() < root._bokeh_timeout) {\n      setTimeout(display_loaded, 100)\n    }\n  }\n\n\n  function run_callbacks() {\n    try {\n      root._bokeh_onload_callbacks.forEach(function(callback) {\n        if (callback != null)\n          callback();\n      });\n    } finally {\n      delete root._bokeh_onload_callbacks\n    }\n    console.debug(\"Bokeh: all callbacks have finished\");\n  }\n\n  function load_libs(css_urls, js_urls, callback) {\n    if (css_urls == null) css_urls = [];\n    if (js_urls == null) js_urls = [];\n\n    root._bokeh_onload_callbacks.push(callback);\n    if (root._bokeh_is_loading > 0) {\n      console.debug(\"Bokeh: BokehJS is being loaded, scheduling callback at\", now());\n      return null;\n    }\n    if (js_urls == null || js_urls.length === 0) {\n      run_callbacks();\n      return null;\n    }\n    console.debug(\"Bokeh: BokehJS not loaded, scheduling load and callback at\", now());\n    root._bokeh_is_loading = css_urls.length + js_urls.length;\n\n    function on_load() {\n      root._bokeh_is_loading--;\n      if (root._bokeh_is_loading === 0) {\n        console.debug(\"Bokeh: all BokehJS libraries/stylesheets loaded\");\n        run_callbacks()\n      }\n    }\n\n    function on_error() {\n      console.error(\"failed to load \" + url);\n    }\n\n    for (var i = 0; i < css_urls.length; i++) {\n      var url = css_urls[i];\n      const element = document.createElement(\"link\");\n      element.onload = on_load;\n      element.onerror = on_error;\n      element.rel = \"stylesheet\";\n      element.type = \"text/css\";\n      element.href = url;\n      console.debug(\"Bokeh: injecting link tag for BokehJS stylesheet: \", url);\n      document.body.appendChild(element);\n    }\n\n    for (var i = 0; i < js_urls.length; i++) {\n      var url = js_urls[i];\n      var element = document.createElement('script');\n      element.onload = on_load;\n      element.onerror = on_error;\n      element.async = false;\n      element.src = url;\n      console.debug(\"Bokeh: injecting script tag for BokehJS library: \", url);\n      document.head.appendChild(element);\n    }\n  };var element = document.getElementById(\"1001\");\n  if (element == null) {\n    console.error(\"Bokeh: ERROR: autoload.js configured with elementid '1001' but no matching script tag was found. \")\n    return false;\n  }\n\n  function inject_raw_css(css) {\n    const element = document.createElement(\"style\");\n    element.appendChild(document.createTextNode(css));\n    document.body.appendChild(element);\n  }\n\n  var js_urls = [\"https://cdn.pydata.org/bokeh/release/bokeh-1.2.0.min.js\", \"https://cdn.pydata.org/bokeh/release/bokeh-widgets-1.2.0.min.js\", \"https://cdn.pydata.org/bokeh/release/bokeh-tables-1.2.0.min.js\", \"https://cdn.pydata.org/bokeh/release/bokeh-gl-1.2.0.min.js\"];\n  var css_urls = [\"https://cdn.pydata.org/bokeh/release/bokeh-1.2.0.min.css\", \"https://cdn.pydata.org/bokeh/release/bokeh-widgets-1.2.0.min.css\", \"https://cdn.pydata.org/bokeh/release/bokeh-tables-1.2.0.min.css\"];\n\n  var inline_js = [\n    function(Bokeh) {\n      Bokeh.set_log_level(\"info\");\n    },\n    \n    function(Bokeh) {\n      \n    },\n    function(Bokeh) {} // ensure no trailing comma for IE\n  ];\n\n  function run_inline_js() {\n    \n    if ((root.Bokeh !== undefined) || (force === true)) {\n      for (var i = 0; i < inline_js.length; i++) {\n        inline_js[i].call(root, root.Bokeh);\n      }if (force === true) {\n        display_loaded();\n      }} else if (Date.now() < root._bokeh_timeout) {\n      setTimeout(run_inline_js, 100);\n    } else if (!root._bokeh_failed_load) {\n      console.log(\"Bokeh: BokehJS failed to load within specified timeout.\");\n      root._bokeh_failed_load = true;\n    } else if (force !== true) {\n      var cell = $(document.getElementById(\"1001\")).parents('.cell').data().cell;\n      cell.output_area.append_execute_result(NB_LOAD_WARNING)\n    }\n\n  }\n\n  if (root._bokeh_is_loading === 0) {\n    console.debug(\"Bokeh: BokehJS loaded, going straight to plotting\");\n    run_inline_js();\n  } else {\n    load_libs(css_urls, js_urls, function() {\n      console.debug(\"Bokeh: BokehJS plotting callback run at\", now());\n      run_inline_js();\n    });\n  }\n}(window));"
     },
     "metadata": {},
     "output_type": "display_data"
    }
   ],
   "source": [
    "import bokeh.plotting as bk\n",
    "bk.output_notebook()"
   ]
  },
  {
   "cell_type": "markdown",
   "metadata": {},
   "source": [
    "## 1 Bias-Variance Tradeoff"
   ]
  },
  {
   "cell_type": "markdown",
   "metadata": {},
   "source": [
    "### 1.1 (In)Formal introduction to Bias and Variance\n",
    "\n",
    "Roughly speaking Machine Learning algorithms try to characterize a tradeoff between generalization (how well the model represents the general concept or function to learn) and approximation (how well the model fits the data). A small error denotes a good approximation of the function _out of sample_. A more complex model has a better chance of approximating $f$, in contrast a less complex model has a better chance of generalizing (picking the right approximation) out of sample.\n",
    "\n",
    "A more formal definition can be given after *Hastie, et al. 2009*.\n",
    "Let's explain Bias-Variance using linear regression problems, and specifically we'll use a squared-error measure as loss function. Assume further that the output $Y = f(X) + \\epsilon$ where $E(\\epsilon) = 0$ and $Var(\\epsilon) = \\sigma_\\epsilon^2$\n",
    "\n",
    "We estimate a model $\\widehat{f}(X)$ of a function $f(X)$, and the expected squared error of a given point $x_0$ is:\n",
    "\n",
    "$$Err(x_0) = E[(Y - \\widehat{f}(x_0))^2]$$\n",
    "\n",
    "It is possible to decompose this error in its Bias and Variance components:"
   ]
  },
  {
   "cell_type": "markdown",
   "metadata": {},
   "source": [
    "<img src=\"images/bias_variance_proof.jpg\" alt=\"bias-variance proof\" height=\"600\" width=\"600\"> "
   ]
  },
  {
   "cell_type": "markdown",
   "metadata": {},
   "source": [
    "$$Err(x_0) = \\big(E[\\widehat{f}(x_0)] - f(x_0)\\big)^2 + E\\big[\\widehat{f}(x_0) - E[\\widehat{f}(x_0)]\\big]^2 + \\sigma_{\\epsilon}^2$$\n",
    "\n",
    "$$Err(x_0) = Bias^2 + Variance + Irreducible Error$$\n",
    "\n",
    "Where $Irreducible Error$ is the variance in the true relationship that cannot be captured by any model no matter how well we estimate $f(X)$. $Bias^2$ is the difference between the average of our estimate from the true mean. $Variance$ is the expected squared deviation of $\\widehat{f}(x_0)$ around its mean. Usually the more complex is the model the lower the Bias but the higher the variance. We can give a pictorial illustration of the relationship with the image below. (The following image is taken from [this](http://scott.fortmann-roe.com/docs/BiasVariance.html) blog)"
   ]
  },
  {
   "cell_type": "markdown",
   "metadata": {},
   "source": [
    "<img src=\"images/bias_variance.png\" alt=\"bias_variance\" height=\"600\" width=\"600\"> "
   ]
  },
  {
   "cell_type": "markdown",
   "metadata": {},
   "source": [
    "Suppose the center (red) of each diagram is the real function to learn. As we move away from the center the prediction gets worse and worse. Each dot in the picture is a realization of the model given a subsample of the dataset; each circle is a different model (whose particular realizations are the dots) and model's characteristics are described by the two corresponding labels (horizontal and vertical).\n",
    "\n",
    "Having a model (top left) with both Low Bias and Low Variance is practically impossible since, as we will see next, if we decrese one, the other increase (in this case both generalization and approximation will be good and we could learn almost the real function); the hard part is hence finding the best possible balance between the two. In case of Low Bias and High Variance (top right), the model is capable of representing the correct function but the model may be too complex, and thus more supsceptible in variation on the dataset. For this reason each dot (function approximation) draw from this model may vary considerably from estimate to estimate, depending on the particular subsample used for training. For High Bias and Low Variance (bottom left) the model is constantly learning a substantially different function respect to the true one, but each run is independent from the particular subsample of data (it generalize well but it approximate poorly). If we have a model that has both High Varianche and High Bias (bottom right) the model si constantly learning a wrong model with high variability between subsamples and thus the probability of picking a good model is very low. \n",
    "\n",
    "One can think of Bias and Variance as a box that contains a bunch of candidate approximations of an unknown function $f$. If we have few candidates in the box (think about degenerating and have only one function in it), but each candidate is far away from the true value of $f$; in this case the Bias is high and the Variance is low, no matter of the dataset we will always return the same function. If we have a bigger box containing a lot of candidates the probability that it contains the true function is higher, but it is difficult to navigate through the candidates to find the right one. In this case the Bias is lower but the Variance is higher, we have so many varieties that depending on which sample we get the function differs.\n",
    "\n",
    "Next we will show what we mean by complexity of the model with some practical examples in order to further understand the Bias-Variance tradeoff."
   ]
  },
  {
   "cell_type": "code",
   "execution_count": 4,
   "metadata": {},
   "outputs": [],
   "source": [
    "from utilities import biasvariance\n",
    "from bokeh.models.ranges import Range1d"
   ]
  },
  {
   "cell_type": "markdown",
   "metadata": {},
   "source": [
    "In this figure, we use polynomials with different degrees `d` to fit the same data.\n",
    "\n",
    "For `d=1`, the model suffers from **high bias**: the model complexity is not enough to represent the data.\n",
    "\n",
    "At the other extreme, for `d=6` the model suffers from **high variance**: the mode overfit the data because it has too many free parameters.  In this case a typical behaviour is that if any of the input points are varied slightly, it could result in a very different approximation. This kind of model will fit perfectly the training data while failing to do so on validation data.\n",
    "\n",
    "In the middle picture, for `d=2`, we have found a good model."
   ]
  },
  {
   "cell_type": "code",
   "execution_count": 5,
   "metadata": {},
   "outputs": [],
   "source": [
    "%matplotlib inline\n",
    "import matplotlib.pyplot as plt"
   ]
  },
  {
   "cell_type": "code",
   "execution_count": 6,
   "metadata": {},
   "outputs": [
    {
     "data": {
      "text/html": [
       "\n",
       "\n",
       "\n",
       "\n",
       "\n",
       "\n",
       "  <div class=\"bk-root\" id=\"8b51250b-44a0-4375-953f-ee1ed6e83da0\" data-root-id=\"1170\"></div>\n"
      ]
     },
     "metadata": {},
     "output_type": "display_data"
    },
    {
     "data": {
      "application/javascript": [
       "(function(root) {\n",
       "  function embed_document(root) {\n",
       "    \n",
       "  var docs_json = {\"60ab9a74-22c9-4cb6-8bcd-51b50b9c1e63\":{\"roots\":{\"references\":[{\"attributes\":{\"children\":[{\"id\":\"1169\",\"type\":\"ToolbarBox\"},{\"id\":\"1167\",\"type\":\"GridBox\"}]},\"id\":\"1170\",\"type\":\"Column\"},{\"attributes\":{},\"id\":\"1011\",\"type\":\"LinearScale\"},{\"attributes\":{\"axis_label\":\"house size\",\"axis_label_text_font_size\":{\"value\":\"9pt\"},\"formatter\":{\"id\":\"1136\",\"type\":\"BasicTickFormatter\"},\"ticker\":{\"id\":\"1014\",\"type\":\"BasicTicker\"}},\"id\":\"1013\",\"type\":\"LinearAxis\"},{\"attributes\":{},\"id\":\"1014\",\"type\":\"BasicTicker\"},{\"attributes\":{\"ticker\":{\"id\":\"1014\",\"type\":\"BasicTicker\"}},\"id\":\"1017\",\"type\":\"Grid\"},{\"attributes\":{},\"id\":\"1138\",\"type\":\"BasicTickFormatter\"},{\"attributes\":{\"axis_label\":\"price\",\"axis_label_text_font_size\":{\"value\":\"9pt\"},\"formatter\":{\"id\":\"1138\",\"type\":\"BasicTickFormatter\"},\"ticker\":{\"id\":\"1019\",\"type\":\"BasicTicker\"}},\"id\":\"1018\",\"type\":\"LinearAxis\"},{\"attributes\":{},\"id\":\"1019\",\"type\":\"BasicTicker\"},{\"attributes\":{\"dimension\":1,\"ticker\":{\"id\":\"1019\",\"type\":\"BasicTicker\"}},\"id\":\"1022\",\"type\":\"Grid\"},{\"attributes\":{\"fill_color\":{\"value\":\"black\"},\"size\":{\"units\":\"screen\",\"value\":12},\"x\":{\"field\":\"x\"},\"y\":{\"field\":\"y\"}},\"id\":\"1037\",\"type\":\"X\"},{\"attributes\":{},\"id\":\"1023\",\"type\":\"PanTool\"},{\"attributes\":{},\"id\":\"1024\",\"type\":\"WheelZoomTool\"},{\"attributes\":{\"overlay\":{\"id\":\"1139\",\"type\":\"BoxAnnotation\"}},\"id\":\"1025\",\"type\":\"BoxZoomTool\"},{\"attributes\":{},\"id\":\"1026\",\"type\":\"SaveTool\"},{\"attributes\":{},\"id\":\"1027\",\"type\":\"ResetTool\"},{\"attributes\":{},\"id\":\"1028\",\"type\":\"HelpTool\"},{\"attributes\":{\"active_drag\":\"auto\",\"active_inspect\":\"auto\",\"active_multi\":null,\"active_scroll\":\"auto\",\"active_tap\":\"auto\",\"tools\":[{\"id\":\"1023\",\"type\":\"PanTool\"},{\"id\":\"1024\",\"type\":\"WheelZoomTool\"},{\"id\":\"1025\",\"type\":\"BoxZoomTool\"},{\"id\":\"1026\",\"type\":\"SaveTool\"},{\"id\":\"1027\",\"type\":\"ResetTool\"},{\"id\":\"1028\",\"type\":\"HelpTool\"}]},\"id\":\"1029\",\"type\":\"Toolbar\"},{\"attributes\":{},\"id\":\"1136\",\"type\":\"BasicTickFormatter\"},{\"attributes\":{\"fill_alpha\":{\"value\":0.1},\"fill_color\":{\"value\":\"#1f77b4\"},\"line_alpha\":{\"value\":0.1},\"line_color\":{\"value\":\"#1f77b4\"},\"size\":{\"units\":\"screen\",\"value\":12},\"x\":{\"field\":\"x\"},\"y\":{\"field\":\"y\"}},\"id\":\"1038\",\"type\":\"X\"},{\"attributes\":{\"data_source\":{\"id\":\"1036\",\"type\":\"ColumnDataSource\"},\"glyph\":{\"id\":\"1037\",\"type\":\"X\"},\"hover_glyph\":null,\"muted_glyph\":null,\"nonselection_glyph\":{\"id\":\"1038\",\"type\":\"X\"},\"selection_glyph\":null,\"view\":{\"id\":\"1040\",\"type\":\"CDSView\"}},\"id\":\"1039\",\"type\":\"GlyphRenderer\"},{\"attributes\":{},\"id\":\"1147\",\"type\":\"BasicTickFormatter\"},{\"attributes\":{\"source\":{\"id\":\"1036\",\"type\":\"ColumnDataSource\"}},\"id\":\"1040\",\"type\":\"CDSView\"},{\"attributes\":{\"fill_alpha\":{\"value\":0.1},\"fill_color\":{\"value\":\"#1f77b4\"},\"line_alpha\":{\"value\":0.1},\"line_color\":{\"value\":\"#1f77b4\"},\"size\":{\"units\":\"screen\",\"value\":12},\"x\":{\"field\":\"x\"},\"y\":{\"field\":\"y\"}},\"id\":\"1126\",\"type\":\"X\"},{\"attributes\":{\"line_color\":\"blue\",\"x\":{\"field\":\"x\"},\"y\":{\"field\":\"y\"}},\"id\":\"1042\",\"type\":\"Line\"},{\"attributes\":{\"line_alpha\":0.1,\"line_color\":\"#1f77b4\",\"x\":{\"field\":\"x\"},\"y\":{\"field\":\"y\"}},\"id\":\"1043\",\"type\":\"Line\"},{\"attributes\":{\"data_source\":{\"id\":\"1041\",\"type\":\"ColumnDataSource\"},\"glyph\":{\"id\":\"1042\",\"type\":\"Line\"},\"hover_glyph\":null,\"muted_glyph\":null,\"nonselection_glyph\":{\"id\":\"1043\",\"type\":\"Line\"},\"selection_glyph\":null,\"view\":{\"id\":\"1045\",\"type\":\"CDSView\"}},\"id\":\"1044\",\"type\":\"GlyphRenderer\"},{\"attributes\":{\"source\":{\"id\":\"1041\",\"type\":\"ColumnDataSource\"}},\"id\":\"1045\",\"type\":\"CDSView\"},{\"attributes\":{\"below\":[{\"id\":\"1057\",\"type\":\"LinearAxis\"}],\"center\":[{\"id\":\"1061\",\"type\":\"Grid\"},{\"id\":\"1066\",\"type\":\"Grid\"}],\"left\":[{\"id\":\"1062\",\"type\":\"LinearAxis\"}],\"plot_height\":240,\"plot_width\":240,\"renderers\":[{\"id\":\"1083\",\"type\":\"GlyphRenderer\"},{\"id\":\"1088\",\"type\":\"GlyphRenderer\"}],\"title\":{\"id\":\"1047\",\"type\":\"Title\"},\"toolbar\":{\"id\":\"1073\",\"type\":\"Toolbar\"},\"toolbar_location\":null,\"x_range\":{\"id\":\"1049\",\"type\":\"Range1d\"},\"x_scale\":{\"id\":\"1053\",\"type\":\"LinearScale\"},\"y_range\":{\"id\":\"1051\",\"type\":\"Range1d\"},\"y_scale\":{\"id\":\"1055\",\"type\":\"LinearScale\"}},\"id\":\"1046\",\"subtype\":\"Figure\",\"type\":\"Plot\"},{\"attributes\":{\"callback\":null,\"data\":{\"x\":{\"__ndarray__\":\"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\",\"dtype\":\"float64\",\"shape\":[1000]},\"y\":{\"__ndarray__\":\"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\",\"dtype\":\"float64\",\"shape\":[1000]}},\"selected\":{\"id\":\"1143\",\"type\":\"Selection\"},\"selection_policy\":{\"id\":\"1142\",\"type\":\"UnionRenderers\"}},\"id\":\"1041\",\"type\":\"ColumnDataSource\"},{\"attributes\":{\"callback\":null,\"data\":{\"x\":{\"__ndarray__\":\"exSuR+F6hD8qHSlQNcWTP7U4bubUFaM/NdvkMohssj8ESFBNGcnBP2JlpStUK9E/d9N4kQaT4D8AAAAAAADwPw==\",\"dtype\":\"float64\",\"shape\":[8]},\"y\":{\"__ndarray__\":\"mFTPLeiE8j/9CkHYOsn4P+9CRWpgUAhAuf5G+DbJE0D01/ulsMoWQAHhRdOMqxxA1ilwpbpXIkDvQCA9AvMiQA==\",\"dtype\":\"float64\",\"shape\":[8]}},\"selected\":{\"id\":\"1152\",\"type\":\"Selection\"},\"selection_policy\":{\"id\":\"1151\",\"type\":\"UnionRenderers\"}},\"id\":\"1080\",\"type\":\"ColumnDataSource\"},{\"attributes\":{\"text\":\"d = 2\",\"text_font_size\":{\"value\":\"11pt\"}},\"id\":\"1047\",\"type\":\"Title\"},{\"attributes\":{\"callback\":null,\"end\":1.2,\"start\":-0.2},\"id\":\"1049\",\"type\":\"Range1d\"},{\"attributes\":{\"callback\":null,\"end\":12},\"id\":\"1051\",\"type\":\"Range1d\"},{\"attributes\":{},\"id\":\"1053\",\"type\":\"LinearScale\"},{\"attributes\":{},\"id\":\"1055\",\"type\":\"LinearScale\"},{\"attributes\":{\"axis_label\":\"house size\",\"axis_label_text_font_size\":{\"value\":\"9pt\"},\"formatter\":{\"id\":\"1147\",\"type\":\"BasicTickFormatter\"},\"ticker\":{\"id\":\"1058\",\"type\":\"BasicTicker\"}},\"id\":\"1057\",\"type\":\"LinearAxis\"},{\"attributes\":{},\"id\":\"1058\",\"type\":\"BasicTicker\"},{\"attributes\":{\"ticker\":{\"id\":\"1058\",\"type\":\"BasicTicker\"}},\"id\":\"1061\",\"type\":\"Grid\"},{\"attributes\":{\"axis_label_text_font_size\":{\"value\":\"9pt\"},\"formatter\":{\"id\":\"1149\",\"type\":\"BasicTickFormatter\"},\"ticker\":{\"id\":\"1063\",\"type\":\"BasicTicker\"}},\"id\":\"1062\",\"type\":\"LinearAxis\"},{\"attributes\":{\"overlay\":{\"id\":\"1161\",\"type\":\"BoxAnnotation\"}},\"id\":\"1113\",\"type\":\"BoxZoomTool\"},{\"attributes\":{},\"id\":\"1063\",\"type\":\"BasicTicker\"},{\"attributes\":{},\"id\":\"1114\",\"type\":\"SaveTool\"},{\"attributes\":{\"dimension\":1,\"ticker\":{\"id\":\"1063\",\"type\":\"BasicTicker\"}},\"id\":\"1066\",\"type\":\"Grid\"},{\"attributes\":{},\"id\":\"1115\",\"type\":\"ResetTool\"},{\"attributes\":{\"fill_alpha\":{\"value\":0.1},\"fill_color\":{\"value\":\"#1f77b4\"},\"line_alpha\":{\"value\":0.1},\"line_color\":{\"value\":\"#1f77b4\"},\"size\":{\"units\":\"screen\",\"value\":12},\"x\":{\"field\":\"x\"},\"y\":{\"field\":\"y\"}},\"id\":\"1082\",\"type\":\"X\"},{\"attributes\":{},\"id\":\"1116\",\"type\":\"HelpTool\"},{\"attributes\":{\"fill_color\":{\"value\":\"black\"},\"size\":{\"units\":\"screen\",\"value\":12},\"x\":{\"field\":\"x\"},\"y\":{\"field\":\"y\"}},\"id\":\"1081\",\"type\":\"X\"},{\"attributes\":{},\"id\":\"1158\",\"type\":\"BasicTickFormatter\"},{\"attributes\":{\"active_drag\":\"auto\",\"active_inspect\":\"auto\",\"active_multi\":null,\"active_scroll\":\"auto\",\"active_tap\":\"auto\",\"tools\":[{\"id\":\"1111\",\"type\":\"PanTool\"},{\"id\":\"1112\",\"type\":\"WheelZoomTool\"},{\"id\":\"1113\",\"type\":\"BoxZoomTool\"},{\"id\":\"1114\",\"type\":\"SaveTool\"},{\"id\":\"1115\",\"type\":\"ResetTool\"},{\"id\":\"1116\",\"type\":\"HelpTool\"}]},\"id\":\"1117\",\"type\":\"Toolbar\"},{\"attributes\":{\"data_source\":{\"id\":\"1080\",\"type\":\"ColumnDataSource\"},\"glyph\":{\"id\":\"1081\",\"type\":\"X\"},\"hover_glyph\":null,\"muted_glyph\":null,\"nonselection_glyph\":{\"id\":\"1082\",\"type\":\"X\"},\"selection_glyph\":null,\"view\":{\"id\":\"1084\",\"type\":\"CDSView\"}},\"id\":\"1083\",\"type\":\"GlyphRenderer\"},{\"attributes\":{\"source\":{\"id\":\"1124\",\"type\":\"ColumnDataSource\"}},\"id\":\"1128\",\"type\":\"CDSView\"},{\"attributes\":{},\"id\":\"1067\",\"type\":\"PanTool\"},{\"attributes\":{\"callback\":null,\"data\":{\"x\":{\"__ndarray__\":\"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\",\"dtype\":\"float64\",\"shape\":[1000]},\"y\":{\"__ndarray__\":\"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\",\"dtype\":\"float64\",\"shape\":[1000]}},\"selected\":{\"id\":\"1165\",\"type\":\"Selection\"},\"selection_policy\":{\"id\":\"1164\",\"type\":\"UnionRenderers\"}},\"id\":\"1129\",\"type\":\"ColumnDataSource\"},{\"attributes\":{},\"id\":\"1068\",\"type\":\"WheelZoomTool\"},{\"attributes\":{\"overlay\":{\"id\":\"1150\",\"type\":\"BoxAnnotation\"}},\"id\":\"1069\",\"type\":\"BoxZoomTool\"},{\"attributes\":{\"line_color\":\"blue\",\"x\":{\"field\":\"x\"},\"y\":{\"field\":\"y\"}},\"id\":\"1130\",\"type\":\"Line\"},{\"attributes\":{},\"id\":\"1070\",\"type\":\"SaveTool\"},{\"attributes\":{\"line_alpha\":0.1,\"line_color\":\"#1f77b4\",\"x\":{\"field\":\"x\"},\"y\":{\"field\":\"y\"}},\"id\":\"1131\",\"type\":\"Line\"},{\"attributes\":{},\"id\":\"1071\",\"type\":\"ResetTool\"},{\"attributes\":{\"data_source\":{\"id\":\"1129\",\"type\":\"ColumnDataSource\"},\"glyph\":{\"id\":\"1130\",\"type\":\"Line\"},\"hover_glyph\":null,\"muted_glyph\":null,\"nonselection_glyph\":{\"id\":\"1131\",\"type\":\"Line\"},\"selection_glyph\":null,\"view\":{\"id\":\"1133\",\"type\":\"CDSView\"}},\"id\":\"1132\",\"type\":\"GlyphRenderer\"},{\"attributes\":{\"children\":[[{\"id\":\"1002\",\"subtype\":\"Figure\",\"type\":\"Plot\"},0,0],[{\"id\":\"1046\",\"subtype\":\"Figure\",\"type\":\"Plot\"},0,1],[{\"id\":\"1090\",\"subtype\":\"Figure\",\"type\":\"Plot\"},0,2]]},\"id\":\"1167\",\"type\":\"GridBox\"},{\"attributes\":{},\"id\":\"1072\",\"type\":\"HelpTool\"},{\"attributes\":{\"source\":{\"id\":\"1129\",\"type\":\"ColumnDataSource\"}},\"id\":\"1133\",\"type\":\"CDSView\"},{\"attributes\":{\"active_drag\":\"auto\",\"active_inspect\":\"auto\",\"active_multi\":null,\"active_scroll\":\"auto\",\"active_tap\":\"auto\",\"tools\":[{\"id\":\"1067\",\"type\":\"PanTool\"},{\"id\":\"1068\",\"type\":\"WheelZoomTool\"},{\"id\":\"1069\",\"type\":\"BoxZoomTool\"},{\"id\":\"1070\",\"type\":\"SaveTool\"},{\"id\":\"1071\",\"type\":\"ResetTool\"},{\"id\":\"1072\",\"type\":\"HelpTool\"}]},\"id\":\"1073\",\"type\":\"Toolbar\"},{\"attributes\":{\"bottom_units\":\"screen\",\"fill_alpha\":{\"value\":0.5},\"fill_color\":{\"value\":\"lightgrey\"},\"left_units\":\"screen\",\"level\":\"overlay\",\"line_alpha\":{\"value\":1.0},\"line_color\":{\"value\":\"black\"},\"line_dash\":[4,4],\"line_width\":{\"value\":2},\"render_mode\":\"css\",\"right_units\":\"screen\",\"top_units\":\"screen\"},\"id\":\"1139\",\"type\":\"BoxAnnotation\"},{\"attributes\":{\"source\":{\"id\":\"1080\",\"type\":\"ColumnDataSource\"}},\"id\":\"1084\",\"type\":\"CDSView\"},{\"attributes\":{\"callback\":null,\"data\":{\"x\":{\"__ndarray__\":\"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\",\"dtype\":\"float64\",\"shape\":[1000]},\"y\":{\"__ndarray__\":\"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\",\"dtype\":\"float64\",\"shape\":[1000]}},\"selected\":{\"id\":\"1154\",\"type\":\"Selection\"},\"selection_policy\":{\"id\":\"1153\",\"type\":\"UnionRenderers\"}},\"id\":\"1085\",\"type\":\"ColumnDataSource\"},{\"attributes\":{},\"id\":\"1141\",\"type\":\"Selection\"},{\"attributes\":{\"line_color\":\"blue\",\"x\":{\"field\":\"x\"},\"y\":{\"field\":\"y\"}},\"id\":\"1086\",\"type\":\"Line\"},{\"attributes\":{},\"id\":\"1142\",\"type\":\"UnionRenderers\"},{\"attributes\":{\"line_alpha\":0.1,\"line_color\":\"#1f77b4\",\"x\":{\"field\":\"x\"},\"y\":{\"field\":\"y\"}},\"id\":\"1087\",\"type\":\"Line\"},{\"attributes\":{},\"id\":\"1143\",\"type\":\"Selection\"},{\"attributes\":{\"data_source\":{\"id\":\"1085\",\"type\":\"ColumnDataSource\"},\"glyph\":{\"id\":\"1086\",\"type\":\"Line\"},\"hover_glyph\":null,\"muted_glyph\":null,\"nonselection_glyph\":{\"id\":\"1087\",\"type\":\"Line\"},\"selection_glyph\":null,\"view\":{\"id\":\"1089\",\"type\":\"CDSView\"}},\"id\":\"1088\",\"type\":\"GlyphRenderer\"},{\"attributes\":{},\"id\":\"1149\",\"type\":\"BasicTickFormatter\"},{\"attributes\":{\"bottom_units\":\"screen\",\"fill_alpha\":{\"value\":0.5},\"fill_color\":{\"value\":\"lightgrey\"},\"left_units\":\"screen\",\"level\":\"overlay\",\"line_alpha\":{\"value\":1.0},\"line_color\":{\"value\":\"black\"},\"line_dash\":[4,4],\"line_width\":{\"value\":2},\"render_mode\":\"css\",\"right_units\":\"screen\",\"top_units\":\"screen\"},\"id\":\"1150\",\"type\":\"BoxAnnotation\"},{\"attributes\":{\"source\":{\"id\":\"1085\",\"type\":\"ColumnDataSource\"}},\"id\":\"1089\",\"type\":\"CDSView\"},{\"attributes\":{\"below\":[{\"id\":\"1101\",\"type\":\"LinearAxis\"}],\"center\":[{\"id\":\"1105\",\"type\":\"Grid\"},{\"id\":\"1110\",\"type\":\"Grid\"}],\"left\":[{\"id\":\"1106\",\"type\":\"LinearAxis\"}],\"plot_height\":240,\"plot_width\":240,\"renderers\":[{\"id\":\"1127\",\"type\":\"GlyphRenderer\"},{\"id\":\"1132\",\"type\":\"GlyphRenderer\"}],\"title\":{\"id\":\"1091\",\"type\":\"Title\"},\"toolbar\":{\"id\":\"1117\",\"type\":\"Toolbar\"},\"toolbar_location\":null,\"x_range\":{\"id\":\"1093\",\"type\":\"Range1d\"},\"x_scale\":{\"id\":\"1097\",\"type\":\"LinearScale\"},\"y_range\":{\"id\":\"1095\",\"type\":\"Range1d\"},\"y_scale\":{\"id\":\"1099\",\"type\":\"LinearScale\"}},\"id\":\"1090\",\"subtype\":\"Figure\",\"type\":\"Plot\"},{\"attributes\":{},\"id\":\"1151\",\"type\":\"UnionRenderers\"},{\"attributes\":{\"data_source\":{\"id\":\"1124\",\"type\":\"ColumnDataSource\"},\"glyph\":{\"id\":\"1125\",\"type\":\"X\"},\"hover_glyph\":null,\"muted_glyph\":null,\"nonselection_glyph\":{\"id\":\"1126\",\"type\":\"X\"},\"selection_glyph\":null,\"view\":{\"id\":\"1128\",\"type\":\"CDSView\"}},\"id\":\"1127\",\"type\":\"GlyphRenderer\"},{\"attributes\":{},\"id\":\"1152\",\"type\":\"Selection\"},{\"attributes\":{\"text\":\"d = 6 (over-fit; high variance)\",\"text_font_size\":{\"value\":\"11pt\"}},\"id\":\"1091\",\"type\":\"Title\"},{\"attributes\":{},\"id\":\"1153\",\"type\":\"UnionRenderers\"},{\"attributes\":{\"callback\":null,\"end\":1.2,\"start\":-0.2},\"id\":\"1093\",\"type\":\"Range1d\"},{\"attributes\":{},\"id\":\"1154\",\"type\":\"Selection\"},{\"attributes\":{\"callback\":null,\"end\":12},\"id\":\"1095\",\"type\":\"Range1d\"},{\"attributes\":{},\"id\":\"1160\",\"type\":\"BasicTickFormatter\"},{\"attributes\":{},\"id\":\"1097\",\"type\":\"LinearScale\"},{\"attributes\":{},\"id\":\"1099\",\"type\":\"LinearScale\"},{\"attributes\":{\"bottom_units\":\"screen\",\"fill_alpha\":{\"value\":0.5},\"fill_color\":{\"value\":\"lightgrey\"},\"left_units\":\"screen\",\"level\":\"overlay\",\"line_alpha\":{\"value\":1.0},\"line_color\":{\"value\":\"black\"},\"line_dash\":[4,4],\"line_width\":{\"value\":2},\"render_mode\":\"css\",\"right_units\":\"screen\",\"top_units\":\"screen\"},\"id\":\"1161\",\"type\":\"BoxAnnotation\"},{\"attributes\":{\"axis_label\":\"house size\",\"axis_label_text_font_size\":{\"value\":\"9pt\"},\"formatter\":{\"id\":\"1158\",\"type\":\"BasicTickFormatter\"},\"ticker\":{\"id\":\"1102\",\"type\":\"BasicTicker\"}},\"id\":\"1101\",\"type\":\"LinearAxis\"},{\"attributes\":{},\"id\":\"1162\",\"type\":\"UnionRenderers\"},{\"attributes\":{},\"id\":\"1102\",\"type\":\"BasicTicker\"},{\"attributes\":{},\"id\":\"1163\",\"type\":\"Selection\"},{\"attributes\":{\"ticker\":{\"id\":\"1102\",\"type\":\"BasicTicker\"}},\"id\":\"1105\",\"type\":\"Grid\"},{\"attributes\":{},\"id\":\"1164\",\"type\":\"UnionRenderers\"},{\"attributes\":{\"axis_label_text_font_size\":{\"value\":\"9pt\"},\"formatter\":{\"id\":\"1160\",\"type\":\"BasicTickFormatter\"},\"ticker\":{\"id\":\"1107\",\"type\":\"BasicTicker\"}},\"id\":\"1106\",\"type\":\"LinearAxis\"},{\"attributes\":{},\"id\":\"1165\",\"type\":\"Selection\"},{\"attributes\":{},\"id\":\"1107\",\"type\":\"BasicTicker\"},{\"attributes\":{},\"id\":\"1140\",\"type\":\"UnionRenderers\"},{\"attributes\":{\"below\":[{\"id\":\"1013\",\"type\":\"LinearAxis\"}],\"center\":[{\"id\":\"1017\",\"type\":\"Grid\"},{\"id\":\"1022\",\"type\":\"Grid\"}],\"left\":[{\"id\":\"1018\",\"type\":\"LinearAxis\"}],\"plot_height\":240,\"plot_width\":240,\"renderers\":[{\"id\":\"1039\",\"type\":\"GlyphRenderer\"},{\"id\":\"1044\",\"type\":\"GlyphRenderer\"}],\"title\":{\"id\":\"1003\",\"type\":\"Title\"},\"toolbar\":{\"id\":\"1029\",\"type\":\"Toolbar\"},\"toolbar_location\":null,\"x_range\":{\"id\":\"1005\",\"type\":\"Range1d\"},\"x_scale\":{\"id\":\"1009\",\"type\":\"LinearScale\"},\"y_range\":{\"id\":\"1007\",\"type\":\"Range1d\"},\"y_scale\":{\"id\":\"1011\",\"type\":\"LinearScale\"}},\"id\":\"1002\",\"subtype\":\"Figure\",\"type\":\"Plot\"},{\"attributes\":{\"tools\":[{\"id\":\"1023\",\"type\":\"PanTool\"},{\"id\":\"1024\",\"type\":\"WheelZoomTool\"},{\"id\":\"1025\",\"type\":\"BoxZoomTool\"},{\"id\":\"1026\",\"type\":\"SaveTool\"},{\"id\":\"1027\",\"type\":\"ResetTool\"},{\"id\":\"1028\",\"type\":\"HelpTool\"},{\"id\":\"1067\",\"type\":\"PanTool\"},{\"id\":\"1068\",\"type\":\"WheelZoomTool\"},{\"id\":\"1069\",\"type\":\"BoxZoomTool\"},{\"id\":\"1070\",\"type\":\"SaveTool\"},{\"id\":\"1071\",\"type\":\"ResetTool\"},{\"id\":\"1072\",\"type\":\"HelpTool\"},{\"id\":\"1111\",\"type\":\"PanTool\"},{\"id\":\"1112\",\"type\":\"WheelZoomTool\"},{\"id\":\"1113\",\"type\":\"BoxZoomTool\"},{\"id\":\"1114\",\"type\":\"SaveTool\"},{\"id\":\"1115\",\"type\":\"ResetTool\"},{\"id\":\"1116\",\"type\":\"HelpTool\"}]},\"id\":\"1168\",\"type\":\"ProxyToolbar\"},{\"attributes\":{\"dimension\":1,\"ticker\":{\"id\":\"1107\",\"type\":\"BasicTicker\"}},\"id\":\"1110\",\"type\":\"Grid\"},{\"attributes\":{\"toolbar\":{\"id\":\"1168\",\"type\":\"ProxyToolbar\"},\"toolbar_location\":\"above\"},\"id\":\"1169\",\"type\":\"ToolbarBox\"},{\"attributes\":{\"callback\":null,\"data\":{\"x\":{\"__ndarray__\":\"exSuR+F6hD8qHSlQNcWTP7U4bubUFaM/NdvkMohssj8ESFBNGcnBP2JlpStUK9E/d9N4kQaT4D8AAAAAAADwPw==\",\"dtype\":\"float64\",\"shape\":[8]},\"y\":{\"__ndarray__\":\"mFTPLeiE8j/9CkHYOsn4P+9CRWpgUAhAuf5G+DbJE0D01/ulsMoWQAHhRdOMqxxA1ilwpbpXIkDvQCA9AvMiQA==\",\"dtype\":\"float64\",\"shape\":[8]}},\"selected\":{\"id\":\"1141\",\"type\":\"Selection\"},\"selection_policy\":{\"id\":\"1140\",\"type\":\"UnionRenderers\"}},\"id\":\"1036\",\"type\":\"ColumnDataSource\"},{\"attributes\":{\"fill_color\":{\"value\":\"black\"},\"size\":{\"units\":\"screen\",\"value\":12},\"x\":{\"field\":\"x\"},\"y\":{\"field\":\"y\"}},\"id\":\"1125\",\"type\":\"X\"},{\"attributes\":{\"text\":\"d = 1 (under-fit; high bias)\",\"text_font_size\":{\"value\":\"11pt\"}},\"id\":\"1003\",\"type\":\"Title\"},{\"attributes\":{\"callback\":null,\"data\":{\"x\":{\"__ndarray__\":\"exSuR+F6hD8qHSlQNcWTP7U4bubUFaM/NdvkMohssj8ESFBNGcnBP2JlpStUK9E/d9N4kQaT4D8AAAAAAADwPw==\",\"dtype\":\"float64\",\"shape\":[8]},\"y\":{\"__ndarray__\":\"mFTPLeiE8j/9CkHYOsn4P+9CRWpgUAhAuf5G+DbJE0D01/ulsMoWQAHhRdOMqxxA1ilwpbpXIkDvQCA9AvMiQA==\",\"dtype\":\"float64\",\"shape\":[8]}},\"selected\":{\"id\":\"1163\",\"type\":\"Selection\"},\"selection_policy\":{\"id\":\"1162\",\"type\":\"UnionRenderers\"}},\"id\":\"1124\",\"type\":\"ColumnDataSource\"},{\"attributes\":{\"callback\":null,\"end\":1.2,\"start\":-0.2},\"id\":\"1005\",\"type\":\"Range1d\"},{\"attributes\":{},\"id\":\"1111\",\"type\":\"PanTool\"},{\"attributes\":{\"callback\":null,\"end\":12},\"id\":\"1007\",\"type\":\"Range1d\"},{\"attributes\":{},\"id\":\"1112\",\"type\":\"WheelZoomTool\"},{\"attributes\":{},\"id\":\"1009\",\"type\":\"LinearScale\"}],\"root_ids\":[\"1170\"]},\"title\":\"Bokeh Application\",\"version\":\"1.2.0\"}};\n",
       "  var render_items = [{\"docid\":\"60ab9a74-22c9-4cb6-8bcd-51b50b9c1e63\",\"roots\":{\"1170\":\"8b51250b-44a0-4375-953f-ee1ed6e83da0\"}}];\n",
       "  root.Bokeh.embed.embed_items_notebook(docs_json, render_items);\n",
       "\n",
       "  }\n",
       "  if (root.Bokeh !== undefined) {\n",
       "    embed_document(root);\n",
       "  } else {\n",
       "    var attempts = 0;\n",
       "    var timer = setInterval(function(root) {\n",
       "      if (root.Bokeh !== undefined) {\n",
       "        embed_document(root);\n",
       "        clearInterval(timer);\n",
       "      }\n",
       "      attempts++;\n",
       "      if (attempts > 100) {\n",
       "        console.log(\"Bokeh: ERROR: Unable to run BokehJS code because BokehJS library is missing\");\n",
       "        clearInterval(timer);\n",
       "      }\n",
       "    }, 10, root)\n",
       "  }\n",
       "})(window);"
      ],
      "application/vnd.bokehjs_exec.v0+json": ""
     },
     "metadata": {
      "application/vnd.bokehjs_exec.v0+json": {
       "id": "1170"
      }
     },
     "output_type": "display_data"
    }
   ],
   "source": [
    "biasvariance.plot_bias_variance(8, random_seed=42, err=10)"
   ]
  },
  {
   "cell_type": "markdown",
   "metadata": {},
   "source": [
    "### 1.2 Bias-Variance Tradeoff explained with a regression example"
   ]
  },
  {
   "cell_type": "markdown",
   "metadata": {},
   "source": [
    "In this section we will explore a simple **linear regression** problem.\n",
    "This can be accomplished within scikit-learn with the `sklearn.linear_model` module.\n",
    "\n",
    "We consider the situation where we have only 2 data points: "
   ]
  },
  {
   "cell_type": "code",
   "execution_count": 7,
   "metadata": {},
   "outputs": [
    {
     "data": {
      "text/html": [
       "\n",
       "\n",
       "\n",
       "\n",
       "\n",
       "\n",
       "  <div class=\"bk-root\" id=\"d99be026-8397-400e-bede-e1ac86ea3a60\" data-root-id=\"1381\"></div>\n"
      ]
     },
     "metadata": {},
     "output_type": "display_data"
    },
    {
     "data": {
      "application/javascript": [
       "(function(root) {\n",
       "  function embed_document(root) {\n",
       "    \n",
       "  var docs_json = {\"2c92bed0-8cce-4e0c-a9f7-d8f12b51baa4\":{\"roots\":{\"references\":[{\"attributes\":{\"below\":[{\"id\":\"1391\",\"type\":\"LinearAxis\"}],\"center\":[{\"id\":\"1395\",\"type\":\"Grid\"},{\"id\":\"1400\",\"type\":\"Grid\"}],\"left\":[{\"id\":\"1396\",\"type\":\"LinearAxis\"}],\"plot_height\":300,\"plot_width\":400,\"renderers\":[{\"id\":\"1417\",\"type\":\"GlyphRenderer\"},{\"id\":\"1422\",\"type\":\"GlyphRenderer\"}],\"title\":null,\"toolbar\":{\"id\":\"1407\",\"type\":\"Toolbar\"},\"x_range\":{\"id\":\"1383\",\"type\":\"DataRange1d\"},\"x_scale\":{\"id\":\"1387\",\"type\":\"LinearScale\"},\"y_range\":{\"id\":\"1385\",\"type\":\"DataRange1d\"},\"y_scale\":{\"id\":\"1389\",\"type\":\"LinearScale\"}},\"id\":\"1381\",\"subtype\":\"Figure\",\"type\":\"Plot\"},{\"attributes\":{\"line_alpha\":0.1,\"line_color\":\"#1f77b4\",\"x\":{\"field\":\"x\"},\"y\":{\"field\":\"y\"}},\"id\":\"1421\",\"type\":\"Line\"},{\"attributes\":{},\"id\":\"1392\",\"type\":\"BasicTicker\"},{\"attributes\":{\"formatter\":{\"id\":\"1456\",\"type\":\"BasicTickFormatter\"},\"ticker\":{\"id\":\"1392\",\"type\":\"BasicTicker\"}},\"id\":\"1391\",\"type\":\"LinearAxis\"},{\"attributes\":{\"data_source\":{\"id\":\"1419\",\"type\":\"ColumnDataSource\"},\"glyph\":{\"id\":\"1420\",\"type\":\"Line\"},\"hover_glyph\":null,\"muted_glyph\":null,\"nonselection_glyph\":{\"id\":\"1421\",\"type\":\"Line\"},\"selection_glyph\":null,\"view\":{\"id\":\"1423\",\"type\":\"CDSView\"}},\"id\":\"1422\",\"type\":\"GlyphRenderer\"},{\"attributes\":{\"source\":{\"id\":\"1419\",\"type\":\"ColumnDataSource\"}},\"id\":\"1423\",\"type\":\"CDSView\"},{\"attributes\":{\"ticker\":{\"id\":\"1392\",\"type\":\"BasicTicker\"}},\"id\":\"1395\",\"type\":\"Grid\"},{\"attributes\":{},\"id\":\"1402\",\"type\":\"WheelZoomTool\"},{\"attributes\":{\"callback\":null,\"data\":{\"x\":{\"__ndarray__\":\"AAAAAAAA4D8AAAAAAADwPw==\",\"dtype\":\"float64\",\"shape\":[2]},\"y\":{\"__ndarray__\":\"AAAAAAAA4D8AAAAAAADwPw==\",\"dtype\":\"float64\",\"shape\":[2]}},\"selected\":{\"id\":\"1461\",\"type\":\"Selection\"},\"selection_policy\":{\"id\":\"1460\",\"type\":\"UnionRenderers\"}},\"id\":\"1414\",\"type\":\"ColumnDataSource\"},{\"attributes\":{\"formatter\":{\"id\":\"1458\",\"type\":\"BasicTickFormatter\"},\"ticker\":{\"id\":\"1397\",\"type\":\"BasicTicker\"}},\"id\":\"1396\",\"type\":\"LinearAxis\"},{\"attributes\":{},\"id\":\"1458\",\"type\":\"BasicTickFormatter\"},{\"attributes\":{},\"id\":\"1397\",\"type\":\"BasicTicker\"},{\"attributes\":{\"callback\":null,\"data\":{\"x\":{\"__ndarray__\":\"AAAAAAAAAAAAAAAAAAAAQA==\",\"dtype\":\"float64\",\"shape\":[2]},\"y\":{\"__ndarray__\":\"AAAAAAAAsDz/////////Pw==\",\"dtype\":\"float64\",\"shape\":[2]}},\"selected\":{\"id\":\"1463\",\"type\":\"Selection\"},\"selection_policy\":{\"id\":\"1462\",\"type\":\"UnionRenderers\"}},\"id\":\"1419\",\"type\":\"ColumnDataSource\"},{\"attributes\":{\"bottom_units\":\"screen\",\"fill_alpha\":{\"value\":0.5},\"fill_color\":{\"value\":\"lightgrey\"},\"left_units\":\"screen\",\"level\":\"overlay\",\"line_alpha\":{\"value\":1.0},\"line_color\":{\"value\":\"black\"},\"line_dash\":[4,4],\"line_width\":{\"value\":2},\"render_mode\":\"css\",\"right_units\":\"screen\",\"top_units\":\"screen\"},\"id\":\"1459\",\"type\":\"BoxAnnotation\"},{\"attributes\":{\"dimension\":1,\"ticker\":{\"id\":\"1397\",\"type\":\"BasicTicker\"}},\"id\":\"1400\",\"type\":\"Grid\"},{\"attributes\":{},\"id\":\"1405\",\"type\":\"ResetTool\"},{\"attributes\":{\"callback\":null},\"id\":\"1385\",\"type\":\"DataRange1d\"},{\"attributes\":{},\"id\":\"1460\",\"type\":\"UnionRenderers\"},{\"attributes\":{\"fill_alpha\":{\"value\":0.1},\"fill_color\":{\"value\":\"#1f77b4\"},\"line_alpha\":{\"value\":0.1},\"line_color\":{\"value\":\"#1f77b4\"},\"size\":{\"units\":\"screen\",\"value\":5},\"x\":{\"field\":\"x\"},\"y\":{\"field\":\"y\"}},\"id\":\"1416\",\"type\":\"Circle\"},{\"attributes\":{},\"id\":\"1461\",\"type\":\"Selection\"},{\"attributes\":{\"fill_color\":{\"value\":\"#1f77b4\"},\"line_color\":{\"value\":\"#1f77b4\"},\"size\":{\"units\":\"screen\",\"value\":5},\"x\":{\"field\":\"x\"},\"y\":{\"field\":\"y\"}},\"id\":\"1415\",\"type\":\"Circle\"},{\"attributes\":{},\"id\":\"1462\",\"type\":\"UnionRenderers\"},{\"attributes\":{},\"id\":\"1401\",\"type\":\"PanTool\"},{\"attributes\":{},\"id\":\"1463\",\"type\":\"Selection\"},{\"attributes\":{\"overlay\":{\"id\":\"1459\",\"type\":\"BoxAnnotation\"}},\"id\":\"1403\",\"type\":\"BoxZoomTool\"},{\"attributes\":{},\"id\":\"1404\",\"type\":\"SaveTool\"},{\"attributes\":{},\"id\":\"1406\",\"type\":\"HelpTool\"},{\"attributes\":{\"active_drag\":\"auto\",\"active_inspect\":\"auto\",\"active_multi\":null,\"active_scroll\":\"auto\",\"active_tap\":\"auto\",\"tools\":[{\"id\":\"1401\",\"type\":\"PanTool\"},{\"id\":\"1402\",\"type\":\"WheelZoomTool\"},{\"id\":\"1403\",\"type\":\"BoxZoomTool\"},{\"id\":\"1404\",\"type\":\"SaveTool\"},{\"id\":\"1405\",\"type\":\"ResetTool\"},{\"id\":\"1406\",\"type\":\"HelpTool\"}]},\"id\":\"1407\",\"type\":\"Toolbar\"},{\"attributes\":{\"data_source\":{\"id\":\"1414\",\"type\":\"ColumnDataSource\"},\"glyph\":{\"id\":\"1415\",\"type\":\"Circle\"},\"hover_glyph\":null,\"muted_glyph\":null,\"nonselection_glyph\":{\"id\":\"1416\",\"type\":\"Circle\"},\"selection_glyph\":null,\"view\":{\"id\":\"1418\",\"type\":\"CDSView\"}},\"id\":\"1417\",\"type\":\"GlyphRenderer\"},{\"attributes\":{\"source\":{\"id\":\"1414\",\"type\":\"ColumnDataSource\"}},\"id\":\"1418\",\"type\":\"CDSView\"},{\"attributes\":{\"callback\":null},\"id\":\"1383\",\"type\":\"DataRange1d\"},{\"attributes\":{\"line_color\":\"green\",\"x\":{\"field\":\"x\"},\"y\":{\"field\":\"y\"}},\"id\":\"1420\",\"type\":\"Line\"},{\"attributes\":{},\"id\":\"1387\",\"type\":\"LinearScale\"},{\"attributes\":{},\"id\":\"1456\",\"type\":\"BasicTickFormatter\"},{\"attributes\":{},\"id\":\"1389\",\"type\":\"LinearScale\"}],\"root_ids\":[\"1381\"]},\"title\":\"Bokeh Application\",\"version\":\"1.2.0\"}};\n",
       "  var render_items = [{\"docid\":\"2c92bed0-8cce-4e0c-a9f7-d8f12b51baa4\",\"roots\":{\"1381\":\"d99be026-8397-400e-bede-e1ac86ea3a60\"}}];\n",
       "  root.Bokeh.embed.embed_items_notebook(docs_json, render_items);\n",
       "\n",
       "  }\n",
       "  if (root.Bokeh !== undefined) {\n",
       "    embed_document(root);\n",
       "  } else {\n",
       "    var attempts = 0;\n",
       "    var timer = setInterval(function(root) {\n",
       "      if (root.Bokeh !== undefined) {\n",
       "        embed_document(root);\n",
       "        clearInterval(timer);\n",
       "      }\n",
       "      attempts++;\n",
       "      if (attempts > 100) {\n",
       "        console.log(\"Bokeh: ERROR: Unable to run BokehJS code because BokehJS library is missing\");\n",
       "        clearInterval(timer);\n",
       "      }\n",
       "    }, 10, root)\n",
       "  }\n",
       "})(window);"
      ],
      "application/vnd.bokehjs_exec.v0+json": ""
     },
     "metadata": {
      "application/vnd.bokehjs_exec.v0+json": {
       "id": "1381"
      }
     },
     "output_type": "display_data"
    }
   ],
   "source": [
    "from sklearn import linear_model\n",
    "X = np.array([0.5, 1.0]).reshape(2,1)\n",
    "y = np.array([0.5, 1.0])\n",
    "X_test = np.array([0.0, 2.0]).reshape(2,1)\n",
    "regr = linear_model.LinearRegression()\n",
    "regr.fit(X, y)\n",
    "fig = bk.figure(plot_width=400, plot_height=300, title=None)\n",
    "fig.circle(X[:,0], y, size=5)\n",
    "fig.line(X_test[:,0], regr.predict(X_test), color='green')\n",
    "bk.show(fig)"
   ]
  },
  {
   "cell_type": "markdown",
   "metadata": {},
   "source": [
    "In real life situation, we have noise (e.g. measurement noise) in our data:"
   ]
  },
  {
   "cell_type": "code",
   "execution_count": 8,
   "metadata": {},
   "outputs": [],
   "source": [
    "import seaborn as sns\n",
    "import addutils.palette as pal\n",
    "import random\n",
    "cat_colors = list(map(pal.to_hex, sns.color_palette('bright', 6)))\n",
    "random.shuffle(cat_colors)"
   ]
  },
  {
   "cell_type": "code",
   "execution_count": 9,
   "metadata": {},
   "outputs": [
    {
     "data": {
      "text/html": [
       "\n",
       "\n",
       "\n",
       "\n",
       "\n",
       "\n",
       "  <div class=\"bk-root\" id=\"7c76b970-077c-4359-adac-758760103c9f\" data-root-id=\"1524\"></div>\n"
      ]
     },
     "metadata": {},
     "output_type": "display_data"
    },
    {
     "data": {
      "application/javascript": [
       "(function(root) {\n",
       "  function embed_document(root) {\n",
       "    \n",
       "  var docs_json = {\"f6d81fd1-e410-42b2-9ac5-d5e3040e95fb\":{\"roots\":{\"references\":[{\"attributes\":{\"below\":[{\"id\":\"1534\",\"type\":\"LinearAxis\"}],\"center\":[{\"id\":\"1538\",\"type\":\"Grid\"},{\"id\":\"1543\",\"type\":\"Grid\"}],\"left\":[{\"id\":\"1539\",\"type\":\"LinearAxis\"}],\"plot_height\":300,\"plot_width\":400,\"renderers\":[{\"id\":\"1560\",\"type\":\"GlyphRenderer\"},{\"id\":\"1565\",\"type\":\"GlyphRenderer\"},{\"id\":\"1570\",\"type\":\"GlyphRenderer\"},{\"id\":\"1575\",\"type\":\"GlyphRenderer\"},{\"id\":\"1580\",\"type\":\"GlyphRenderer\"},{\"id\":\"1585\",\"type\":\"GlyphRenderer\"},{\"id\":\"1590\",\"type\":\"GlyphRenderer\"},{\"id\":\"1595\",\"type\":\"GlyphRenderer\"},{\"id\":\"1600\",\"type\":\"GlyphRenderer\"},{\"id\":\"1605\",\"type\":\"GlyphRenderer\"},{\"id\":\"1610\",\"type\":\"GlyphRenderer\"},{\"id\":\"1615\",\"type\":\"GlyphRenderer\"}],\"title\":null,\"toolbar\":{\"id\":\"1550\",\"type\":\"Toolbar\"},\"x_range\":{\"id\":\"1526\",\"type\":\"DataRange1d\"},\"x_scale\":{\"id\":\"1530\",\"type\":\"LinearScale\"},\"y_range\":{\"id\":\"1528\",\"type\":\"DataRange1d\"},\"y_scale\":{\"id\":\"1532\",\"type\":\"LinearScale\"}},\"id\":\"1524\",\"subtype\":\"Figure\",\"type\":\"Plot\"},{\"attributes\":{\"source\":{\"id\":\"1577\",\"type\":\"ColumnDataSource\"}},\"id\":\"1581\",\"type\":\"CDSView\"},{\"attributes\":{\"callback\":null,\"data\":{\"x\":{\"__ndarray__\":\"AAAAAAAAAAAAAAAAAAAAQA==\",\"dtype\":\"float64\",\"shape\":[2]},\"y\":{\"__ndarray__\":\"U/b/uRJ+8b+QnqpOuF8MQA==\",\"dtype\":\"float64\",\"shape\":[2]}},\"selected\":{\"id\":\"1674\",\"type\":\"Selection\"},\"selection_policy\":{\"id\":\"1673\",\"type\":\"UnionRenderers\"}},\"id\":\"1582\",\"type\":\"ColumnDataSource\"},{\"attributes\":{\"line_color\":\"#ff7c00\",\"x\":{\"field\":\"x\"},\"y\":{\"field\":\"y\"}},\"id\":\"1583\",\"type\":\"Line\"},{\"attributes\":{\"line_alpha\":0.1,\"line_color\":\"#1f77b4\",\"x\":{\"field\":\"x\"},\"y\":{\"field\":\"y\"}},\"id\":\"1584\",\"type\":\"Line\"},{\"attributes\":{\"data_source\":{\"id\":\"1582\",\"type\":\"ColumnDataSource\"},\"glyph\":{\"id\":\"1583\",\"type\":\"Line\"},\"hover_glyph\":null,\"muted_glyph\":null,\"nonselection_glyph\":{\"id\":\"1584\",\"type\":\"Line\"},\"selection_glyph\":null,\"view\":{\"id\":\"1586\",\"type\":\"CDSView\"}},\"id\":\"1585\",\"type\":\"GlyphRenderer\"},{\"attributes\":{\"source\":{\"id\":\"1582\",\"type\":\"ColumnDataSource\"}},\"id\":\"1586\",\"type\":\"CDSView\"},{\"attributes\":{\"fill_color\":{\"value\":\"#e8000b\"},\"size\":{\"units\":\"screen\",\"value\":8},\"x\":{\"field\":\"x\"},\"y\":{\"field\":\"y\"}},\"id\":\"1588\",\"type\":\"Circle\"},{\"attributes\":{\"fill_alpha\":{\"value\":0.1},\"fill_color\":{\"value\":\"#1f77b4\"},\"line_alpha\":{\"value\":0.1},\"line_color\":{\"value\":\"#1f77b4\"},\"size\":{\"units\":\"screen\",\"value\":8},\"x\":{\"field\":\"x\"},\"y\":{\"field\":\"y\"}},\"id\":\"1589\",\"type\":\"Circle\"},{\"attributes\":{\"data_source\":{\"id\":\"1587\",\"type\":\"ColumnDataSource\"},\"glyph\":{\"id\":\"1588\",\"type\":\"Circle\"},\"hover_glyph\":null,\"muted_glyph\":null,\"nonselection_glyph\":{\"id\":\"1589\",\"type\":\"Circle\"},\"selection_glyph\":null,\"view\":{\"id\":\"1591\",\"type\":\"CDSView\"}},\"id\":\"1590\",\"type\":\"GlyphRenderer\"},{\"attributes\":{\"source\":{\"id\":\"1587\",\"type\":\"ColumnDataSource\"}},\"id\":\"1591\",\"type\":\"CDSView\"},{\"attributes\":{\"callback\":null,\"data\":{\"x\":{\"__ndarray__\":\"AAAAAAAAAAAAAAAAAAAAQA==\",\"dtype\":\"float64\",\"shape\":[2]},\"y\":{\"__ndarray__\":\"zLieGd/W0L+mdxfPXmoCQA==\",\"dtype\":\"float64\",\"shape\":[2]}},\"selected\":{\"id\":\"1678\",\"type\":\"Selection\"},\"selection_policy\":{\"id\":\"1677\",\"type\":\"UnionRenderers\"}},\"id\":\"1592\",\"type\":\"ColumnDataSource\"},{\"attributes\":{\"line_color\":\"#e8000b\",\"x\":{\"field\":\"x\"},\"y\":{\"field\":\"y\"}},\"id\":\"1593\",\"type\":\"Line\"},{\"attributes\":{\"line_alpha\":0.1,\"line_color\":\"#1f77b4\",\"x\":{\"field\":\"x\"},\"y\":{\"field\":\"y\"}},\"id\":\"1594\",\"type\":\"Line\"},{\"attributes\":{\"data_source\":{\"id\":\"1592\",\"type\":\"ColumnDataSource\"},\"glyph\":{\"id\":\"1593\",\"type\":\"Line\"},\"hover_glyph\":null,\"muted_glyph\":null,\"nonselection_glyph\":{\"id\":\"1594\",\"type\":\"Line\"},\"selection_glyph\":null,\"view\":{\"id\":\"1596\",\"type\":\"CDSView\"}},\"id\":\"1595\",\"type\":\"GlyphRenderer\"},{\"attributes\":{\"callback\":null,\"data\":{\"x\":{\"__ndarray__\":\"+OBpO8gh4z/cCceu3pXzPw==\",\"dtype\":\"float64\",\"shape\":[2]},\"y\":{\"__ndarray__\":\"AAAAAAAA4D8AAAAAAADwPw==\",\"dtype\":\"float64\",\"shape\":[2]}},\"selected\":{\"id\":\"1668\",\"type\":\"Selection\"},\"selection_policy\":{\"id\":\"1667\",\"type\":\"UnionRenderers\"}},\"id\":\"1567\",\"type\":\"ColumnDataSource\"},{\"attributes\":{\"source\":{\"id\":\"1592\",\"type\":\"ColumnDataSource\"}},\"id\":\"1596\",\"type\":\"CDSView\"},{\"attributes\":{\"callback\":null,\"data\":{\"x\":{\"__ndarray__\":\"sS4u4OJW3z/WLZxfLqjwPw==\",\"dtype\":\"float64\",\"shape\":[2]},\"y\":{\"__ndarray__\":\"AAAAAAAA4D8AAAAAAADwPw==\",\"dtype\":\"float64\",\"shape\":[2]}},\"selected\":{\"id\":\"1680\",\"type\":\"Selection\"},\"selection_policy\":{\"id\":\"1679\",\"type\":\"UnionRenderers\"}},\"id\":\"1597\",\"type\":\"ColumnDataSource\"},{\"attributes\":{\"callback\":null,\"data\":{\"x\":{\"__ndarray__\":\"AAAAAAAAAAAAAAAAAAAAQA==\",\"dtype\":\"float64\",\"shape\":[2]},\"y\":{\"__ndarray__\":\"DBD0PiSH27+qmB0Ugo8CQA==\",\"dtype\":\"float64\",\"shape\":[2]}},\"selected\":{\"id\":\"1666\",\"type\":\"Selection\"},\"selection_policy\":{\"id\":\"1665\",\"type\":\"UnionRenderers\"}},\"id\":\"1562\",\"type\":\"ColumnDataSource\"},{\"attributes\":{\"fill_color\":{\"value\":\"#023eff\"},\"size\":{\"units\":\"screen\",\"value\":8},\"x\":{\"field\":\"x\"},\"y\":{\"field\":\"y\"}},\"id\":\"1598\",\"type\":\"Circle\"},{\"attributes\":{\"fill_alpha\":{\"value\":0.1},\"fill_color\":{\"value\":\"#1f77b4\"},\"line_alpha\":{\"value\":0.1},\"line_color\":{\"value\":\"#1f77b4\"},\"size\":{\"units\":\"screen\",\"value\":8},\"x\":{\"field\":\"x\"},\"y\":{\"field\":\"y\"}},\"id\":\"1599\",\"type\":\"Circle\"},{\"attributes\":{\"data_source\":{\"id\":\"1597\",\"type\":\"ColumnDataSource\"},\"glyph\":{\"id\":\"1598\",\"type\":\"Circle\"},\"hover_glyph\":null,\"muted_glyph\":null,\"nonselection_glyph\":{\"id\":\"1599\",\"type\":\"Circle\"},\"selection_glyph\":null,\"view\":{\"id\":\"1601\",\"type\":\"CDSView\"}},\"id\":\"1600\",\"type\":\"GlyphRenderer\"},{\"attributes\":{},\"id\":\"1535\",\"type\":\"BasicTicker\"},{\"attributes\":{\"source\":{\"id\":\"1597\",\"type\":\"ColumnDataSource\"}},\"id\":\"1601\",\"type\":\"CDSView\"},{\"attributes\":{\"callback\":null,\"data\":{\"x\":{\"__ndarray__\":\"AAAAAAAAAAAAAAAAAAAAQA==\",\"dtype\":\"float64\",\"shape\":[2]},\"y\":{\"__ndarray__\":\"kHhEUPSlrD8oy4nay+n9Pw==\",\"dtype\":\"float64\",\"shape\":[2]}},\"selected\":{\"id\":\"1682\",\"type\":\"Selection\"},\"selection_policy\":{\"id\":\"1681\",\"type\":\"UnionRenderers\"}},\"id\":\"1602\",\"type\":\"ColumnDataSource\"},{\"attributes\":{\"callback\":null,\"data\":{\"x\":{\"__ndarray__\":\"VPYtlxyl5T8IHUWG56PwPw==\",\"dtype\":\"float64\",\"shape\":[2]},\"y\":{\"__ndarray__\":\"AAAAAAAA4D8AAAAAAADwPw==\",\"dtype\":\"float64\",\"shape\":[2]}},\"selected\":{\"id\":\"1664\",\"type\":\"Selection\"},\"selection_policy\":{\"id\":\"1663\",\"type\":\"UnionRenderers\"}},\"id\":\"1557\",\"type\":\"ColumnDataSource\"},{\"attributes\":{\"line_color\":\"#023eff\",\"x\":{\"field\":\"x\"},\"y\":{\"field\":\"y\"}},\"id\":\"1603\",\"type\":\"Line\"},{\"attributes\":{\"line_alpha\":0.1,\"line_color\":\"#1f77b4\",\"x\":{\"field\":\"x\"},\"y\":{\"field\":\"y\"}},\"id\":\"1604\",\"type\":\"Line\"},{\"attributes\":{\"data_source\":{\"id\":\"1602\",\"type\":\"ColumnDataSource\"},\"glyph\":{\"id\":\"1603\",\"type\":\"Line\"},\"hover_glyph\":null,\"muted_glyph\":null,\"nonselection_glyph\":{\"id\":\"1604\",\"type\":\"Line\"},\"selection_glyph\":null,\"view\":{\"id\":\"1606\",\"type\":\"CDSView\"}},\"id\":\"1605\",\"type\":\"GlyphRenderer\"},{\"attributes\":{\"source\":{\"id\":\"1602\",\"type\":\"ColumnDataSource\"}},\"id\":\"1606\",\"type\":\"CDSView\"},{\"attributes\":{\"callback\":null,\"data\":{\"x\":{\"__ndarray__\":\"2XhXIAB24D/M8zKhq1PyPw==\",\"dtype\":\"float64\",\"shape\":[2]},\"y\":{\"__ndarray__\":\"AAAAAAAA4D8AAAAAAADwPw==\",\"dtype\":\"float64\",\"shape\":[2]}},\"selected\":{\"id\":\"1684\",\"type\":\"Selection\"},\"selection_policy\":{\"id\":\"1683\",\"type\":\"UnionRenderers\"}},\"id\":\"1607\",\"type\":\"ColumnDataSource\"},{\"attributes\":{\"fill_color\":{\"value\":\"#8b2be2\"},\"size\":{\"units\":\"screen\",\"value\":8},\"x\":{\"field\":\"x\"},\"y\":{\"field\":\"y\"}},\"id\":\"1608\",\"type\":\"Circle\"},{\"attributes\":{\"fill_alpha\":{\"value\":0.1},\"fill_color\":{\"value\":\"#1f77b4\"},\"line_alpha\":{\"value\":0.1},\"line_color\":{\"value\":\"#1f77b4\"},\"size\":{\"units\":\"screen\",\"value\":8},\"x\":{\"field\":\"x\"},\"y\":{\"field\":\"y\"}},\"id\":\"1609\",\"type\":\"Circle\"},{\"attributes\":{\"data_source\":{\"id\":\"1607\",\"type\":\"ColumnDataSource\"},\"glyph\":{\"id\":\"1608\",\"type\":\"Circle\"},\"hover_glyph\":null,\"muted_glyph\":null,\"nonselection_glyph\":{\"id\":\"1609\",\"type\":\"Circle\"},\"selection_glyph\":null,\"view\":{\"id\":\"1611\",\"type\":\"CDSView\"}},\"id\":\"1610\",\"type\":\"GlyphRenderer\"},{\"attributes\":{},\"id\":\"1659\",\"type\":\"BasicTickFormatter\"},{\"attributes\":{\"source\":{\"id\":\"1607\",\"type\":\"ColumnDataSource\"}},\"id\":\"1611\",\"type\":\"CDSView\"},{\"attributes\":{\"callback\":null},\"id\":\"1528\",\"type\":\"DataRange1d\"},{\"attributes\":{\"callback\":null,\"data\":{\"x\":{\"__ndarray__\":\"AAAAAAAAAAAAAAAAAAAAQA==\",\"dtype\":\"float64\",\"shape\":[2]},\"y\":{\"__ndarray__\":\"uB+PCNGntz/KpSIiidX6Pw==\",\"dtype\":\"float64\",\"shape\":[2]}},\"selected\":{\"id\":\"1686\",\"type\":\"Selection\"},\"selection_policy\":{\"id\":\"1685\",\"type\":\"UnionRenderers\"}},\"id\":\"1612\",\"type\":\"ColumnDataSource\"},{\"attributes\":{},\"id\":\"1532\",\"type\":\"LinearScale\"},{\"attributes\":{\"line_color\":\"#8b2be2\",\"x\":{\"field\":\"x\"},\"y\":{\"field\":\"y\"}},\"id\":\"1613\",\"type\":\"Line\"},{\"attributes\":{\"formatter\":{\"id\":\"1659\",\"type\":\"BasicTickFormatter\"},\"ticker\":{\"id\":\"1535\",\"type\":\"BasicTicker\"}},\"id\":\"1534\",\"type\":\"LinearAxis\"},{\"attributes\":{\"line_alpha\":0.1,\"line_color\":\"#1f77b4\",\"x\":{\"field\":\"x\"},\"y\":{\"field\":\"y\"}},\"id\":\"1614\",\"type\":\"Line\"},{\"attributes\":{\"data_source\":{\"id\":\"1612\",\"type\":\"ColumnDataSource\"},\"glyph\":{\"id\":\"1613\",\"type\":\"Line\"},\"hover_glyph\":null,\"muted_glyph\":null,\"nonselection_glyph\":{\"id\":\"1614\",\"type\":\"Line\"},\"selection_glyph\":null,\"view\":{\"id\":\"1616\",\"type\":\"CDSView\"}},\"id\":\"1615\",\"type\":\"GlyphRenderer\"},{\"attributes\":{\"ticker\":{\"id\":\"1535\",\"type\":\"BasicTicker\"}},\"id\":\"1538\",\"type\":\"Grid\"},{\"attributes\":{\"source\":{\"id\":\"1612\",\"type\":\"ColumnDataSource\"}},\"id\":\"1616\",\"type\":\"CDSView\"},{\"attributes\":{\"formatter\":{\"id\":\"1661\",\"type\":\"BasicTickFormatter\"},\"ticker\":{\"id\":\"1540\",\"type\":\"BasicTicker\"}},\"id\":\"1539\",\"type\":\"LinearAxis\"},{\"attributes\":{},\"id\":\"1540\",\"type\":\"BasicTicker\"},{\"attributes\":{},\"id\":\"1661\",\"type\":\"BasicTickFormatter\"},{\"attributes\":{\"dimension\":1,\"ticker\":{\"id\":\"1540\",\"type\":\"BasicTicker\"}},\"id\":\"1543\",\"type\":\"Grid\"},{\"attributes\":{\"bottom_units\":\"screen\",\"fill_alpha\":{\"value\":0.5},\"fill_color\":{\"value\":\"lightgrey\"},\"left_units\":\"screen\",\"level\":\"overlay\",\"line_alpha\":{\"value\":1.0},\"line_color\":{\"value\":\"black\"},\"line_dash\":[4,4],\"line_width\":{\"value\":2},\"render_mode\":\"css\",\"right_units\":\"screen\",\"top_units\":\"screen\"},\"id\":\"1662\",\"type\":\"BoxAnnotation\"},{\"attributes\":{},\"id\":\"1663\",\"type\":\"UnionRenderers\"},{\"attributes\":{},\"id\":\"1664\",\"type\":\"Selection\"},{\"attributes\":{\"fill_color\":{\"value\":\"#9f4800\"},\"size\":{\"units\":\"screen\",\"value\":8},\"x\":{\"field\":\"x\"},\"y\":{\"field\":\"y\"}},\"id\":\"1558\",\"type\":\"Circle\"},{\"attributes\":{},\"id\":\"1665\",\"type\":\"UnionRenderers\"},{\"attributes\":{},\"id\":\"1544\",\"type\":\"PanTool\"},{\"attributes\":{},\"id\":\"1666\",\"type\":\"Selection\"},{\"attributes\":{},\"id\":\"1545\",\"type\":\"WheelZoomTool\"},{\"attributes\":{},\"id\":\"1667\",\"type\":\"UnionRenderers\"},{\"attributes\":{\"overlay\":{\"id\":\"1662\",\"type\":\"BoxAnnotation\"}},\"id\":\"1546\",\"type\":\"BoxZoomTool\"},{\"attributes\":{},\"id\":\"1668\",\"type\":\"Selection\"},{\"attributes\":{},\"id\":\"1547\",\"type\":\"SaveTool\"},{\"attributes\":{},\"id\":\"1669\",\"type\":\"UnionRenderers\"},{\"attributes\":{},\"id\":\"1548\",\"type\":\"ResetTool\"},{\"attributes\":{},\"id\":\"1670\",\"type\":\"Selection\"},{\"attributes\":{},\"id\":\"1549\",\"type\":\"HelpTool\"},{\"attributes\":{},\"id\":\"1671\",\"type\":\"UnionRenderers\"},{\"attributes\":{\"active_drag\":\"auto\",\"active_inspect\":\"auto\",\"active_multi\":null,\"active_scroll\":\"auto\",\"active_tap\":\"auto\",\"tools\":[{\"id\":\"1544\",\"type\":\"PanTool\"},{\"id\":\"1545\",\"type\":\"WheelZoomTool\"},{\"id\":\"1546\",\"type\":\"BoxZoomTool\"},{\"id\":\"1547\",\"type\":\"SaveTool\"},{\"id\":\"1548\",\"type\":\"ResetTool\"},{\"id\":\"1549\",\"type\":\"HelpTool\"}]},\"id\":\"1550\",\"type\":\"Toolbar\"},{\"attributes\":{},\"id\":\"1672\",\"type\":\"Selection\"},{\"attributes\":{},\"id\":\"1673\",\"type\":\"UnionRenderers\"},{\"attributes\":{\"fill_alpha\":{\"value\":0.1},\"fill_color\":{\"value\":\"#1f77b4\"},\"line_alpha\":{\"value\":0.1},\"line_color\":{\"value\":\"#1f77b4\"},\"size\":{\"units\":\"screen\",\"value\":8},\"x\":{\"field\":\"x\"},\"y\":{\"field\":\"y\"}},\"id\":\"1559\",\"type\":\"Circle\"},{\"attributes\":{},\"id\":\"1674\",\"type\":\"Selection\"},{\"attributes\":{\"data_source\":{\"id\":\"1557\",\"type\":\"ColumnDataSource\"},\"glyph\":{\"id\":\"1558\",\"type\":\"Circle\"},\"hover_glyph\":null,\"muted_glyph\":null,\"nonselection_glyph\":{\"id\":\"1559\",\"type\":\"Circle\"},\"selection_glyph\":null,\"view\":{\"id\":\"1561\",\"type\":\"CDSView\"}},\"id\":\"1560\",\"type\":\"GlyphRenderer\"},{\"attributes\":{},\"id\":\"1675\",\"type\":\"UnionRenderers\"},{\"attributes\":{\"source\":{\"id\":\"1557\",\"type\":\"ColumnDataSource\"}},\"id\":\"1561\",\"type\":\"CDSView\"},{\"attributes\":{},\"id\":\"1676\",\"type\":\"Selection\"},{\"attributes\":{},\"id\":\"1677\",\"type\":\"UnionRenderers\"},{\"attributes\":{\"line_color\":\"#9f4800\",\"x\":{\"field\":\"x\"},\"y\":{\"field\":\"y\"}},\"id\":\"1563\",\"type\":\"Line\"},{\"attributes\":{},\"id\":\"1678\",\"type\":\"Selection\"},{\"attributes\":{\"line_alpha\":0.1,\"line_color\":\"#1f77b4\",\"x\":{\"field\":\"x\"},\"y\":{\"field\":\"y\"}},\"id\":\"1564\",\"type\":\"Line\"},{\"attributes\":{},\"id\":\"1679\",\"type\":\"UnionRenderers\"},{\"attributes\":{\"data_source\":{\"id\":\"1562\",\"type\":\"ColumnDataSource\"},\"glyph\":{\"id\":\"1563\",\"type\":\"Line\"},\"hover_glyph\":null,\"muted_glyph\":null,\"nonselection_glyph\":{\"id\":\"1564\",\"type\":\"Line\"},\"selection_glyph\":null,\"view\":{\"id\":\"1566\",\"type\":\"CDSView\"}},\"id\":\"1565\",\"type\":\"GlyphRenderer\"},{\"attributes\":{},\"id\":\"1680\",\"type\":\"Selection\"},{\"attributes\":{\"source\":{\"id\":\"1562\",\"type\":\"ColumnDataSource\"}},\"id\":\"1566\",\"type\":\"CDSView\"},{\"attributes\":{},\"id\":\"1681\",\"type\":\"UnionRenderers\"},{\"attributes\":{\"fill_color\":{\"value\":\"#1ac938\"},\"size\":{\"units\":\"screen\",\"value\":8},\"x\":{\"field\":\"x\"},\"y\":{\"field\":\"y\"}},\"id\":\"1568\",\"type\":\"Circle\"},{\"attributes\":{},\"id\":\"1682\",\"type\":\"Selection\"},{\"attributes\":{\"fill_alpha\":{\"value\":0.1},\"fill_color\":{\"value\":\"#1f77b4\"},\"line_alpha\":{\"value\":0.1},\"line_color\":{\"value\":\"#1f77b4\"},\"size\":{\"units\":\"screen\",\"value\":8},\"x\":{\"field\":\"x\"},\"y\":{\"field\":\"y\"}},\"id\":\"1569\",\"type\":\"Circle\"},{\"attributes\":{},\"id\":\"1683\",\"type\":\"UnionRenderers\"},{\"attributes\":{\"data_source\":{\"id\":\"1567\",\"type\":\"ColumnDataSource\"},\"glyph\":{\"id\":\"1568\",\"type\":\"Circle\"},\"hover_glyph\":null,\"muted_glyph\":null,\"nonselection_glyph\":{\"id\":\"1569\",\"type\":\"Circle\"},\"selection_glyph\":null,\"view\":{\"id\":\"1571\",\"type\":\"CDSView\"}},\"id\":\"1570\",\"type\":\"GlyphRenderer\"},{\"attributes\":{},\"id\":\"1684\",\"type\":\"Selection\"},{\"attributes\":{\"source\":{\"id\":\"1567\",\"type\":\"ColumnDataSource\"}},\"id\":\"1571\",\"type\":\"CDSView\"},{\"attributes\":{},\"id\":\"1685\",\"type\":\"UnionRenderers\"},{\"attributes\":{\"callback\":null},\"id\":\"1526\",\"type\":\"DataRange1d\"},{\"attributes\":{\"callback\":null,\"data\":{\"x\":{\"__ndarray__\":\"AAAAAAAAAAAAAAAAAAAAQA==\",\"dtype\":\"float64\",\"shape\":[2]},\"y\":{\"__ndarray__\":\"QAzELycslz+9ObGnken5Pw==\",\"dtype\":\"float64\",\"shape\":[2]}},\"selected\":{\"id\":\"1670\",\"type\":\"Selection\"},\"selection_policy\":{\"id\":\"1669\",\"type\":\"UnionRenderers\"}},\"id\":\"1572\",\"type\":\"ColumnDataSource\"},{\"attributes\":{},\"id\":\"1686\",\"type\":\"Selection\"},{\"attributes\":{\"line_color\":\"#1ac938\",\"x\":{\"field\":\"x\"},\"y\":{\"field\":\"y\"}},\"id\":\"1573\",\"type\":\"Line\"},{\"attributes\":{\"line_alpha\":0.1,\"line_color\":\"#1f77b4\",\"x\":{\"field\":\"x\"},\"y\":{\"field\":\"y\"}},\"id\":\"1574\",\"type\":\"Line\"},{\"attributes\":{\"data_source\":{\"id\":\"1572\",\"type\":\"ColumnDataSource\"},\"glyph\":{\"id\":\"1573\",\"type\":\"Line\"},\"hover_glyph\":null,\"muted_glyph\":null,\"nonselection_glyph\":{\"id\":\"1574\",\"type\":\"Line\"},\"selection_glyph\":null,\"view\":{\"id\":\"1576\",\"type\":\"CDSView\"}},\"id\":\"1575\",\"type\":\"GlyphRenderer\"},{\"attributes\":{},\"id\":\"1530\",\"type\":\"LinearScale\"},{\"attributes\":{\"source\":{\"id\":\"1572\",\"type\":\"ColumnDataSource\"}},\"id\":\"1576\",\"type\":\"CDSView\"},{\"attributes\":{\"callback\":null,\"data\":{\"x\":{\"__ndarray__\":\"xXIjTOf55T9Z2FX5ad/sPw==\",\"dtype\":\"float64\",\"shape\":[2]},\"y\":{\"__ndarray__\":\"AAAAAAAA4D8AAAAAAADwPw==\",\"dtype\":\"float64\",\"shape\":[2]}},\"selected\":{\"id\":\"1672\",\"type\":\"Selection\"},\"selection_policy\":{\"id\":\"1671\",\"type\":\"UnionRenderers\"}},\"id\":\"1577\",\"type\":\"ColumnDataSource\"},{\"attributes\":{\"callback\":null,\"data\":{\"x\":{\"__ndarray__\":\"/g6F+08K4z+yHMEXAoTvPw==\",\"dtype\":\"float64\",\"shape\":[2]},\"y\":{\"__ndarray__\":\"AAAAAAAA4D8AAAAAAADwPw==\",\"dtype\":\"float64\",\"shape\":[2]}},\"selected\":{\"id\":\"1676\",\"type\":\"Selection\"},\"selection_policy\":{\"id\":\"1675\",\"type\":\"UnionRenderers\"}},\"id\":\"1587\",\"type\":\"ColumnDataSource\"},{\"attributes\":{\"fill_color\":{\"value\":\"#ff7c00\"},\"size\":{\"units\":\"screen\",\"value\":8},\"x\":{\"field\":\"x\"},\"y\":{\"field\":\"y\"}},\"id\":\"1578\",\"type\":\"Circle\"},{\"attributes\":{\"fill_alpha\":{\"value\":0.1},\"fill_color\":{\"value\":\"#1f77b4\"},\"line_alpha\":{\"value\":0.1},\"line_color\":{\"value\":\"#1f77b4\"},\"size\":{\"units\":\"screen\",\"value\":8},\"x\":{\"field\":\"x\"},\"y\":{\"field\":\"y\"}},\"id\":\"1579\",\"type\":\"Circle\"},{\"attributes\":{\"data_source\":{\"id\":\"1577\",\"type\":\"ColumnDataSource\"},\"glyph\":{\"id\":\"1578\",\"type\":\"Circle\"},\"hover_glyph\":null,\"muted_glyph\":null,\"nonselection_glyph\":{\"id\":\"1579\",\"type\":\"Circle\"},\"selection_glyph\":null,\"view\":{\"id\":\"1581\",\"type\":\"CDSView\"}},\"id\":\"1580\",\"type\":\"GlyphRenderer\"}],\"root_ids\":[\"1524\"]},\"title\":\"Bokeh Application\",\"version\":\"1.2.0\"}};\n",
       "  var render_items = [{\"docid\":\"f6d81fd1-e410-42b2-9ac5-d5e3040e95fb\",\"roots\":{\"1524\":\"7c76b970-077c-4359-adac-758760103c9f\"}}];\n",
       "  root.Bokeh.embed.embed_items_notebook(docs_json, render_items);\n",
       "\n",
       "  }\n",
       "  if (root.Bokeh !== undefined) {\n",
       "    embed_document(root);\n",
       "  } else {\n",
       "    var attempts = 0;\n",
       "    var timer = setInterval(function(root) {\n",
       "      if (root.Bokeh !== undefined) {\n",
       "        embed_document(root);\n",
       "        clearInterval(timer);\n",
       "      }\n",
       "      attempts++;\n",
       "      if (attempts > 100) {\n",
       "        console.log(\"Bokeh: ERROR: Unable to run BokehJS code because BokehJS library is missing\");\n",
       "        clearInterval(timer);\n",
       "      }\n",
       "    }, 10, root)\n",
       "  }\n",
       "})(window);"
      ],
      "application/vnd.bokehjs_exec.v0+json": ""
     },
     "metadata": {
      "application/vnd.bokehjs_exec.v0+json": {
       "id": "1524"
      }
     },
     "output_type": "display_data"
    }
   ],
   "source": [
    "np.random.seed(0)\n",
    "fig = bk.figure(plot_width=400, plot_height=300, title=None)\n",
    "\n",
    "for i in range(6):\n",
    "    noise = np.random.normal(loc=0, scale=.1, size=X.shape)\n",
    "    noisy_X = X + noise\n",
    "    regr.fit(noisy_X, y)\n",
    "    \n",
    "    fig.circle(noisy_X[:,0], y, size=8, fill_color=cat_colors[i], line_color='black')\n",
    "    fig.line(X_test[:,0], regr.predict(X_test), color=cat_colors[i])\n",
    "bk.show(fig)"
   ]
  },
  {
   "cell_type": "markdown",
   "metadata": {},
   "source": [
    "As we can see, our linear model captures and amplifies the noise in the data. It displays a lot of variance. This means that if we subsample the data and we fit a different model to each subsample (each pair of points) we obtain a model that differ substantially from the true model. There are several techniques to reduce variance. **Regularization** is one of those, it is a way to change the tradeoff between Bias and Variance by putting more weights on either one. We will briefly use it in this example while we leave a more detailed explanation for the next section.\n",
    "\n",
    "We can use another linear estimator that uses **regularization**: `the Ridge estimator`. This estimator regularizes the coefficients by shrinking them to zero, under the assumption that very high correlations are often spurious. High alphas give high regularization (shrinkage):"
   ]
  },
  {
   "cell_type": "code",
   "execution_count": 11,
   "metadata": {},
   "outputs": [
    {
     "data": {
      "text/html": [
       "\n",
       "<div class=\"bk-root\">\n",
       "    <div class=\"bk-plotdiv\" id=\"416e8b67-4ca2-4470-994d-7d5445b48536\"></div>\n",
       "</div>"
      ]
     },
     "metadata": {},
     "output_type": "display_data"
    },
    {
     "data": {
      "application/javascript": [
       "(function(root) {\n",
       "  function embed_document(root) {\n",
       "    \n",
       "  var docs_json = {\"e0b9fa4b-7f8a-4ce3-b223-6b210a7d7617\":{\"roots\":{\"references\":[{\"attributes\":{\"callback\":null,\"column_names\":[\"x\",\"y\"],\"data\":{\"x\":{\"__ndarray__\":\"AAAAAAAAAAAAAAAAAAAAQA==\",\"dtype\":\"float64\",\"shape\":[2]},\"y\":{\"__ndarray__\":\"XvkMu/Ao0j8qLDaxw0X4Pw==\",\"dtype\":\"float64\",\"shape\":[2]}}},\"id\":\"68338ab0-125e-447e-814b-3ecf1f85fe6b\",\"type\":\"ColumnDataSource\"},{\"attributes\":{\"fill_alpha\":{\"value\":0.1},\"fill_color\":{\"value\":\"#1f77b4\"},\"line_alpha\":{\"value\":0.1},\"line_color\":{\"value\":\"#1f77b4\"},\"size\":{\"units\":\"screen\",\"value\":8},\"x\":{\"field\":\"x\"},\"y\":{\"field\":\"y\"}},\"id\":\"05b92d5e-e5f1-4327-a79d-e09a9ac4491a\",\"type\":\"Circle\"},{\"attributes\":{\"line_alpha\":0.1,\"line_color\":\"#1f77b4\",\"x\":{\"field\":\"x\"},\"y\":{\"field\":\"y\"}},\"id\":\"afe2d015-eb36-4751-9eff-1e37a8a1d9be\",\"type\":\"Line\"},{\"attributes\":{\"line_color\":\"#003fff\",\"x\":{\"field\":\"x\"},\"y\":{\"field\":\"y\"}},\"id\":\"3a321fa4-e255-4abf-9eac-b95315004bef\",\"type\":\"Line\"},{\"attributes\":{\"data_source\":{\"id\":\"bbb185b8-e7e7-4849-b5f0-883841596a99\",\"type\":\"ColumnDataSource\"},\"glyph\":{\"id\":\"cd4ae352-e83e-4839-a59c-0efc679ae654\",\"type\":\"Circle\"},\"hover_glyph\":null,\"muted_glyph\":null,\"nonselection_glyph\":{\"id\":\"05b92d5e-e5f1-4327-a79d-e09a9ac4491a\",\"type\":\"Circle\"},\"selection_glyph\":null,\"view\":{\"id\":\"ee8b345d-b245-450b-a7e4-f9f3c321710a\",\"type\":\"CDSView\"}},\"id\":\"2defd689-1e01-4fed-ab9b-ef7331514ff4\",\"type\":\"GlyphRenderer\"},{\"attributes\":{\"source\":{\"id\":\"bbb185b8-e7e7-4849-b5f0-883841596a99\",\"type\":\"ColumnDataSource\"}},\"id\":\"ee8b345d-b245-450b-a7e4-f9f3c321710a\",\"type\":\"CDSView\"},{\"attributes\":{\"fill_alpha\":{\"value\":0.1},\"fill_color\":{\"value\":\"#1f77b4\"},\"line_alpha\":{\"value\":0.1},\"line_color\":{\"value\":\"#1f77b4\"},\"size\":{\"units\":\"screen\",\"value\":8},\"x\":{\"field\":\"x\"},\"y\":{\"field\":\"y\"}},\"id\":\"4424ba2d-9a24-4224-a05e-ea96f0439af5\",\"type\":\"Circle\"},{\"attributes\":{\"data_source\":{\"id\":\"4044889d-57fd-40e7-a73e-2844229d70db\",\"type\":\"ColumnDataSource\"},\"glyph\":{\"id\":\"3a321fa4-e255-4abf-9eac-b95315004bef\",\"type\":\"Line\"},\"hover_glyph\":null,\"muted_glyph\":null,\"nonselection_glyph\":{\"id\":\"afe2d015-eb36-4751-9eff-1e37a8a1d9be\",\"type\":\"Line\"},\"selection_glyph\":null,\"view\":{\"id\":\"8310cf79-9642-4f47-8f3d-03b56a95b4db\",\"type\":\"CDSView\"}},\"id\":\"b4670143-9355-4cef-93ef-589943abb923\",\"type\":\"GlyphRenderer\"},{\"attributes\":{\"fill_alpha\":{\"value\":0.1},\"fill_color\":{\"value\":\"#1f77b4\"},\"line_alpha\":{\"value\":0.1},\"line_color\":{\"value\":\"#1f77b4\"},\"size\":{\"units\":\"screen\",\"value\":8},\"x\":{\"field\":\"x\"},\"y\":{\"field\":\"y\"}},\"id\":\"39c7da0f-4619-42d2-b34b-6bcdaebefdbd\",\"type\":\"Circle\"},{\"attributes\":{\"source\":{\"id\":\"4044889d-57fd-40e7-a73e-2844229d70db\",\"type\":\"ColumnDataSource\"}},\"id\":\"8310cf79-9642-4f47-8f3d-03b56a95b4db\",\"type\":\"CDSView\"},{\"attributes\":{\"callback\":null,\"column_names\":[\"x\",\"y\"],\"data\":{\"x\":{\"__ndarray__\":\"AAAAAAAAAAAAAAAAAAAAQA==\",\"dtype\":\"float64\",\"shape\":[2]},\"y\":{\"__ndarray__\":\"+1PBQIpc2z9m1rnxHZj2Pw==\",\"dtype\":\"float64\",\"shape\":[2]}}},\"id\":\"889266e0-d41d-4740-b3ae-1cdcb9081b9f\",\"type\":\"ColumnDataSource\"},{\"attributes\":{\"line_alpha\":0.1,\"line_color\":\"#1f77b4\",\"x\":{\"field\":\"x\"},\"y\":{\"field\":\"y\"}},\"id\":\"de866f8f-33cd-415b-999a-257f15609330\",\"type\":\"Line\"},{\"attributes\":{\"fill_color\":{\"value\":\"#8a2be2\"},\"size\":{\"units\":\"screen\",\"value\":8},\"x\":{\"field\":\"x\"},\"y\":{\"field\":\"y\"}},\"id\":\"15ac5ee7-6ca0-479b-80af-0dafe0231f60\",\"type\":\"Circle\"},{\"attributes\":{\"line_color\":\"#8a2be2\",\"x\":{\"field\":\"x\"},\"y\":{\"field\":\"y\"}},\"id\":\"9ba2dd72-482c-4e85-a859-06bee271d67f\",\"type\":\"Line\"},{\"attributes\":{\"data_source\":{\"id\":\"12ff6050-9e60-4b98-8433-0fea5e965ea5\",\"type\":\"ColumnDataSource\"},\"glyph\":{\"id\":\"15ac5ee7-6ca0-479b-80af-0dafe0231f60\",\"type\":\"Circle\"},\"hover_glyph\":null,\"muted_glyph\":null,\"nonselection_glyph\":{\"id\":\"4424ba2d-9a24-4224-a05e-ea96f0439af5\",\"type\":\"Circle\"},\"selection_glyph\":null,\"view\":{\"id\":\"4f50b879-7610-4088-be2d-27047b053714\",\"type\":\"CDSView\"}},\"id\":\"6058487f-801c-4501-9308-59365482d1e6\",\"type\":\"GlyphRenderer\"},{\"attributes\":{\"source\":{\"id\":\"12ff6050-9e60-4b98-8433-0fea5e965ea5\",\"type\":\"ColumnDataSource\"}},\"id\":\"4f50b879-7610-4088-be2d-27047b053714\",\"type\":\"CDSView\"},{\"attributes\":{\"fill_alpha\":{\"value\":0.1},\"fill_color\":{\"value\":\"#1f77b4\"},\"line_alpha\":{\"value\":0.1},\"line_color\":{\"value\":\"#1f77b4\"},\"size\":{\"units\":\"screen\",\"value\":8},\"x\":{\"field\":\"x\"},\"y\":{\"field\":\"y\"}},\"id\":\"410eb8fe-85a0-4531-a372-3f9838c22ca9\",\"type\":\"Circle\"},{\"attributes\":{\"data_source\":{\"id\":\"889266e0-d41d-4740-b3ae-1cdcb9081b9f\",\"type\":\"ColumnDataSource\"},\"glyph\":{\"id\":\"9ba2dd72-482c-4e85-a859-06bee271d67f\",\"type\":\"Line\"},\"hover_glyph\":null,\"muted_glyph\":null,\"nonselection_glyph\":{\"id\":\"de866f8f-33cd-415b-999a-257f15609330\",\"type\":\"Line\"},\"selection_glyph\":null,\"view\":{\"id\":\"a79d3097-6c41-467a-8e9d-2655a8aa08d4\",\"type\":\"CDSView\"}},\"id\":\"fed01c75-2dc2-4ad7-bfea-46ea8810c894\",\"type\":\"GlyphRenderer\"},{\"attributes\":{\"below\":[{\"id\":\"57689af9-e5a3-4c64-9f18-222eada37ffe\",\"type\":\"LinearAxis\"}],\"left\":[{\"id\":\"38cc5242-7bf6-4d94-ab50-cb74afd4d4b7\",\"type\":\"LinearAxis\"}],\"plot_height\":300,\"plot_width\":400,\"renderers\":[{\"id\":\"57689af9-e5a3-4c64-9f18-222eada37ffe\",\"type\":\"LinearAxis\"},{\"id\":\"47973ffd-471e-4687-9d57-7f8e69bb66f0\",\"type\":\"Grid\"},{\"id\":\"38cc5242-7bf6-4d94-ab50-cb74afd4d4b7\",\"type\":\"LinearAxis\"},{\"id\":\"d8114a75-99d4-460e-9e29-e9126f99abcc\",\"type\":\"Grid\"},{\"id\":\"ed82b9fb-0441-4436-b732-2451cfa012f9\",\"type\":\"BoxAnnotation\"},{\"id\":\"2972ecb2-3034-4d64-8296-fcfa8ed1e8a2\",\"type\":\"GlyphRenderer\"},{\"id\":\"a07a4440-871d-4184-8798-0b5d77417228\",\"type\":\"GlyphRenderer\"},{\"id\":\"d92f8357-8c67-447e-bc78-9cd06c8c34d1\",\"type\":\"GlyphRenderer\"},{\"id\":\"6e1c7c70-c6f1-431b-aa2c-b38ae940f6fd\",\"type\":\"GlyphRenderer\"},{\"id\":\"6d5f7d7e-efe7-4271-b13c-bc8c68c12094\",\"type\":\"GlyphRenderer\"},{\"id\":\"fb6006c2-68e4-4595-9fb6-ab3e7a8c2455\",\"type\":\"GlyphRenderer\"},{\"id\":\"2defd689-1e01-4fed-ab9b-ef7331514ff4\",\"type\":\"GlyphRenderer\"},{\"id\":\"b4670143-9355-4cef-93ef-589943abb923\",\"type\":\"GlyphRenderer\"},{\"id\":\"6058487f-801c-4501-9308-59365482d1e6\",\"type\":\"GlyphRenderer\"},{\"id\":\"fed01c75-2dc2-4ad7-bfea-46ea8810c894\",\"type\":\"GlyphRenderer\"},{\"id\":\"885e6e65-70a5-417b-81f7-e43cfce30e33\",\"type\":\"GlyphRenderer\"},{\"id\":\"b6719b42-d629-4dca-ae3c-aeeca43ad902\",\"type\":\"GlyphRenderer\"}],\"title\":null,\"toolbar\":{\"id\":\"e183b95f-42bf-4cc7-89cd-e2061ee97762\",\"type\":\"Toolbar\"},\"x_range\":{\"id\":\"deb5b421-4873-48a2-8505-f1cdbd61395e\",\"type\":\"DataRange1d\"},\"x_scale\":{\"id\":\"7cdbc0b4-38fd-407e-ad9a-122f63b0c1b8\",\"type\":\"LinearScale\"},\"y_range\":{\"id\":\"30f41c6a-3c78-438b-95d1-78f9ff06e8d5\",\"type\":\"DataRange1d\"},\"y_scale\":{\"id\":\"6d07d81e-59b3-4e19-9c76-88d72da6ca2f\",\"type\":\"LinearScale\"}},\"id\":\"0d108fcf-bb73-4fc4-8873-3cf3a5635611\",\"subtype\":\"Figure\",\"type\":\"Plot\"},{\"attributes\":{\"source\":{\"id\":\"889266e0-d41d-4740-b3ae-1cdcb9081b9f\",\"type\":\"ColumnDataSource\"}},\"id\":\"a79d3097-6c41-467a-8e9d-2655a8aa08d4\",\"type\":\"CDSView\"},{\"attributes\":{\"callback\":null,\"column_names\":[\"x\",\"y\"],\"data\":{\"x\":{\"__ndarray__\":\"2HQLaSXE4j9qLt22BKDtPw==\",\"dtype\":\"float64\",\"shape\":[2]},\"y\":{\"__ndarray__\":\"AAAAAAAA4D8AAAAAAADwPw==\",\"dtype\":\"float64\",\"shape\":[2]}}},\"id\":\"d8a68858-59bc-4d69-ae19-64ae8c518672\",\"type\":\"ColumnDataSource\"},{\"attributes\":{\"line_alpha\":0.1,\"line_color\":\"#1f77b4\",\"x\":{\"field\":\"x\"},\"y\":{\"field\":\"y\"}},\"id\":\"79fd8021-cedf-445a-b214-936c6b986791\",\"type\":\"Line\"},{\"attributes\":{\"plot\":{\"id\":\"0d108fcf-bb73-4fc4-8873-3cf3a5635611\",\"subtype\":\"Figure\",\"type\":\"Plot\"},\"ticker\":{\"id\":\"cde0c8a9-0644-4dbb-b8b4-892012fb11ff\",\"type\":\"BasicTicker\"}},\"id\":\"47973ffd-471e-4687-9d57-7f8e69bb66f0\",\"type\":\"Grid\"},{\"attributes\":{\"fill_alpha\":{\"value\":0.1},\"fill_color\":{\"value\":\"#1f77b4\"},\"line_alpha\":{\"value\":0.1},\"line_color\":{\"value\":\"#1f77b4\"},\"size\":{\"units\":\"screen\",\"value\":8},\"x\":{\"field\":\"x\"},\"y\":{\"field\":\"y\"}},\"id\":\"d5dcfd58-aa64-416f-9eb7-1a0834410a4c\",\"type\":\"Circle\"},{\"attributes\":{\"fill_color\":{\"value\":\"#ffc400\"},\"size\":{\"units\":\"screen\",\"value\":8},\"x\":{\"field\":\"x\"},\"y\":{\"field\":\"y\"}},\"id\":\"a4dcc71e-d6ae-4fc3-a509-37feb9054d5e\",\"type\":\"Circle\"},{\"attributes\":{\"line_color\":\"#ffc400\",\"x\":{\"field\":\"x\"},\"y\":{\"field\":\"y\"}},\"id\":\"29d3b4f6-4d3a-4806-956c-aa29a0896a37\",\"type\":\"Line\"},{\"attributes\":{\"fill_color\":{\"value\":\"#03ed3a\"},\"size\":{\"units\":\"screen\",\"value\":8},\"x\":{\"field\":\"x\"},\"y\":{\"field\":\"y\"}},\"id\":\"ccafea11-a3d2-4f54-9179-6b329f420b35\",\"type\":\"Circle\"},{\"attributes\":{\"data_source\":{\"id\":\"d8a68858-59bc-4d69-ae19-64ae8c518672\",\"type\":\"ColumnDataSource\"},\"glyph\":{\"id\":\"a4dcc71e-d6ae-4fc3-a509-37feb9054d5e\",\"type\":\"Circle\"},\"hover_glyph\":null,\"muted_glyph\":null,\"nonselection_glyph\":{\"id\":\"410eb8fe-85a0-4531-a372-3f9838c22ca9\",\"type\":\"Circle\"},\"selection_glyph\":null,\"view\":{\"id\":\"5859b8fa-12a7-4267-8146-bad614109eab\",\"type\":\"CDSView\"}},\"id\":\"885e6e65-70a5-417b-81f7-e43cfce30e33\",\"type\":\"GlyphRenderer\"},{\"attributes\":{\"source\":{\"id\":\"d8a68858-59bc-4d69-ae19-64ae8c518672\",\"type\":\"ColumnDataSource\"}},\"id\":\"5859b8fa-12a7-4267-8146-bad614109eab\",\"type\":\"CDSView\"},{\"attributes\":{\"data_source\":{\"id\":\"313865fa-cb0a-4d49-becf-87973c352f4f\",\"type\":\"ColumnDataSource\"},\"glyph\":{\"id\":\"34f1f214-9a77-4023-9b21-b8dacd8f718b\",\"type\":\"Line\"},\"hover_glyph\":null,\"muted_glyph\":null,\"nonselection_glyph\":{\"id\":\"97a69e4d-769e-4dc2-9f46-f3cb22c8345b\",\"type\":\"Line\"},\"selection_glyph\":null,\"view\":{\"id\":\"5e973e1e-aa21-428a-8ada-42dbf697430d\",\"type\":\"CDSView\"}},\"id\":\"fb6006c2-68e4-4595-9fb6-ab3e7a8c2455\",\"type\":\"GlyphRenderer\"},{\"attributes\":{\"callback\":null,\"column_names\":[\"x\",\"y\"],\"data\":{\"x\":{\"__ndarray__\":\"ArHBLXFv4j/shdqM1jHwPw==\",\"dtype\":\"float64\",\"shape\":[2]},\"y\":{\"__ndarray__\":\"AAAAAAAA4D8AAAAAAADwPw==\",\"dtype\":\"float64\",\"shape\":[2]}}},\"id\":\"6f303ebb-b27b-4485-a7fc-7f01f6a19650\",\"type\":\"ColumnDataSource\"},{\"attributes\":{\"callback\":null,\"column_names\":[\"x\",\"y\"],\"data\":{\"x\":{\"__ndarray__\":\"ExRADncA4T81jCYkU0TtPw==\",\"dtype\":\"float64\",\"shape\":[2]},\"y\":{\"__ndarray__\":\"AAAAAAAA4D8AAAAAAADwPw==\",\"dtype\":\"float64\",\"shape\":[2]}}},\"id\":\"bbb185b8-e7e7-4849-b5f0-883841596a99\",\"type\":\"ColumnDataSource\"},{\"attributes\":{\"line_color\":\"#e8000b\",\"x\":{\"field\":\"x\"},\"y\":{\"field\":\"y\"}},\"id\":\"f8a30436-f358-4c9e-aa38-eb2cddd7117c\",\"type\":\"Line\"},{\"attributes\":{\"data_source\":{\"id\":\"68338ab0-125e-447e-814b-3ecf1f85fe6b\",\"type\":\"ColumnDataSource\"},\"glyph\":{\"id\":\"29d3b4f6-4d3a-4806-956c-aa29a0896a37\",\"type\":\"Line\"},\"hover_glyph\":null,\"muted_glyph\":null,\"nonselection_glyph\":{\"id\":\"79fd8021-cedf-445a-b214-936c6b986791\",\"type\":\"Line\"},\"selection_glyph\":null,\"view\":{\"id\":\"04de1fbc-9997-4eb4-aaa2-3fe6219af1e5\",\"type\":\"CDSView\"}},\"id\":\"b6719b42-d629-4dca-ae3c-aeeca43ad902\",\"type\":\"GlyphRenderer\"},{\"attributes\":{\"source\":{\"id\":\"68338ab0-125e-447e-814b-3ecf1f85fe6b\",\"type\":\"ColumnDataSource\"}},\"id\":\"04de1fbc-9997-4eb4-aaa2-3fe6219af1e5\",\"type\":\"CDSView\"},{\"attributes\":{},\"id\":\"7cdbc0b4-38fd-407e-ad9a-122f63b0c1b8\",\"type\":\"LinearScale\"},{\"attributes\":{\"callback\":null},\"id\":\"30f41c6a-3c78-438b-95d1-78f9ff06e8d5\",\"type\":\"DataRange1d\"},{\"attributes\":{\"data_source\":{\"id\":\"4116908f-29bd-4923-a4c4-6e79911d35db\",\"type\":\"ColumnDataSource\"},\"glyph\":{\"id\":\"8d923155-a3d8-4532-85e8-b883aa3a553c\",\"type\":\"Circle\"},\"hover_glyph\":null,\"muted_glyph\":null,\"nonselection_glyph\":{\"id\":\"d5dcfd58-aa64-416f-9eb7-1a0834410a4c\",\"type\":\"Circle\"},\"selection_glyph\":null,\"view\":{\"id\":\"c3b5a7e6-9dc0-4607-bf2a-8f289498b9bf\",\"type\":\"CDSView\"}},\"id\":\"6d5f7d7e-efe7-4271-b13c-bc8c68c12094\",\"type\":\"GlyphRenderer\"},{\"attributes\":{\"callback\":null},\"id\":\"deb5b421-4873-48a2-8505-f1cdbd61395e\",\"type\":\"DataRange1d\"},{\"attributes\":{\"callback\":null,\"column_names\":[\"x\",\"y\"],\"data\":{\"x\":{\"__ndarray__\":\"AAAAAAAAAAAAAAAAAAAAQA==\",\"dtype\":\"float64\",\"shape\":[2]},\"y\":{\"__ndarray__\":\"h60ltCgS0T93i2dR9973Pw==\",\"dtype\":\"float64\",\"shape\":[2]}}},\"id\":\"311d242f-6434-4d10-9388-378673417e5a\",\"type\":\"ColumnDataSource\"},{\"attributes\":{\"fill_color\":{\"value\":\"#00d7ff\"},\"size\":{\"units\":\"screen\",\"value\":8},\"x\":{\"field\":\"x\"},\"y\":{\"field\":\"y\"}},\"id\":\"8d923155-a3d8-4532-85e8-b883aa3a553c\",\"type\":\"Circle\"},{\"attributes\":{\"source\":{\"id\":\"20dcfe3f-7db5-46ff-8b93-2d0aa69228cf\",\"type\":\"ColumnDataSource\"}},\"id\":\"24135ed3-e4d7-49c5-b122-8aed14229d8d\",\"type\":\"CDSView\"},{\"attributes\":{\"active_drag\":\"auto\",\"active_inspect\":\"auto\",\"active_scroll\":\"auto\",\"active_tap\":\"auto\",\"tools\":[{\"id\":\"d68dc210-4a1a-41e4-abf9-82760f9f60b7\",\"type\":\"PanTool\"},{\"id\":\"c9c662c2-4282-45f0-be61-6c71d50bbfb8\",\"type\":\"WheelZoomTool\"},{\"id\":\"1274ffaf-6a66-4596-a5ff-28fa1d35dc61\",\"type\":\"BoxZoomTool\"},{\"id\":\"e1da84d9-ccda-4160-8046-57573a7060be\",\"type\":\"SaveTool\"},{\"id\":\"1fd08f0d-818a-4392-8843-9051fd9eddaf\",\"type\":\"ResetTool\"},{\"id\":\"017e5d32-e897-4d4c-8f86-ab41f460bc0b\",\"type\":\"HelpTool\"}]},\"id\":\"e183b95f-42bf-4cc7-89cd-e2061ee97762\",\"type\":\"Toolbar\"},{\"attributes\":{\"data_source\":{\"id\":\"20dcfe3f-7db5-46ff-8b93-2d0aa69228cf\",\"type\":\"ColumnDataSource\"},\"glyph\":{\"id\":\"639d4d4f-43c7-4aea-a5c8-af4b7fbf6c79\",\"type\":\"Circle\"},\"hover_glyph\":null,\"muted_glyph\":null,\"nonselection_glyph\":{\"id\":\"39c7da0f-4619-42d2-b34b-6bcdaebefdbd\",\"type\":\"Circle\"},\"selection_glyph\":null,\"view\":{\"id\":\"24135ed3-e4d7-49c5-b122-8aed14229d8d\",\"type\":\"CDSView\"}},\"id\":\"d92f8357-8c67-447e-bc78-9cd06c8c34d1\",\"type\":\"GlyphRenderer\"},{\"attributes\":{},\"id\":\"6d07d81e-59b3-4e19-9c76-88d72da6ca2f\",\"type\":\"LinearScale\"},{\"attributes\":{\"fill_color\":{\"value\":\"#e8000b\"},\"size\":{\"units\":\"screen\",\"value\":8},\"x\":{\"field\":\"x\"},\"y\":{\"field\":\"y\"}},\"id\":\"639d4d4f-43c7-4aea-a5c8-af4b7fbf6c79\",\"type\":\"Circle\"},{\"attributes\":{\"formatter\":{\"id\":\"6f75d865-1433-45c5-a012-a94c1b520244\",\"type\":\"BasicTickFormatter\"},\"plot\":{\"id\":\"0d108fcf-bb73-4fc4-8873-3cf3a5635611\",\"subtype\":\"Figure\",\"type\":\"Plot\"},\"ticker\":{\"id\":\"731d98d3-f9a1-4c70-ba82-1f2700ff2b12\",\"type\":\"BasicTicker\"}},\"id\":\"38cc5242-7bf6-4d94-ab50-cb74afd4d4b7\",\"type\":\"LinearAxis\"},{\"attributes\":{\"fill_color\":{\"value\":\"#003fff\"},\"size\":{\"units\":\"screen\",\"value\":8},\"x\":{\"field\":\"x\"},\"y\":{\"field\":\"y\"}},\"id\":\"cd4ae352-e83e-4839-a59c-0efc679ae654\",\"type\":\"Circle\"},{\"attributes\":{},\"id\":\"017e5d32-e897-4d4c-8f86-ab41f460bc0b\",\"type\":\"HelpTool\"},{\"attributes\":{\"dimension\":1,\"plot\":{\"id\":\"0d108fcf-bb73-4fc4-8873-3cf3a5635611\",\"subtype\":\"Figure\",\"type\":\"Plot\"},\"ticker\":{\"id\":\"731d98d3-f9a1-4c70-ba82-1f2700ff2b12\",\"type\":\"BasicTicker\"}},\"id\":\"d8114a75-99d4-460e-9e29-e9126f99abcc\",\"type\":\"Grid\"},{\"attributes\":{\"line_color\":\"#03ed3a\",\"x\":{\"field\":\"x\"},\"y\":{\"field\":\"y\"}},\"id\":\"291c0f73-9f49-4e35-bea6-46d704013068\",\"type\":\"Line\"},{\"attributes\":{},\"id\":\"d68dc210-4a1a-41e4-abf9-82760f9f60b7\",\"type\":\"PanTool\"},{\"attributes\":{},\"id\":\"731d98d3-f9a1-4c70-ba82-1f2700ff2b12\",\"type\":\"BasicTicker\"},{\"attributes\":{},\"id\":\"cde0c8a9-0644-4dbb-b8b4-892012fb11ff\",\"type\":\"BasicTicker\"},{\"attributes\":{\"fill_alpha\":{\"value\":0.1},\"fill_color\":{\"value\":\"#1f77b4\"},\"line_alpha\":{\"value\":0.1},\"line_color\":{\"value\":\"#1f77b4\"},\"size\":{\"units\":\"screen\",\"value\":8},\"x\":{\"field\":\"x\"},\"y\":{\"field\":\"y\"}},\"id\":\"998cab19-b1b7-4731-845e-3b5305df849a\",\"type\":\"Circle\"},{\"attributes\":{\"bottom_units\":\"screen\",\"fill_alpha\":{\"value\":0.5},\"fill_color\":{\"value\":\"lightgrey\"},\"left_units\":\"screen\",\"level\":\"overlay\",\"line_alpha\":{\"value\":1.0},\"line_color\":{\"value\":\"black\"},\"line_dash\":[4,4],\"line_width\":{\"value\":2},\"plot\":null,\"render_mode\":\"css\",\"right_units\":\"screen\",\"top_units\":\"screen\"},\"id\":\"ed82b9fb-0441-4436-b732-2451cfa012f9\",\"type\":\"BoxAnnotation\"},{\"attributes\":{},\"id\":\"c9c662c2-4282-45f0-be61-6c71d50bbfb8\",\"type\":\"WheelZoomTool\"},{\"attributes\":{\"formatter\":{\"id\":\"715e601c-b299-45eb-8334-9cd661c714bb\",\"type\":\"BasicTickFormatter\"},\"plot\":{\"id\":\"0d108fcf-bb73-4fc4-8873-3cf3a5635611\",\"subtype\":\"Figure\",\"type\":\"Plot\"},\"ticker\":{\"id\":\"cde0c8a9-0644-4dbb-b8b4-892012fb11ff\",\"type\":\"BasicTicker\"}},\"id\":\"57689af9-e5a3-4c64-9f18-222eada37ffe\",\"type\":\"LinearAxis\"},{\"attributes\":{},\"id\":\"1fd08f0d-818a-4392-8843-9051fd9eddaf\",\"type\":\"ResetTool\"},{\"attributes\":{},\"id\":\"e1da84d9-ccda-4160-8046-57573a7060be\",\"type\":\"SaveTool\"},{\"attributes\":{\"overlay\":{\"id\":\"ed82b9fb-0441-4436-b732-2451cfa012f9\",\"type\":\"BoxAnnotation\"}},\"id\":\"1274ffaf-6a66-4596-a5ff-28fa1d35dc61\",\"type\":\"BoxZoomTool\"},{\"attributes\":{\"line_alpha\":0.1,\"line_color\":\"#1f77b4\",\"x\":{\"field\":\"x\"},\"y\":{\"field\":\"y\"}},\"id\":\"eddda94e-c3dd-4fdf-95ce-03e0c8705b23\",\"type\":\"Line\"},{\"attributes\":{\"source\":{\"id\":\"313865fa-cb0a-4d49-becf-87973c352f4f\",\"type\":\"ColumnDataSource\"}},\"id\":\"5e973e1e-aa21-428a-8ada-42dbf697430d\",\"type\":\"CDSView\"},{\"attributes\":{\"callback\":null,\"column_names\":[\"x\",\"y\"],\"data\":{\"x\":{\"__ndarray__\":\"AAAAAAAAAAAAAAAAAAAAQA==\",\"dtype\":\"float64\",\"shape\":[2]},\"y\":{\"__ndarray__\":\"eMuwkkFa0D9sXt7kiwP4Pw==\",\"dtype\":\"float64\",\"shape\":[2]}}},\"id\":\"f59467a6-f9d9-43a9-9d17-359edf63f032\",\"type\":\"ColumnDataSource\"},{\"attributes\":{\"callback\":null,\"column_names\":[\"x\",\"y\"],\"data\":{\"x\":{\"__ndarray__\":\"AAAAAAAAAAAAAAAAAAAAQA==\",\"dtype\":\"float64\",\"shape\":[2]},\"y\":{\"__ndarray__\":\"MA9yw68D0D9OkIT416P3Pw==\",\"dtype\":\"float64\",\"shape\":[2]}}},\"id\":\"313865fa-cb0a-4d49-becf-87973c352f4f\",\"type\":\"ColumnDataSource\"},{\"attributes\":{\"callback\":null,\"column_names\":[\"x\",\"y\"],\"data\":{\"x\":{\"__ndarray__\":\"sVLb3Zxr4T9ZvQVKrIjwPw==\",\"dtype\":\"float64\",\"shape\":[2]},\"y\":{\"__ndarray__\":\"AAAAAAAA4D8AAAAAAADwPw==\",\"dtype\":\"float64\",\"shape\":[2]}}},\"id\":\"20dcfe3f-7db5-46ff-8b93-2d0aa69228cf\",\"type\":\"ColumnDataSource\"},{\"attributes\":{\"line_alpha\":0.1,\"line_color\":\"#1f77b4\",\"x\":{\"field\":\"x\"},\"y\":{\"field\":\"y\"}},\"id\":\"97a69e4d-769e-4dc2-9f46-f3cb22c8345b\",\"type\":\"Line\"},{\"attributes\":{\"source\":{\"id\":\"6f303ebb-b27b-4485-a7fc-7f01f6a19650\",\"type\":\"ColumnDataSource\"}},\"id\":\"7b12f154-57f5-429c-a551-cda333863a7c\",\"type\":\"CDSView\"},{\"attributes\":{\"source\":{\"id\":\"4116908f-29bd-4923-a4c4-6e79911d35db\",\"type\":\"ColumnDataSource\"}},\"id\":\"c3b5a7e6-9dc0-4607-bf2a-8f289498b9bf\",\"type\":\"CDSView\"},{\"attributes\":{\"data_source\":{\"id\":\"6f303ebb-b27b-4485-a7fc-7f01f6a19650\",\"type\":\"ColumnDataSource\"},\"glyph\":{\"id\":\"ccafea11-a3d2-4f54-9179-6b329f420b35\",\"type\":\"Circle\"},\"hover_glyph\":null,\"muted_glyph\":null,\"nonselection_glyph\":{\"id\":\"998cab19-b1b7-4731-845e-3b5305df849a\",\"type\":\"Circle\"},\"selection_glyph\":null,\"view\":{\"id\":\"7b12f154-57f5-429c-a551-cda333863a7c\",\"type\":\"CDSView\"}},\"id\":\"2972ecb2-3034-4d64-8296-fcfa8ed1e8a2\",\"type\":\"GlyphRenderer\"},{\"attributes\":{\"line_color\":\"#00d7ff\",\"x\":{\"field\":\"x\"},\"y\":{\"field\":\"y\"}},\"id\":\"34f1f214-9a77-4023-9b21-b8dacd8f718b\",\"type\":\"Line\"},{\"attributes\":{},\"id\":\"715e601c-b299-45eb-8334-9cd661c714bb\",\"type\":\"BasicTickFormatter\"},{\"attributes\":{\"callback\":null,\"column_names\":[\"x\",\"y\"],\"data\":{\"x\":{\"__ndarray__\":\"AAAAAAAAAAAAAAAAAAAAQA==\",\"dtype\":\"float64\",\"shape\":[2]},\"y\":{\"__ndarray__\":\"Wo6/Kb8b0z9YEJxjRsL4Pw==\",\"dtype\":\"float64\",\"shape\":[2]}}},\"id\":\"4044889d-57fd-40e7-a73e-2844229d70db\",\"type\":\"ColumnDataSource\"},{\"attributes\":{\"data_source\":{\"id\":\"311d242f-6434-4d10-9388-378673417e5a\",\"type\":\"ColumnDataSource\"},\"glyph\":{\"id\":\"f8a30436-f358-4c9e-aa38-eb2cddd7117c\",\"type\":\"Line\"},\"hover_glyph\":null,\"muted_glyph\":null,\"nonselection_glyph\":{\"id\":\"401525e5-4ff2-4ea0-8b96-ef6822e0f765\",\"type\":\"Line\"},\"selection_glyph\":null,\"view\":{\"id\":\"42fc55d6-a0e2-499a-bec0-9757d714c591\",\"type\":\"CDSView\"}},\"id\":\"6e1c7c70-c6f1-431b-aa2c-b38ae940f6fd\",\"type\":\"GlyphRenderer\"},{\"attributes\":{\"callback\":null,\"column_names\":[\"x\",\"y\"],\"data\":{\"x\":{\"__ndarray__\":\"cut1F/PH5D+IMJUx71fvPw==\",\"dtype\":\"float64\",\"shape\":[2]},\"y\":{\"__ndarray__\":\"AAAAAAAA4D8AAAAAAADwPw==\",\"dtype\":\"float64\",\"shape\":[2]}}},\"id\":\"4116908f-29bd-4923-a4c4-6e79911d35db\",\"type\":\"ColumnDataSource\"},{\"attributes\":{\"source\":{\"id\":\"f59467a6-f9d9-43a9-9d17-359edf63f032\",\"type\":\"ColumnDataSource\"}},\"id\":\"c4d838d0-2feb-432b-8d44-2ceb76de8624\",\"type\":\"CDSView\"},{\"attributes\":{\"source\":{\"id\":\"311d242f-6434-4d10-9388-378673417e5a\",\"type\":\"ColumnDataSource\"}},\"id\":\"42fc55d6-a0e2-499a-bec0-9757d714c591\",\"type\":\"CDSView\"},{\"attributes\":{},\"id\":\"6f75d865-1433-45c5-a012-a94c1b520244\",\"type\":\"BasicTickFormatter\"},{\"attributes\":{\"line_alpha\":0.1,\"line_color\":\"#1f77b4\",\"x\":{\"field\":\"x\"},\"y\":{\"field\":\"y\"}},\"id\":\"401525e5-4ff2-4ea0-8b96-ef6822e0f765\",\"type\":\"Line\"},{\"attributes\":{\"data_source\":{\"id\":\"f59467a6-f9d9-43a9-9d17-359edf63f032\",\"type\":\"ColumnDataSource\"},\"glyph\":{\"id\":\"291c0f73-9f49-4e35-bea6-46d704013068\",\"type\":\"Line\"},\"hover_glyph\":null,\"muted_glyph\":null,\"nonselection_glyph\":{\"id\":\"eddda94e-c3dd-4fdf-95ce-03e0c8705b23\",\"type\":\"Line\"},\"selection_glyph\":null,\"view\":{\"id\":\"c4d838d0-2feb-432b-8d44-2ceb76de8624\",\"type\":\"CDSView\"}},\"id\":\"a07a4440-871d-4184-8798-0b5d77417228\",\"type\":\"GlyphRenderer\"},{\"attributes\":{\"callback\":null,\"column_names\":[\"x\",\"y\"],\"data\":{\"x\":{\"__ndarray__\":\"Ctay61xSzz+sW5LguAvxPw==\",\"dtype\":\"float64\",\"shape\":[2]},\"y\":{\"__ndarray__\":\"AAAAAAAA4D8AAAAAAADwPw==\",\"dtype\":\"float64\",\"shape\":[2]}}},\"id\":\"12ff6050-9e60-4b98-8433-0fea5e965ea5\",\"type\":\"ColumnDataSource\"}],\"root_ids\":[\"0d108fcf-bb73-4fc4-8873-3cf3a5635611\"]},\"title\":\"Bokeh Application\",\"version\":\"0.12.13\"}};\n",
       "  var render_items = [{\"docid\":\"e0b9fa4b-7f8a-4ce3-b223-6b210a7d7617\",\"elementid\":\"416e8b67-4ca2-4470-994d-7d5445b48536\",\"modelid\":\"0d108fcf-bb73-4fc4-8873-3cf3a5635611\"}];\n",
       "  root.Bokeh.embed.embed_items_notebook(docs_json, render_items);\n",
       "\n",
       "  }\n",
       "  if (root.Bokeh !== undefined) {\n",
       "    embed_document(root);\n",
       "  } else {\n",
       "    var attempts = 0;\n",
       "    var timer = setInterval(function(root) {\n",
       "      if (root.Bokeh !== undefined) {\n",
       "        embed_document(root);\n",
       "        clearInterval(timer);\n",
       "      }\n",
       "      attempts++;\n",
       "      if (attempts > 100) {\n",
       "        console.log(\"Bokeh: ERROR: Unable to run BokehJS code because BokehJS library is missing\")\n",
       "        clearInterval(timer);\n",
       "      }\n",
       "    }, 10, root)\n",
       "  }\n",
       "})(window);"
      ],
      "application/vnd.bokehjs_exec.v0+json": ""
     },
     "metadata": {
      "application/vnd.bokehjs_exec.v0+json": {
       "id": "0d108fcf-bb73-4fc4-8873-3cf3a5635611"
      }
     },
     "output_type": "display_data"
    }
   ],
   "source": [
    "regr = linear_model.Ridge(alpha=0.08)\n",
    "\n",
    "fig = bk.figure(plot_width=400, plot_height=300, title=None)\n",
    "for i in range(6):\n",
    "    noise = np.random.normal(loc=0, scale=.1, size=X.shape)\n",
    "    noisy_X = X + noise\n",
    "    regr.fit(noisy_X, y)\n",
    "    fig.circle(noisy_X[:,0], y, size=8, color=cat_colors[i], line_color='black')\n",
    "    fig.line(X_test[:,0], regr.predict(X_test), color=cat_colors[i])\n",
    "bk.show(fig)"
   ]
  },
  {
   "cell_type": "markdown",
   "metadata": {},
   "source": [
    "As we can see, the estimator displays much less variance. However it systematically under-estimates the coefficient. It displays a biased behavior. As explained earlier we changed the tradeoff between Bias and Variance with regularization. Changing one quantity (for example decreasing Variance) inevitably increases the other (Bias). \n",
    "\n",
    "With the next examples we will try to answer the following question: **If our estimator is underperforming, how should we move forward?**\n",
    "\n",
    "- Do I need a Simple or more Complicated Model ?\n",
    "- Do I need More Training Samples ?\n",
    "- Do I need more features for each observed data point ?\n",
    "\n",
    "The answer is often counter-intuitive. In particular, **Sometimes using a more complicated model will give _worse_ results.**  Also, **Sometimes adding training data will not improve your results.**  The ability to determine what steps will improve your model is what separates the successful machine learning practitioners from the unsuccessful."
   ]
  },
  {
   "cell_type": "markdown",
   "metadata": {},
   "source": [
    "## 2 Regularization: what it is and why it is necessary"
   ]
  },
  {
   "cell_type": "markdown",
   "metadata": {},
   "source": [
    "**The core idea behind regularization is that we are going to prefer models that are simpler**, even if they lead to more errors on the training set. We start by defining a 9th order polynomial function. This represents our 'ground truth'. You can imagine it like a signal measured at diffrent times:"
   ]
  },
  {
   "cell_type": "code",
   "execution_count": 10,
   "metadata": {},
   "outputs": [],
   "source": [
    "f = lambda t: 1.2*t**2 + 0.1*t**3 - 0.6*t**5 - 0.8*t**9\n",
    "gt_coeff = [0, 0, 1.2, 0.1, 0., -0.6, 0., 0., 0., -0.8]"
   ]
  },
  {
   "cell_type": "markdown",
   "metadata": {},
   "source": [
    "Unfortunately in real life situation every signal is affected by a measurement error; in this example we simulate it with the variable `noise_level`. Our ground truth is a 9th order polynomial.\n",
    "\n",
    "At first it would seem an obvius choice to use a 9th order polynomial to fit the signal. If you play a little with the following code you will discover that not using a regularization technique (`LinearRegression` doesn't allow any regularization), most of the time could be a bad choice, and a simpler (lower-order) model it is much better to avoid overfitting.\n",
    "\n",
    "Try to change the following variables:\n",
    "\n",
    "* `orders`: orders of the polynomials to fit\n",
    "* `n_samples`: when the number of the samples is small it's difficult to fit a high-order model and you have overfitting\n",
    "* `noise_level`: whit very low noise it's easier to fit higher-order polynomials\n",
    "\n",
    "*Keep in mind that we didn't fix the random generator seed, so every time you run the cell you'll have a different noise distribution on the samples*.\n",
    "\n",
    "**As you can see we use a linear algorithm to fit a nonlinear function, this is possible because we use the linear algorithm to fit the nonlinear coefficients that we define in the regressors**."
   ]
  },
  {
   "cell_type": "code",
   "execution_count": 11,
   "metadata": {},
   "outputs": [
    {
     "name": "stdout",
     "output_type": "stream",
     "text": [
      "Ground Truth coeff.:   +0.0  +0.0  +1.2  +0.1  +0.0  -0.6  +0.0  +0.0  +0.0  -0.8\n",
      "LinReg coefficients:   +0.0  -0.9  +4.3 +11.6 -18.2 -42.8 +35.3 +61.7 -21.4 -31.9\n"
     ]
    },
    {
     "data": {
      "text/html": [
       "\n",
       "\n",
       "\n",
       "\n",
       "\n",
       "\n",
       "  <div class=\"bk-root\" id=\"cf10c4a3-9e20-406b-aae1-850247232c65\" data-root-id=\"1867\"></div>\n"
      ]
     },
     "metadata": {},
     "output_type": "display_data"
    },
    {
     "data": {
      "application/javascript": [
       "(function(root) {\n",
       "  function embed_document(root) {\n",
       "    \n",
       "  var docs_json = {\"8d79c486-5b9a-40ba-8e48-d79d3f993465\":{\"roots\":{\"references\":[{\"attributes\":{\"below\":[{\"id\":\"1878\",\"type\":\"LinearAxis\"}],\"center\":[{\"id\":\"1882\",\"type\":\"Grid\"},{\"id\":\"1887\",\"type\":\"Grid\"},{\"id\":\"1919\",\"type\":\"Legend\"}],\"left\":[{\"id\":\"1883\",\"type\":\"LinearAxis\"}],\"plot_height\":400,\"plot_width\":700,\"renderers\":[{\"id\":\"1904\",\"type\":\"GlyphRenderer\"},{\"id\":\"1909\",\"type\":\"GlyphRenderer\"},{\"id\":\"1924\",\"type\":\"GlyphRenderer\"},{\"id\":\"1940\",\"type\":\"GlyphRenderer\"}],\"title\":{\"id\":\"1868\",\"type\":\"Title\"},\"toolbar\":{\"id\":\"1894\",\"type\":\"Toolbar\"},\"x_range\":{\"id\":\"1870\",\"type\":\"DataRange1d\"},\"x_scale\":{\"id\":\"1874\",\"type\":\"LinearScale\"},\"y_range\":{\"id\":\"1872\",\"type\":\"DataRange1d\"},\"y_scale\":{\"id\":\"1876\",\"type\":\"LinearScale\"}},\"id\":\"1867\",\"subtype\":\"Figure\",\"type\":\"Plot\"},{\"attributes\":{\"callback\":null},\"id\":\"1870\",\"type\":\"DataRange1d\"},{\"attributes\":{\"data_source\":{\"id\":\"1921\",\"type\":\"ColumnDataSource\"},\"glyph\":{\"id\":\"1922\",\"type\":\"Line\"},\"hover_glyph\":null,\"muted_glyph\":null,\"nonselection_glyph\":{\"id\":\"1923\",\"type\":\"Line\"},\"selection_glyph\":null,\"view\":{\"id\":\"1925\",\"type\":\"CDSView\"}},\"id\":\"1924\",\"type\":\"GlyphRenderer\"},{\"attributes\":{\"source\":{\"id\":\"1901\",\"type\":\"ColumnDataSource\"}},\"id\":\"1905\",\"type\":\"CDSView\"},{\"attributes\":{\"callback\":null},\"id\":\"1872\",\"type\":\"DataRange1d\"},{\"attributes\":{\"source\":{\"id\":\"1921\",\"type\":\"ColumnDataSource\"}},\"id\":\"1925\",\"type\":\"CDSView\"},{\"attributes\":{},\"id\":\"1876\",\"type\":\"LinearScale\"},{\"attributes\":{},\"id\":\"1935\",\"type\":\"Selection\"},{\"attributes\":{\"callback\":null,\"data\":{\"x\":{\"__ndarray__\":\"mpmZmZmZ8b9L1aE5YG7xv/wQqtkmQ/G/rEyyee0X8b9diLoZtOzwvw7Ewrl6wfC/vv/KWUGW8L9vO9P5B2vwvyB325nOP/C/0bLjOZUU8L8D3dezt9Lvv2RU6PNEfO+/xsv4M9Il778oQwl0X8/uv4m6GbTseO6/6jEq9Hki7r9MqTo0B8ztv64gS3SUde2/D5hbtCEf7b9wD2z0rsjsv9KGfDQ8cuy/NP6MdMkb7L+VdZ20VsXrv/bsrfTjbuu/WGS+NHEY67+62850/sHqvxtT37SLa+q/fMrv9BgV6r/eQQA1pr7pv0C5EHUzaOm/oTAhtcAR6b8CqDH1Tbvov2QfQjXbZOi/xpZSdWgO6L8nDmO19bfnv4iFc/WCYee/6vyDNRAL579MdJR1nbTmv63rpLUqXua/DmO19bcH5r9w2sU1RbHlv9JR1nXSWuW/M8nmtV8E5b+UQPf17K3kv/a3BzZ6V+S/WC8YdgcB5L+5pii2lKrjvxoeOfYhVOO/fJVJNq/94r/eDFp2PKfivz+EarbJUOK/oPt69lb64b8Cc4s25KPhv2Tqm3ZxTeG/xWGstv724L8m2bz2i6Dgv4hQzTYZSuC/1I+77Uzn37+WftxtZzrfv1ht/e2Bjd6/HFwebpzg3b/gSj/utjPdv6I5YG7Rhty/ZCiB7uvZ278oF6JuBi3bv+wFw+4ggNq/rvTjbjvT2b9w4wTvVSbZvzTSJW9wedi/+MBG74rM17+6r2dvpR/Xv3yeiO+/cta/QI2pb9rF1b8EfMrv9BjVv8Zq628PbNS/iFkM8Cm/079MSC1wRBLTvxA3TvBeZdK/0iVvcHm40b+UFJDwkwvRv1gDsXCuXtC/OOSj4ZFjz7+8weXhxgnOv0CfJ+L7r8y/yHxp4jBWy79QWqviZfzJv9Q37eKaosi/WBUv489Ix7/g8nDjBO/Fv2jQsuM5lcS/7K304247w79wizbko+HBv/hoeOTYh8C/AI10yRtcvr8ISPjJhai7vxADfMrv9Li/IL7/yllBtr8weYPLw42zv0A0B8wt2rC/gN4VmS9NrL+gVB2aA+amv8DKJJvXfqG/gIFYOFcvmL+A2850/sGKvwDQsuM5lWS/gHP1gmF3gD+AzWu/CAqTP4DhXL1g2J0/oPqmXVxTpD+AhJ9ciLqpP4AOmFu0Ia8/MExILXBEsj8gkcQsBvi0PxDWQCycq7c/ABu9KzJfuj8AYDkryBK9P/CktSpexr8/8PQYFfo8wT9wF9cUxZbCP+g5lRSQ8MM/YFxTFFtKxT/YfhEUJqTGP1ChzxPx/cc/0MONE7xXyT9I5ksTh7HKP8AIChNSC8w/QCvIEh1lzT+4TYYS6L7OPxg4IolZDNA/VEkBCT+50D+QWuCIJGbRP9BrvwgKE9I/DH2eiO+/0j9Ijn0I1WzTP4ifXIi6GdQ/xLA7CKDG1D8AwhqIhXPVPzzT+QdrINY/eOTYh1DN1j+49bcHNnrXP/QGl4cbJ9g/MBh2BwHU2D9wKVWH5oDZP6w6NAfMLdo/6EsTh7Ha2j8kXfIGl4fbP2Bu0YZ8NNw/oH+wBmLh3D/ckI+GR47dPxiibgYtO94/WLNNhhLo3j+UxCwG+JTfP+jqBcPuIOA/hnP1gmF34D8k/ORC1M3gP8SE1AJHJOE/Yg3Ewrl64T8AlrOCLNHhP6Aeo0KfJ+I/PqeSAhJ+4j/cL4LChNTiP3q4cYL3KuM/GEFhQmqB4z+4yVAC3dfjP1ZSQMJPLuQ/9NovgsKE5D+UYx9CNdvkPzLsDgKoMeU/0HT+wRqI5T9u/e2Bjd7lPwyG3UEANeY/rA7NAXOL5j9Kl7zB5eHmP+gfrIFYOOc/iKibQcuO5z8mMYsBPuXnP8S5esGwO+g/YkJqgSOS6D8Ay1lBlujoP6BTSQEJP+k/Ptw4wXuV6T/cZCiB7uvpP3ztF0FhQuo/GnYHAdSY6j+4/vbARu/qP1aH5oC5Res/9A/WQCyc6z+UmMUAn/LrPzIhtcARSew/0KmkgISf7D9wMpRA9/XsPwy7gwBqTO0/rENzwNyi7T9MzGKAT/ntP+hUUkDCT+4/iN1BADWm7j8kZjHAp/zuP8TuIIAaU+8/ZHcQQI2p7z8AAAAAAADwPw==\",\"dtype\":\"float64\",\"shape\":[200]},\"y\":{\"__ndarray__\":\"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\",\"dtype\":\"float64\",\"shape\":[200]}},\"selected\":{\"id\":\"2038\",\"type\":\"Selection\"},\"selection_policy\":{\"id\":\"2037\",\"type\":\"UnionRenderers\"}},\"id\":\"1937\",\"type\":\"ColumnDataSource\"},{\"attributes\":{\"formatter\":{\"id\":\"1913\",\"type\":\"BasicTickFormatter\"},\"ticker\":{\"id\":\"1879\",\"type\":\"BasicTicker\"}},\"id\":\"1878\",\"type\":\"LinearAxis\"},{\"attributes\":{\"label\":{\"value\":\"linreg order: 09\"},\"renderers\":[{\"id\":\"1924\",\"type\":\"GlyphRenderer\"}]},\"id\":\"1936\",\"type\":\"LegendItem\"},{\"attributes\":{\"line_color\":\"red\",\"line_width\":4.0,\"x\":{\"field\":\"x\"},\"y\":{\"field\":\"y\"}},\"id\":\"1938\",\"type\":\"Line\"},{\"attributes\":{\"ticker\":{\"id\":\"1879\",\"type\":\"BasicTicker\"}},\"id\":\"1882\",\"type\":\"Grid\"},{\"attributes\":{\"line_alpha\":0.1,\"line_color\":\"#1f77b4\",\"line_width\":4.0,\"x\":{\"field\":\"x\"},\"y\":{\"field\":\"y\"}},\"id\":\"1939\",\"type\":\"Line\"},{\"attributes\":{\"line_color\":\"royalblue\",\"line_width\":3.0,\"x\":{\"field\":\"x\"},\"y\":{\"field\":\"y\"}},\"id\":\"1922\",\"type\":\"Line\"},{\"attributes\":{\"callback\":null,\"data\":{\"x\":{\"__ndarray__\":\"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\",\"dtype\":\"float64\",\"shape\":[200]},\"y\":{\"__ndarray__\":\"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\",\"dtype\":\"float64\",\"shape\":[200]}},\"selected\":{\"id\":\"1935\",\"type\":\"Selection\"},\"selection_policy\":{\"id\":\"1934\",\"type\":\"UnionRenderers\"}},\"id\":\"1906\",\"type\":\"ColumnDataSource\"},{\"attributes\":{\"line_alpha\":0.1,\"line_color\":\"#1f77b4\",\"line_width\":3.0,\"x\":{\"field\":\"x\"},\"y\":{\"field\":\"y\"}},\"id\":\"1908\",\"type\":\"Line\"},{\"attributes\":{\"formatter\":{\"id\":\"1915\",\"type\":\"BasicTickFormatter\"},\"ticker\":{\"id\":\"1884\",\"type\":\"BasicTicker\"}},\"id\":\"1883\",\"type\":\"LinearAxis\"},{\"attributes\":{\"data_source\":{\"id\":\"1937\",\"type\":\"ColumnDataSource\"},\"glyph\":{\"id\":\"1938\",\"type\":\"Line\"},\"hover_glyph\":null,\"muted_glyph\":null,\"nonselection_glyph\":{\"id\":\"1939\",\"type\":\"Line\"},\"selection_glyph\":null,\"view\":{\"id\":\"1941\",\"type\":\"CDSView\"}},\"id\":\"1940\",\"type\":\"GlyphRenderer\"},{\"attributes\":{\"data_source\":{\"id\":\"1906\",\"type\":\"ColumnDataSource\"},\"glyph\":{\"id\":\"1907\",\"type\":\"Line\"},\"hover_glyph\":null,\"muted_glyph\":null,\"nonselection_glyph\":{\"id\":\"1908\",\"type\":\"Line\"},\"selection_glyph\":null,\"view\":{\"id\":\"1910\",\"type\":\"CDSView\"}},\"id\":\"1909\",\"type\":\"GlyphRenderer\"},{\"attributes\":{},\"id\":\"1884\",\"type\":\"BasicTicker\"},{\"attributes\":{\"source\":{\"id\":\"1937\",\"type\":\"ColumnDataSource\"}},\"id\":\"1941\",\"type\":\"CDSView\"},{\"attributes\":{\"source\":{\"id\":\"1906\",\"type\":\"ColumnDataSource\"}},\"id\":\"1910\",\"type\":\"CDSView\"},{\"attributes\":{\"dimension\":1,\"ticker\":{\"id\":\"1884\",\"type\":\"BasicTicker\"}},\"id\":\"1887\",\"type\":\"Grid\"},{\"attributes\":{},\"id\":\"1952\",\"type\":\"UnionRenderers\"},{\"attributes\":{\"fill_alpha\":{\"value\":0.1},\"fill_color\":{\"value\":\"#1f77b4\"},\"line_alpha\":{\"value\":0.1},\"line_color\":{\"value\":\"#1f77b4\"},\"size\":{\"units\":\"screen\",\"value\":8},\"x\":{\"field\":\"x\"},\"y\":{\"field\":\"y\"}},\"id\":\"1903\",\"type\":\"Circle\"},{\"attributes\":{},\"id\":\"1953\",\"type\":\"Selection\"},{\"attributes\":{},\"id\":\"1915\",\"type\":\"BasicTickFormatter\"},{\"attributes\":{},\"id\":\"1874\",\"type\":\"LinearScale\"},{\"attributes\":{\"label\":{\"value\":\"truth\"},\"renderers\":[{\"id\":\"1940\",\"type\":\"GlyphRenderer\"}]},\"id\":\"1954\",\"type\":\"LegendItem\"},{\"attributes\":{\"callback\":null,\"data\":{\"x\":{\"__ndarray__\":\"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\",\"dtype\":\"float64\",\"shape\":[200]},\"y\":{\"__ndarray__\":\"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\",\"dtype\":\"float64\",\"shape\":[200]}},\"selected\":{\"id\":\"1953\",\"type\":\"Selection\"},\"selection_policy\":{\"id\":\"1952\",\"type\":\"UnionRenderers\"}},\"id\":\"1921\",\"type\":\"ColumnDataSource\"},{\"attributes\":{\"bottom_units\":\"screen\",\"fill_alpha\":{\"value\":0.5},\"fill_color\":{\"value\":\"lightgrey\"},\"left_units\":\"screen\",\"level\":\"overlay\",\"line_alpha\":{\"value\":1.0},\"line_color\":{\"value\":\"black\"},\"line_dash\":[4,4],\"line_width\":{\"value\":2},\"render_mode\":\"css\",\"right_units\":\"screen\",\"top_units\":\"screen\"},\"id\":\"1916\",\"type\":\"BoxAnnotation\"},{\"attributes\":{\"fill_alpha\":{\"value\":0.4},\"fill_color\":{\"value\":\"#1f77b4\"},\"line_color\":{\"value\":\"#1f77b4\"},\"size\":{\"units\":\"screen\",\"value\":8},\"x\":{\"field\":\"x\"},\"y\":{\"field\":\"y\"}},\"id\":\"1902\",\"type\":\"Circle\"},{\"attributes\":{\"data_source\":{\"id\":\"1901\",\"type\":\"ColumnDataSource\"},\"glyph\":{\"id\":\"1902\",\"type\":\"Circle\"},\"hover_glyph\":null,\"muted_glyph\":null,\"nonselection_glyph\":{\"id\":\"1903\",\"type\":\"Circle\"},\"selection_glyph\":null,\"view\":{\"id\":\"1905\",\"type\":\"CDSView\"}},\"id\":\"1904\",\"type\":\"GlyphRenderer\"},{\"attributes\":{},\"id\":\"1918\",\"type\":\"Selection\"},{\"attributes\":{},\"id\":\"1888\",\"type\":\"PanTool\"},{\"attributes\":{},\"id\":\"1934\",\"type\":\"UnionRenderers\"},{\"attributes\":{},\"id\":\"1889\",\"type\":\"WheelZoomTool\"},{\"attributes\":{},\"id\":\"2038\",\"type\":\"Selection\"},{\"attributes\":{},\"id\":\"1879\",\"type\":\"BasicTicker\"},{\"attributes\":{},\"id\":\"1913\",\"type\":\"BasicTickFormatter\"},{\"attributes\":{\"overlay\":{\"id\":\"1916\",\"type\":\"BoxAnnotation\"}},\"id\":\"1890\",\"type\":\"BoxZoomTool\"},{\"attributes\":{\"items\":[{\"id\":\"1920\",\"type\":\"LegendItem\"},{\"id\":\"1936\",\"type\":\"LegendItem\"},{\"id\":\"1954\",\"type\":\"LegendItem\"}],\"label_text_font_size\":{\"value\":\"14pt\"},\"location\":\"top_left\"},\"id\":\"1919\",\"type\":\"Legend\"},{\"attributes\":{},\"id\":\"2037\",\"type\":\"UnionRenderers\"},{\"attributes\":{\"callback\":null,\"data\":{\"x\":{\"__ndarray__\":\"UGpLI1m0zL+IJBFmX2naP/6j3L6dmPG/ALqdfTnE3b/btmpwh1bpvyn+d0Gu/uy/nDwkp+2u5r/Q9CU/5vTXvwBvSEAPE9G/oBxYq8AioD+MJUYK2h7Mv9jGnEWJsdU/7jITkfd15b9oSIfZOs/nP4j/WtsFrvC/LF70LPm10z886Dxa46DMv/CXJEBswLI/GrNPbRjE6b+q80JwOOPlv67SNkErnOI/8D++Xv/d7T98ewo0mkbcv2x4tMjtpdY/hvAQdH+x5z8=\",\"dtype\":\"float64\",\"shape\":[25]},\"y\":{\"__ndarray__\":\"t8XmNxdKxT+5FyFE0b/HP8movBszMhJAF9TBh20X1T9BXYVrp3PzP7BjiAUsF/Y/yWtVbNFO4T8J3K6WbwPXP2adJoyl6aQ/X1cWd//XoD8YZaq8Nq3NP4i9FUDv470/xkfUXqHw2T/tx6p2oOXTP2BCAv70DAdA5cN0+mCHzz8yp0BGZO+nP9VtzKQc19W/89xyvT8D8T8wjY3N7azgPwr+Fxmg0ds/qBecwXhpqz9Kds309T29P6cU2mAkNss/qs2G+Ysx6z8=\",\"dtype\":\"float64\",\"shape\":[25]}},\"selected\":{\"id\":\"1918\",\"type\":\"Selection\"},\"selection_policy\":{\"id\":\"1917\",\"type\":\"UnionRenderers\"}},\"id\":\"1901\",\"type\":\"ColumnDataSource\"},{\"attributes\":{},\"id\":\"1891\",\"type\":\"SaveTool\"},{\"attributes\":{\"label\":{\"value\":\"linreg order: 04\"},\"renderers\":[{\"id\":\"1909\",\"type\":\"GlyphRenderer\"}]},\"id\":\"1920\",\"type\":\"LegendItem\"},{\"attributes\":{\"line_color\":\"green\",\"line_width\":3.0,\"x\":{\"field\":\"x\"},\"y\":{\"field\":\"y\"}},\"id\":\"1907\",\"type\":\"Line\"},{\"attributes\":{},\"id\":\"1892\",\"type\":\"ResetTool\"},{\"attributes\":{},\"id\":\"1917\",\"type\":\"UnionRenderers\"},{\"attributes\":{},\"id\":\"1893\",\"type\":\"HelpTool\"},{\"attributes\":{\"text\":\"4th and a 9th order polynomial with Ground truth\"},\"id\":\"1868\",\"type\":\"Title\"},{\"attributes\":{\"line_alpha\":0.1,\"line_color\":\"#1f77b4\",\"line_width\":3.0,\"x\":{\"field\":\"x\"},\"y\":{\"field\":\"y\"}},\"id\":\"1923\",\"type\":\"Line\"},{\"attributes\":{\"active_drag\":\"auto\",\"active_inspect\":\"auto\",\"active_multi\":null,\"active_scroll\":\"auto\",\"active_tap\":\"auto\",\"tools\":[{\"id\":\"1888\",\"type\":\"PanTool\"},{\"id\":\"1889\",\"type\":\"WheelZoomTool\"},{\"id\":\"1890\",\"type\":\"BoxZoomTool\"},{\"id\":\"1891\",\"type\":\"SaveTool\"},{\"id\":\"1892\",\"type\":\"ResetTool\"},{\"id\":\"1893\",\"type\":\"HelpTool\"}]},\"id\":\"1894\",\"type\":\"Toolbar\"}],\"root_ids\":[\"1867\"]},\"title\":\"Bokeh Application\",\"version\":\"1.2.0\"}};\n",
       "  var render_items = [{\"docid\":\"8d79c486-5b9a-40ba-8e48-d79d3f993465\",\"roots\":{\"1867\":\"cf10c4a3-9e20-406b-aae1-850247232c65\"}}];\n",
       "  root.Bokeh.embed.embed_items_notebook(docs_json, render_items);\n",
       "\n",
       "  }\n",
       "  if (root.Bokeh !== undefined) {\n",
       "    embed_document(root);\n",
       "  } else {\n",
       "    var attempts = 0;\n",
       "    var timer = setInterval(function(root) {\n",
       "      if (root.Bokeh !== undefined) {\n",
       "        embed_document(root);\n",
       "        clearInterval(timer);\n",
       "      }\n",
       "      attempts++;\n",
       "      if (attempts > 100) {\n",
       "        console.log(\"Bokeh: ERROR: Unable to run BokehJS code because BokehJS library is missing\");\n",
       "        clearInterval(timer);\n",
       "      }\n",
       "    }, 10, root)\n",
       "  }\n",
       "})(window);"
      ],
      "application/vnd.bokehjs_exec.v0+json": ""
     },
     "metadata": {
      "application/vnd.bokehjs_exec.v0+json": {
       "id": "1867"
      }
     },
     "output_type": "display_data"
    }
   ],
   "source": [
    "tmin, tmax = -1.1, 1.0\n",
    "n_samples = 25\n",
    "noise_level = 0.2\n",
    "orders = [4, 9]\n",
    "np.random.seed(1)\n",
    "t = tmin + np.random.rand(n_samples) * (tmax-tmin)              # Sample points\n",
    "y_noisy = f(t) + noise_level*np.random.normal(size=n_samples)   # Noisy measure\n",
    "\n",
    "fig = bk.figure(plot_width=700, plot_height=400,\n",
    "                title='4th and a 9th order polynomial with Ground truth')\n",
    "fig.circle(t, y_noisy, size=8, fill_alpha=0.4)\n",
    "\n",
    "p = np.linspace(tmin, tmax, 200)                                # Array to calc. the prediction\n",
    "colors = ['royalblue', 'green']\n",
    "for order in orders:\n",
    "    X = np.array([t**i for i in range(order+1)]).T              # Regressor\n",
    "    Xp = np.array([p**i for i in range(order+1)]).T             # Regressor for prediction\n",
    "    poly_linreg = linear_model.LinearRegression().fit(X, y_noisy)\n",
    "    fig.line(p, poly_linreg.predict(Xp), legend='linreg order: %02i' % order,\n",
    "             color=colors.pop(), line_width=3.0)\n",
    "\n",
    "fig.line(p, f(p), legend=\"truth\", color='red', line_width=4.0)\n",
    "fig.legend.label_text_font_size = '14pt'\n",
    "fig.legend.location = 'top_left'\n",
    "np.set_printoptions(precision=2)\n",
    "print('Ground Truth coeff.: ', ' '.join(['%+5.1f' %n for n in gt_coeff]))\n",
    "print('LinReg coefficients: ', ' '.join(['%+5.1f' %n for n in poly_linreg.coef_]))\n",
    "bk.show(fig)"
   ]
  },
  {
   "cell_type": "markdown",
   "metadata": {},
   "source": [
    "Now we compare the previous `LinearRegression` algorithm with the `Lasso` algorithm.\n",
    "\n",
    "`Lasso` (least absolute shrinkage and selection operator) is an alternative regularized version of least squares: it is a **shrinkage estimator**: unlike `ridge regression`, as the penalty term increases, lasso sets more coefficients to zero, this means that the lasso estimator produces smaller models."
   ]
  },
  {
   "cell_type": "code",
   "execution_count": 12,
   "metadata": {},
   "outputs": [
    {
     "name": "stdout",
     "output_type": "stream",
     "text": [
      "Ground Truth coeff.:   +0.0  +0.0  +1.2  +0.1  +0.0  -0.6  +0.0  +0.0  +0.0  -0.8\n",
      "LinReg coefficients:   +0.0  -0.0  +1.0  -0.0  +0.0  -0.0  +0.0  -0.0  +0.0  -1.3\n"
     ]
    },
    {
     "data": {
      "text/html": [
       "\n",
       "\n",
       "\n",
       "\n",
       "\n",
       "\n",
       "  <div class=\"bk-root\" id=\"8e4dffa6-0073-4d4f-a43f-5ba36ad870de\" data-root-id=\"2123\"></div>\n"
      ]
     },
     "metadata": {},
     "output_type": "display_data"
    },
    {
     "data": {
      "application/javascript": [
       "(function(root) {\n",
       "  function embed_document(root) {\n",
       "    \n",
       "  var docs_json = {\"04ce23c4-130b-4739-8d7d-06494047d987\":{\"roots\":{\"references\":[{\"attributes\":{\"below\":[{\"id\":\"2132\",\"type\":\"LinearAxis\"}],\"center\":[{\"id\":\"2136\",\"type\":\"Grid\"},{\"id\":\"2141\",\"type\":\"Grid\"},{\"id\":\"2174\",\"type\":\"Legend\"}],\"left\":[{\"id\":\"2137\",\"type\":\"LinearAxis\"}],\"plot_height\":400,\"plot_width\":700,\"renderers\":[{\"id\":\"2158\",\"type\":\"GlyphRenderer\"},{\"id\":\"2163\",\"type\":\"GlyphRenderer\"},{\"id\":\"2179\",\"type\":\"GlyphRenderer\"},{\"id\":\"2196\",\"type\":\"GlyphRenderer\"}],\"title\":{\"id\":\"2165\",\"type\":\"Title\"},\"toolbar\":{\"id\":\"2148\",\"type\":\"Toolbar\"},\"x_range\":{\"id\":\"2124\",\"type\":\"DataRange1d\"},\"x_scale\":{\"id\":\"2128\",\"type\":\"LinearScale\"},\"y_range\":{\"id\":\"2126\",\"type\":\"DataRange1d\"},\"y_scale\":{\"id\":\"2130\",\"type\":\"LinearScale\"}},\"id\":\"2123\",\"subtype\":\"Figure\",\"type\":\"Plot\"},{\"attributes\":{},\"id\":\"2172\",\"type\":\"UnionRenderers\"},{\"attributes\":{\"line_alpha\":0.1,\"line_color\":\"#1f77b4\",\"line_width\":3.0,\"x\":{\"field\":\"x\"},\"y\":{\"field\":\"y\"}},\"id\":\"2178\",\"type\":\"Line\"},{\"attributes\":{\"source\":{\"id\":\"2160\",\"type\":\"ColumnDataSource\"}},\"id\":\"2164\",\"type\":\"CDSView\"},{\"attributes\":{\"fill_alpha\":{\"value\":0.4},\"fill_color\":{\"value\":\"#1f77b4\"},\"line_alpha\":{\"value\":0.4},\"line_color\":{\"value\":\"#1f77b4\"},\"size\":{\"units\":\"screen\",\"value\":8},\"x\":{\"field\":\"x\"},\"y\":{\"field\":\"y\"}},\"id\":\"2156\",\"type\":\"Circle\"},{\"attributes\":{\"bottom_units\":\"screen\",\"fill_alpha\":{\"value\":0.5},\"fill_color\":{\"value\":\"lightgrey\"},\"left_units\":\"screen\",\"level\":\"overlay\",\"line_alpha\":{\"value\":1.0},\"line_color\":{\"value\":\"black\"},\"line_dash\":[4,4],\"line_width\":{\"value\":2},\"render_mode\":\"css\",\"right_units\":\"screen\",\"top_units\":\"screen\"},\"id\":\"2171\",\"type\":\"BoxAnnotation\"},{\"attributes\":{\"data_source\":{\"id\":\"2176\",\"type\":\"ColumnDataSource\"},\"glyph\":{\"id\":\"2177\",\"type\":\"Line\"},\"hover_glyph\":null,\"muted_glyph\":null,\"nonselection_glyph\":{\"id\":\"2178\",\"type\":\"Line\"},\"selection_glyph\":null,\"view\":{\"id\":\"2180\",\"type\":\"CDSView\"}},\"id\":\"2179\",\"type\":\"GlyphRenderer\"},{\"attributes\":{\"callback\":null,\"data\":{\"x\":{\"__ndarray__\":\"UGpLI1m0zL+IJBFmX2naP/6j3L6dmPG/ALqdfTnE3b/btmpwh1bpvyn+d0Gu/uy/nDwkp+2u5r/Q9CU/5vTXvwBvSEAPE9G/oBxYq8AioD+MJUYK2h7Mv9jGnEWJsdU/7jITkfd15b9oSIfZOs/nP4j/WtsFrvC/LF70LPm10z886Dxa46DMv/CXJEBswLI/GrNPbRjE6b+q80JwOOPlv67SNkErnOI/8D++Xv/d7T98ewo0mkbcv2x4tMjtpdY/hvAQdH+x5z8=\",\"dtype\":\"float64\",\"shape\":[25]},\"y\":{\"__ndarray__\":\"t8XmNxdKxT+5FyFE0b/HP8movBszMhJAF9TBh20X1T9BXYVrp3PzP7BjiAUsF/Y/yWtVbNFO4T8J3K6WbwPXP2adJoyl6aQ/X1cWd//XoD8YZaq8Nq3NP4i9FUDv470/xkfUXqHw2T/tx6p2oOXTP2BCAv70DAdA5cN0+mCHzz8yp0BGZO+nP9VtzKQc19W/89xyvT8D8T8wjY3N7azgPwr+Fxmg0ds/qBecwXhpqz9Kds309T29P6cU2mAkNss/qs2G+Ysx6z8=\",\"dtype\":\"float64\",\"shape\":[25]}},\"selected\":{\"id\":\"2173\",\"type\":\"Selection\"},\"selection_policy\":{\"id\":\"2172\",\"type\":\"UnionRenderers\"}},\"id\":\"2155\",\"type\":\"ColumnDataSource\"},{\"attributes\":{},\"id\":\"2138\",\"type\":\"BasicTicker\"},{\"attributes\":{\"text\":\"9th order LinReg and Lasso with Ground truth\"},\"id\":\"2165\",\"type\":\"Title\"},{\"attributes\":{\"callback\":null,\"data\":{\"x\":{\"__ndarray__\":\"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\",\"dtype\":\"float64\",\"shape\":[200]},\"y\":{\"__ndarray__\":\"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\",\"dtype\":\"float64\",\"shape\":[200]}},\"selected\":{\"id\":\"2191\",\"type\":\"Selection\"},\"selection_policy\":{\"id\":\"2190\",\"type\":\"UnionRenderers\"}},\"id\":\"2160\",\"type\":\"ColumnDataSource\"},{\"attributes\":{\"formatter\":{\"id\":\"2170\",\"type\":\"BasicTickFormatter\"},\"ticker\":{\"id\":\"2138\",\"type\":\"BasicTicker\"}},\"id\":\"2137\",\"type\":\"LinearAxis\"},{\"attributes\":{\"source\":{\"id\":\"2176\",\"type\":\"ColumnDataSource\"}},\"id\":\"2180\",\"type\":\"CDSView\"},{\"attributes\":{\"callback\":null},\"id\":\"2124\",\"type\":\"DataRange1d\"},{\"attributes\":{},\"id\":\"2130\",\"type\":\"LinearScale\"},{\"attributes\":{\"ticker\":{\"id\":\"2133\",\"type\":\"BasicTicker\"}},\"id\":\"2136\",\"type\":\"Grid\"},{\"attributes\":{},\"id\":\"2168\",\"type\":\"BasicTickFormatter\"},{\"attributes\":{},\"id\":\"2190\",\"type\":\"UnionRenderers\"},{\"attributes\":{},\"id\":\"2191\",\"type\":\"Selection\"},{\"attributes\":{\"items\":[{\"id\":\"2175\",\"type\":\"LegendItem\"},{\"id\":\"2192\",\"type\":\"LegendItem\"},{\"id\":\"2211\",\"type\":\"LegendItem\"}],\"label_text_font_size\":{\"value\":\"15pt\"},\"location\":\"top_left\"},\"id\":\"2174\",\"type\":\"Legend\"},{\"attributes\":{\"line_alpha\":0.1,\"line_color\":\"#1f77b4\",\"line_width\":3.0,\"x\":{\"field\":\"x\"},\"y\":{\"field\":\"y\"}},\"id\":\"2162\",\"type\":\"Line\"},{\"attributes\":{\"label\":{\"value\":\"linreg order: 09\"},\"renderers\":[{\"id\":\"2163\",\"type\":\"GlyphRenderer\"}]},\"id\":\"2175\",\"type\":\"LegendItem\"},{\"attributes\":{\"data_source\":{\"id\":\"2155\",\"type\":\"ColumnDataSource\"},\"glyph\":{\"id\":\"2156\",\"type\":\"Circle\"},\"hover_glyph\":null,\"muted_glyph\":null,\"nonselection_glyph\":{\"id\":\"2157\",\"type\":\"Circle\"},\"selection_glyph\":null,\"view\":{\"id\":\"2159\",\"type\":\"CDSView\"}},\"id\":\"2158\",\"type\":\"GlyphRenderer\"},{\"attributes\":{\"label\":{\"value\":\"lasso order: 09\"},\"renderers\":[{\"id\":\"2179\",\"type\":\"GlyphRenderer\"}]},\"id\":\"2192\",\"type\":\"LegendItem\"},{\"attributes\":{},\"id\":\"2143\",\"type\":\"WheelZoomTool\"},{\"attributes\":{\"data_source\":{\"id\":\"2160\",\"type\":\"ColumnDataSource\"},\"glyph\":{\"id\":\"2161\",\"type\":\"Line\"},\"hover_glyph\":null,\"muted_glyph\":null,\"nonselection_glyph\":{\"id\":\"2162\",\"type\":\"Line\"},\"selection_glyph\":null,\"view\":{\"id\":\"2164\",\"type\":\"CDSView\"}},\"id\":\"2163\",\"type\":\"GlyphRenderer\"},{\"attributes\":{\"dimension\":1,\"ticker\":{\"id\":\"2138\",\"type\":\"BasicTicker\"}},\"id\":\"2141\",\"type\":\"Grid\"},{\"attributes\":{},\"id\":\"2133\",\"type\":\"BasicTicker\"},{\"attributes\":{},\"id\":\"2310\",\"type\":\"UnionRenderers\"},{\"attributes\":{},\"id\":\"2142\",\"type\":\"PanTool\"},{\"attributes\":{\"line_color\":\"royalblue\",\"line_width\":3.0,\"x\":{\"field\":\"x\"},\"y\":{\"field\":\"y\"}},\"id\":\"2161\",\"type\":\"Line\"},{\"attributes\":{\"line_color\":\"red\",\"line_width\":4.0,\"x\":{\"field\":\"x\"},\"y\":{\"field\":\"y\"}},\"id\":\"2194\",\"type\":\"Line\"},{\"attributes\":{},\"id\":\"2170\",\"type\":\"BasicTickFormatter\"},{\"attributes\":{\"active_drag\":\"auto\",\"active_inspect\":\"auto\",\"active_multi\":null,\"active_scroll\":\"auto\",\"active_tap\":\"auto\",\"tools\":[{\"id\":\"2142\",\"type\":\"PanTool\"},{\"id\":\"2143\",\"type\":\"WheelZoomTool\"},{\"id\":\"2144\",\"type\":\"BoxZoomTool\"},{\"id\":\"2145\",\"type\":\"SaveTool\"},{\"id\":\"2146\",\"type\":\"ResetTool\"},{\"id\":\"2147\",\"type\":\"HelpTool\"}]},\"id\":\"2148\",\"type\":\"Toolbar\"},{\"attributes\":{},\"id\":\"2146\",\"type\":\"ResetTool\"},{\"attributes\":{\"line_alpha\":0.1,\"line_color\":\"#1f77b4\",\"line_width\":4.0,\"x\":{\"field\":\"x\"},\"y\":{\"field\":\"y\"}},\"id\":\"2195\",\"type\":\"Line\"},{\"attributes\":{},\"id\":\"2173\",\"type\":\"Selection\"},{\"attributes\":{\"data_source\":{\"id\":\"2193\",\"type\":\"ColumnDataSource\"},\"glyph\":{\"id\":\"2194\",\"type\":\"Line\"},\"hover_glyph\":null,\"muted_glyph\":null,\"nonselection_glyph\":{\"id\":\"2195\",\"type\":\"Line\"},\"selection_glyph\":null,\"view\":{\"id\":\"2197\",\"type\":\"CDSView\"}},\"id\":\"2196\",\"type\":\"GlyphRenderer\"},{\"attributes\":{},\"id\":\"2147\",\"type\":\"HelpTool\"},{\"attributes\":{\"callback\":null,\"data\":{\"x\":{\"__ndarray__\":\"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\",\"dtype\":\"float64\",\"shape\":[200]},\"y\":{\"__ndarray__\":\"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\",\"dtype\":\"float64\",\"shape\":[200]}},\"selected\":{\"id\":\"2311\",\"type\":\"Selection\"},\"selection_policy\":{\"id\":\"2310\",\"type\":\"UnionRenderers\"}},\"id\":\"2193\",\"type\":\"ColumnDataSource\"},{\"attributes\":{\"source\":{\"id\":\"2155\",\"type\":\"ColumnDataSource\"}},\"id\":\"2159\",\"type\":\"CDSView\"},{\"attributes\":{\"line_color\":\"green\",\"line_width\":3.0,\"x\":{\"field\":\"x\"},\"y\":{\"field\":\"y\"}},\"id\":\"2177\",\"type\":\"Line\"},{\"attributes\":{},\"id\":\"2145\",\"type\":\"SaveTool\"},{\"attributes\":{\"source\":{\"id\":\"2193\",\"type\":\"ColumnDataSource\"}},\"id\":\"2197\",\"type\":\"CDSView\"},{\"attributes\":{},\"id\":\"2209\",\"type\":\"UnionRenderers\"},{\"attributes\":{\"fill_alpha\":{\"value\":0.1},\"fill_color\":{\"value\":\"#1f77b4\"},\"line_alpha\":{\"value\":0.1},\"line_color\":{\"value\":\"#1f77b4\"},\"size\":{\"units\":\"screen\",\"value\":8},\"x\":{\"field\":\"x\"},\"y\":{\"field\":\"y\"}},\"id\":\"2157\",\"type\":\"Circle\"},{\"attributes\":{},\"id\":\"2210\",\"type\":\"Selection\"},{\"attributes\":{\"overlay\":{\"id\":\"2171\",\"type\":\"BoxAnnotation\"}},\"id\":\"2144\",\"type\":\"BoxZoomTool\"},{\"attributes\":{},\"id\":\"2128\",\"type\":\"LinearScale\"},{\"attributes\":{\"formatter\":{\"id\":\"2168\",\"type\":\"BasicTickFormatter\"},\"ticker\":{\"id\":\"2133\",\"type\":\"BasicTicker\"}},\"id\":\"2132\",\"type\":\"LinearAxis\"},{\"attributes\":{\"label\":{\"value\":\"truth\"},\"renderers\":[{\"id\":\"2196\",\"type\":\"GlyphRenderer\"}]},\"id\":\"2211\",\"type\":\"LegendItem\"},{\"attributes\":{\"callback\":null},\"id\":\"2126\",\"type\":\"DataRange1d\"},{\"attributes\":{\"callback\":null,\"data\":{\"x\":{\"__ndarray__\":\"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\",\"dtype\":\"float64\",\"shape\":[200]},\"y\":{\"__ndarray__\":\"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\",\"dtype\":\"float64\",\"shape\":[200]}},\"selected\":{\"id\":\"2210\",\"type\":\"Selection\"},\"selection_policy\":{\"id\":\"2209\",\"type\":\"UnionRenderers\"}},\"id\":\"2176\",\"type\":\"ColumnDataSource\"},{\"attributes\":{},\"id\":\"2311\",\"type\":\"Selection\"}],\"root_ids\":[\"2123\"]},\"title\":\"Bokeh Application\",\"version\":\"1.2.0\"}};\n",
       "  var render_items = [{\"docid\":\"04ce23c4-130b-4739-8d7d-06494047d987\",\"roots\":{\"2123\":\"8e4dffa6-0073-4d4f-a43f-5ba36ad870de\"}}];\n",
       "  root.Bokeh.embed.embed_items_notebook(docs_json, render_items);\n",
       "\n",
       "  }\n",
       "  if (root.Bokeh !== undefined) {\n",
       "    embed_document(root);\n",
       "  } else {\n",
       "    var attempts = 0;\n",
       "    var timer = setInterval(function(root) {\n",
       "      if (root.Bokeh !== undefined) {\n",
       "        embed_document(root);\n",
       "        clearInterval(timer);\n",
       "      }\n",
       "      attempts++;\n",
       "      if (attempts > 100) {\n",
       "        console.log(\"Bokeh: ERROR: Unable to run BokehJS code because BokehJS library is missing\");\n",
       "        clearInterval(timer);\n",
       "      }\n",
       "    }, 10, root)\n",
       "  }\n",
       "})(window);"
      ],
      "application/vnd.bokehjs_exec.v0+json": ""
     },
     "metadata": {
      "application/vnd.bokehjs_exec.v0+json": {
       "id": "2123"
      }
     },
     "output_type": "display_data"
    }
   ],
   "source": [
    "order = 9\n",
    "np.random.seed(1)\n",
    "X = np.array([t**i for i in range(order+1)]).T\n",
    "Xp = np.array([p**i for i in range(order+1)]).T\n",
    "poly_linreg = linear_model.LinearRegression().fit(X, y_noisy)\n",
    "poly_lasso = linear_model.Lasso(alpha = 0.005).fit(X, y_noisy)\n",
    "\n",
    "fig = bk.figure(plot_width=700, plot_height=400)\n",
    "fig.circle(t, y_noisy, size=8, alpha=0.4)\n",
    "fig.line(p, poly_linreg.predict(Xp), legend='linreg order: %02i' % order,\n",
    "         color='royalblue', line_width=3.0)\n",
    "fig.line(p, poly_lasso.predict(Xp), legend='lasso order: %02i' % order,\n",
    "         line_width=3.0, color='green')\n",
    "fig.line(p, f(p), legend=\"truth\", color='red', line_width=4.0)\n",
    "\n",
    "fig.legend.label_text_font_size = '15pt'\n",
    "fig.legend.location = 'top_left'\n",
    "fig.title.text = '9th order LinReg and Lasso with Ground truth'\n",
    "\n",
    "np.set_printoptions(precision=2)\n",
    "print('Ground Truth coeff.: ', ' '.join(['%+5.1f' %n for n in gt_coeff]))\n",
    "print('LinReg coefficients: ', ' '.join(['%+5.1f' %n for n in poly_lasso.coef_]))\n",
    "bk.show(fig)"
   ]
  },
  {
   "cell_type": "markdown",
   "metadata": {},
   "source": [
    "Try by yourself: play a little with the code of the two previous cells by changing `n_samples` and `noise_level` to verify that:\n",
    "\n",
    "* When `n_samples` is very high (>1000) it's very unlikely to have overfitting. This means that with more data it's possible to fit more complex models without overfitting.\n",
    "* When `n_samples` is very low (<40) it's almost impossible to fit with Linear Regression without overfitting. In this case regularization is always required\n",
    "* When `n_samples` is very high (>1000) and `noise_level` is very low, the Lasso algorithm keeps just the coefficients actually used to calculate the ground truth function. This means that Lasso can deal with high dimesional problems where most of the features can be neglected producing compact linear models.\n",
    "\n",
    "Another way to look at the Bias-Variance tradeoff in previous examples is to consider how the model fits the data. As stated at the beginning of this section when model complexity increases Bias decrease while Variance increses. The optimal model performance is achieved when the level of complexity is such that an increase in Bias is equivalent in reduction of Variance. If the model complexity exceed this threshold we are overfitting (the model is to adapted to the data and does not generalize well) if the model is behind this threshold is said to be underfitting (the model does not fit well the data and it has a poor error for out of sample data)."
   ]
  },
  {
   "cell_type": "markdown",
   "metadata": {},
   "source": [
    "## 3 Separate Training and Validation Sets"
   ]
  },
  {
   "cell_type": "markdown",
   "metadata": {},
   "source": [
    "**Fitting a model and testing it on the same data is a methodological mistake:** a model could have a perfect score but would fail to predict anything useful on yet-unseen data. This situation is called <font color=\"Red\">overfitting</font>. To avoid it, it is common practice to hold out part of the available data as a **Validation  Set** `X_valid, y_valid`."
   ]
  },
  {
   "cell_type": "code",
   "execution_count": 13,
   "metadata": {},
   "outputs": [
    {
     "name": "stdout",
     "output_type": "stream",
     "text": [
      "LinearRegression(copy_X=True, fit_intercept=True, n_jobs=None, normalize=False)\n",
      "Model coefficient: 275.99550, and intercept: -145.41186\n",
      "Mean Squared Error: 23.04\n"
     ]
    }
   ],
   "source": [
    "from sklearn import datasets, preprocessing, metrics\n",
    "X, y = datasets.samples_generator.make_regression(n_samples=70,\n",
    "                                                  n_features=1, n_informative=1,\n",
    "                                                  random_state=0, noise=5)\n",
    "scaler = preprocessing.MinMaxScaler()\n",
    "X_sc = scaler.fit_transform(X)\n",
    "\n",
    "lin = linear_model.LinearRegression(fit_intercept=True)\n",
    "lin.fit(X_sc, y)\n",
    "\n",
    "print(lin)\n",
    "print(\"Model coefficient: %.5f, and intercept: %.5f\" % (lin.coef_, lin.intercept_))\n",
    "err = metrics.mean_squared_error(lin.predict(X_sc), y)\n",
    "print(\"Mean Squared Error: %.2f\" % err)"
   ]
  },
  {
   "cell_type": "markdown",
   "metadata": {},
   "source": [
    "In scikit-learn a random split into **Training** and **Validation** sets can be quickly computed with the `train_test_split` helper function:"
   ]
  },
  {
   "cell_type": "code",
   "execution_count": 14,
   "metadata": {},
   "outputs": [
    {
     "name": "stdout",
     "output_type": "stream",
     "text": [
      "Mean Squared Error: 23.34\n",
      "Model coefficient: 273.00288, and intercept: -143.70277\n"
     ]
    },
    {
     "data": {
      "text/html": [
       "\n",
       "\n",
       "\n",
       "\n",
       "\n",
       "\n",
       "  <div class=\"bk-root\" id=\"f35359b8-5b0d-4dfa-8ae2-813c9cb69556\" data-root-id=\"2402\"></div>\n"
      ]
     },
     "metadata": {},
     "output_type": "display_data"
    },
    {
     "data": {
      "application/javascript": [
       "(function(root) {\n",
       "  function embed_document(root) {\n",
       "    \n",
       "  var docs_json = {\"42a070bc-4dfe-42d2-8860-9e691ab65d65\":{\"roots\":{\"references\":[{\"attributes\":{\"below\":[{\"id\":\"2413\",\"type\":\"LinearAxis\"}],\"center\":[{\"id\":\"2417\",\"type\":\"Grid\"},{\"id\":\"2422\",\"type\":\"Grid\"},{\"id\":\"2447\",\"type\":\"Legend\"}],\"left\":[{\"id\":\"2418\",\"type\":\"LinearAxis\"}],\"plot_height\":400,\"plot_width\":700,\"renderers\":[{\"id\":\"2439\",\"type\":\"GlyphRenderer\"},{\"id\":\"2452\",\"type\":\"GlyphRenderer\"},{\"id\":\"2466\",\"type\":\"GlyphRenderer\"}],\"title\":{\"id\":\"2403\",\"type\":\"Title\"},\"toolbar\":{\"id\":\"2429\",\"type\":\"Toolbar\"},\"x_range\":{\"id\":\"2405\",\"type\":\"DataRange1d\"},\"x_scale\":{\"id\":\"2409\",\"type\":\"LinearScale\"},\"y_range\":{\"id\":\"2407\",\"type\":\"DataRange1d\"},\"y_scale\":{\"id\":\"2411\",\"type\":\"LinearScale\"}},\"id\":\"2402\",\"subtype\":\"Figure\",\"type\":\"Plot\"},{\"attributes\":{\"label\":{\"value\":\"Validation Set\"},\"renderers\":[{\"id\":\"2452\",\"type\":\"GlyphRenderer\"}]},\"id\":\"2462\",\"type\":\"LegendItem\"},{\"attributes\":{\"data_source\":{\"id\":\"2436\",\"type\":\"ColumnDataSource\"},\"glyph\":{\"id\":\"2437\",\"type\":\"Circle\"},\"hover_glyph\":null,\"muted_glyph\":null,\"nonselection_glyph\":{\"id\":\"2438\",\"type\":\"Circle\"},\"selection_glyph\":null,\"view\":{\"id\":\"2440\",\"type\":\"CDSView\"}},\"id\":\"2439\",\"type\":\"GlyphRenderer\"},{\"attributes\":{\"callback\":null,\"data\":{\"x\":{\"__ndarray__\":\"lisXDJIozT9CCqfgVifjPwAAAAAAAAAAZvDQDikc6z+UHSXuKYzcP1P5ujzt9tM/38J5626w6j8wkXXz7h3iP6q/Gt7dENw/zNY7uPnO7z9F7UVqyBnbP2XNbZ8h+uE/IF6eJs+W6j8kvAd+zAfYP01MBxNZGuk/h+qEyUc+4T/W4jMuA3nGP45JjfekAuQ/AVK28cCB4z8IIhdi4X3IP0eTJJFEvdw/SgTUBpr02D/y+bTlCfHFP2CGNFD//tU/zubkZehy4z9sprxLAaXsP7AXcxqfG90/Y3Lfqjrl4T+1gxhCFxnWP9ZZ2Sfw6ug/MW+0767A4D8abVW0RJjjP4umvirA9+E/kk6aoagW1z/9wU9YDm/nP79+0UjN1tU/vgIblTYZ5j+U8Ak5ouzIP////////+8/VhYXjDlB4D8NMHozi4vWP/6gDiVhDt8/zLkZ+vERzj9fHgU4RP3lPz/iKRqC4uM/+Cx0VNJU7T+a5gbzODbSPwMUxZ5W8uI/zNquIMpI4T8=\",\"dtype\":\"float64\",\"shape\":[49]},\"y\":{\"__ndarray__\":\"xpRtyxvEU8DwK951GD02QPrzF2w5y2HArZqwqQ/VVEAiiBJS+/U4wDWg0kuMYkrALv6xn05/V0CEbO9MiesyQIdIxT5VBjrA5AWqUQRfYEDDc4CX7048wHTaPQpx3vg/Hg5wvLLYVkCcxi0+qtpEwCi7IBd0YFBAmVeLfGirFkBWRAxSK/RWwAcS65kLkDZA+TX6+gHHN0BHVRGG8MpVwDjyE7j7SDPAX5nTjYM3SMB/0pqS2mFZwHcvCYFnQEvARmNgK/8LNkAQspkDWCRZQOgamcrj9yrA9H8um7yDMUBr6MX0Iv1GwEAgo8QeDVFAJJYSR1Oh/b+sBxsnMn05QHWfnnsG4B5Al+pCVC3vRsAxBAVZ1hZKQMveFg7G60nAOJgoZaZpQUBJMVbgNCBXwG77dXMqB2FAzPW/JPwY9b8Tyrc0aw9KwClFxYBbWyfAOyYFfOwdUsBcXJmhUE1CQHfJasQbNjlAg4sGVNamWUCZoYGhnnRQwGAMd06S2zJAaz0zkUe1C8A=\",\"dtype\":\"float64\",\"shape\":[49]}},\"selected\":{\"id\":\"2461\",\"type\":\"Selection\"},\"selection_policy\":{\"id\":\"2460\",\"type\":\"UnionRenderers\"}},\"id\":\"2436\",\"type\":\"ColumnDataSource\"},{\"attributes\":{},\"id\":\"2445\",\"type\":\"BasicTickFormatter\"},{\"attributes\":{\"line_color\":\"blue\",\"x\":{\"field\":\"x\"},\"y\":{\"field\":\"y\"}},\"id\":\"2464\",\"type\":\"Line\"},{\"attributes\":{},\"id\":\"2423\",\"type\":\"PanTool\"},{\"attributes\":{\"fill_alpha\":{\"value\":0.1},\"fill_color\":{\"value\":\"#1f77b4\"},\"line_alpha\":{\"value\":0.1},\"line_color\":{\"value\":\"#1f77b4\"},\"size\":{\"units\":\"screen\",\"value\":5},\"x\":{\"field\":\"x\"},\"y\":{\"field\":\"y\"}},\"id\":\"2438\",\"type\":\"Circle\"},{\"attributes\":{\"line_alpha\":0.1,\"line_color\":\"#1f77b4\",\"x\":{\"field\":\"x\"},\"y\":{\"field\":\"y\"}},\"id\":\"2465\",\"type\":\"Line\"},{\"attributes\":{},\"id\":\"2588\",\"type\":\"UnionRenderers\"},{\"attributes\":{\"overlay\":{\"id\":\"2446\",\"type\":\"BoxAnnotation\"}},\"id\":\"2425\",\"type\":\"BoxZoomTool\"},{\"attributes\":{\"data_source\":{\"id\":\"2463\",\"type\":\"ColumnDataSource\"},\"glyph\":{\"id\":\"2464\",\"type\":\"Line\"},\"hover_glyph\":null,\"muted_glyph\":null,\"nonselection_glyph\":{\"id\":\"2465\",\"type\":\"Line\"},\"selection_glyph\":null,\"view\":{\"id\":\"2467\",\"type\":\"CDSView\"}},\"id\":\"2466\",\"type\":\"GlyphRenderer\"},{\"attributes\":{},\"id\":\"2426\",\"type\":\"SaveTool\"},{\"attributes\":{\"source\":{\"id\":\"2463\",\"type\":\"ColumnDataSource\"}},\"id\":\"2467\",\"type\":\"CDSView\"},{\"attributes\":{},\"id\":\"2427\",\"type\":\"ResetTool\"},{\"attributes\":{},\"id\":\"2460\",\"type\":\"UnionRenderers\"},{\"attributes\":{},\"id\":\"2476\",\"type\":\"UnionRenderers\"},{\"attributes\":{},\"id\":\"2428\",\"type\":\"HelpTool\"},{\"attributes\":{},\"id\":\"2443\",\"type\":\"BasicTickFormatter\"},{\"attributes\":{\"fill_color\":{\"value\":\"green\"},\"line_alpha\":{\"value\":0.85},\"line_color\":{\"value\":\"darkgreen\"},\"size\":{\"units\":\"screen\",\"value\":5},\"x\":{\"field\":\"x\"},\"y\":{\"field\":\"y\"}},\"id\":\"2437\",\"type\":\"Circle\"},{\"attributes\":{\"text\":\"Training and Validation Sets\"},\"id\":\"2403\",\"type\":\"Title\"},{\"attributes\":{\"active_drag\":\"auto\",\"active_inspect\":\"auto\",\"active_multi\":null,\"active_scroll\":\"auto\",\"active_tap\":\"auto\",\"tools\":[{\"id\":\"2423\",\"type\":\"PanTool\"},{\"id\":\"2424\",\"type\":\"WheelZoomTool\"},{\"id\":\"2425\",\"type\":\"BoxZoomTool\"},{\"id\":\"2426\",\"type\":\"SaveTool\"},{\"id\":\"2427\",\"type\":\"ResetTool\"},{\"id\":\"2428\",\"type\":\"HelpTool\"}]},\"id\":\"2429\",\"type\":\"Toolbar\"},{\"attributes\":{},\"id\":\"2424\",\"type\":\"WheelZoomTool\"},{\"attributes\":{},\"id\":\"2589\",\"type\":\"Selection\"},{\"attributes\":{\"callback\":null,\"data\":{\"x\":{\"__ndarray__\":\"YAjFGS3i7T9XeZSI6d7fPwT2MVkd3t0/t5KhDwGq4z9zL7svEUHRP2Z6cqkqdtk/EYnKIbMd2z+Wj6IqIyjfP37mQVkgyOM/ED0IvIBfvj+dbHyhimHhPw+NuzBkPuc/Dxl0puas5j9mDyyFyhDdP7DLqGvNRuU/wbF6YDNl3z9KNWaiEOnUP8I3BHNs2uo/TCVBKlYE4z+4xXLJO7/hP2xx5TMrQ90/\",\"dtype\":\"float64\",\"shape\":[21]},\"y\":{\"__ndarray__\":\"qk9BquS2XUAQdeVNj/EtwChV8/1VIDrAq4xPJNUfM0AolOpHYD5TwMfwaz+fXUHAWH7zJyHDOMClguZOoN0ewEDqdjBL6zhA6logX/cdXsBk23/Iehfrv2Il4fLGNkxAJ/HVjNNTS0Dmf6Lh6NkywKJYsTSaL0JAMnEDfkGLJcDylGRtKZlJwLlwgWJZGlZA0IICQZGRNkCrYWZDiskhQMLJ7MLUsi/A\",\"dtype\":\"float64\",\"shape\":[21]}},\"selected\":{\"id\":\"2477\",\"type\":\"Selection\"},\"selection_policy\":{\"id\":\"2476\",\"type\":\"UnionRenderers\"}},\"id\":\"2449\",\"type\":\"ColumnDataSource\"},{\"attributes\":{\"callback\":null},\"id\":\"2405\",\"type\":\"DataRange1d\"},{\"attributes\":{},\"id\":\"2477\",\"type\":\"Selection\"},{\"attributes\":{\"source\":{\"id\":\"2436\",\"type\":\"ColumnDataSource\"}},\"id\":\"2440\",\"type\":\"CDSView\"},{\"attributes\":{\"callback\":null},\"id\":\"2407\",\"type\":\"DataRange1d\"},{\"attributes\":{\"label\":{\"value\":\"Linear Regression\"},\"renderers\":[{\"id\":\"2466\",\"type\":\"GlyphRenderer\"}]},\"id\":\"2478\",\"type\":\"LegendItem\"},{\"attributes\":{\"bottom_units\":\"screen\",\"fill_alpha\":{\"value\":0.5},\"fill_color\":{\"value\":\"lightgrey\"},\"left_units\":\"screen\",\"level\":\"overlay\",\"line_alpha\":{\"value\":1.0},\"line_color\":{\"value\":\"black\"},\"line_dash\":[4,4],\"line_width\":{\"value\":2},\"render_mode\":\"css\",\"right_units\":\"screen\",\"top_units\":\"screen\"},\"id\":\"2446\",\"type\":\"BoxAnnotation\"},{\"attributes\":{\"label\":{\"value\":\"Training Set\"},\"renderers\":[{\"id\":\"2439\",\"type\":\"GlyphRenderer\"}]},\"id\":\"2448\",\"type\":\"LegendItem\"},{\"attributes\":{},\"id\":\"2409\",\"type\":\"LinearScale\"},{\"attributes\":{\"callback\":null,\"data\":{\"x\":{\"__ndarray__\":\"AAAAAAAAAAAAAAAAAADwPw==\",\"dtype\":\"float64\",\"shape\":[2]},\"y\":{\"__ndarray__\":\"yrT4GH32YcBuxIaGmilgQA==\",\"dtype\":\"float64\",\"shape\":[2]}},\"selected\":{\"id\":\"2589\",\"type\":\"Selection\"},\"selection_policy\":{\"id\":\"2588\",\"type\":\"UnionRenderers\"}},\"id\":\"2463\",\"type\":\"ColumnDataSource\"},{\"attributes\":{},\"id\":\"2411\",\"type\":\"LinearScale\"},{\"attributes\":{\"fill_color\":{\"value\":\"orangered\"},\"line_alpha\":{\"value\":0.85},\"line_color\":{\"value\":\"#1f77b4\"},\"size\":{\"units\":\"screen\",\"value\":5},\"x\":{\"field\":\"x\"},\"y\":{\"field\":\"y\"}},\"id\":\"2450\",\"type\":\"Circle\"},{\"attributes\":{\"formatter\":{\"id\":\"2443\",\"type\":\"BasicTickFormatter\"},\"ticker\":{\"id\":\"2414\",\"type\":\"BasicTicker\"}},\"id\":\"2413\",\"type\":\"LinearAxis\"},{\"attributes\":{\"fill_alpha\":{\"value\":0.1},\"fill_color\":{\"value\":\"#1f77b4\"},\"line_alpha\":{\"value\":0.1},\"line_color\":{\"value\":\"#1f77b4\"},\"size\":{\"units\":\"screen\",\"value\":5},\"x\":{\"field\":\"x\"},\"y\":{\"field\":\"y\"}},\"id\":\"2451\",\"type\":\"Circle\"},{\"attributes\":{\"ticker\":{\"id\":\"2414\",\"type\":\"BasicTicker\"}},\"id\":\"2417\",\"type\":\"Grid\"},{\"attributes\":{\"data_source\":{\"id\":\"2449\",\"type\":\"ColumnDataSource\"},\"glyph\":{\"id\":\"2450\",\"type\":\"Circle\"},\"hover_glyph\":null,\"muted_glyph\":null,\"nonselection_glyph\":{\"id\":\"2451\",\"type\":\"Circle\"},\"selection_glyph\":null,\"view\":{\"id\":\"2453\",\"type\":\"CDSView\"}},\"id\":\"2452\",\"type\":\"GlyphRenderer\"},{\"attributes\":{\"formatter\":{\"id\":\"2445\",\"type\":\"BasicTickFormatter\"},\"ticker\":{\"id\":\"2419\",\"type\":\"BasicTicker\"}},\"id\":\"2418\",\"type\":\"LinearAxis\"},{\"attributes\":{},\"id\":\"2461\",\"type\":\"Selection\"},{\"attributes\":{\"source\":{\"id\":\"2449\",\"type\":\"ColumnDataSource\"}},\"id\":\"2453\",\"type\":\"CDSView\"},{\"attributes\":{\"items\":[{\"id\":\"2448\",\"type\":\"LegendItem\"},{\"id\":\"2462\",\"type\":\"LegendItem\"},{\"id\":\"2478\",\"type\":\"LegendItem\"}],\"location\":\"bottom_right\"},\"id\":\"2447\",\"type\":\"Legend\"},{\"attributes\":{},\"id\":\"2419\",\"type\":\"BasicTicker\"},{\"attributes\":{},\"id\":\"2414\",\"type\":\"BasicTicker\"},{\"attributes\":{\"dimension\":1,\"ticker\":{\"id\":\"2419\",\"type\":\"BasicTicker\"}},\"id\":\"2422\",\"type\":\"Grid\"}],\"root_ids\":[\"2402\"]},\"title\":\"Bokeh Application\",\"version\":\"1.2.0\"}};\n",
       "  var render_items = [{\"docid\":\"42a070bc-4dfe-42d2-8860-9e691ab65d65\",\"roots\":{\"2402\":\"f35359b8-5b0d-4dfa-8ae2-813c9cb69556\"}}];\n",
       "  root.Bokeh.embed.embed_items_notebook(docs_json, render_items);\n",
       "\n",
       "  }\n",
       "  if (root.Bokeh !== undefined) {\n",
       "    embed_document(root);\n",
       "  } else {\n",
       "    var attempts = 0;\n",
       "    var timer = setInterval(function(root) {\n",
       "      if (root.Bokeh !== undefined) {\n",
       "        embed_document(root);\n",
       "        clearInterval(timer);\n",
       "      }\n",
       "      attempts++;\n",
       "      if (attempts > 100) {\n",
       "        console.log(\"Bokeh: ERROR: Unable to run BokehJS code because BokehJS library is missing\");\n",
       "        clearInterval(timer);\n",
       "      }\n",
       "    }, 10, root)\n",
       "  }\n",
       "})(window);"
      ],
      "application/vnd.bokehjs_exec.v0+json": ""
     },
     "metadata": {
      "application/vnd.bokehjs_exec.v0+json": {
       "id": "2402"
      }
     },
     "output_type": "display_data"
    }
   ],
   "source": [
    "from sklearn import model_selection\n",
    "X_tr, X_valid, y_tr, y_valid = model_selection.train_test_split(X_sc, y,\n",
    "                                                                test_size=0.30, \n",
    "                                                                random_state=0)\n",
    "lin.fit(X_tr, y_tr)\n",
    "MSE = metrics.mean_squared_error(lin.predict(X_valid), y_valid)\n",
    "print(\"Mean Squared Error: %.2f\" % MSE)\n",
    "print(\"Model coefficient: %.5f, and intercept: %.5f\" % (lin.coef_, lin.intercept_))\n",
    "\n",
    "X_predicted = np.linspace(0, 1, 2)[:, np.newaxis]\n",
    "y_predicted = lin.predict(X_predicted)\n",
    "fig = bk.figure(title='Training and Validation Sets', \n",
    "                plot_width=700, plot_height=400)\n",
    "fig.circle(X_tr.squeeze(), y_tr,\n",
    "           size=5, line_alpha=0.85, fill_color='green', line_color='darkgreen',\n",
    "           legend='Training Set')\n",
    "fig.circle(X_valid.squeeze(), y_valid, \n",
    "           size=5, line_alpha=0.85, fill_color='orangered', legend='Validation Set')\n",
    "fig.line(X_predicted.ravel(), y_predicted, line_color='blue', legend='Linear Regression')\n",
    "fig.legend.location = 'bottom_right'\n",
    "bk.show(fig)"
   ]
  },
  {
   "cell_type": "markdown",
   "metadata": {},
   "source": [
    "### 3.1 Example: Do a Regression Analysis on MATLAB<sup>&reg;</sup> data"
   ]
  },
  {
   "cell_type": "markdown",
   "metadata": {},
   "source": [
    "The data are generated with the following MATLAB code:\n",
    "\n",
    "    % Generate Regression Test Data 02 ----------------------------------------\n",
    "    samples = 100; features = 5;\n",
    "    \n",
    "    X = rand(samples, features)\n",
    "    for i = 1:samples\n",
    "        X(i,:) = (X(i,:)*i)+i+0.1;\n",
    "    end\n",
    "    % Calculate y as a linear combination of features with coeff. 1.5, 2.5, ...\n",
    "    % and add some noise\n",
    "    noise = 0.1;\n",
    "    lin_comb = (1:features) + 0.5\n",
    "    y = (X+rand(samples, features)*noise)*lin_comb'\n",
    "    % Define feature names as 'F001', ... , 'Fnnn' up to 9999 features\n",
    "    feat_names = sprintf('F%04i',1);\n",
    "    for i = 2:features\n",
    "        feat_names = strvcat(feat_names, sprintf('F%04i',i));\n",
    "    end\n",
    "    \n",
    "    save ('matlab_test_data_02', 'X','y', 'feat_names')"
   ]
  },
  {
   "cell_type": "code",
   "execution_count": 15,
   "metadata": {},
   "outputs": [],
   "source": [
    "from sklearn import preprocessing, linear_model\n",
    "mat = scipy.io.loadmat('example_data/matlab_test_data_02.mat')\n",
    "col = [s.strip() for s in list(mat['feat_names'])]"
   ]
  },
  {
   "cell_type": "code",
   "execution_count": 16,
   "metadata": {},
   "outputs": [],
   "source": [
    "Xt,Xv,yt,yv = model_selection.train_test_split(mat['X'], mat['y'],test_size=0.30,\n",
    "                                                random_state=0)\n",
    "Xt = pd.DataFrame(Xt, columns=col)\n",
    "Xv = pd.DataFrame(Xv, columns=col)\n",
    "yt = pd.DataFrame(yt, columns=['measured'])\n",
    "yv = pd.DataFrame(yv, columns=['measured'])"
   ]
  },
  {
   "cell_type": "code",
   "execution_count": 17,
   "metadata": {},
   "outputs": [
    {
     "data": {
      "text/html": [
       "<div>\n",
       "<style scoped>\n",
       "    .dataframe tbody tr th:only-of-type {\n",
       "        vertical-align: middle;\n",
       "    }\n",
       "\n",
       "    .dataframe tbody tr th {\n",
       "        vertical-align: top;\n",
       "    }\n",
       "\n",
       "    .dataframe thead th {\n",
       "        text-align: right;\n",
       "    }\n",
       "</style>\n",
       "<table border=\"1\" class=\"dataframe\">\n",
       "  <thead>\n",
       "    <tr style=\"text-align: right;\">\n",
       "      <th></th>\n",
       "      <th>F0001</th>\n",
       "      <th>F0002</th>\n",
       "      <th>F0003</th>\n",
       "      <th>F0004</th>\n",
       "      <th>F0005</th>\n",
       "      <th>F0006</th>\n",
       "    </tr>\n",
       "  </thead>\n",
       "  <tbody>\n",
       "    <tr>\n",
       "      <th>0</th>\n",
       "      <td>131.391611</td>\n",
       "      <td>178.588071</td>\n",
       "      <td>191.836028</td>\n",
       "      <td>206.928031</td>\n",
       "      <td>188.601869</td>\n",
       "      <td>195.879822</td>\n",
       "    </tr>\n",
       "    <tr>\n",
       "      <th>1</th>\n",
       "      <td>137.771630</td>\n",
       "      <td>91.462643</td>\n",
       "      <td>76.438656</td>\n",
       "      <td>104.585583</td>\n",
       "      <td>123.265090</td>\n",
       "      <td>73.587835</td>\n",
       "    </tr>\n",
       "    <tr>\n",
       "      <th>2</th>\n",
       "      <td>789.737369</td>\n",
       "      <td>671.934539</td>\n",
       "      <td>835.830887</td>\n",
       "      <td>515.921167</td>\n",
       "      <td>901.167154</td>\n",
       "      <td>813.659391</td>\n",
       "    </tr>\n",
       "  </tbody>\n",
       "</table>\n",
       "</div>"
      ],
      "text/plain": [
       "        F0001       F0002       F0003       F0004       F0005       F0006\n",
       "0  131.391611  178.588071  191.836028  206.928031  188.601869  195.879822\n",
       "1  137.771630   91.462643   76.438656  104.585583  123.265090   73.587835\n",
       "2  789.737369  671.934539  835.830887  515.921167  901.167154  813.659391"
      ]
     },
     "execution_count": 17,
     "metadata": {},
     "output_type": "execute_result"
    }
   ],
   "source": [
    "Xt.head(3)"
   ]
  },
  {
   "cell_type": "code",
   "execution_count": 18,
   "metadata": {},
   "outputs": [
    {
     "data": {
      "text/plain": [
       "array([[ 2.46,  0.88,  1.49,  2.39,  2.1 ,  2.5 ],\n",
       "       [ 0.5 ,  0.64,  0.64,  0.54,  0.43,  0.96],\n",
       "       [-0.75, -0.93, -0.81, -0.61, -0.44, -0.83],\n",
       "       ...,\n",
       "       [ 1.24,  2.17,  0.7 ,  2.22,  1.78,  2.63],\n",
       "       [ 0.4 , -0.15, -0.38,  0.05, -0.17,  0.4 ],\n",
       "       [-1.53, -1.55, -1.55, -1.55, -1.58, -1.55]])"
      ]
     },
     "execution_count": 18,
     "metadata": {},
     "output_type": "execute_result"
    }
   ],
   "source": [
    "# Scaler is fitted only on training data\n",
    "Xts = Xt.copy()\n",
    "Xvs = Xv.copy()\n",
    "scaler = preprocessing.StandardScaler(copy=False, with_mean=True, with_std=True).fit(Xt)\n",
    "scaler.transform(Xts)\n",
    "scaler.transform(Xv)"
   ]
  },
  {
   "cell_type": "code",
   "execution_count": 19,
   "metadata": {},
   "outputs": [
    {
     "data": {
      "text/html": [
       "<div>\n",
       "<style scoped>\n",
       "    .dataframe tbody tr th:only-of-type {\n",
       "        vertical-align: middle;\n",
       "    }\n",
       "\n",
       "    .dataframe tbody tr th {\n",
       "        vertical-align: top;\n",
       "    }\n",
       "\n",
       "    .dataframe thead th {\n",
       "        text-align: right;\n",
       "    }\n",
       "</style>\n",
       "<table border=\"1\" class=\"dataframe\">\n",
       "  <thead>\n",
       "    <tr style=\"text-align: right;\">\n",
       "      <th></th>\n",
       "      <th>F0001</th>\n",
       "      <th>F0002</th>\n",
       "      <th>F0003</th>\n",
       "      <th>F0004</th>\n",
       "      <th>F0005</th>\n",
       "      <th>F0006</th>\n",
       "    </tr>\n",
       "  </thead>\n",
       "  <tbody>\n",
       "    <tr>\n",
       "      <th>0</th>\n",
       "      <td>-1.294851</td>\n",
       "      <td>-1.210162</td>\n",
       "      <td>-1.171325</td>\n",
       "      <td>-1.148142</td>\n",
       "      <td>-1.198971</td>\n",
       "      <td>-1.160278</td>\n",
       "    </tr>\n",
       "    <tr>\n",
       "      <th>1</th>\n",
       "      <td>-1.281377</td>\n",
       "      <td>-1.399557</td>\n",
       "      <td>-1.416333</td>\n",
       "      <td>-1.371187</td>\n",
       "      <td>-1.344097</td>\n",
       "      <td>-1.424161</td>\n",
       "    </tr>\n",
       "    <tr>\n",
       "      <th>2</th>\n",
       "      <td>0.095500</td>\n",
       "      <td>-0.137716</td>\n",
       "      <td>0.195982</td>\n",
       "      <td>-0.474723</td>\n",
       "      <td>0.383782</td>\n",
       "      <td>0.172776</td>\n",
       "    </tr>\n",
       "  </tbody>\n",
       "</table>\n",
       "</div>"
      ],
      "text/plain": [
       "      F0001     F0002     F0003     F0004     F0005     F0006\n",
       "0 -1.294851 -1.210162 -1.171325 -1.148142 -1.198971 -1.160278\n",
       "1 -1.281377 -1.399557 -1.416333 -1.371187 -1.344097 -1.424161\n",
       "2  0.095500 -0.137716  0.195982 -0.474723  0.383782  0.172776"
      ]
     },
     "execution_count": 19,
     "metadata": {},
     "output_type": "execute_result"
    }
   ],
   "source": [
    "Xts.head(3)"
   ]
  },
  {
   "cell_type": "code",
   "execution_count": 20,
   "metadata": {},
   "outputs": [
    {
     "name": "stdout",
     "output_type": "stream",
     "text": [
      "[[ 708.82 1153.81 1647.24 2066.73 2474.24 3011.71]]\n",
      "[17692.81]\n"
     ]
    }
   ],
   "source": [
    "model = linear_model.LinearRegression(fit_intercept=True, normalize=True)\n",
    "model.fit(Xts, yt)\n",
    "# NOTICE: coefficients are much different from 1.5, 2.5, ... when fitting on scaled data\n",
    "print(model.coef_)\n",
    "print(model.intercept_)"
   ]
  },
  {
   "cell_type": "code",
   "execution_count": 21,
   "metadata": {},
   "outputs": [
    {
     "data": {
      "text/html": [
       "\n",
       "\n",
       "\n",
       "\n",
       "\n",
       "\n",
       "  <div class=\"bk-root\" id=\"79305549-5561-4a87-8ee8-355284cf73ea\" data-root-id=\"2662\"></div>\n"
      ]
     },
     "metadata": {},
     "output_type": "display_data"
    },
    {
     "data": {
      "application/javascript": [
       "(function(root) {\n",
       "  function embed_document(root) {\n",
       "    \n",
       "  var docs_json = {\"2031a0b2-a838-4635-91b1-022fb015dd0b\":{\"roots\":{\"references\":[{\"attributes\":{\"below\":[{\"id\":\"2673\",\"type\":\"LinearAxis\"}],\"center\":[{\"id\":\"2677\",\"type\":\"Grid\"},{\"id\":\"2682\",\"type\":\"Grid\"}],\"left\":[{\"id\":\"2678\",\"type\":\"LinearAxis\"}],\"plot_height\":400,\"renderers\":[{\"id\":\"2699\",\"type\":\"GlyphRenderer\"}],\"title\":{\"id\":\"2663\",\"type\":\"Title\"},\"toolbar\":{\"id\":\"2689\",\"type\":\"Toolbar\"},\"x_range\":{\"id\":\"2665\",\"type\":\"DataRange1d\"},\"x_scale\":{\"id\":\"2669\",\"type\":\"LinearScale\"},\"y_range\":{\"id\":\"2667\",\"type\":\"DataRange1d\"},\"y_scale\":{\"id\":\"2671\",\"type\":\"LinearScale\"}},\"id\":\"2662\",\"subtype\":\"Figure\",\"type\":\"Plot\"},{\"attributes\":{\"fill_alpha\":{\"value\":0.5},\"fill_color\":{\"value\":\"blue\"},\"line_alpha\":{\"value\":0.2},\"size\":{\"units\":\"screen\",\"value\":8},\"x\":{\"field\":\"x\"},\"y\":{\"field\":\"y\"}},\"id\":\"2697\",\"type\":\"Circle\"},{\"attributes\":{\"callback\":null},\"id\":\"2665\",\"type\":\"DataRange1d\"},{\"attributes\":{\"axis_label\":\"y pred\",\"formatter\":{\"id\":\"2816\",\"type\":\"BasicTickFormatter\"},\"ticker\":{\"id\":\"2679\",\"type\":\"BasicTicker\"}},\"id\":\"2678\",\"type\":\"LinearAxis\"},{\"attributes\":{\"text\":\"Measured Values VS Predicted Values\"},\"id\":\"2663\",\"type\":\"Title\"},{\"attributes\":{\"ticker\":{\"id\":\"2674\",\"type\":\"BasicTicker\"}},\"id\":\"2677\",\"type\":\"Grid\"},{\"attributes\":{\"callback\":null,\"data\":{\"x\":{\"__ndarray__\":\"btqENO/O40AHNDNT01PYQGoVhTLzWMNAhakIu2zy0EC7p7vRVg3aQM32SKL15uFAUUHdfaSBkkDk4bX8lmDBQFD34/w3WcpACOagC22C10DBO6bTuHHTQCpZI7RJDs5AN0IvjLZM2kCSSIUlu3HCQIGr5LAjuNJAf2dxEwqkoEBakXacpWvfQEJkxJiBbLlAHymO2VkFgUCxm9pVGC2lQG69JqmLOJVAPZ1qiEei0UDmVW05IgfHQBDN6y7rc8VAlXCUdIgi3UDYear38H7cQOni8dqBsJhA2AKKoqGAqUBOm/s8cafcQMuapE8GZ1xAsnqI2AQI3kB6XIgjm1XYQPWoesJNx9RAMCC/qkwZ2kBnPL+BK5PLQAVxSS1PVdVAAPngIi/P30ChYtBPFxvJQIWGs4644N9AWppa+33cxEB7b4asebbAQALjJlsXzeFAy1TdK9iI1kAgMfF7KBjZQPOGajnB7MFAksIC/YOl2kBCsKrcgr7eQOlF1tNGsbJA67ExROXNxkB0pS8rjpbUQD5XkQsF8MZAaQEaKxWJx0C2Ibt/4rfFQIK2IPKiTc1An9TboIP+2kBSHpL5n33UQKidptDc3sFAiAcXEswaxED93QRghPngQMmUq/U7xMZANwnNsWnt00A6cTUgPRzWQMM5Ig9rELVAk2fJ9sGAvEDo6ofSFM3MQNhUXnXWJbtA5T7vyDeJxED780RP/bXTQAtiCxY178NAoUF1XTTj0kCiDLuvKkTVQHtXSxo2/cRAe7tf5uI32EAQH/ogI13BQEVVlgn3ZOBAbgtMI9+r0EB9Up1ln/jNQG4GnjVKgd9ABiTF8Sdq0UAtkvpuks/XQGq7qN4DpcFAKo033yHBzkCowq3GTs7PQBaLcuC+IOBA/S7B2Ehv4UBsQlcTkAzYQMvebc71WcJAfJqGlgeB0UCd6BafF3LSQKj8Nq6/H99AEMHVBVa20UAKHFWiRvvPQPhVR0e5XeNAmqUgDMWzxEBMDja3eDfWQPxEvkBwFtJArBSSLp7y0kB7U0P+UZyxQIjtG43oL8xAO9ZgR0S510B8tZJWKVHcQDZeQpNbgd9ANTa+8dhipEB/3fFfrBTeQPgYNVn9KchA0QsWXKR600CEtSSbvyjUQEjEcM51IthAbOh8hB9I4UDi5srEtHW/QAxUEBdSB69A3jjzqAAk0UAecXkOLo3QQFvic9dDBtNAi+z2s/N+v0BK2tSkD3HLQOh85LtH/9VAUADNFdm7x0AO4ua6IWTQQPjMcg3UUM9AyTjtvR722kBXa+LXQ/jgQMRZBPiWVq5AWCOiQlXf4UANif4kXzShQA2yoY6CqtxAHQ8ILCHhzUCu8O0rOHTEQFyBZiesyt5AOCylHNDP00BtP3vmnq3TQOYzDuCkfNdAjuA8xMjM1UDCN7lUc2/YQBq8dmIyDtlAvhXQIXTd1UCVFwCdjSfGQGSba4QTbnZAhI2v5VXn00CmYnqfk0nfQEZLnEN8PLBAn2k3bvbB00A62uzVyprSQOv9BhWGHMBAqEoEpgLmxECMQfxTUPvHQHpKonwzIcpAip1wNfGDykDa+hR45tKgQIO/MrfJc5JAqt/Id/OvwUAN7qE5YyuVQCR7W1YTF89A7Isin0c62kB3IUTCMEHhQO0JvDNnCeFA7Vevxm8u0UD+y5IZI6jIQLzcJ/nRzuJANt+f328t00C5pAy5X0nWQBG+Lb1OHd5ATdorsSD710AJdLGrKbXdQIU29hff0uBA1C/w2da8x0BGZuWuIHTKQLyGhMMasOBA+myMryOHy0CbonwJJ7zJQEqK4AaWh+FAzbFGyn8E3EAzruF/EHm1QFzuFqWwu9xAjDOfAra2zkBbrqrkYuvZQFYUgwq/qsBA47waxOTl1EAIpJKA3Z3dQOYoVyqIuLRA/WDtFcLY4EBU4+7xZ3HhQCMeStC2f9FAToLzTzSWw0CQ2VdzY7PeQHqU/q6Sxt1AJvmNI5gb2EAeGdDZTwDRQFH6cPh6atxA/PQOPe+Nu0CsqlV1exLcQBsmm+Pr/ttAikaLjndwzUAZMI92F7pzQJYWh5jMqNtA4w8lbIcI2UA7dX/wvQLZQLCGzk3KBsBAjk5JA1fS1kARkSZ7RKe4QNKo0XsCYNZA+PgqItny0UDW7y1ONWfKQAOsrHVesOFAQte5i/On2kBiYQCuV6jTQAUOh8qrANxAAjRATusK0kDidNGEEkbSQDSWo6jxq+FA5Y7NI+IVskCj0Etvcq7XQC7mdotc0ZZA2DOD+Owd3kAaknCGD43fQMpUob84T+NAO2shS3qzt0AfTu1F4nK3QBOKm3v/QphAbq+TX9oJ00CwhjPJY7ndQHpwr8U4/NFA1imqaE2N4EDMZGRs69DFQMX92hUkt8tAF+aAL9miwkDT52BEIafTQDX+V7VUCNBAGNkvdJJ5iEAY7JBwShPRQHzEJkMCf9VAVhfLXmAEx0Cq2GijGzzXQEt9467YXd9A9Un4hynboEBqLq4T7gipQAKK0DiQvNpAlNRHLtK1u0BQuP2FuuLaQDUTDuM4cblAuD7N5ZJn00DReoiTwN3QQLN7M0QyScBAlODsWo5MzEASQBPw5vTiQNgMKeCo1NFA7/xkjdg5xkA/e3ongzllQKn9wc5SydJAR1ma29F82EC45l3Rv9jBQMqvZf9B19hAcGHbjDW7pkAdmRPCeDThQObePysFC6dAkI1JvExl20D0zZys9PbYQOg7Y3/E+tBA95ygWNey3UBtzRPlVzKVQJ/fQKkf3uFAqtR0c/AR20C2IoMSNtzQQDmiFIxViLRASyMO2T3U20BXNAUzKMbTQNSKZgH/6NxAu7iCxKqE0EAqaqgha+LIQHCKA7A4Pc9A8vaHHnL71kB/vj5uHrnRQJEUxm14XZpAb0XBSIUbtkBhPJZZDtXWQEpHRdKzEt1AJkTfgCLM3kBGj3xj4iLTQDwLDBDjodFA+9gb8pZLtUCPHIz/ScDgQAJfIkqPasNASO7uSaBPykDEBU9esCXgQPuByyaw9ddAVRaJ94FAlkCQDrPBCDrcQBGS0n2AGeBAiPI9W2KKtUC024ZANc68QIdjv4OsAdhAdbcZBc1KvkCb0ivEkPfYQHEB/OLsBt9AYolChWrK2ECcKBSItfa0QKljxzQq9+BAluKQQcEa40D49gXOhKDRQCLZjeF1lXtA\",\"dtype\":\"float64\",\"shape\":[300]},\"y\":{\"__ndarray__\":\"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\",\"dtype\":\"float64\",\"shape\":[300]}},\"selected\":{\"id\":\"2819\",\"type\":\"Selection\"},\"selection_policy\":{\"id\":\"2818\",\"type\":\"UnionRenderers\"}},\"id\":\"2696\",\"type\":\"ColumnDataSource\"},{\"attributes\":{},\"id\":\"2683\",\"type\":\"PanTool\"},{\"attributes\":{\"dimension\":1,\"ticker\":{\"id\":\"2679\",\"type\":\"BasicTicker\"}},\"id\":\"2682\",\"type\":\"Grid\"},{\"attributes\":{},\"id\":\"2684\",\"type\":\"WheelZoomTool\"},{\"attributes\":{\"overlay\":{\"id\":\"2817\",\"type\":\"BoxAnnotation\"}},\"id\":\"2685\",\"type\":\"BoxZoomTool\"},{\"attributes\":{},\"id\":\"2679\",\"type\":\"BasicTicker\"},{\"attributes\":{},\"id\":\"2686\",\"type\":\"SaveTool\"},{\"attributes\":{},\"id\":\"2687\",\"type\":\"ResetTool\"},{\"attributes\":{},\"id\":\"2688\",\"type\":\"HelpTool\"},{\"attributes\":{},\"id\":\"2814\",\"type\":\"BasicTickFormatter\"},{\"attributes\":{\"active_drag\":\"auto\",\"active_inspect\":\"auto\",\"active_multi\":null,\"active_scroll\":\"auto\",\"active_tap\":\"auto\",\"tools\":[{\"id\":\"2683\",\"type\":\"PanTool\"},{\"id\":\"2684\",\"type\":\"WheelZoomTool\"},{\"id\":\"2685\",\"type\":\"BoxZoomTool\"},{\"id\":\"2686\",\"type\":\"SaveTool\"},{\"id\":\"2687\",\"type\":\"ResetTool\"},{\"id\":\"2688\",\"type\":\"HelpTool\"}]},\"id\":\"2689\",\"type\":\"Toolbar\"},{\"attributes\":{},\"id\":\"2674\",\"type\":\"BasicTicker\"},{\"attributes\":{\"fill_alpha\":{\"value\":0.1},\"fill_color\":{\"value\":\"#1f77b4\"},\"line_alpha\":{\"value\":0.1},\"line_color\":{\"value\":\"#1f77b4\"},\"size\":{\"units\":\"screen\",\"value\":8},\"x\":{\"field\":\"x\"},\"y\":{\"field\":\"y\"}},\"id\":\"2698\",\"type\":\"Circle\"},{\"attributes\":{\"data_source\":{\"id\":\"2696\",\"type\":\"ColumnDataSource\"},\"glyph\":{\"id\":\"2697\",\"type\":\"Circle\"},\"hover_glyph\":null,\"muted_glyph\":null,\"nonselection_glyph\":{\"id\":\"2698\",\"type\":\"Circle\"},\"selection_glyph\":null,\"view\":{\"id\":\"2700\",\"type\":\"CDSView\"}},\"id\":\"2699\",\"type\":\"GlyphRenderer\"},{\"attributes\":{\"bottom_units\":\"screen\",\"fill_alpha\":{\"value\":0.5},\"fill_color\":{\"value\":\"lightgrey\"},\"left_units\":\"screen\",\"level\":\"overlay\",\"line_alpha\":{\"value\":1.0},\"line_color\":{\"value\":\"black\"},\"line_dash\":[4,4],\"line_width\":{\"value\":2},\"render_mode\":\"css\",\"right_units\":\"screen\",\"top_units\":\"screen\"},\"id\":\"2817\",\"type\":\"BoxAnnotation\"},{\"attributes\":{\"callback\":null},\"id\":\"2667\",\"type\":\"DataRange1d\"},{\"attributes\":{},\"id\":\"2818\",\"type\":\"UnionRenderers\"},{\"attributes\":{\"source\":{\"id\":\"2696\",\"type\":\"ColumnDataSource\"}},\"id\":\"2700\",\"type\":\"CDSView\"},{\"attributes\":{},\"id\":\"2819\",\"type\":\"Selection\"},{\"attributes\":{\"axis_label\":\"y val\",\"formatter\":{\"id\":\"2814\",\"type\":\"BasicTickFormatter\"},\"ticker\":{\"id\":\"2674\",\"type\":\"BasicTicker\"}},\"id\":\"2673\",\"type\":\"LinearAxis\"},{\"attributes\":{},\"id\":\"2669\",\"type\":\"LinearScale\"},{\"attributes\":{},\"id\":\"2671\",\"type\":\"LinearScale\"},{\"attributes\":{},\"id\":\"2816\",\"type\":\"BasicTickFormatter\"}],\"root_ids\":[\"2662\"]},\"title\":\"Bokeh Application\",\"version\":\"1.2.0\"}};\n",
       "  var render_items = [{\"docid\":\"2031a0b2-a838-4635-91b1-022fb015dd0b\",\"roots\":{\"2662\":\"79305549-5561-4a87-8ee8-355284cf73ea\"}}];\n",
       "  root.Bokeh.embed.embed_items_notebook(docs_json, render_items);\n",
       "\n",
       "  }\n",
       "  if (root.Bokeh !== undefined) {\n",
       "    embed_document(root);\n",
       "  } else {\n",
       "    var attempts = 0;\n",
       "    var timer = setInterval(function(root) {\n",
       "      if (root.Bokeh !== undefined) {\n",
       "        embed_document(root);\n",
       "        clearInterval(timer);\n",
       "      }\n",
       "      attempts++;\n",
       "      if (attempts > 100) {\n",
       "        console.log(\"Bokeh: ERROR: Unable to run BokehJS code because BokehJS library is missing\");\n",
       "        clearInterval(timer);\n",
       "      }\n",
       "    }, 10, root)\n",
       "  }\n",
       "})(window);"
      ],
      "application/vnd.bokehjs_exec.v0+json": ""
     },
     "metadata": {
      "application/vnd.bokehjs_exec.v0+json": {
       "id": "2662"
      }
     },
     "output_type": "display_data"
    }
   ],
   "source": [
    "# Plot the data and the model prediction\n",
    "yp = model.predict(Xvs)\n",
    "fig = bk.figure(title='Measured Values VS Predicted Values',\n",
    "                x_axis_label='y val', y_axis_label='y pred',\n",
    "                plot_width=600, plot_height=400)\n",
    "fig.circle(yv['measured'], yp[:,0], size=8,\n",
    "           fill_color='blue', fill_alpha=0.5, line_color='black', alpha=0.2)\n",
    "bk.show(fig)"
   ]
  },
  {
   "cell_type": "markdown",
   "metadata": {},
   "source": [
    "### 3.2 Example: Training and a Validation Sets on a Classification Problem"
   ]
  },
  {
   "cell_type": "markdown",
   "metadata": {},
   "source": [
    "The K-neighbors is an instance-based classifier that predicts the label of an unknown point based on the labels of the *K* nearest points in the parameter space:"
   ]
  },
  {
   "cell_type": "code",
   "execution_count": 22,
   "metadata": {},
   "outputs": [
    {
     "name": "stdout",
     "output_type": "stream",
     "text": [
      "[[178   0   0   0   0   0   0   0   0   0]\n",
      " [  0 182   0   0   0   0   0   0   0   0]\n",
      " [  0   0 177   0   0   0   0   0   0   0]\n",
      " [  0   0   0 183   0   0   0   0   0   0]\n",
      " [  0   0   0   0 181   0   0   0   0   0]\n",
      " [  0   0   0   0   0 182   0   0   0   0]\n",
      " [  0   0   0   0   0   0 181   0   0   0]\n",
      " [  0   0   0   0   0   0   0 179   0   0]\n",
      " [  0   0   0   0   0   0   0   0 174   0]\n",
      " [  0   0   0   0   0   0   0   0   0 180]]\n",
      "\n",
      "F1 Score:   1.0\n"
     ]
    }
   ],
   "source": [
    "from sklearn import neighbors\n",
    "digits = datasets.load_digits()\n",
    "X, y = digits.data, digits.target\n",
    "\n",
    "clf = neighbors.KNeighborsClassifier(n_neighbors=1)\n",
    "clf.fit(X, y)\n",
    "y_pred = clf.predict(X)\n",
    "print(metrics.confusion_matrix(y_pred, y))\n",
    "print('\\nF1 Score:  ', metrics.f1_score(y_pred, y, average='weighted'))"
   ]
  },
  {
   "cell_type": "markdown",
   "metadata": {},
   "source": [
    "Apparently, we've found a perfect classifier!  But this is misleading for the reasons we saw before: the classifier essentially \"memorizes\" all the samples it has already seen.  To really test how well this algorithm does, we need to try some samples it *hasn't* yet seen.\n",
    "\n",
    "Here we split the original data in **Training** and **Validation** sets and run again the previous algorithm. In this case we see that we still have a good classifier but the precision is reduced:"
   ]
  },
  {
   "cell_type": "code",
   "execution_count": 23,
   "metadata": {},
   "outputs": [
    {
     "name": "stdout",
     "output_type": "stream",
     "text": [
      "[[60  0  0  0  0  0  0  0  0  0]\n",
      " [ 0 73  0  0  0  0  0  0  0  0]\n",
      " [ 0  0 71  0  0  0  0  0  0  0]\n",
      " [ 0  0  0 70  0  0  0  0  0  0]\n",
      " [ 0  0  0  0 63  0  0  0  0  0]\n",
      " [ 0  0  0  0  0 87  1  0  0  1]\n",
      " [ 0  0  0  0  0  0 76  0  0  0]\n",
      " [ 0  0  0  0  0  0  0 65  0  0]\n",
      " [ 0  2  0  1  0  0  0  0 74  1]\n",
      " [ 0  0  0  2  0  1  0  0  0 71]]\n",
      "\n",
      "F1 Score:   0.9874410807522929\n"
     ]
    }
   ],
   "source": [
    "X_tr, X_valid, y_tr, y_valid = model_selection.train_test_split(X, \n",
    "                                                                 y,\n",
    "                                                                 test_size=0.40, \n",
    "                                                                 random_state=0)\n",
    "clf = neighbors.KNeighborsClassifier(n_neighbors=1).fit(X_tr, y_tr)\n",
    "y_pred = clf.predict(X_valid)\n",
    "print(metrics.confusion_matrix(y_valid, y_pred))\n",
    "print('\\nF1 Score:  ', metrics.f1_score(y_valid, y_pred, average='weighted'))"
   ]
  },
  {
   "cell_type": "markdown",
   "metadata": {},
   "source": [
    "## 4 Do I need a Simple or a Complex Model?"
   ]
  },
  {
   "cell_type": "markdown",
   "metadata": {},
   "source": [
    "In order to show the relation between the size of the training dataset and the complexity of the model we generate some example data in the same way we did in the very first example but with more than ten times the number of samples. The we fit a polynomial model and we plot the error w.r.t. the degree of polynomial.\n",
    "\n",
    "Here **Training Data** are plotted in **Blue** while **Validation Data** are **Red**:"
   ]
  },
  {
   "cell_type": "code",
   "execution_count": 24,
   "metadata": {},
   "outputs": [
    {
     "data": {
      "text/html": [
       "\n",
       "\n",
       "\n",
       "\n",
       "\n",
       "\n",
       "  <div class=\"bk-root\" id=\"211cc0e2-ea67-491d-a8e9-0e4ce8775c7d\" data-root-id=\"2868\"></div>\n"
      ]
     },
     "metadata": {},
     "output_type": "display_data"
    },
    {
     "data": {
      "application/javascript": [
       "(function(root) {\n",
       "  function embed_document(root) {\n",
       "    \n",
       "  var docs_json = {\"452a6f7d-fdef-4885-a7b9-d0db9261fb64\":{\"roots\":{\"references\":[{\"attributes\":{\"below\":[{\"id\":\"2878\",\"type\":\"LinearAxis\"}],\"center\":[{\"id\":\"2882\",\"type\":\"Grid\"},{\"id\":\"2887\",\"type\":\"Grid\"}],\"left\":[{\"id\":\"2883\",\"type\":\"LinearAxis\"}],\"plot_height\":400,\"plot_width\":700,\"renderers\":[{\"id\":\"2904\",\"type\":\"GlyphRenderer\"},{\"id\":\"2909\",\"type\":\"GlyphRenderer\"}],\"title\":null,\"toolbar\":{\"id\":\"2894\",\"type\":\"Toolbar\"},\"x_range\":{\"id\":\"2870\",\"type\":\"DataRange1d\"},\"x_scale\":{\"id\":\"2874\",\"type\":\"LinearScale\"},\"y_range\":{\"id\":\"2872\",\"type\":\"DataRange1d\"},\"y_scale\":{\"id\":\"2876\",\"type\":\"LinearScale\"}},\"id\":\"2868\",\"subtype\":\"Figure\",\"type\":\"Plot\"},{\"attributes\":{\"data_source\":{\"id\":\"2901\",\"type\":\"ColumnDataSource\"},\"glyph\":{\"id\":\"2902\",\"type\":\"Circle\"},\"hover_glyph\":null,\"muted_glyph\":null,\"nonselection_glyph\":{\"id\":\"2903\",\"type\":\"Circle\"},\"selection_glyph\":null,\"view\":{\"id\":\"2905\",\"type\":\"CDSView\"}},\"id\":\"2904\",\"type\":\"GlyphRenderer\"},{\"attributes\":{\"callback\":null},\"id\":\"2872\",\"type\":\"DataRange1d\"},{\"attributes\":{},\"id\":\"3036\",\"type\":\"UnionRenderers\"},{\"attributes\":{},\"id\":\"2874\",\"type\":\"LinearScale\"},{\"attributes\":{\"fill_alpha\":{\"value\":0.5},\"fill_color\":{\"value\":\"red\"},\"line_alpha\":{\"value\":0.5},\"line_color\":{\"value\":\"red\"},\"size\":{\"units\":\"screen\",\"value\":6},\"x\":{\"field\":\"x\"},\"y\":{\"field\":\"y\"}},\"id\":\"2907\",\"type\":\"Circle\"},{\"attributes\":{},\"id\":\"2876\",\"type\":\"LinearScale\"},{\"attributes\":{\"formatter\":{\"id\":\"3032\",\"type\":\"BasicTickFormatter\"},\"ticker\":{\"id\":\"2879\",\"type\":\"BasicTicker\"}},\"id\":\"2878\",\"type\":\"LinearAxis\"},{\"attributes\":{},\"id\":\"3037\",\"type\":\"Selection\"},{\"attributes\":{},\"id\":\"3038\",\"type\":\"UnionRenderers\"},{\"attributes\":{\"ticker\":{\"id\":\"2879\",\"type\":\"BasicTicker\"}},\"id\":\"2882\",\"type\":\"Grid\"},{\"attributes\":{},\"id\":\"3039\",\"type\":\"Selection\"},{\"attributes\":{\"formatter\":{\"id\":\"3034\",\"type\":\"BasicTickFormatter\"},\"ticker\":{\"id\":\"2884\",\"type\":\"BasicTicker\"}},\"id\":\"2883\",\"type\":\"LinearAxis\"},{\"attributes\":{},\"id\":\"2884\",\"type\":\"BasicTicker\"},{\"attributes\":{\"dimension\":1,\"ticker\":{\"id\":\"2884\",\"type\":\"BasicTicker\"}},\"id\":\"2887\",\"type\":\"Grid\"},{\"attributes\":{\"bottom_units\":\"screen\",\"fill_alpha\":{\"value\":0.5},\"fill_color\":{\"value\":\"lightgrey\"},\"left_units\":\"screen\",\"level\":\"overlay\",\"line_alpha\":{\"value\":1.0},\"line_color\":{\"value\":\"black\"},\"line_dash\":[4,4],\"line_width\":{\"value\":2},\"render_mode\":\"css\",\"right_units\":\"screen\",\"top_units\":\"screen\"},\"id\":\"3035\",\"type\":\"BoxAnnotation\"},{\"attributes\":{},\"id\":\"3032\",\"type\":\"BasicTickFormatter\"},{\"attributes\":{\"fill_alpha\":{\"value\":0.1},\"fill_color\":{\"value\":\"#1f77b4\"},\"line_alpha\":{\"value\":0.1},\"line_color\":{\"value\":\"#1f77b4\"},\"size\":{\"units\":\"screen\",\"value\":6},\"x\":{\"field\":\"x\"},\"y\":{\"field\":\"y\"}},\"id\":\"2903\",\"type\":\"Circle\"},{\"attributes\":{\"fill_alpha\":{\"value\":0.5},\"fill_color\":{\"value\":\"blue\"},\"line_alpha\":{\"value\":0.5},\"line_color\":{\"value\":\"blue\"},\"size\":{\"units\":\"screen\",\"value\":6},\"x\":{\"field\":\"x\"},\"y\":{\"field\":\"y\"}},\"id\":\"2902\",\"type\":\"Circle\"},{\"attributes\":{\"source\":{\"id\":\"2906\",\"type\":\"ColumnDataSource\"}},\"id\":\"2910\",\"type\":\"CDSView\"},{\"attributes\":{\"data_source\":{\"id\":\"2906\",\"type\":\"ColumnDataSource\"},\"glyph\":{\"id\":\"2907\",\"type\":\"Circle\"},\"hover_glyph\":null,\"muted_glyph\":null,\"nonselection_glyph\":{\"id\":\"2908\",\"type\":\"Circle\"},\"selection_glyph\":null,\"view\":{\"id\":\"2910\",\"type\":\"CDSView\"}},\"id\":\"2909\",\"type\":\"GlyphRenderer\"},{\"attributes\":{},\"id\":\"2888\",\"type\":\"PanTool\"},{\"attributes\":{\"source\":{\"id\":\"2901\",\"type\":\"ColumnDataSource\"}},\"id\":\"2905\",\"type\":\"CDSView\"},{\"attributes\":{},\"id\":\"2889\",\"type\":\"WheelZoomTool\"},{\"attributes\":{},\"id\":\"2879\",\"type\":\"BasicTicker\"},{\"attributes\":{\"callback\":null,\"data\":{\"x\":{\"__ndarray__\":\"REh0vGNbyT+KlYE6FdTaPy6MX2Vt89o/TC3aon9G0T/0CP63alnTP6nlp0d4dOU/PAXHo+XIwj8MYhjHfSvKP+dwxO8qguI/UfC68+UM5z94pYJBJtbpP06P7KRrZOY/HG8uOBAm4T/nnq5OvhnsPzTUrETvdd8/0P9YAgVtuj8LCbl9yeDhP+j7e2ejZNk/3sd1Q2EL7D+AKLSK7tSTP55047jGQek/P6x04itf4j/uGRu2WVTWP86jW72qHdY/UDKRTqEWyz+y3apLBbnlP+MLUSeeoOw/TtYJ0+ke2j+slCh52yPmP18n3RKzn+k/EMqwjICjtz8Q5zfkVVKrP7cBf6YuAeg/C1KIEw/F4j8iGjr/ksrSP8hKyqSwD+E/arf0QOlq0j8GPPoPfbDaPz+EHsgeOu4/7myRvMtB1j8=\",\"dtype\":\"float64\",\"shape\":[40]},\"y\":{\"__ndarray__\":\"tA6USt4GGEBweF/zYosgQIDAjoQzgCBA0GjnXrhBHUBmq7gOWK8gQCJUqqDDqSNAlvoKScS1GED6Od4L0y0YQFZGfM+ZeiFAQojTvPoIG0DvhPETWwgjQKoQQIyumSJAEhN1C67yIECCMXWZeCQjQGtVQsT4cBxARL/3RZvNGECKbi/ef1UhQP6dDCzbWCBAzsZCsS22IEAgmySyLSXOv6lbFXT0CR1ADJyHf9urIEAPwmHM8pweQCVrOzAyOB5A7Ezjil/WIEDKnLY4hucjQF52wLSdYiNAUvhmHAlyJECT55GTIfEgQNtVthRpoCJAwLYx31pAFkAUstSnE18RQDo/ObNa2x9A2OSoXXWWIkDwa0+2s7waQBJRm6wj3h1Ai/6Uls9jIUANRRaEUcMgQHyyezy60iNA0IJnDtFTFUA=\",\"dtype\":\"float64\",\"shape\":[40]}},\"selected\":{\"id\":\"3039\",\"type\":\"Selection\"},\"selection_policy\":{\"id\":\"3038\",\"type\":\"UnionRenderers\"}},\"id\":\"2906\",\"type\":\"ColumnDataSource\"},{\"attributes\":{\"overlay\":{\"id\":\"3035\",\"type\":\"BoxAnnotation\"}},\"id\":\"2890\",\"type\":\"BoxZoomTool\"},{\"attributes\":{\"fill_alpha\":{\"value\":0.1},\"fill_color\":{\"value\":\"#1f77b4\"},\"line_alpha\":{\"value\":0.1},\"line_color\":{\"value\":\"#1f77b4\"},\"size\":{\"units\":\"screen\",\"value\":6},\"x\":{\"field\":\"x\"},\"y\":{\"field\":\"y\"}},\"id\":\"2908\",\"type\":\"Circle\"},{\"attributes\":{\"callback\":null,\"data\":{\"x\":{\"__ndarray__\":\"2Jc0FZVb4j/YtC75/V+9PwiUZbjGpMA/opmcsKa/4z9E7SpnxZjBP9hrK7v4eeA/uKul8Qen7j/k4TTmX9fHPwDuSBeDg2c/neT4rYY45j+QAhLRljK6Pyp5ma/kf9o/IADBm0mq3D8ikEts7uTjP5VwpuVAteo/MLX98H+TqT/z2gKTGavsPxAGNrP/++4/YcQpIqvo7D9YHIwadcW1P/aukVvL8tE/Ej4LSZfb4j8C8ws8+N/uP8CsZ0R+C5w/8NBvilMqxT+asU6MiXPZPwEljRqnBug/XCZTxOmB2j+guV+EKbqSP9yqBv8y+ME/sX2kAsCk7z+wWIEgYDvnP55Ll2of9eM/ShbrvIkZ7D/9xMIiC0TsP/yo8tAAvcU/QDBGrs7TwT+QpnkR/f6jP/t6YuA2E+0/8PwMl9hl2z8AwGFmkPsdP/8cFit86Ow/4A8jeWgx1D/dmkFMN2LuP4hk+hJCLbk//lqoMx+12j8wHSLL0PflPycjGXJR7eU/Am9qbbgH6D9o7nF5Jq7tP00Q/qnpOuU/VPhNfwDIwj/AqDEZ+fDnP1SfYpf8PeE/eDVkarf+0D+s6zRs5lbOP/Ss10Jcy9w/R1OPRM495T9YDr5IJA/UP5SWEsKBJ+Y/\",\"dtype\":\"float64\",\"shape\":[60]},\"y\":{\"__ndarray__\":\"bMFaU47VIkBYJsL0q1oXQBrjPviweh5AYBbTvsG2IEDmuSTD97QXQADov1M8iyBAFowrsy6XI0AbyorHKyMZQH7zfalzdQZAXXi2DAaGIkDvUgj352YXQKup2uyAuR1AGnvQct4qIUA4c7DxraIgQAwVKHiMfSJAooIV+1GIEECziR2q0n4fQD84n5NQSCJAnDmMdtIQI0AuSU7jU5gQQML49qfIVB1AYEW7Cd5GHUBLQ4DpsiAgQOBbmzOSLAJA4qKeifCnG0CHuq7VQXIgQF/g5qYZuiNAGwnFzaukG0DXDtBwTSMDQNiVI83o2xVAwdTBcUPdIkA3wLyZ4PMlQIBVv8Y3CSFAKm6Drtu1IkBkQqdESdkiQF22ZQYzyhpAjypkSh6YF0C0825J5CEQQKvRSW/C9yFAPJWQrG9bHkBYub8+q93SvyVt7c2AtiBA26OdSf2AHkBtwuUUsr4hQDFf8OBF6A5A/v8WxBmIIkAmkaRp9WsdQD539KzisCFATSDtV3RgIUCkYwFz7W4hQDJKTuO84CFAXLeci0ZfFUDHAggU6QgeQCRJavF2sCFAQKc2CtdoHkCqL1lDy4sUQABAxB7yVSJAGDdvlyMCIUCq7jzUBPMcQLDgc8MekCFA\",\"dtype\":\"float64\",\"shape\":[60]}},\"selected\":{\"id\":\"3037\",\"type\":\"Selection\"},\"selection_policy\":{\"id\":\"3036\",\"type\":\"UnionRenderers\"}},\"id\":\"2901\",\"type\":\"ColumnDataSource\"},{\"attributes\":{},\"id\":\"2891\",\"type\":\"SaveTool\"},{\"attributes\":{},\"id\":\"3034\",\"type\":\"BasicTickFormatter\"},{\"attributes\":{},\"id\":\"2892\",\"type\":\"ResetTool\"},{\"attributes\":{\"callback\":null},\"id\":\"2870\",\"type\":\"DataRange1d\"},{\"attributes\":{},\"id\":\"2893\",\"type\":\"HelpTool\"},{\"attributes\":{\"active_drag\":\"auto\",\"active_inspect\":\"auto\",\"active_multi\":null,\"active_scroll\":\"auto\",\"active_tap\":\"auto\",\"tools\":[{\"id\":\"2888\",\"type\":\"PanTool\"},{\"id\":\"2889\",\"type\":\"WheelZoomTool\"},{\"id\":\"2890\",\"type\":\"BoxZoomTool\"},{\"id\":\"2891\",\"type\":\"SaveTool\"},{\"id\":\"2892\",\"type\":\"ResetTool\"},{\"id\":\"2893\",\"type\":\"HelpTool\"}]},\"id\":\"2894\",\"type\":\"Toolbar\"}],\"root_ids\":[\"2868\"]},\"title\":\"Bokeh Application\",\"version\":\"1.2.0\"}};\n",
       "  var render_items = [{\"docid\":\"452a6f7d-fdef-4885-a7b9-d0db9261fb64\",\"roots\":{\"2868\":\"211cc0e2-ea67-491d-a8e9-0e4ce8775c7d\"}}];\n",
       "  root.Bokeh.embed.embed_items_notebook(docs_json, render_items);\n",
       "\n",
       "  }\n",
       "  if (root.Bokeh !== undefined) {\n",
       "    embed_document(root);\n",
       "  } else {\n",
       "    var attempts = 0;\n",
       "    var timer = setInterval(function(root) {\n",
       "      if (root.Bokeh !== undefined) {\n",
       "        embed_document(root);\n",
       "        clearInterval(timer);\n",
       "      }\n",
       "      attempts++;\n",
       "      if (attempts > 100) {\n",
       "        console.log(\"Bokeh: ERROR: Unable to run BokehJS code because BokehJS library is missing\");\n",
       "        clearInterval(timer);\n",
       "      }\n",
       "    }, 10, root)\n",
       "  }\n",
       "})(window);"
      ],
      "application/vnd.bokehjs_exec.v0+json": ""
     },
     "metadata": {
      "application/vnd.bokehjs_exec.v0+json": {
       "id": "2868"
      }
     },
     "output_type": "display_data"
    }
   ],
   "source": [
    "from sklearn import model_selection\n",
    "N = 100\n",
    "test_size = 0.40\n",
    "error = 1.0\n",
    "np.random.seed(1)\n",
    "x = np.random.random(N)\n",
    "y = biasvariance.test_func(x, error)\n",
    "x_tr, x_valid, y_tr, y_valid = model_selection.train_test_split(x, y, test_size=test_size)\n",
    "fig = bk.figure(plot_width=700, plot_height=400, title=None)\n",
    "fig.circle(x_tr, y_tr, color='blue', size=6, alpha=0.5)\n",
    "fig.circle(x_valid, y_valid, color='red', size=6, alpha=0.5)\n",
    "bk.show(fig)"
   ]
  },
  {
   "cell_type": "markdown",
   "metadata": {},
   "source": [
    "The **model parameters** *(in our case, the coefficients of the polynomials)* are learned using the **training set**.\n",
    "\n",
    "The **meta-parameters** *(in our case, the degree of the polynomial)* are adjusted so that this **validation error** is minimized.\n",
    "\n",
    "Finally, the labels are predicted for the **test set**.\n",
    "\n",
    "The **validation error** of our polynomial classifier can be visualized by plotting the error as a function of the polynomial degree:"
   ]
  },
  {
   "cell_type": "code",
   "execution_count": 25,
   "metadata": {},
   "outputs": [
    {
     "data": {
      "text/html": [
       "\n",
       "\n",
       "\n",
       "\n",
       "\n",
       "\n",
       "  <div class=\"bk-root\" id=\"c4a5fd8a-edc6-4b46-82ca-6495287d3869\" data-root-id=\"3100\"></div>\n"
      ]
     },
     "metadata": {},
     "output_type": "display_data"
    },
    {
     "data": {
      "application/javascript": [
       "(function(root) {\n",
       "  function embed_document(root) {\n",
       "    \n",
       "  var docs_json = {\"c11e6516-bd14-4f8f-867a-db78da8d96f7\":{\"roots\":{\"references\":[{\"attributes\":{\"below\":[{\"id\":\"3110\",\"type\":\"LinearAxis\"}],\"center\":[{\"id\":\"3114\",\"type\":\"Grid\"},{\"id\":\"3119\",\"type\":\"Grid\"},{\"id\":\"3144\",\"type\":\"Legend\"}],\"left\":[{\"id\":\"3115\",\"type\":\"LinearAxis\"}],\"plot_height\":400,\"plot_width\":700,\"renderers\":[{\"id\":\"3136\",\"type\":\"GlyphRenderer\"},{\"id\":\"3149\",\"type\":\"GlyphRenderer\"},{\"id\":\"3163\",\"type\":\"GlyphRenderer\"}],\"title\":null,\"toolbar\":{\"id\":\"3126\",\"type\":\"Toolbar\"},\"x_range\":{\"id\":\"3102\",\"type\":\"DataRange1d\"},\"x_scale\":{\"id\":\"3106\",\"type\":\"LinearScale\"},\"y_range\":{\"id\":\"3104\",\"type\":\"DataRange1d\"},\"y_scale\":{\"id\":\"3108\",\"type\":\"LinearScale\"}},\"id\":\"3100\",\"subtype\":\"Figure\",\"type\":\"Plot\"},{\"attributes\":{\"line_alpha\":0.1,\"line_color\":\"#1f77b4\",\"line_width\":2,\"x\":{\"field\":\"x\"},\"y\":{\"field\":\"y\"}},\"id\":\"3135\",\"type\":\"Line\"},{\"attributes\":{\"line_alpha\":0.1,\"line_color\":\"#1f77b4\",\"line_dash\":[6],\"x\":{\"field\":\"x\"},\"y\":{\"field\":\"y\"}},\"id\":\"3162\",\"type\":\"Line\"},{\"attributes\":{\"callback\":null,\"data\":{\"x\":[0,1,2,3,4,5,6,7,8,9,10,11,12,13,14,15,16,17,18,19,20,21,22,23,24,25,26,27,28,29,30,31,32,33,34,35,36,37,38,39,40],\"y\":{\"__ndarray__\":\"qC7ypKIP/z/L297JjFz3P/wGX/3aPfM/j9zC4g9L8T+IFcSjysXwP/Kc+POhi/A/6T8cn+Zl8D84I5kX2MDwP9X7RsRr7fA/4j6IXYXu8D8Pf7Kz9GHxP//Id+yNX/E/UXD5kcJu8T9wfq1WTRzyP/bRLoITSfI/ZDkigb9f8j8zIaigy3/yPxgfCPlTkvI/O9WpAhCc8j9ptDptp3ryP1QKCT7NwvI/jhvF5si18j8U9s1t76HyP+vy6AkHm/M/jFiE8Ti48z9eZeaDvbrzP9jy2k0FIfM/HBza+rUy8z9Dm05HRU3zP7BSYjkZcvM/UHUWm5L78j8MMjulpPzyP9JDK5vNBvM/COOt23Uh8z81YO+t5E/zP9YXMXVW/PU/XLZXQFZn9T/mCoUPLtr0P5ARPlBkZvQ/ByiYfA0Z9D8tK1Ypsb36Pw==\",\"dtype\":\"float64\",\"shape\":[41]}},\"selected\":{\"id\":\"3158\",\"type\":\"Selection\"},\"selection_policy\":{\"id\":\"3157\",\"type\":\"UnionRenderers\"}},\"id\":\"3133\",\"type\":\"ColumnDataSource\"},{\"attributes\":{},\"id\":\"3125\",\"type\":\"HelpTool\"},{\"attributes\":{\"data_source\":{\"id\":\"3160\",\"type\":\"ColumnDataSource\"},\"glyph\":{\"id\":\"3161\",\"type\":\"Line\"},\"hover_glyph\":null,\"muted_glyph\":null,\"nonselection_glyph\":{\"id\":\"3162\",\"type\":\"Line\"},\"selection_glyph\":null,\"view\":{\"id\":\"3164\",\"type\":\"CDSView\"}},\"id\":\"3163\",\"type\":\"GlyphRenderer\"},{\"attributes\":{\"active_drag\":\"auto\",\"active_inspect\":\"auto\",\"active_multi\":null,\"active_scroll\":\"auto\",\"active_tap\":\"auto\",\"tools\":[{\"id\":\"3120\",\"type\":\"PanTool\"},{\"id\":\"3121\",\"type\":\"WheelZoomTool\"},{\"id\":\"3122\",\"type\":\"BoxZoomTool\"},{\"id\":\"3123\",\"type\":\"SaveTool\"},{\"id\":\"3124\",\"type\":\"ResetTool\"},{\"id\":\"3125\",\"type\":\"HelpTool\"}]},\"id\":\"3126\",\"type\":\"Toolbar\"},{\"attributes\":{\"source\":{\"id\":\"3160\",\"type\":\"ColumnDataSource\"}},\"id\":\"3164\",\"type\":\"CDSView\"},{\"attributes\":{\"callback\":null},\"id\":\"3104\",\"type\":\"DataRange1d\"},{\"attributes\":{},\"id\":\"3111\",\"type\":\"BasicTicker\"},{\"attributes\":{},\"id\":\"3173\",\"type\":\"UnionRenderers\"},{\"attributes\":{},\"id\":\"3106\",\"type\":\"LinearScale\"},{\"attributes\":{},\"id\":\"3140\",\"type\":\"BasicTickFormatter\"},{\"attributes\":{},\"id\":\"3174\",\"type\":\"Selection\"},{\"attributes\":{},\"id\":\"3142\",\"type\":\"BasicTickFormatter\"},{\"attributes\":{},\"id\":\"3108\",\"type\":\"LinearScale\"},{\"attributes\":{\"label\":{\"value\":\"intrinsic error\"},\"renderers\":[{\"id\":\"3163\",\"type\":\"GlyphRenderer\"}]},\"id\":\"3175\",\"type\":\"LegendItem\"},{\"attributes\":{\"bottom_units\":\"screen\",\"fill_alpha\":{\"value\":0.5},\"fill_color\":{\"value\":\"lightgrey\"},\"left_units\":\"screen\",\"level\":\"overlay\",\"line_alpha\":{\"value\":1.0},\"line_color\":{\"value\":\"black\"},\"line_dash\":[4,4],\"line_width\":{\"value\":2},\"render_mode\":\"css\",\"right_units\":\"screen\",\"top_units\":\"screen\"},\"id\":\"3143\",\"type\":\"BoxAnnotation\"},{\"attributes\":{\"axis_label\":\"degree of fit\",\"formatter\":{\"id\":\"3140\",\"type\":\"BasicTickFormatter\"},\"ticker\":{\"id\":\"3111\",\"type\":\"BasicTicker\"}},\"id\":\"3110\",\"type\":\"LinearAxis\"},{\"attributes\":{\"items\":[{\"id\":\"3145\",\"type\":\"LegendItem\"},{\"id\":\"3159\",\"type\":\"LegendItem\"},{\"id\":\"3175\",\"type\":\"LegendItem\"}]},\"id\":\"3144\",\"type\":\"Legend\"},{\"attributes\":{},\"id\":\"3315\",\"type\":\"UnionRenderers\"},{\"attributes\":{\"grid_line_color\":null,\"ticker\":{\"id\":\"3111\",\"type\":\"BasicTicker\"}},\"id\":\"3114\",\"type\":\"Grid\"},{\"attributes\":{\"source\":{\"id\":\"3133\",\"type\":\"ColumnDataSource\"}},\"id\":\"3137\",\"type\":\"CDSView\"},{\"attributes\":{\"label\":{\"value\":\"cross-validation error\"},\"renderers\":[{\"id\":\"3136\",\"type\":\"GlyphRenderer\"}]},\"id\":\"3145\",\"type\":\"LegendItem\"},{\"attributes\":{},\"id\":\"3316\",\"type\":\"Selection\"},{\"attributes\":{\"axis_label\":\"rms error\",\"formatter\":{\"id\":\"3142\",\"type\":\"BasicTickFormatter\"},\"ticker\":{\"id\":\"3116\",\"type\":\"BasicTicker\"}},\"id\":\"3115\",\"type\":\"LinearAxis\"},{\"attributes\":{\"callback\":null,\"data\":{\"x\":[0,20],\"y\":[1.0,1.0]},\"selected\":{\"id\":\"3316\",\"type\":\"Selection\"},\"selection_policy\":{\"id\":\"3315\",\"type\":\"UnionRenderers\"}},\"id\":\"3160\",\"type\":\"ColumnDataSource\"},{\"attributes\":{},\"id\":\"3116\",\"type\":\"BasicTicker\"},{\"attributes\":{\"line_color\":\"green\",\"line_width\":2,\"x\":{\"field\":\"x\"},\"y\":{\"field\":\"y\"}},\"id\":\"3147\",\"type\":\"Line\"},{\"attributes\":{\"dimension\":1,\"grid_line_color\":null,\"ticker\":{\"id\":\"3116\",\"type\":\"BasicTicker\"}},\"id\":\"3119\",\"type\":\"Grid\"},{\"attributes\":{\"line_alpha\":0.1,\"line_color\":\"#1f77b4\",\"line_width\":2,\"x\":{\"field\":\"x\"},\"y\":{\"field\":\"y\"}},\"id\":\"3148\",\"type\":\"Line\"},{\"attributes\":{\"data_source\":{\"id\":\"3146\",\"type\":\"ColumnDataSource\"},\"glyph\":{\"id\":\"3147\",\"type\":\"Line\"},\"hover_glyph\":null,\"muted_glyph\":null,\"nonselection_glyph\":{\"id\":\"3148\",\"type\":\"Line\"},\"selection_glyph\":null,\"view\":{\"id\":\"3150\",\"type\":\"CDSView\"}},\"id\":\"3149\",\"type\":\"GlyphRenderer\"},{\"attributes\":{\"line_color\":\"royalblue\",\"line_width\":2,\"x\":{\"field\":\"x\"},\"y\":{\"field\":\"y\"}},\"id\":\"3134\",\"type\":\"Line\"},{\"attributes\":{\"line_dash\":[6],\"x\":{\"field\":\"x\"},\"y\":{\"field\":\"y\"}},\"id\":\"3161\",\"type\":\"Line\"},{\"attributes\":{\"source\":{\"id\":\"3146\",\"type\":\"ColumnDataSource\"}},\"id\":\"3150\",\"type\":\"CDSView\"},{\"attributes\":{\"callback\":null,\"data\":{\"x\":[0,1,2,3,4,5,6,7,8,9,10,11,12,13,14,15,16,17,18,19,20,21,22,23,24,25,26,27,28,29,30,31,32,33,34,35,36,37,38,39,40],\"y\":{\"__ndarray__\":\"P1dp/luKAUAZEvIUYuH0Pz3LCcCX2+4/GgHqbXpf6z8B01mk+QbqP8WyDSmihuk/mMQmSV1g6T+n5yGu9vnoPwP9xuVr3Og/9sv08hfZ6D/hvpV1arroP7GJL42Pr+g/x1TH2Ryp6D+h1hguznHoP7hVhDKpTug/RJxJlDtF6D+dugCeCeznP1J14ji/2+c/LOMn0k/b5z+kbE97G9vnP0c4IIvcbec/jBfNjqeY5z/ufXkxfbTnP1+3yB8AkeY/LL9afy6+5j+jeRiOwu3mP1RSVJ+ZgOY/PK/qFZCS5j8o79VmcaXmP614Zmm6t+Y/QZnrct2U5j8vtXsn8aTmPx2OHFZpteY/TTFaNizF5j9vuWKjMdPmP07KgB6hUuY/HfUC3dVw5j9s0orqY4/mPxfDzQU9rOY/5oLpXL7F5j+sJMkwyLflPw==\",\"dtype\":\"float64\",\"shape\":[41]}},\"selected\":{\"id\":\"3174\",\"type\":\"Selection\"},\"selection_policy\":{\"id\":\"3173\",\"type\":\"UnionRenderers\"}},\"id\":\"3146\",\"type\":\"ColumnDataSource\"},{\"attributes\":{},\"id\":\"3157\",\"type\":\"UnionRenderers\"},{\"attributes\":{\"data_source\":{\"id\":\"3133\",\"type\":\"ColumnDataSource\"},\"glyph\":{\"id\":\"3134\",\"type\":\"Line\"},\"hover_glyph\":null,\"muted_glyph\":null,\"nonselection_glyph\":{\"id\":\"3135\",\"type\":\"Line\"},\"selection_glyph\":null,\"view\":{\"id\":\"3137\",\"type\":\"CDSView\"}},\"id\":\"3136\",\"type\":\"GlyphRenderer\"},{\"attributes\":{},\"id\":\"3120\",\"type\":\"PanTool\"},{\"attributes\":{},\"id\":\"3158\",\"type\":\"Selection\"},{\"attributes\":{},\"id\":\"3121\",\"type\":\"WheelZoomTool\"},{\"attributes\":{\"label\":{\"value\":\"training error\"},\"renderers\":[{\"id\":\"3149\",\"type\":\"GlyphRenderer\"}]},\"id\":\"3159\",\"type\":\"LegendItem\"},{\"attributes\":{\"overlay\":{\"id\":\"3143\",\"type\":\"BoxAnnotation\"}},\"id\":\"3122\",\"type\":\"BoxZoomTool\"},{\"attributes\":{},\"id\":\"3123\",\"type\":\"SaveTool\"},{\"attributes\":{\"callback\":null},\"id\":\"3102\",\"type\":\"DataRange1d\"},{\"attributes\":{},\"id\":\"3124\",\"type\":\"ResetTool\"}],\"root_ids\":[\"3100\"]},\"title\":\"Bokeh Application\",\"version\":\"1.2.0\"}};\n",
       "  var render_items = [{\"docid\":\"c11e6516-bd14-4f8f-867a-db78da8d96f7\",\"roots\":{\"3100\":\"c4a5fd8a-edc6-4b46-82ca-6495287d3869\"}}];\n",
       "  root.Bokeh.embed.embed_items_notebook(docs_json, render_items);\n",
       "\n",
       "  }\n",
       "  if (root.Bokeh !== undefined) {\n",
       "    embed_document(root);\n",
       "  } else {\n",
       "    var attempts = 0;\n",
       "    var timer = setInterval(function(root) {\n",
       "      if (root.Bokeh !== undefined) {\n",
       "        embed_document(root);\n",
       "        clearInterval(timer);\n",
       "      }\n",
       "      attempts++;\n",
       "      if (attempts > 100) {\n",
       "        console.log(\"Bokeh: ERROR: Unable to run BokehJS code because BokehJS library is missing\");\n",
       "        clearInterval(timer);\n",
       "      }\n",
       "    }, 10, root)\n",
       "  }\n",
       "})(window);"
      ],
      "application/vnd.bokehjs_exec.v0+json": ""
     },
     "metadata": {
      "application/vnd.bokehjs_exec.v0+json": {
       "id": "3100"
      }
     },
     "output_type": "display_data"
    }
   ],
   "source": [
    "import warnings\n",
    "warnings.filterwarnings('ignore', message='Polyfit*')\n",
    "\n",
    "degrees = np.arange(41)\n",
    "train_err = np.zeros(len(degrees))\n",
    "validation_err = np.zeros(len(degrees))\n",
    "\n",
    "for i, d in enumerate(degrees):\n",
    "    p = np.polyfit(x_tr, y_tr, d)\n",
    "    train_err[i] = biasvariance.compute_error(x_tr, y_tr, p)\n",
    "    validation_err[i] = biasvariance.compute_error(x_valid, y_valid, p)\n",
    "\n",
    "fig = bk.figure(plot_width=700, plot_height=400, title=None)\n",
    "\n",
    "fig.line(degrees, validation_err,\n",
    "         line_width=2, legend='cross-validation error', color='royalblue')\n",
    "fig.line(degrees, train_err, line_width=2, legend='training error', color='green')\n",
    "fig.line([0, 20], [error, error], line_dash='dashed', legend='intrinsic error', color='black')\n",
    "\n",
    "fig.xaxis.axis_label = 'degree of fit'\n",
    "fig.yaxis.axis_label = 'rms error'\n",
    "\n",
    "fig.grid.grid_line_color = None\n",
    "\n",
    "bk.show(fig)"
   ]
  },
  {
   "cell_type": "markdown",
   "metadata": {},
   "source": [
    "For this toy dataset, error = 1.0 is the best we can hope to obtain. Choosing `d=6` in this case gets us very close to the optimal error.\n",
    "\n",
    "Notice that in the above plot, `d=6` gives the best results. But in the very first example, we found that `d=6` vastly over-fits the data. What’s going on here? The difference is the **number of training points** used:\n",
    "\n",
    "**As a general rule of thumb, the more the training points, the more complex the model can be.**"
   ]
  },
  {
   "cell_type": "markdown",
   "metadata": {},
   "source": [
    "## 5 Do I need More Training Samples?"
   ]
  },
  {
   "cell_type": "markdown",
   "metadata": {},
   "source": [
    "In order to exploit the relationship outlined above, between the complexity of the model and the number of examples, we use a tool called **Learning Curves**. Learning Curves works by plotting the training error and validation (or test) error as a **function of the number of training points**:"
   ]
  },
  {
   "cell_type": "code",
   "execution_count": 26,
   "metadata": {},
   "outputs": [],
   "source": [
    "def plot_learning_curve(d, N=100, y_range=None):\n",
    "    test_size = 0.40\n",
    "    n_sizes = 50       # Number of testing point in which to split the size\n",
    "    n_runs = 20        # Number of times to run the test for each training set size\n",
    "    sizes = np.linspace(2, N, n_sizes).astype(int)\n",
    "    train_err = np.zeros((n_runs, n_sizes))\n",
    "    validation_err = np.zeros((n_runs, n_sizes))\n",
    "    for run in range(n_runs):\n",
    "        for nsize, size in enumerate(sizes):\n",
    "            x_tr, x_valid, y_tr, y_valid = model_selection.train_test_split(x, y,\n",
    "                                           test_size=test_size, random_state=run)\n",
    "            # Train on only the first `size` points\n",
    "            p = np.polyfit(x_tr[:size], y_tr[:size], d)\n",
    "            # Validation error is on the *entire* validation set\n",
    "            validation_err[run, nsize] = biasvariance.compute_error(x_valid, y_valid, p)\n",
    "            # Training error is on only the points used for training\n",
    "            train_err[run, nsize] = biasvariance.compute_error(x_tr[:size], y_tr[:size], p)\n",
    "\n",
    "    fig = bk.figure(plot_width=400, plot_height=300, title='d = %i' % d,\n",
    "                    x_range=(0, N-1)) \n",
    "    fig.title.text_font_size = '11pt'\n",
    "    fig.xaxis.axis_label_text_font_size = '9pt'\n",
    "    fig.yaxis.axis_label_text_font_size = '9pt'\n",
    "    \n",
    "    fig.line(sizes, validation_err.mean(axis=0), \n",
    "             line_width=2, legend='mean validation error', color='royalblue')\n",
    "    fig.line(sizes, train_err.mean(axis=0),\n",
    "             line_width=2, legend='mean training error', color='green')\n",
    "    fig.line([0, N], [error, error],\n",
    "             line_dash='dashed', legend='intrinsic error', color='black')\n",
    "    \n",
    "    fig.xaxis.axis_label = 'traning set size'\n",
    "    fig.yaxis.axis_label = 'rms error'\n",
    "    fig.legend.location = 'top_right'\n",
    "    \n",
    "    if y_range:\n",
    "        fig.y_range = Range1d(y_range[0], y_range[1])\n",
    "\n",
    "    fig.grid.grid_line_color = None\n",
    "    bk.show(fig)"
   ]
  },
  {
   "cell_type": "markdown",
   "metadata": {},
   "source": [
    "Now we look at the behavior of <font color=\"royalblue\">$E_{train}$</font> and <font color=\"red\">$E_{test}$</font>.\n",
    "\n",
    "<font color=\"red\">As we increase $N$, $E_{test}$ decreases</font> until the limit of the algorithm, that is its $Bias$.\n",
    "\n",
    "<font color=\"royalblue\">As we increase $N$, $E_{train}$ increases</font>, because with few datapoints the task is simpler, while adding more data increase the difficulty of the algorithm to fit them.\n",
    "\n",
    "The discrepancy of the two curves is the **generalization error**. It should shrink and get tighter as generalization increases."
   ]
  },
  {
   "cell_type": "markdown",
   "metadata": {},
   "source": [
    "<img src=\"images/learning_curves.png\" alt=\"learning_curves\" height=\"600\" width=\"600\"> "
   ]
  },
  {
   "cell_type": "markdown",
   "metadata": {},
   "source": [
    "In the left picture (simple model) we can see that the model \"true\" error (the best the model can do) is high and pretty soon (that is for lower values of $N$) we reach the point were both $E_{train}$ and $E_{test}$ are closer. In the right picture (complex model) we can see that, since it is more complex, it has a better approximation of the target function and thus can achieve (in principle) a lower $E_{test}$ error. The function is so complex that with few data points it fits them perfectly reaching a training error of zero. However if we look at the corresponding $E_{test}$ we can see that it is very high, we haven't learn anything. As the number of examples grows, $E_{test}$ starts lowering and it gets lower than the other model, but the discrepancy between the two errors remains higher than that of the previous example. \n",
    "\n",
    "Let's see a practical example:"
   ]
  },
  {
   "cell_type": "code",
   "execution_count": 28,
   "metadata": {},
   "outputs": [
    {
     "data": {
      "text/html": [
       "\n",
       "\n",
       "\n",
       "\n",
       "\n",
       "\n",
       "  <div class=\"bk-root\" id=\"9256829a-b518-4cb2-9f71-9a7c34632089\" data-root-id=\"3389\"></div>\n"
      ]
     },
     "metadata": {},
     "output_type": "display_data"
    },
    {
     "data": {
      "application/javascript": [
       "(function(root) {\n",
       "  function embed_document(root) {\n",
       "    \n",
       "  var docs_json = {\"03be6e37-a66f-43d3-9013-362b012fb45f\":{\"roots\":{\"references\":[{\"attributes\":{\"below\":[{\"id\":\"3400\",\"type\":\"LinearAxis\"}],\"center\":[{\"id\":\"3404\",\"type\":\"Grid\"},{\"id\":\"3409\",\"type\":\"Grid\"},{\"id\":\"3434\",\"type\":\"Legend\"}],\"left\":[{\"id\":\"3405\",\"type\":\"LinearAxis\"}],\"plot_height\":300,\"plot_width\":400,\"renderers\":[{\"id\":\"3426\",\"type\":\"GlyphRenderer\"},{\"id\":\"3439\",\"type\":\"GlyphRenderer\"},{\"id\":\"3453\",\"type\":\"GlyphRenderer\"}],\"title\":{\"id\":\"3390\",\"type\":\"Title\"},\"toolbar\":{\"id\":\"3416\",\"type\":\"Toolbar\"},\"x_range\":{\"id\":\"3392\",\"type\":\"Range1d\"},\"x_scale\":{\"id\":\"3396\",\"type\":\"LinearScale\"},\"y_range\":{\"id\":\"3394\",\"type\":\"DataRange1d\"},\"y_scale\":{\"id\":\"3398\",\"type\":\"LinearScale\"}},\"id\":\"3389\",\"subtype\":\"Figure\",\"type\":\"Plot\"},{\"attributes\":{},\"id\":\"3414\",\"type\":\"ResetTool\"},{\"attributes\":{\"text\":\"d = 1\",\"text_font_size\":{\"value\":\"11pt\"}},\"id\":\"3390\",\"type\":\"Title\"},{\"attributes\":{\"data_source\":{\"id\":\"3450\",\"type\":\"ColumnDataSource\"},\"glyph\":{\"id\":\"3451\",\"type\":\"Line\"},\"hover_glyph\":null,\"muted_glyph\":null,\"nonselection_glyph\":{\"id\":\"3452\",\"type\":\"Line\"},\"selection_glyph\":null,\"view\":{\"id\":\"3454\",\"type\":\"CDSView\"}},\"id\":\"3453\",\"type\":\"GlyphRenderer\"},{\"attributes\":{\"active_drag\":\"auto\",\"active_inspect\":\"auto\",\"active_multi\":null,\"active_scroll\":\"auto\",\"active_tap\":\"auto\",\"tools\":[{\"id\":\"3410\",\"type\":\"PanTool\"},{\"id\":\"3411\",\"type\":\"WheelZoomTool\"},{\"id\":\"3412\",\"type\":\"BoxZoomTool\"},{\"id\":\"3413\",\"type\":\"SaveTool\"},{\"id\":\"3414\",\"type\":\"ResetTool\"},{\"id\":\"3415\",\"type\":\"HelpTool\"}]},\"id\":\"3416\",\"type\":\"Toolbar\"},{\"attributes\":{\"source\":{\"id\":\"3423\",\"type\":\"ColumnDataSource\"}},\"id\":\"3427\",\"type\":\"CDSView\"},{\"attributes\":{},\"id\":\"3464\",\"type\":\"Selection\"},{\"attributes\":{},\"id\":\"3415\",\"type\":\"HelpTool\"},{\"attributes\":{\"line_alpha\":0.1,\"line_color\":\"#1f77b4\",\"line_dash\":[6],\"x\":{\"field\":\"x\"},\"y\":{\"field\":\"y\"}},\"id\":\"3452\",\"type\":\"Line\"},{\"attributes\":{\"line_alpha\":0.1,\"line_color\":\"#1f77b4\",\"line_width\":2,\"x\":{\"field\":\"x\"},\"y\":{\"field\":\"y\"}},\"id\":\"3425\",\"type\":\"Line\"},{\"attributes\":{\"line_dash\":[6],\"x\":{\"field\":\"x\"},\"y\":{\"field\":\"y\"}},\"id\":\"3451\",\"type\":\"Line\"},{\"attributes\":{},\"id\":\"3410\",\"type\":\"PanTool\"},{\"attributes\":{},\"id\":\"3463\",\"type\":\"UnionRenderers\"},{\"attributes\":{},\"id\":\"3413\",\"type\":\"SaveTool\"},{\"attributes\":{},\"id\":\"3398\",\"type\":\"LinearScale\"},{\"attributes\":{\"axis_label\":\"rms error\",\"axis_label_text_font_size\":{\"value\":\"9pt\"},\"formatter\":{\"id\":\"3432\",\"type\":\"BasicTickFormatter\"},\"ticker\":{\"id\":\"3406\",\"type\":\"BasicTicker\"}},\"id\":\"3405\",\"type\":\"LinearAxis\"},{\"attributes\":{},\"id\":\"3432\",\"type\":\"BasicTickFormatter\"},{\"attributes\":{\"bottom_units\":\"screen\",\"fill_alpha\":{\"value\":0.5},\"fill_color\":{\"value\":\"lightgrey\"},\"left_units\":\"screen\",\"level\":\"overlay\",\"line_alpha\":{\"value\":1.0},\"line_color\":{\"value\":\"black\"},\"line_dash\":[4,4],\"line_width\":{\"value\":2},\"render_mode\":\"css\",\"right_units\":\"screen\",\"top_units\":\"screen\"},\"id\":\"3433\",\"type\":\"BoxAnnotation\"},{\"attributes\":{\"callback\":null},\"id\":\"3394\",\"type\":\"DataRange1d\"},{\"attributes\":{\"data_source\":{\"id\":\"3436\",\"type\":\"ColumnDataSource\"},\"glyph\":{\"id\":\"3437\",\"type\":\"Line\"},\"hover_glyph\":null,\"muted_glyph\":null,\"nonselection_glyph\":{\"id\":\"3438\",\"type\":\"Line\"},\"selection_glyph\":null,\"view\":{\"id\":\"3440\",\"type\":\"CDSView\"}},\"id\":\"3439\",\"type\":\"GlyphRenderer\"},{\"attributes\":{},\"id\":\"3411\",\"type\":\"WheelZoomTool\"},{\"attributes\":{\"label\":{\"value\":\"mean validation error\"},\"renderers\":[{\"id\":\"3426\",\"type\":\"GlyphRenderer\"}]},\"id\":\"3435\",\"type\":\"LegendItem\"},{\"attributes\":{\"data_source\":{\"id\":\"3423\",\"type\":\"ColumnDataSource\"},\"glyph\":{\"id\":\"3424\",\"type\":\"Line\"},\"hover_glyph\":null,\"muted_glyph\":null,\"nonselection_glyph\":{\"id\":\"3425\",\"type\":\"Line\"},\"selection_glyph\":null,\"view\":{\"id\":\"3427\",\"type\":\"CDSView\"}},\"id\":\"3426\",\"type\":\"GlyphRenderer\"},{\"attributes\":{\"grid_line_color\":null,\"ticker\":{\"id\":\"3401\",\"type\":\"BasicTicker\"}},\"id\":\"3404\",\"type\":\"Grid\"},{\"attributes\":{},\"id\":\"3401\",\"type\":\"BasicTicker\"},{\"attributes\":{\"dimension\":1,\"grid_line_color\":null,\"ticker\":{\"id\":\"3406\",\"type\":\"BasicTicker\"}},\"id\":\"3409\",\"type\":\"Grid\"},{\"attributes\":{},\"id\":\"3448\",\"type\":\"Selection\"},{\"attributes\":{},\"id\":\"3447\",\"type\":\"UnionRenderers\"},{\"attributes\":{\"source\":{\"id\":\"3450\",\"type\":\"ColumnDataSource\"}},\"id\":\"3454\",\"type\":\"CDSView\"},{\"attributes\":{\"callback\":null,\"data\":{\"x\":[2,4,6,8,10,12,14,16,18,20,22,24,26,28,30,32,34,36,38,40,42,44,46,48,50,52,54,56,58,60,62,64,66,68,70,72,74,76,78,80,82,84,86,88,90,92,94,96,98,100],\"y\":{\"__ndarray__\":\"w8bJhJyb5jxopHmMVG3mP2N9rHp6Cu8/RUe8xzW47z83PBdEiafwP62+RJr3EPE/wq0+Rt9a8j+vEOyDhdLyPxMggfWYvfI/mtpAviPR8j8+Yu8bsXTzPwf/Z7/cxvM/JlTIz4mm9D+d3WZ0Bw71P3CBA3+3EfU/fKh5wIDd9D9udurvCjr1P6p/BuTXFPU/OiBJy4rx9D+DDXywgwz1P2MtK7tE4/Q/61zHet3R9D+yltYv2Yj1PxrntT/RV/U/Sdzgm0tF9T8DNr0whlv1P/e+jxYeavU/L6dhXUZH9T+RKqyJPT31P9F/hZggFfU/0X+FmCAV9T/Rf4WYIBX1P9F/hZggFfU/0X+FmCAV9T/Rf4WYIBX1P9F/hZggFfU/0X+FmCAV9T/Rf4WYIBX1P9F/hZggFfU/0X+FmCAV9T/Rf4WYIBX1P9F/hZggFfU/0X+FmCAV9T/Rf4WYIBX1P9F/hZggFfU/0X+FmCAV9T/Rf4WYIBX1P9F/hZggFfU/0X+FmCAV9T/Rf4WYIBX1Pw==\",\"dtype\":\"float64\",\"shape\":[50]}},\"selected\":{\"id\":\"3464\",\"type\":\"Selection\"},\"selection_policy\":{\"id\":\"3463\",\"type\":\"UnionRenderers\"}},\"id\":\"3436\",\"type\":\"ColumnDataSource\"},{\"attributes\":{\"axis_label\":\"traning set size\",\"axis_label_text_font_size\":{\"value\":\"9pt\"},\"formatter\":{\"id\":\"3430\",\"type\":\"BasicTickFormatter\"},\"ticker\":{\"id\":\"3401\",\"type\":\"BasicTicker\"}},\"id\":\"3400\",\"type\":\"LinearAxis\"},{\"attributes\":{\"line_alpha\":0.1,\"line_color\":\"#1f77b4\",\"line_width\":2,\"x\":{\"field\":\"x\"},\"y\":{\"field\":\"y\"}},\"id\":\"3438\",\"type\":\"Line\"},{\"attributes\":{\"callback\":null,\"data\":{\"x\":[0,100],\"y\":[1.0,1.0]},\"selected\":{\"id\":\"3618\",\"type\":\"Selection\"},\"selection_policy\":{\"id\":\"3617\",\"type\":\"UnionRenderers\"}},\"id\":\"3450\",\"type\":\"ColumnDataSource\"},{\"attributes\":{\"line_color\":\"royalblue\",\"line_width\":2,\"x\":{\"field\":\"x\"},\"y\":{\"field\":\"y\"}},\"id\":\"3424\",\"type\":\"Line\"},{\"attributes\":{\"label\":{\"value\":\"mean training error\"},\"renderers\":[{\"id\":\"3439\",\"type\":\"GlyphRenderer\"}]},\"id\":\"3449\",\"type\":\"LegendItem\"},{\"attributes\":{\"callback\":null,\"data\":{\"x\":[2,4,6,8,10,12,14,16,18,20,22,24,26,28,30,32,34,36,38,40,42,44,46,48,50,52,54,56,58,60,62,64,66,68,70,72,74,76,78,80,82,84,86,88,90,92,94,96,98,100],\"y\":{\"__ndarray__\":\"tHbVA+FUE0Ba4ndMQXP+P8HPsJ0iX/k/+rRoW2pw+D/AYD+9xN73P02ZndZ///c/houwoRrv9z8ZslrGnez3P0t2oq6rzvc/6pTEV09r9z97NffbUWH3P7Pk3yN+gvc/r5WNy4VL9z9wr2DG6VD3PzaQQlAfXPc/YAxYxKxY9z8oLrXzTBr3PyXuNDE+CPc/SpFLYUcF9z9C49iN/fb2P/4yDIEg/vY/iv82Aun/9j836zWyH+D2Px6+rPkM2fY/+umj00rV9j8RTjMk8772PzWZoldowvY//k6lcSHH9j9uGV2qBbn2P+MdGRrbtfY/4x0ZGtu19j/jHRka27X2P+MdGRrbtfY/4x0ZGtu19j/jHRka27X2P+MdGRrbtfY/4x0ZGtu19j/jHRka27X2P+MdGRrbtfY/4x0ZGtu19j/jHRka27X2P+MdGRrbtfY/4x0ZGtu19j/jHRka27X2P+MdGRrbtfY/4x0ZGtu19j/jHRka27X2P+MdGRrbtfY/4x0ZGtu19j/jHRka27X2Pw==\",\"dtype\":\"float64\",\"shape\":[50]}},\"selected\":{\"id\":\"3448\",\"type\":\"Selection\"},\"selection_policy\":{\"id\":\"3447\",\"type\":\"UnionRenderers\"}},\"id\":\"3423\",\"type\":\"ColumnDataSource\"},{\"attributes\":{\"items\":[{\"id\":\"3435\",\"type\":\"LegendItem\"},{\"id\":\"3449\",\"type\":\"LegendItem\"},{\"id\":\"3465\",\"type\":\"LegendItem\"}]},\"id\":\"3434\",\"type\":\"Legend\"},{\"attributes\":{\"callback\":null,\"end\":99},\"id\":\"3392\",\"type\":\"Range1d\"},{\"attributes\":{\"line_color\":\"green\",\"line_width\":2,\"x\":{\"field\":\"x\"},\"y\":{\"field\":\"y\"}},\"id\":\"3437\",\"type\":\"Line\"},{\"attributes\":{},\"id\":\"3430\",\"type\":\"BasicTickFormatter\"},{\"attributes\":{},\"id\":\"3617\",\"type\":\"UnionRenderers\"},{\"attributes\":{\"source\":{\"id\":\"3436\",\"type\":\"ColumnDataSource\"}},\"id\":\"3440\",\"type\":\"CDSView\"},{\"attributes\":{},\"id\":\"3396\",\"type\":\"LinearScale\"},{\"attributes\":{},\"id\":\"3618\",\"type\":\"Selection\"},{\"attributes\":{\"overlay\":{\"id\":\"3433\",\"type\":\"BoxAnnotation\"}},\"id\":\"3412\",\"type\":\"BoxZoomTool\"},{\"attributes\":{},\"id\":\"3406\",\"type\":\"BasicTicker\"},{\"attributes\":{\"label\":{\"value\":\"intrinsic error\"},\"renderers\":[{\"id\":\"3453\",\"type\":\"GlyphRenderer\"}]},\"id\":\"3465\",\"type\":\"LegendItem\"}],\"root_ids\":[\"3389\"]},\"title\":\"Bokeh Application\",\"version\":\"1.2.0\"}};\n",
       "  var render_items = [{\"docid\":\"03be6e37-a66f-43d3-9013-362b012fb45f\",\"roots\":{\"3389\":\"9256829a-b518-4cb2-9f71-9a7c34632089\"}}];\n",
       "  root.Bokeh.embed.embed_items_notebook(docs_json, render_items);\n",
       "\n",
       "  }\n",
       "  if (root.Bokeh !== undefined) {\n",
       "    embed_document(root);\n",
       "  } else {\n",
       "    var attempts = 0;\n",
       "    var timer = setInterval(function(root) {\n",
       "      if (root.Bokeh !== undefined) {\n",
       "        embed_document(root);\n",
       "        clearInterval(timer);\n",
       "      }\n",
       "      attempts++;\n",
       "      if (attempts > 100) {\n",
       "        console.log(\"Bokeh: ERROR: Unable to run BokehJS code because BokehJS library is missing\");\n",
       "        clearInterval(timer);\n",
       "      }\n",
       "    }, 10, root)\n",
       "  }\n",
       "})(window);"
      ],
      "application/vnd.bokehjs_exec.v0+json": ""
     },
     "metadata": {
      "application/vnd.bokehjs_exec.v0+json": {
       "id": "3389"
      }
     },
     "output_type": "display_data"
    }
   ],
   "source": [
    "plot_learning_curve(d=1, N=100)"
   ]
  },
  {
   "cell_type": "markdown",
   "metadata": {},
   "source": [
    "A polynomial model with `d=1` is a **high-biased estimator** which under-fits the data. This is indicated by the fact that **both the training and validation errors are very high**.\n",
    "\n",
    "*Adding more data WON'T work in this case.*\n",
    "\n",
    "**When both TRAINING and VALIDATION curves converge to an high error, we have a HIGH BIAS model.** In this situation we can try one of the following actions:\n",
    "\n",
    "* Using a more sophisticated model (i.e. in this case, increase ``d``)\n",
    "* Gather more features for each sample.\n",
    "* Decrease regularlization.\n",
    "\n",
    "Now let's look at a model with higher degree (and thus higher variance):"
   ]
  },
  {
   "cell_type": "code",
   "execution_count": 29,
   "metadata": {},
   "outputs": [
    {
     "data": {
      "text/html": [
       "\n",
       "\n",
       "\n",
       "\n",
       "\n",
       "\n",
       "  <div class=\"bk-root\" id=\"6deeedf2-a936-4156-8472-ea7193bc598e\" data-root-id=\"3691\"></div>\n"
      ]
     },
     "metadata": {},
     "output_type": "display_data"
    },
    {
     "data": {
      "application/javascript": [
       "(function(root) {\n",
       "  function embed_document(root) {\n",
       "    \n",
       "  var docs_json = {\"8f113b4f-3977-44c1-8487-6d2769b7ca5b\":{\"roots\":{\"references\":[{\"attributes\":{\"below\":[{\"id\":\"3702\",\"type\":\"LinearAxis\"}],\"center\":[{\"id\":\"3706\",\"type\":\"Grid\"},{\"id\":\"3711\",\"type\":\"Grid\"},{\"id\":\"3736\",\"type\":\"Legend\"}],\"left\":[{\"id\":\"3707\",\"type\":\"LinearAxis\"}],\"plot_height\":300,\"plot_width\":400,\"renderers\":[{\"id\":\"3728\",\"type\":\"GlyphRenderer\"},{\"id\":\"3741\",\"type\":\"GlyphRenderer\"},{\"id\":\"3755\",\"type\":\"GlyphRenderer\"}],\"title\":{\"id\":\"3692\",\"type\":\"Title\"},\"toolbar\":{\"id\":\"3718\",\"type\":\"Toolbar\"},\"x_range\":{\"id\":\"3694\",\"type\":\"Range1d\"},\"x_scale\":{\"id\":\"3698\",\"type\":\"LinearScale\"},\"y_range\":{\"id\":\"3768\",\"type\":\"Range1d\"},\"y_scale\":{\"id\":\"3700\",\"type\":\"LinearScale\"}},\"id\":\"3691\",\"subtype\":\"Figure\",\"type\":\"Plot\"},{\"attributes\":{},\"id\":\"3713\",\"type\":\"WheelZoomTool\"},{\"attributes\":{\"label\":{\"value\":\"intrinsic error\"},\"renderers\":[{\"id\":\"3755\",\"type\":\"GlyphRenderer\"}]},\"id\":\"3767\",\"type\":\"LegendItem\"},{\"attributes\":{},\"id\":\"3716\",\"type\":\"ResetTool\"},{\"attributes\":{},\"id\":\"3712\",\"type\":\"PanTool\"},{\"attributes\":{\"text\":\"d = 10\",\"text_font_size\":{\"value\":\"11pt\"}},\"id\":\"3692\",\"type\":\"Title\"},{\"attributes\":{},\"id\":\"3750\",\"type\":\"Selection\"},{\"attributes\":{\"overlay\":{\"id\":\"3735\",\"type\":\"BoxAnnotation\"}},\"id\":\"3714\",\"type\":\"BoxZoomTool\"},{\"attributes\":{},\"id\":\"3715\",\"type\":\"SaveTool\"},{\"attributes\":{\"callback\":null,\"data\":{\"x\":[2,4,6,8,10,12,14,16,18,20,22,24,26,28,30,32,34,36,38,40,42,44,46,48,50,52,54,56,58,60,62,64,66,68,70,72,74,76,78,80,82,84,86,88,90,92,94,96,98,100],\"y\":{\"__ndarray__\":\"IqziHKreT0G6781Tmol0QKIdO9DF6sBAjOrx5Y5M40BqMgw0m9YxQdDoLx36zT9Ba+D6SvNbvkBlCAOmz0eMQJWPlowXX39AfXFFSgBVZkDazLDyoBkiQM7DvSfcDRVAPpVYvUsyDkCsLHmTR5QGQDk7vV5wEwNAoZXg6swJAEBAgOjJZJr4P/KJDZlCK/g/jNyrmkqj9j/qqffzqFb2PzIBy6S3H/U/BHVcwJDr9D91AIH25eLyP8WSUqoK2PI/alGkwbxO8j9Bj06ctVLyP0xfa6moOvI/SjRSyNOh8T9aiMy1QGnxP0pYs1QpDPE/SlizVCkM8T9KWLNUKQzxP0pYs1QpDPE/SlizVCkM8T9KWLNUKQzxP0pYs1QpDPE/SlizVCkM8T9KWLNUKQzxP0pYs1QpDPE/SlizVCkM8T9KWLNUKQzxP0pYs1QpDPE/SlizVCkM8T9KWLNUKQzxP0pYs1QpDPE/SlizVCkM8T9KWLNUKQzxP0pYs1QpDPE/SlizVCkM8T9KWLNUKQzxPw==\",\"dtype\":\"float64\",\"shape\":[50]}},\"selected\":{\"id\":\"3750\",\"type\":\"Selection\"},\"selection_policy\":{\"id\":\"3749\",\"type\":\"UnionRenderers\"}},\"id\":\"3725\",\"type\":\"ColumnDataSource\"},{\"attributes\":{},\"id\":\"3766\",\"type\":\"Selection\"},{\"attributes\":{\"source\":{\"id\":\"3725\",\"type\":\"ColumnDataSource\"}},\"id\":\"3729\",\"type\":\"CDSView\"},{\"attributes\":{\"line_color\":\"royalblue\",\"line_width\":2,\"x\":{\"field\":\"x\"},\"y\":{\"field\":\"y\"}},\"id\":\"3726\",\"type\":\"Line\"},{\"attributes\":{\"line_alpha\":0.1,\"line_color\":\"#1f77b4\",\"line_width\":2,\"x\":{\"field\":\"x\"},\"y\":{\"field\":\"y\"}},\"id\":\"3727\",\"type\":\"Line\"},{\"attributes\":{},\"id\":\"3932\",\"type\":\"UnionRenderers\"},{\"attributes\":{},\"id\":\"3732\",\"type\":\"BasicTickFormatter\"},{\"attributes\":{\"data_source\":{\"id\":\"3725\",\"type\":\"ColumnDataSource\"},\"glyph\":{\"id\":\"3726\",\"type\":\"Line\"},\"hover_glyph\":null,\"muted_glyph\":null,\"nonselection_glyph\":{\"id\":\"3727\",\"type\":\"Line\"},\"selection_glyph\":null,\"view\":{\"id\":\"3729\",\"type\":\"CDSView\"}},\"id\":\"3728\",\"type\":\"GlyphRenderer\"},{\"attributes\":{\"dimension\":1,\"grid_line_color\":null,\"ticker\":{\"id\":\"3708\",\"type\":\"BasicTicker\"}},\"id\":\"3711\",\"type\":\"Grid\"},{\"attributes\":{},\"id\":\"3703\",\"type\":\"BasicTicker\"},{\"attributes\":{\"grid_line_color\":null,\"ticker\":{\"id\":\"3703\",\"type\":\"BasicTicker\"}},\"id\":\"3706\",\"type\":\"Grid\"},{\"attributes\":{},\"id\":\"3749\",\"type\":\"UnionRenderers\"},{\"attributes\":{\"callback\":null,\"end\":12},\"id\":\"3768\",\"type\":\"Range1d\"},{\"attributes\":{\"source\":{\"id\":\"3738\",\"type\":\"ColumnDataSource\"}},\"id\":\"3742\",\"type\":\"CDSView\"},{\"attributes\":{\"data_source\":{\"id\":\"3752\",\"type\":\"ColumnDataSource\"},\"glyph\":{\"id\":\"3753\",\"type\":\"Line\"},\"hover_glyph\":null,\"muted_glyph\":null,\"nonselection_glyph\":{\"id\":\"3754\",\"type\":\"Line\"},\"selection_glyph\":null,\"view\":{\"id\":\"3756\",\"type\":\"CDSView\"}},\"id\":\"3755\",\"type\":\"GlyphRenderer\"},{\"attributes\":{},\"id\":\"3708\",\"type\":\"BasicTicker\"},{\"attributes\":{},\"id\":\"3698\",\"type\":\"LinearScale\"},{\"attributes\":{\"axis_label\":\"rms error\",\"axis_label_text_font_size\":{\"value\":\"9pt\"},\"formatter\":{\"id\":\"3734\",\"type\":\"BasicTickFormatter\"},\"ticker\":{\"id\":\"3708\",\"type\":\"BasicTicker\"}},\"id\":\"3707\",\"type\":\"LinearAxis\"},{\"attributes\":{\"data_source\":{\"id\":\"3738\",\"type\":\"ColumnDataSource\"},\"glyph\":{\"id\":\"3739\",\"type\":\"Line\"},\"hover_glyph\":null,\"muted_glyph\":null,\"nonselection_glyph\":{\"id\":\"3740\",\"type\":\"Line\"},\"selection_glyph\":null,\"view\":{\"id\":\"3742\",\"type\":\"CDSView\"}},\"id\":\"3741\",\"type\":\"GlyphRenderer\"},{\"attributes\":{\"line_alpha\":0.1,\"line_color\":\"#1f77b4\",\"line_width\":2,\"x\":{\"field\":\"x\"},\"y\":{\"field\":\"y\"}},\"id\":\"3740\",\"type\":\"Line\"},{\"attributes\":{},\"id\":\"3765\",\"type\":\"UnionRenderers\"},{\"attributes\":{\"line_color\":\"green\",\"line_width\":2,\"x\":{\"field\":\"x\"},\"y\":{\"field\":\"y\"}},\"id\":\"3739\",\"type\":\"Line\"},{\"attributes\":{\"callback\":null,\"data\":{\"x\":[2,4,6,8,10,12,14,16,18,20,22,24,26,28,30,32,34,36,38,40,42,44,46,48,50,52,54,56,58,60,62,64,66,68,70,72,74,76,78,80,82,84,86,88,90,92,94,96,98,100],\"y\":{\"__ndarray__\":\"UNQUgYUe7DxtaiMsXTApParBGLEb3pI9xNeQZTsU8D0+LBcv++BXPhNva9nz3c4/mVXCUFZ+2D9isvL7lMjgP9t/Sh8G7eI/5QrRr3pM5D84I6cuF3blP6325mpPduY/2P/8ydWL5z/uJLwTsb3oP1rd70faA+k/QgM3QS9x6T+uOeut5tzpP9BOtzhOEeo/WreOwamV6j+o6ZWgBnrqP5a3KEhSguo/ldLWAKua6j+6jktBZ8rqP77vKY8A/uo/CPSZGYch6z9CXVd3PXDrP8AWeZhekes/usaP8Tdt6z8ynirwxl/rP0IZ/sOyZOs/Qhn+w7Jk6z9CGf7DsmTrP0IZ/sOyZOs/Qhn+w7Jk6z9CGf7DsmTrP0IZ/sOyZOs/Qhn+w7Jk6z9CGf7DsmTrP0IZ/sOyZOs/Qhn+w7Jk6z9CGf7DsmTrP0IZ/sOyZOs/Qhn+w7Jk6z9CGf7DsmTrP0IZ/sOyZOs/Qhn+w7Jk6z9CGf7DsmTrP0IZ/sOyZOs/Qhn+w7Jk6z9CGf7DsmTrPw==\",\"dtype\":\"float64\",\"shape\":[50]}},\"selected\":{\"id\":\"3766\",\"type\":\"Selection\"},\"selection_policy\":{\"id\":\"3765\",\"type\":\"UnionRenderers\"}},\"id\":\"3738\",\"type\":\"ColumnDataSource\"},{\"attributes\":{\"line_alpha\":0.1,\"line_color\":\"#1f77b4\",\"line_dash\":[6],\"x\":{\"field\":\"x\"},\"y\":{\"field\":\"y\"}},\"id\":\"3754\",\"type\":\"Line\"},{\"attributes\":{\"label\":{\"value\":\"mean validation error\"},\"renderers\":[{\"id\":\"3728\",\"type\":\"GlyphRenderer\"}]},\"id\":\"3737\",\"type\":\"LegendItem\"},{\"attributes\":{\"callback\":null,\"end\":99},\"id\":\"3694\",\"type\":\"Range1d\"},{\"attributes\":{\"items\":[{\"id\":\"3737\",\"type\":\"LegendItem\"},{\"id\":\"3751\",\"type\":\"LegendItem\"},{\"id\":\"3767\",\"type\":\"LegendItem\"}]},\"id\":\"3736\",\"type\":\"Legend\"},{\"attributes\":{\"source\":{\"id\":\"3752\",\"type\":\"ColumnDataSource\"}},\"id\":\"3756\",\"type\":\"CDSView\"},{\"attributes\":{\"bottom_units\":\"screen\",\"fill_alpha\":{\"value\":0.5},\"fill_color\":{\"value\":\"lightgrey\"},\"left_units\":\"screen\",\"level\":\"overlay\",\"line_alpha\":{\"value\":1.0},\"line_color\":{\"value\":\"black\"},\"line_dash\":[4,4],\"line_width\":{\"value\":2},\"render_mode\":\"css\",\"right_units\":\"screen\",\"top_units\":\"screen\"},\"id\":\"3735\",\"type\":\"BoxAnnotation\"},{\"attributes\":{},\"id\":\"3933\",\"type\":\"Selection\"},{\"attributes\":{},\"id\":\"3734\",\"type\":\"BasicTickFormatter\"},{\"attributes\":{\"axis_label\":\"traning set size\",\"axis_label_text_font_size\":{\"value\":\"9pt\"},\"formatter\":{\"id\":\"3732\",\"type\":\"BasicTickFormatter\"},\"ticker\":{\"id\":\"3703\",\"type\":\"BasicTicker\"}},\"id\":\"3702\",\"type\":\"LinearAxis\"},{\"attributes\":{\"label\":{\"value\":\"mean training error\"},\"renderers\":[{\"id\":\"3741\",\"type\":\"GlyphRenderer\"}]},\"id\":\"3751\",\"type\":\"LegendItem\"},{\"attributes\":{\"active_drag\":\"auto\",\"active_inspect\":\"auto\",\"active_multi\":null,\"active_scroll\":\"auto\",\"active_tap\":\"auto\",\"tools\":[{\"id\":\"3712\",\"type\":\"PanTool\"},{\"id\":\"3713\",\"type\":\"WheelZoomTool\"},{\"id\":\"3714\",\"type\":\"BoxZoomTool\"},{\"id\":\"3715\",\"type\":\"SaveTool\"},{\"id\":\"3716\",\"type\":\"ResetTool\"},{\"id\":\"3717\",\"type\":\"HelpTool\"}]},\"id\":\"3718\",\"type\":\"Toolbar\"},{\"attributes\":{},\"id\":\"3717\",\"type\":\"HelpTool\"},{\"attributes\":{\"callback\":null,\"data\":{\"x\":[0,100],\"y\":[1.0,1.0]},\"selected\":{\"id\":\"3933\",\"type\":\"Selection\"},\"selection_policy\":{\"id\":\"3932\",\"type\":\"UnionRenderers\"}},\"id\":\"3752\",\"type\":\"ColumnDataSource\"},{\"attributes\":{\"line_dash\":[6],\"x\":{\"field\":\"x\"},\"y\":{\"field\":\"y\"}},\"id\":\"3753\",\"type\":\"Line\"},{\"attributes\":{},\"id\":\"3700\",\"type\":\"LinearScale\"}],\"root_ids\":[\"3691\"]},\"title\":\"Bokeh Application\",\"version\":\"1.2.0\"}};\n",
       "  var render_items = [{\"docid\":\"8f113b4f-3977-44c1-8487-6d2769b7ca5b\",\"roots\":{\"3691\":\"6deeedf2-a936-4156-8472-ea7193bc598e\"}}];\n",
       "  root.Bokeh.embed.embed_items_notebook(docs_json, render_items);\n",
       "\n",
       "  }\n",
       "  if (root.Bokeh !== undefined) {\n",
       "    embed_document(root);\n",
       "  } else {\n",
       "    var attempts = 0;\n",
       "    var timer = setInterval(function(root) {\n",
       "      if (root.Bokeh !== undefined) {\n",
       "        embed_document(root);\n",
       "        clearInterval(timer);\n",
       "      }\n",
       "      attempts++;\n",
       "      if (attempts > 100) {\n",
       "        console.log(\"Bokeh: ERROR: Unable to run BokehJS code because BokehJS library is missing\");\n",
       "        clearInterval(timer);\n",
       "      }\n",
       "    }, 10, root)\n",
       "  }\n",
       "})(window);"
      ],
      "application/vnd.bokehjs_exec.v0+json": ""
     },
     "metadata": {
      "application/vnd.bokehjs_exec.v0+json": {
       "id": "3691"
      }
     },
     "output_type": "display_data"
    }
   ],
   "source": [
    "plot_learning_curve(d=10, N=100, y_range=(0,12))"
   ]
  },
  {
   "cell_type": "markdown",
   "metadata": {},
   "source": [
    "In this example it is possible to see that with `d=10` a **high-variance** estimator may **overfit data** when the number of samples is not sufficent. It is possible to note it by looking at the discrepancy between the two curves. When the number of samples is low we have a low training error, but the corresponding test error is really high. As the number of samples increase the test error decrease and converge to the model error but it may be to slow to converge and still have an higher discrepancy between the two curves.\n",
    "\n",
    "**When the learning curves does not converge using the full training set, it indicates a HIGH VARIANCE model, and the model is OVERFITTING the data.**\n",
    "\n",
    "A high-variance model can be improved by:\n",
    "\n",
    "* Gathering more training samples.\n",
    "* Using a less-sophisticated model (i.e. in this case, make `d` smaller)\n",
    "* Increase regularization.\n",
    "\n",
    "*In particular, gathering more features for each sample will not help the results.*"
   ]
  },
  {
   "cell_type": "markdown",
   "metadata": {},
   "source": [
    "## 6 Do the right thing"
   ]
  },
  {
   "cell_type": "markdown",
   "metadata": {},
   "source": [
    "### 6.1 High Bias"
   ]
  },
  {
   "cell_type": "markdown",
   "metadata": {},
   "source": [
    "If our algorithm shows high **bias**, the following actions might help:\n",
    "\n",
    "- **Add more features**. In our example of predicting home prices,\n",
    "  it may be helpful to make use of information such as the neighborhood\n",
    "  the house is in, the year the house was built, the size of the lot, etc.\n",
    "  Adding these features to the training and test sets can improve\n",
    "  a high-bias estimator\n",
    "- **Use a more sophisticated model**. Adding complexity to the model can\n",
    "  help improve on bias. For a polynomial fit, this can be accomplished\n",
    "  by increasing the degree d. Each learning technique has its own\n",
    "  methods of adding complexity.\n",
    "- **Use fewer samples**. Though this will not improve the classification,\n",
    "  a high-bias algorithm can attain nearly the same error with a smaller\n",
    "  training sample. For algorithms which are computationally expensive,\n",
    "  reducing the training sample size can lead to very large improvements\n",
    "  in speed.\n",
    "- **Decrease regularization**. Regularization is a technique used to impose\n",
    "  simplicity in some machine learning models, by adding a penalty term that\n",
    "  depends on the characteristics of the parameters. If a model has high bias,\n",
    "  decreasing the effect of regularization can lead to better results."
   ]
  },
  {
   "cell_type": "markdown",
   "metadata": {},
   "source": [
    "### 6.2 High Variance"
   ]
  },
  {
   "cell_type": "markdown",
   "metadata": {},
   "source": [
    "If our algorithm shows **high variance**, the following actions might help:\n",
    "\n",
    "- **Use fewer features**. Using a feature selection technique may be\n",
    "  useful, and decrease the over-fitting of the estimator.\n",
    "- **Use a simpler model**.  Model complexity and over-fitting go hand-in-hand.\n",
    "- **Use more training samples**. Adding training samples can reduce\n",
    "  the effect of over-fitting, and lead to improvements in a high\n",
    "  variance estimator.\n",
    "- **Increase Regularization**. Regularization is designed to prevent\n",
    "  over-fitting. In a high-variance model, increasing regularization\n",
    "  can lead to better results.\n",
    "\n",
    "These choices become very important in real-world situations. For example,\n",
    "due to limited telescope time, astronomers must seek a balance between\n",
    "observing a large number of objects, and observing a large number of\n",
    "features for each object. Determining which is more important for a\n",
    "particular learning task can inform the observing strategy that the\n",
    "astronomer employs. In a later exercise, we will explore the use of\n",
    "learning curves for the photometric redshift problem."
   ]
  },
  {
   "cell_type": "markdown",
   "metadata": {},
   "source": [
    "### 6.3 More Sophisticate Methods"
   ]
  },
  {
   "cell_type": "markdown",
   "metadata": {},
   "source": [
    "There are a lot more options for performing validation and model testing.\n",
    "In particular, there are several schemes for cross-validation, in which\n",
    "the model is fit multiple times with different training and test sets.\n",
    "The details are different, but the principles are the same as what we've\n",
    "seen here.\n",
    "\n",
    "For more information see the ``sklearn.model_selection`` module [documentation](<https://scikit-learn.org/stable/model_selection.html>),\n",
    "and the information on the scikit-learn [website](<https://scikit-learn.org/stable/>)."
   ]
  },
  {
   "cell_type": "markdown",
   "metadata": {},
   "source": [
    "### 6.4 One Last Caution"
   ]
  },
  {
   "cell_type": "markdown",
   "metadata": {},
   "source": [
    "Using validation schemes to determine hyper-parameters means that we are\n",
    "fitting the hyper-parameters to the particular validation set.  In the same\n",
    "way that parameters can be over-fit to the training set, hyperparameters can\n",
    "be over-fit to the validation set.  Because of this, the validation error\n",
    "tends to under-predict the classification error of new data.\n",
    "\n",
    "For this reason, it is recommended to split the data into three sets:\n",
    "\n",
    "- The **training set**, used to train the model (usually ~60% of the data)\n",
    "- The **validation set**, used to validate the model (usually ~20% of the data)\n",
    "- The **test set**, used to evaluate the expected error of the validated model (usually ~20% of the data)\n",
    "\n",
    "*This may seem excessive, and many machine learning practitioners ignore the need\n",
    "for a test set.  But if your goal is to predict the error of a model on unknown\n",
    "data, using a test set is vital*."
   ]
  },
  {
   "cell_type": "markdown",
   "metadata": {},
   "source": [
    "## 7 Cross Validation (CV)"
   ]
  },
  {
   "cell_type": "markdown",
   "metadata": {},
   "source": [
    "By partitioning the available data into **Training** and **Validation** sets, we reduce the number of samples which can be used for learning the model.\n",
    "\n",
    "By using cross-validation **(CV)** the *validation set is defined automatically by the CV algorithm*.  The training set is split into k smaller sets and:\n",
    "\n",
    "* A model is trained using k-1 of the folds as training data\n",
    "* The resulting model is validated on the remaining part of the data"
   ]
  },
  {
   "cell_type": "markdown",
   "metadata": {},
   "source": [
    "<img src=\"images/k-fold.png\" alt=\"k-fold\" height=\"600\" width=\"600\"> "
   ]
  },
  {
   "cell_type": "markdown",
   "metadata": {},
   "source": [
    "In this example we first calculate the Mean Squared Error on the Train Dataset (which is a methodological error) and then we calculate again the same MSE using a KFold CV. The MSE calculated with Cv is much larger:"
   ]
  },
  {
   "cell_type": "code",
   "execution_count": 30,
   "metadata": {},
   "outputs": [
    {
     "name": "stdout",
     "output_type": "stream",
     "text": [
      "MSE Calculated on the Training Set:    19.587654526344068\n",
      "MSE Calculated with Cross Validation: 49.85 (+/- 80.06)\n"
     ]
    }
   ],
   "source": [
    "X, y = datasets.samples_generator.make_regression(n_samples=7,\n",
    "                                                  n_features=1, n_informative=1,\n",
    "                                                  random_state=0, noise=5)\n",
    "lin = linear_model.LinearRegression(fit_intercept=True)\n",
    "lin.fit(X, y)\n",
    "MSE = metrics.mean_squared_error(lin.predict(X), y)\n",
    "print('MSE Calculated on the Training Set:   ', MSE)\n",
    "MSE_CV = model_selection.cross_val_score(lin, X, y, cv=5, scoring='neg_mean_squared_error')\n",
    "print(\"MSE Calculated with Cross Validation: %0.2f (+/- %0.2f)\"\n",
    "      % (abs(MSE_CV).mean(), abs(MSE_CV).std() * 2))"
   ]
  },
  {
   "cell_type": "markdown",
   "metadata": {},
   "source": [
    "When the `cv` argument is an integer like `cv=10`, `cross_val_score` uses the `KFold` or `StratifiedKFold` strategies. It is also possible to use other cross validation strategies by passing a cross validation iterator instead, for instance we can use `model_selection.ShuffleSplit` where `n_iter` is the number of re-shuffling and splitting operations:"
   ]
  },
  {
   "cell_type": "code",
   "execution_count": 31,
   "metadata": {},
   "outputs": [
    {
     "name": "stdout",
     "output_type": "stream",
     "text": [
      "MSE Calculated with Cross Validation: 31.07 (+/- 36.74)\n"
     ]
    }
   ],
   "source": [
    "n_samples = X.shape[0]\n",
    "cv_iter = model_selection.ShuffleSplit(n_samples, test_size=0.2, random_state=0)\n",
    "MSE_CV = model_selection.cross_val_score(lin, X, y, cv=cv_iter, scoring='neg_mean_squared_error')\n",
    "print(\"MSE Calculated with Cross Validation: %0.2f (+/- %0.2f)\"\n",
    "      % (abs(MSE_CV).mean(), abs(MSE_CV).std() * 2))"
   ]
  },
  {
   "cell_type": "markdown",
   "metadata": {},
   "source": [
    "### 7.1 Cross Validation: test many estimators on the same dataset:"
   ]
  },
  {
   "cell_type": "markdown",
   "metadata": {},
   "source": [
    "In this example *we use the \"diabetes\" dataset* to fit tree different linear models. For each model the default CV score is calculated and displayed:"
   ]
  },
  {
   "cell_type": "code",
   "execution_count": 32,
   "metadata": {},
   "outputs": [
    {
     "name": "stdout",
     "output_type": "stream",
     "text": [
      "LinearRegression :  0.4887027672471189\n",
      "Ridge :  0.40942743830329875\n",
      "Lasso :  0.35380008329932017\n"
     ]
    },
    {
     "name": "stderr",
     "output_type": "stream",
     "text": [
      "/Library/Frameworks/Python.framework/Versions/3.7/lib/python3.7/site-packages/sklearn/model_selection/_split.py:1978: FutureWarning: The default value of cv will change from 3 to 5 in version 0.22. Specify it explicitly to silence this warning.\n",
      "  warnings.warn(CV_WARNING, FutureWarning)\n",
      "/Library/Frameworks/Python.framework/Versions/3.7/lib/python3.7/site-packages/sklearn/model_selection/_split.py:1978: FutureWarning: The default value of cv will change from 3 to 5 in version 0.22. Specify it explicitly to silence this warning.\n",
      "  warnings.warn(CV_WARNING, FutureWarning)\n",
      "/Library/Frameworks/Python.framework/Versions/3.7/lib/python3.7/site-packages/sklearn/model_selection/_split.py:1978: FutureWarning: The default value of cv will change from 3 to 5 in version 0.22. Specify it explicitly to silence this warning.\n",
      "  warnings.warn(CV_WARNING, FutureWarning)\n"
     ]
    }
   ],
   "source": [
    "data = datasets.load_diabetes()\n",
    "X, y = data.data, data.target\n",
    "\n",
    "for Model in [linear_model.LinearRegression,\n",
    "              linear_model.Ridge,\n",
    "              linear_model.Lasso]:\n",
    "    model = Model()\n",
    "    print(Model.__name__, ': ', model_selection.cross_val_score(model, X, y).mean())"
   ]
  },
  {
   "cell_type": "markdown",
   "metadata": {},
   "source": [
    "### 7.2 Cross Validation: test many hyperparamaters and estimators on the same dataset:"
   ]
  },
  {
   "cell_type": "markdown",
   "metadata": {},
   "source": [
    "`Lasso` and `Ridge` accept a regularization parameter `alpha`. Here we plot the CV Score for different values of alpha"
   ]
  },
  {
   "cell_type": "code",
   "execution_count": 33,
   "metadata": {},
   "outputs": [
    {
     "data": {
      "text/html": [
       "\n",
       "\n",
       "\n",
       "\n",
       "\n",
       "\n",
       "  <div class=\"bk-root\" id=\"a2a3b120-a1b3-4ad6-b82e-4f601fc9a0f8\" data-root-id=\"4006\"></div>\n"
      ]
     },
     "metadata": {},
     "output_type": "display_data"
    },
    {
     "data": {
      "application/javascript": [
       "(function(root) {\n",
       "  function embed_document(root) {\n",
       "    \n",
       "  var docs_json = {\"3c10dbe0-f050-4296-aaf3-0bd2e978a467\":{\"roots\":{\"references\":[{\"attributes\":{\"below\":[{\"id\":\"4017\",\"type\":\"LogAxis\"}],\"center\":[{\"id\":\"4021\",\"type\":\"Grid\"},{\"id\":\"4026\",\"type\":\"Grid\"},{\"id\":\"4051\",\"type\":\"Legend\"}],\"left\":[{\"id\":\"4022\",\"type\":\"LinearAxis\"}],\"plot_height\":300,\"plot_width\":700,\"renderers\":[{\"id\":\"4043\",\"type\":\"GlyphRenderer\"},{\"id\":\"4056\",\"type\":\"GlyphRenderer\"}],\"title\":{\"id\":\"4007\",\"type\":\"Title\"},\"toolbar\":{\"id\":\"4033\",\"type\":\"Toolbar\"},\"x_range\":{\"id\":\"4009\",\"type\":\"Range1d\"},\"x_scale\":{\"id\":\"4013\",\"type\":\"LogScale\"},\"y_range\":{\"id\":\"4011\",\"type\":\"DataRange1d\"},\"y_scale\":{\"id\":\"4015\",\"type\":\"LinearScale\"}},\"id\":\"4006\",\"subtype\":\"Figure\",\"type\":\"Plot\"},{\"attributes\":{\"callback\":null},\"id\":\"4011\",\"type\":\"DataRange1d\"},{\"attributes\":{},\"id\":\"4013\",\"type\":\"LogScale\"},{\"attributes\":{\"data_source\":{\"id\":\"4053\",\"type\":\"ColumnDataSource\"},\"glyph\":{\"id\":\"4054\",\"type\":\"Line\"},\"hover_glyph\":null,\"muted_glyph\":null,\"nonselection_glyph\":{\"id\":\"4055\",\"type\":\"Line\"},\"selection_glyph\":null,\"view\":{\"id\":\"4057\",\"type\":\"CDSView\"}},\"id\":\"4056\",\"type\":\"GlyphRenderer\"},{\"attributes\":{},\"id\":\"4015\",\"type\":\"LinearScale\"},{\"attributes\":{\"formatter\":{\"id\":\"4047\",\"type\":\"LogTickFormatter\"},\"ticker\":{\"id\":\"4018\",\"type\":\"LogTicker\"}},\"id\":\"4017\",\"type\":\"LogAxis\"},{\"attributes\":{\"source\":{\"id\":\"4053\",\"type\":\"ColumnDataSource\"}},\"id\":\"4057\",\"type\":\"CDSView\"},{\"attributes\":{\"num_minor_ticks\":10},\"id\":\"4018\",\"type\":\"LogTicker\"},{\"attributes\":{\"data_source\":{\"id\":\"4040\",\"type\":\"ColumnDataSource\"},\"glyph\":{\"id\":\"4041\",\"type\":\"Line\"},\"hover_glyph\":null,\"muted_glyph\":null,\"nonselection_glyph\":{\"id\":\"4042\",\"type\":\"Line\"},\"selection_glyph\":null,\"view\":{\"id\":\"4044\",\"type\":\"CDSView\"}},\"id\":\"4043\",\"type\":\"GlyphRenderer\"},{\"attributes\":{\"ticker\":{\"id\":\"4018\",\"type\":\"LogTicker\"}},\"id\":\"4021\",\"type\":\"Grid\"},{\"attributes\":{\"callback\":null,\"data\":{\"x\":{\"__ndarray__\":\"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\",\"dtype\":\"float64\",\"shape\":[200]},\"y\":[0.4823198719804237,0.48231991884559233,0.482319967003774,0.48232001435008476,0.4823200641088565,0.48232011438925626,0.4823201651660526,0.4823202162855408,0.4823202688235386,0.4823203150648059,0.4823203646383532,0.4823204159736383,0.48232046553209856,0.482320516352849,0.48232056525531153,0.4823206147625639,0.4823206609496345,0.48232070830886675,0.4823207512358609,0.48232079720675697,0.4823208395067294,0.48232086987668144,0.48232090355724566,0.48232093772119244,0.48232097014338826,0.4823209937028287,0.4823210121764811,0.48232102938033955,0.4823210383036353,0.4823210382246398,0.4823210367267542,0.48232102291351353,0.48232100188189325,0.4823209750026871,0.4823209277652788,0.48232087933243156,0.48232080072971284,0.4823207262236314,0.48232062869260883,0.4823205123628168,0.4823203838935718,0.48232023409844016,0.4823200606957142,0.48231986306826347,0.4823196435370619,0.48231939042330474,0.4823191108923064,0.48231878968779507,0.48231843884325165,0.4823180502151848,0.482317618820265,0.48231712705368296,0.4823166057788962,0.48231601172706184,0.4823153648336954,0.48231465857648625,0.4823138863846255,0.48231304096732464,0.4823121039781091,0.48231108218033364,0.48230996012143973,0.4823087455313269,0.48230741896421864,0.482305978413876,0.482304406454792,0.4823027044475654,0.48230545853492474,0.48231236488885987,0.48232198419781025,0.4823319259216494,0.4823420813307693,0.48235254829327623,0.48236328171946086,0.48237432164243293,0.48238559388143454,0.48239721511385414,0.48240912808098074,0.4824213411520935,0.4824338789446873,0.4824466126962717,0.48245976034662946,0.48246824575154357,0.48247049879835613,0.4824726143270067,0.48247456686107026,0.48247632449469985,0.4824778429299572,0.48247920875228684,0.4824802464699305,0.48248106775094657,0.48248142894293655,0.4824815421097516,0.48248688644729876,0.48249238411036577,0.48249777820428585,0.48250292043971843,0.4825077757035716,0.48251230922974847,0.4825165537139526,0.48252029850833783,0.4825236486196308,0.4825265118354819,0.48252874539661306,0.48253037056428844,0.4825311375599222,0.4825312510779879,0.48252725863151724,0.482519124511132,0.4825095818562353,0.4824991672498397,0.4824871432992429,0.48247327753684444,0.48245738377572567,0.4824355164872955,0.48238751971959826,0.48233330431589894,0.4822766797802669,0.4822171802659293,0.48215421786198914,0.4820878622482356,0.48201796066394687,0.4819445464894012,0.4818668451908086,0.4817850519347996,0.48169878203634753,0.4816077538268825,0.4815119907254619,0.4814117323857783,0.48131684493045856,0.48125683521420565,0.4812150218369049,0.4811689242359861,0.4811179249238876,0.4810983464073743,0.4810991293643679,0.4811193313383078,0.48115650678595134,0.4811802956093871,0.4811998162709455,0.481217629012043,0.4812332914470539,0.48124695209799845,0.4812844503876915,0.4813417207340566,0.4814039306194536,0.48146432253306076,0.48152029004309665,0.48157635653669495,0.4816320306416987,0.481687577177062,0.481717153147682,0.4817349085093469,0.4817519852888578,0.4817686187602728,0.48178530060589253,0.4818002392200416,0.4818144922628633,0.48182754219497453,0.481840393524093,0.4818499462414998,0.48188277568459154,0.48191589616215663,0.48194828087696584,0.4819797313850289,0.4820098554769894,0.482038668903985,0.48206586949108116,0.48208595408295735,0.4820995110582838,0.4821082651529761,0.4821152713189608,0.48211654452643826,0.48211416669872625,0.48210766275813344,0.4820967786702234,0.48208085909182874,0.4820630346952136,0.48204909514844074,0.48204289730292665,0.48204231704783085,0.48203535099700207,0.48202268559982064,0.48200295920617026,0.4819759672586835,0.4819411629935084,0.48188784767972637,0.48181757338938336,0.4817395167678075,0.4816510140889866,0.4815350476045719,0.48140495190257815,0.48126275860241974,0.4811058827242256,0.4809344025096175,0.48074660077664505,0.4805416840899059,0.48031758713672235,0.48007311623498683,0.4798063836521423,0.4795161392064994]},\"selected\":{\"id\":\"4241\",\"type\":\"Selection\"},\"selection_policy\":{\"id\":\"4240\",\"type\":\"UnionRenderers\"}},\"id\":\"4053\",\"type\":\"ColumnDataSource\"},{\"attributes\":{\"formatter\":{\"id\":\"4049\",\"type\":\"BasicTickFormatter\"},\"ticker\":{\"id\":\"4023\",\"type\":\"BasicTicker\"}},\"id\":\"4022\",\"type\":\"LinearAxis\"},{\"attributes\":{\"dimension\":1,\"ticker\":{\"id\":\"4023\",\"type\":\"BasicTicker\"}},\"id\":\"4026\",\"type\":\"Grid\"},{\"attributes\":{\"line_alpha\":0.1,\"line_color\":\"#1f77b4\",\"x\":{\"field\":\"x\"},\"y\":{\"field\":\"y\"}},\"id\":\"4042\",\"type\":\"Line\"},{\"attributes\":{},\"id\":\"4240\",\"type\":\"UnionRenderers\"},{\"attributes\":{},\"id\":\"4049\",\"type\":\"BasicTickFormatter\"},{\"attributes\":{\"callback\":null,\"data\":{\"x\":{\"__ndarray__\":\"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\",\"dtype\":\"float64\",\"shape\":[200]},\"y\":[0.4823231384163485,0.48232328486322984,0.48232343434378666,0.4823235868189589,0.4823237422385979,0.48232390054046076,0.4823240616491331,0.4823242254748778,0.4823243919124029,0.4823245608395462,0.48232473211587035,0.48232490558116464,0.4823250810538474,0.48232525832926376,0.48232543717787435,0.4823256173433281,0.4823257985404131,0.48232598045288133,0.4823261627311388,0.4823263449897969,0.4823265268050763,0.4823267077120601,0.4823268872017861,0.4823270647181747,0.48232723965478375,0.4823274113513853,0.4823275790903564,0.4823277420928795,0.4823278995149451,0.4823280504431498,0.48232819389028736,0.48232832879072374,0.482328453995556,0.4823285682675456,0.48232867027582743,0.4823287585903905,0.48232883167632645,0.48232888788784906,0.4823289254620818,0.4823289425126182,0.48232893702285573,0.48232890683911045,0.4823288496635187,0.4823287630467342,0.48232864438043155,0.48232849088963237,0.482328299624867,0.48232806745419393,0.48232779105509616,0.4823274669062861,0.48232709127944107,0.4823266602309103,0.4823261695934251,0.48232561496785814,0.48232499171507665,0.48232429494794216,0.48232351952351216,0.4823226600355074,0.48232171080710984,0.4823206658841673,0.48231951902888,0.4823182637140572,0.4823168931180296,0.48231540012031865,0.4823137772981596,0.48231201692398845,0.48231011096400367,0.48230805107791924,0.48230582862003324,0.4823034346417323,0.4823008598955666,0.4822980948410215,0.4822951296521204,0.48229195422699445,0.4822885581995452,0.48228493095334013,0.4822810616378598,0.48227693918722636,0.4822725523415256,0.48226788967083356,0.48226293960204336,0.4822576904485816,0.48225213044308307,0.48224624777308256,0.48224003061975795,0.4822334671997468,0.4822265458100226,0.4822192548758079,0.48221158300146055,0.4822035190242513,0.48219505207091035,0.4821861716167987,0.4821768675475173,0.48216713022273777,0.4821569505420043,0.4821463200122129,0.48213523081644905,0.48212367588382143,0.4821116489598998,0.4820991446773283,0.4820861586261608,0.4820726874234298,0.48205872878143835,0.4820442815742429,0.48202934590177604,0.4820139231510437,0.4819980160538244,0.4819816287402941,0.481964766788,0.48194743726561773,0.4819296487709391,0.48191141146255206,0.4818927370847114,0.48187363898491586,0.48185413212375555,0.48183423307663115,0.481813960026993,0.481793332750801,0.48177237259196176,0.48175110242855695,0.48172954662973677,0.48170773100321773,0.4816856827333845,0.4816634303100571,0.48164100344805105,0.48161843299771423,0.4815957508466827,0.48157298981314955,0.4815501835309945,0.48152736632716076,0.4815045730917055,0.4814818391409862,0.48145920007446286,0.4814366916256233,0.4814143495075406,0.4813922092535835,0.48137030605378905,0.48134867458740355,0.48132734885206985,0.48130636199012305,0.48128574611241826,0.48126553212007794,0.4812457495245047,0.48122642626595413,0.4812075885309107,0.48118926056845435,0.48117146450574316,0.4811542201626783,0.48113754486575305,0.4811214532610223,0.4811059571260648,0.4810910651807473,0.4810767828965326,0.481063112304016,0.48105005179830984,0.4810375959418403,0.4810257352640681,0.48101445605758714,0.4810037401700134,0.48099356479102956,0.48098390223391013,0.4809747197108215,0.4809659791011561,0.48095763671213776,0.4809496430309176,0.4809419424673611,0.4809344730867252,0.4809271663314171,0.48091994673103555,0.4809127315999054,0.480905430721333,0.48089794601783986,0.4808901712066616,0.48088199143984395,0.4808732829283164,0.48086391254938177,0.48085373743712934,0.4808426045553581,0.48083035025267806,0.48081679979956304,0.4808017669072296,0.4807850532283398,0.48076644783965394,0.48074572670690047,0.48072265213228516,0.48069697218522467,0.480668420117066,0.4806367137607432,0.48060155491652007,0.48056262872517913,0.48051960303023983,0.4804721277310173,0.4804198341285776,0.48036233426689295,0.4802992202717576,0.48023006369028814,0.4801544148341005,0.4800718021295253,0.4799817314784969,0.47988368563401884]},\"selected\":{\"id\":\"4065\",\"type\":\"Selection\"},\"selection_policy\":{\"id\":\"4064\",\"type\":\"UnionRenderers\"}},\"id\":\"4040\",\"type\":\"ColumnDataSource\"},{\"attributes\":{},\"id\":\"4241\",\"type\":\"Selection\"},{\"attributes\":{},\"id\":\"4065\",\"type\":\"Selection\"},{\"attributes\":{},\"id\":\"4027\",\"type\":\"PanTool\"},{\"attributes\":{\"bottom_units\":\"screen\",\"fill_alpha\":{\"value\":0.5},\"fill_color\":{\"value\":\"lightgrey\"},\"left_units\":\"screen\",\"level\":\"overlay\",\"line_alpha\":{\"value\":1.0},\"line_color\":{\"value\":\"black\"},\"line_dash\":[4,4],\"line_width\":{\"value\":2},\"render_mode\":\"css\",\"right_units\":\"screen\",\"top_units\":\"screen\"},\"id\":\"4050\",\"type\":\"BoxAnnotation\"},{\"attributes\":{},\"id\":\"4023\",\"type\":\"BasicTicker\"},{\"attributes\":{},\"id\":\"4028\",\"type\":\"WheelZoomTool\"},{\"attributes\":{\"line_color\":\"green\",\"x\":{\"field\":\"x\"},\"y\":{\"field\":\"y\"}},\"id\":\"4054\",\"type\":\"Line\"},{\"attributes\":{\"overlay\":{\"id\":\"4050\",\"type\":\"BoxAnnotation\"}},\"id\":\"4029\",\"type\":\"BoxZoomTool\"},{\"attributes\":{\"source\":{\"id\":\"4040\",\"type\":\"ColumnDataSource\"}},\"id\":\"4044\",\"type\":\"CDSView\"},{\"attributes\":{\"items\":[{\"id\":\"4052\",\"type\":\"LegendItem\"},{\"id\":\"4066\",\"type\":\"LegendItem\"}],\"location\":\"bottom_left\"},\"id\":\"4051\",\"type\":\"Legend\"},{\"attributes\":{\"label\":{\"value\":\"Ridge\"},\"renderers\":[{\"id\":\"4043\",\"type\":\"GlyphRenderer\"}]},\"id\":\"4052\",\"type\":\"LegendItem\"},{\"attributes\":{},\"id\":\"4030\",\"type\":\"SaveTool\"},{\"attributes\":{\"line_color\":\"blue\",\"x\":{\"field\":\"x\"},\"y\":{\"field\":\"y\"}},\"id\":\"4041\",\"type\":\"Line\"},{\"attributes\":{},\"id\":\"4064\",\"type\":\"UnionRenderers\"},{\"attributes\":{},\"id\":\"4031\",\"type\":\"ResetTool\"},{\"attributes\":{\"label\":{\"value\":\"Lasso\"},\"renderers\":[{\"id\":\"4056\",\"type\":\"GlyphRenderer\"}]},\"id\":\"4066\",\"type\":\"LegendItem\"},{\"attributes\":{\"line_alpha\":0.1,\"line_color\":\"#1f77b4\",\"x\":{\"field\":\"x\"},\"y\":{\"field\":\"y\"}},\"id\":\"4055\",\"type\":\"Line\"},{\"attributes\":{\"ticker\":null},\"id\":\"4047\",\"type\":\"LogTickFormatter\"},{\"attributes\":{},\"id\":\"4032\",\"type\":\"HelpTool\"},{\"attributes\":{\"text\":\"Alpha sensitiveness on different models\"},\"id\":\"4007\",\"type\":\"Title\"},{\"attributes\":{\"active_drag\":\"auto\",\"active_inspect\":\"auto\",\"active_multi\":null,\"active_scroll\":\"auto\",\"active_tap\":\"auto\",\"tools\":[{\"id\":\"4027\",\"type\":\"PanTool\"},{\"id\":\"4028\",\"type\":\"WheelZoomTool\"},{\"id\":\"4029\",\"type\":\"BoxZoomTool\"},{\"id\":\"4030\",\"type\":\"SaveTool\"},{\"id\":\"4031\",\"type\":\"ResetTool\"},{\"id\":\"4032\",\"type\":\"HelpTool\"}]},\"id\":\"4033\",\"type\":\"Toolbar\"},{\"attributes\":{\"callback\":null,\"end\":0.1,\"start\":0.0001},\"id\":\"4009\",\"type\":\"Range1d\"}],\"root_ids\":[\"4006\"]},\"title\":\"Bokeh Application\",\"version\":\"1.2.0\"}};\n",
       "  var render_items = [{\"docid\":\"3c10dbe0-f050-4296-aaf3-0bd2e978a467\",\"roots\":{\"4006\":\"a2a3b120-a1b3-4ad6-b82e-4f601fc9a0f8\"}}];\n",
       "  root.Bokeh.embed.embed_items_notebook(docs_json, render_items);\n",
       "\n",
       "  }\n",
       "  if (root.Bokeh !== undefined) {\n",
       "    embed_document(root);\n",
       "  } else {\n",
       "    var attempts = 0;\n",
       "    var timer = setInterval(function(root) {\n",
       "      if (root.Bokeh !== undefined) {\n",
       "        embed_document(root);\n",
       "        clearInterval(timer);\n",
       "      }\n",
       "      attempts++;\n",
       "      if (attempts > 100) {\n",
       "        console.log(\"Bokeh: ERROR: Unable to run BokehJS code because BokehJS library is missing\");\n",
       "        clearInterval(timer);\n",
       "      }\n",
       "    }, 10, root)\n",
       "  }\n",
       "})(window);"
      ],
      "application/vnd.bokehjs_exec.v0+json": ""
     },
     "metadata": {
      "application/vnd.bokehjs_exec.v0+json": {
       "id": "4006"
      }
     },
     "output_type": "display_data"
    }
   ],
   "source": [
    "from bokeh.models.axes import LogAxis\n",
    "\n",
    "alphas = np.logspace(-4, -1, 200)\n",
    "fig = bk.figure(title='Alpha sensitiveness on different models',\n",
    "                plot_width=700, plot_height=300,\n",
    "                x_axis_type='log', \n",
    "                x_range=(min(alphas), max(alphas)))\n",
    "\n",
    "for Model, color in [(linear_model.Ridge, 'blue'), (linear_model.Lasso, 'green')]:\n",
    "    scores = [model_selection.cross_val_score(Model(alpha=a), X, y, cv=5).mean()\n",
    "              for a in alphas]\n",
    "    fig.line(alphas, scores, line_color=color, legend=Model.__name__)\n",
    "\n",
    "fig.legend.location = 'bottom_left'\n",
    "bk.show(fig)"
   ]
  },
  {
   "cell_type": "markdown",
   "metadata": {},
   "source": [
    "### 7.3 Model specific Cross Validation:"
   ]
  },
  {
   "cell_type": "markdown",
   "metadata": {},
   "source": [
    "Some models can fit data for a range of parameters almost as efficiently as fitting for a single parameter. The most common parameter amenable to this strategy is the strength of the regularizer. In this case we say that we compute the regularization path of the estimator.\n",
    "\n",
    "This is a particular case of what we are going to see in the next paragraph: **Grid Search**.\n",
    "\n",
    "Model Specific Cross Validation is supported by the following models:\n",
    "\n",
    "* **RidgeCV**\n",
    "* **RidgeClassifierCV**\n",
    "* **LarsCV**\n",
    "* **LassoLarsCV**\n",
    "* **LassoCV**\n",
    "* **ElasticNetCV**"
   ]
  },
  {
   "cell_type": "code",
   "execution_count": 34,
   "metadata": {},
   "outputs": [
    {
     "name": "stdout",
     "output_type": "stream",
     "text": [
      "RidgeCV :  0.0003739937302478798\n",
      "LassoCV :  0.003827494478516311\n"
     ]
    }
   ],
   "source": [
    "for Model in [linear_model.RidgeCV, linear_model.LassoCV]:\n",
    "    model = Model(alphas=alphas, cv=5).fit(X, y)\n",
    "    print(Model.__name__, ': ', model.alpha_)"
   ]
  },
  {
   "cell_type": "markdown",
   "metadata": {},
   "source": [
    "### 7.4 Cross-validation iterators"
   ]
  },
  {
   "cell_type": "markdown",
   "metadata": {},
   "source": [
    "* **K-fold** - divide all samples in *K* groups, if *K=n* it is equivalent to leave-one-out.\n",
    "* **Statified K-fold** - each set contains the same prercentage of the target classes as the whole set\n",
    "* **Leave-One-Out (LOO)** - all samples except one\n",
    "* **Leave-P-Out (LPO)** - create all possible training sets by removing *p* samples from the whole set\n",
    "* **Leave-One-Label-Out (LOLO)** - holds out the samples according to a third-party provided label\n",
    "* **ShuffleSplit** - shuffles then split data in train and test sets\n",
    "* **StratifiedShuffleSplit** - ShuffleSplits by preserving percentage\n",
    "* **Bootstrap** - generate independent splits and then resample with replacement each split"
   ]
  },
  {
   "cell_type": "code",
   "execution_count": 35,
   "metadata": {},
   "outputs": [],
   "source": [
    "X = np.arange(20).reshape(10,2)\n",
    "y = np.arange(10)"
   ]
  },
  {
   "cell_type": "markdown",
   "metadata": {},
   "source": [
    "**KFold** split dataset into k consecutive folds (without shuffling):"
   ]
  },
  {
   "cell_type": "code",
   "execution_count": 36,
   "metadata": {},
   "outputs": [
    {
     "name": "stdout",
     "output_type": "stream",
     "text": [
      "[2 3 4 5 6 7 8 9] [0 1]\n",
      "[0 1 4 5 6 7 8 9] [2 3]\n",
      "[0 1 2 3 6 7 8 9] [4 5]\n",
      "[0 1 2 3 4 5 8 9] [6 7]\n",
      "[0 1 2 3 4 5 6 7] [8 9]\n"
     ]
    }
   ],
   "source": [
    "kf = model_selection.KFold(n_splits=5)\n",
    "for train, test in kf.split(X):\n",
    "    print(train, test)"
   ]
  },
  {
   "cell_type": "markdown",
   "metadata": {},
   "source": [
    "**ShuffleSplit** do not guarantee that all folds will be different:"
   ]
  },
  {
   "cell_type": "code",
   "execution_count": 37,
   "metadata": {},
   "outputs": [
    {
     "name": "stdout",
     "output_type": "stream",
     "text": [
      "[5 3 9 8 0 7 1 4] [6 2]\n",
      "[1 9 2 3 5 8 7 4] [0 6]\n",
      "[4 3 6 2 9 5 7 0] [8 1]\n",
      "[9 5 8 7 2 0 1 6] [4 3]\n",
      "[5 8 2 3 1 6 4 7] [9 0]\n"
     ]
    }
   ],
   "source": [
    "ss = model_selection.ShuffleSplit(n_splits=5, test_size=0.2)\n",
    "for train, test in ss.split(X):\n",
    "    print(train, test)"
   ]
  },
  {
   "cell_type": "markdown",
   "metadata": {},
   "source": [
    "**Bootstrap** example:"
   ]
  },
  {
   "cell_type": "code",
   "execution_count": 38,
   "metadata": {},
   "outputs": [
    {
     "name": "stdout",
     "output_type": "stream",
     "text": [
      "[1 2 3 4 5 6 7 8 9] [0]\n",
      "[0 2 3 4 5 6 7 8 9] [1]\n",
      "[0 1 3 4 5 6 7 8 9] [2]\n",
      "[0 1 2 4 5 6 7 8 9] [3]\n",
      "[0 1 2 3 5 6 7 8 9] [4]\n",
      "[0 1 2 3 4 6 7 8 9] [5]\n",
      "[0 1 2 3 4 5 7 8 9] [6]\n",
      "[0 1 2 3 4 5 6 8 9] [7]\n",
      "[0 1 2 3 4 5 6 7 9] [8]\n",
      "[0 1 2 3 4 5 6 7 8] [9]\n"
     ]
    }
   ],
   "source": [
    "bs = model_selection.LeaveOneOut()\n",
    "for train, test in bs.split(X):\n",
    "    print(train, test)"
   ]
  },
  {
   "cell_type": "markdown",
   "metadata": {},
   "source": [
    "## 8 Grid Search: Searching for estimator hyperparameters"
   ]
  },
  {
   "cell_type": "markdown",
   "metadata": {},
   "source": [
    "`GridSearchCV` can optimize any parameter provided by `estimator.get_params()` by exhaustively fitting the model with any parameter combination.\n",
    "\n",
    "When evaluating different settings (“hyperparameters”) for estimators.\n",
    "\n",
    "`GridSearchCV` will optimize the hyperparameters on the **TRAINING set** (whereas the **VALIDATION set** is generated by CV). After the optimization has been done, the performances of the estimator can be evaluated on a third set called **TEST set**:"
   ]
  },
  {
   "cell_type": "markdown",
   "metadata": {},
   "source": [
    "### 8.1 Exhaustive Grid Search"
   ]
  },
  {
   "cell_type": "markdown",
   "metadata": {},
   "source": [
    "We'll pass to `GridSearchCV` a dictionary of parameters containing a list of hyperparameters to be searched. In this case we set `verbose=2` to see an output about all the searches done by the algorithm:"
   ]
  },
  {
   "cell_type": "code",
   "execution_count": 39,
   "metadata": {},
   "outputs": [
    {
     "name": "stdout",
     "output_type": "stream",
     "text": [
      "Fitting 5 folds for each of 4 candidates, totalling 20 fits\n"
     ]
    },
    {
     "name": "stderr",
     "output_type": "stream",
     "text": [
      "[Parallel(n_jobs=-1)]: Using backend LokyBackend with 4 concurrent workers.\n",
      "[Parallel(n_jobs=-1)]: Done  20 out of  20 | elapsed:    1.9s finished\n",
      "/Library/Frameworks/Python.framework/Versions/3.7/lib/python3.7/site-packages/sklearn/model_selection/_search.py:813: DeprecationWarning: The default of the `iid` parameter will change from True to False in version 0.22 and will be removed in 0.24. This will change numeric results when test-set sizes are unequal.\n",
      "  DeprecationWarning)\n"
     ]
    },
    {
     "data": {
      "text/plain": [
       "GridSearchCV(cv=5, error_score='raise-deprecating',\n",
       "             estimator=SVC(C=1.0, cache_size=200, class_weight=None, coef0=0.0,\n",
       "                           decision_function_shape='ovr', degree=3,\n",
       "                           gamma='auto_deprecated', kernel='rbf', max_iter=-1,\n",
       "                           probability=False, random_state=None, shrinking=True,\n",
       "                           tol=0.001, verbose=False),\n",
       "             iid='warn', n_jobs=-1,\n",
       "             param_grid=[{'C': [1, 10], 'kernel': ['linear']},\n",
       "                         {'C': [2], 'gamma': [0.1, 0.01], 'kernel': ['rbf']}],\n",
       "             pre_dispatch='2*n_jobs', refit=True, return_train_score=False,\n",
       "             scoring=None, verbose=2)"
      ]
     },
     "execution_count": 39,
     "metadata": {},
     "output_type": "execute_result"
    }
   ],
   "source": [
    "from sklearn import svm\n",
    "# Standardize the data\n",
    "iris = datasets.load_iris()\n",
    "scaler = preprocessing.StandardScaler(copy=True, with_mean=True, with_std=True)\n",
    "X = scaler.fit_transform(iris.data)\n",
    "# Keep out the Test Set\n",
    "X_tr, X_test, y_tr, y_test = model_selection.train_test_split(X, iris.target,\n",
    "                                                              test_size=0.30, random_state=0)\n",
    "# Define the Search Grid\n",
    "param_grid = [{'C': [1, 10], 'kernel': ['linear']},\n",
    "              {'C': [2], 'gamma': [0.1, 0.01], 'kernel': ['rbf']}]\n",
    "# GridSearchCV\n",
    "clf = model_selection.GridSearchCV(svm.SVC(), param_grid, cv=5, n_jobs=-1, verbose=2)\n",
    "clf.fit(X_tr, y_tr)"
   ]
  },
  {
   "cell_type": "code",
   "execution_count": 40,
   "metadata": {},
   "outputs": [
    {
     "name": "stdout",
     "output_type": "stream",
     "text": [
      "mean: 0.943, std: 0.0348, params: {'C': 1, 'kernel': 'linear'}\n",
      "mean: 0.933, std: 0.0469, params: {'C': 10, 'kernel': 'linear'}\n",
      "mean: 0.943, std: 0.0348, params: {'C': 2, 'gamma': 0.1, 'kernel': 'rbf'}\n",
      "mean: 0.895, std: 0.0981, params: {'C': 2, 'gamma': 0.01, 'kernel': 'rbf'}\n"
     ]
    }
   ],
   "source": [
    "for a,b,c in zip(clf.cv_results_['mean_test_score'], \n",
    "                 clf.cv_results_['std_test_score'], \n",
    "                 clf.cv_results_['params']):\n",
    "    print('mean: {:.3f}, std: {:.4f}, params: {}'.format(a,b,c))"
   ]
  },
  {
   "cell_type": "markdown",
   "metadata": {},
   "source": [
    "Then we can check the accuracy on the **Test Set**:"
   ]
  },
  {
   "cell_type": "code",
   "execution_count": 41,
   "metadata": {},
   "outputs": [
    {
     "name": "stdout",
     "output_type": "stream",
     "text": [
      "Best estimator:  SVC(C=1, cache_size=200, class_weight=None, coef0=0.0,\n",
      "    decision_function_shape='ovr', degree=3, gamma='auto_deprecated',\n",
      "    kernel='linear', max_iter=-1, probability=False, random_state=None,\n",
      "    shrinking=True, tol=0.001, verbose=False)\n",
      "Accuracy: 0.91 (+/- 0.22)\n"
     ]
    }
   ],
   "source": [
    "best = clf.best_estimator_\n",
    "print('Best estimator: ', best)\n",
    "scores = model_selection.cross_val_score(best, X_test, y_test, cv=10)\n",
    "print(\"Accuracy: %0.2f (+/- %0.2f)\" % (scores.mean(), scores.std() * 2))"
   ]
  },
  {
   "cell_type": "markdown",
   "metadata": {},
   "source": [
    "Different `score` metrics can be used while doing `GridSearchCV`:"
   ]
  },
  {
   "cell_type": "code",
   "execution_count": 42,
   "metadata": {},
   "outputs": [
    {
     "name": "stdout",
     "output_type": "stream",
     "text": [
      "PRECISION: fraction of retrieved instances that are relevant\n",
      "RECALL:    fraction of relevant instances that are retrieved\n",
      "\n",
      "Tuning hyper-parameters for: precision_weighted\n",
      "\n",
      "Best parameters set found on development (training) set:\n",
      "SVC(C=0.5, cache_size=200, class_weight=None, coef0=0.0,\n",
      "    decision_function_shape='ovr', degree=3, gamma='auto_deprecated',\n",
      "    kernel='linear', max_iter=-1, probability=False, random_state=None,\n",
      "    shrinking=True, tol=0.001, verbose=False)\n",
      "\n",
      "Grid Scores on development set:\n",
      "mean: 0.920, std: 0.0815, params: {'C': 0.125, 'kernel': 'linear'}\n",
      "mean: 0.953, std: 0.0648, params: {'C': 0.25, 'kernel': 'linear'}\n",
      "mean: 0.987, std: 0.0267, params: {'C': 0.5, 'kernel': 'linear'}\n",
      "mean: 0.974, std: 0.0340, params: {'C': 1.0, 'kernel': 'linear'}\n",
      "mean: 0.941, std: 0.0617, params: {'C': 1, 'gamma': 0.1, 'kernel': 'rbf'}\n",
      "mean: 0.974, std: 0.0340, params: {'C': 10, 'gamma': 0.1, 'kernel': 'rbf'}\n",
      "\n",
      "Detailed classification report (on Testing Set)\n",
      "              precision    recall  f1-score   support\n",
      "\n",
      "           0       1.00      1.00      1.00        26\n",
      "           1       0.89      1.00      0.94        33\n",
      "           2       1.00      0.87      0.93        31\n",
      "\n",
      "    accuracy                           0.96        90\n",
      "   macro avg       0.96      0.96      0.96        90\n",
      "weighted avg       0.96      0.96      0.96        90\n",
      "\n",
      "-----------------------------------------------------\n",
      "\n",
      "Tuning hyper-parameters for: recall_weighted\n",
      "\n",
      "Best parameters set found on development (training) set:\n",
      "SVC(C=0.5, cache_size=200, class_weight=None, coef0=0.0,\n",
      "    decision_function_shape='ovr', degree=3, gamma='auto_deprecated',\n",
      "    kernel='linear', max_iter=-1, probability=False, random_state=None,\n",
      "    shrinking=True, tol=0.001, verbose=False)\n",
      "\n",
      "Grid Scores on development set:\n",
      "mean: 0.917, std: 0.0810, params: {'C': 0.125, 'kernel': 'linear'}\n",
      "mean: 0.950, std: 0.0659, params: {'C': 0.25, 'kernel': 'linear'}\n",
      "mean: 0.983, std: 0.0333, params: {'C': 0.5, 'kernel': 'linear'}\n",
      "mean: 0.967, std: 0.0441, params: {'C': 1.0, 'kernel': 'linear'}\n",
      "mean: 0.933, std: 0.0637, params: {'C': 1, 'gamma': 0.1, 'kernel': 'rbf'}\n",
      "mean: 0.967, std: 0.0441, params: {'C': 10, 'gamma': 0.1, 'kernel': 'rbf'}\n",
      "\n",
      "Detailed classification report (on Testing Set)\n",
      "              precision    recall  f1-score   support\n",
      "\n",
      "           0       1.00      1.00      1.00        26\n",
      "           1       0.89      1.00      0.94        33\n",
      "           2       1.00      0.87      0.93        31\n",
      "\n",
      "    accuracy                           0.96        90\n",
      "   macro avg       0.96      0.96      0.96        90\n",
      "weighted avg       0.96      0.96      0.96        90\n",
      "\n",
      "-----------------------------------------------------\n"
     ]
    },
    {
     "name": "stderr",
     "output_type": "stream",
     "text": [
      "/Library/Frameworks/Python.framework/Versions/3.7/lib/python3.7/site-packages/sklearn/model_selection/_search.py:813: DeprecationWarning: The default of the `iid` parameter will change from True to False in version 0.22 and will be removed in 0.24. This will change numeric results when test-set sizes are unequal.\n",
      "  DeprecationWarning)\n",
      "/Library/Frameworks/Python.framework/Versions/3.7/lib/python3.7/site-packages/sklearn/model_selection/_search.py:813: DeprecationWarning: The default of the `iid` parameter will change from True to False in version 0.22 and will be removed in 0.24. This will change numeric results when test-set sizes are unequal.\n",
      "  DeprecationWarning)\n"
     ]
    }
   ],
   "source": [
    "X_tr, X_test, y_tr, y_test = model_selection.train_test_split(X, \n",
    "                                                              iris.target,\n",
    "                                                              test_size=0.60, \n",
    "                                                              random_state=0)\n",
    "scores = ['precision_weighted', 'recall_weighted']\n",
    "param_grid = [{'C': np.logspace(-3,0,4, base=2), 'kernel': ['linear']},\n",
    "              {'C': [1, 10], 'gamma': [0.1], 'kernel': ['rbf']}]\n",
    "print('PRECISION: fraction of retrieved instances that are relevant')\n",
    "print('RECALL:    fraction of relevant instances that are retrieved')\n",
    "for score in scores:\n",
    "    print('\\nTuning hyper-parameters for: %s' % score)\n",
    "    clf = model_selection.GridSearchCV(svm.SVC(), param_grid, cv=5, scoring=score)\n",
    "    clf.fit(X_tr, y_tr)\n",
    "    print('\\nBest parameters set found on development (training) set:')\n",
    "    print(clf.best_estimator_)\n",
    "    print('\\nGrid Scores on development set:')\n",
    "    for a,b,c in zip(clf.cv_results_['mean_test_score'], \n",
    "                     clf.cv_results_['std_test_score'], \n",
    "                     clf.cv_results_['params']):\n",
    "        print('mean: {:.3f}, std: {:.4f}, params: {}'.format(a,b,c))\n",
    "    print('\\nDetailed classification report (on Testing Set)')\n",
    "    y_true, y_pred = y_test, clf.predict(X_test)\n",
    "    print(metrics.classification_report(y_true, y_pred))\n",
    "    print('-----------------------------------------------------')"
   ]
  },
  {
   "cell_type": "markdown",
   "metadata": {},
   "source": [
    "### 8.2 Randomized Parameter Optimization"
   ]
  },
  {
   "cell_type": "markdown",
   "metadata": {},
   "source": [
    "`RandomizedSearchCV` implements a randomized search over parameters, where each setting is sampled from a distribution over possible parameter values. This has two main benefits:\n",
    "\n",
    "* A budget can be chosen independent of the number of parameters and possible values.\n",
    "* Adding parameters that do not influence the performance does not decrease efficiency.\n",
    "\n",
    "Specifying how parameters should be sampled is done using a dictionary. The number of sampling iterations, is specified using the `n_iter` parameter. For each parameter, either a distribution over possible values or a list of discrete choices (which will be sampled uniformly) can be specified. This is a little example of the many statistical distributions available in `scipy`:"
   ]
  },
  {
   "cell_type": "code",
   "execution_count": 43,
   "metadata": {},
   "outputs": [
    {
     "data": {
      "text/html": [
       "\n",
       "\n",
       "\n",
       "\n",
       "\n",
       "\n",
       "  <div class=\"bk-root\" id=\"2c66963d-a559-431c-b0d7-bc6420c00676\" data-root-id=\"4493\"></div>\n"
      ]
     },
     "metadata": {},
     "output_type": "display_data"
    },
    {
     "data": {
      "application/javascript": [
       "(function(root) {\n",
       "  function embed_document(root) {\n",
       "    \n",
       "  var docs_json = {\"7659bcfa-2531-4039-a6ea-5db9d5d53634\":{\"roots\":{\"references\":[{\"attributes\":{\"children\":[{\"id\":\"4492\",\"type\":\"ToolbarBox\"},{\"id\":\"4490\",\"type\":\"GridBox\"}]},\"id\":\"4493\",\"type\":\"Column\"},{\"attributes\":{},\"id\":\"4436\",\"type\":\"ResetTool\"},{\"attributes\":{\"ticker\":{\"id\":\"4349\",\"type\":\"BasicTicker\"}},\"id\":\"4352\",\"type\":\"Grid\"},{\"attributes\":{\"formatter\":{\"id\":\"4473\",\"type\":\"BasicTickFormatter\"},\"ticker\":{\"id\":\"4386\",\"type\":\"BasicTicker\"}},\"id\":\"4385\",\"type\":\"LinearAxis\"},{\"attributes\":{},\"id\":\"4437\",\"type\":\"HelpTool\"},{\"attributes\":{},\"id\":\"4386\",\"type\":\"BasicTicker\"},{\"attributes\":{\"active_drag\":\"auto\",\"active_inspect\":\"auto\",\"active_multi\":null,\"active_scroll\":\"auto\",\"active_tap\":\"auto\",\"tools\":[{\"id\":\"4432\",\"type\":\"PanTool\"},{\"id\":\"4433\",\"type\":\"WheelZoomTool\"},{\"id\":\"4434\",\"type\":\"BoxZoomTool\"},{\"id\":\"4435\",\"type\":\"SaveTool\"},{\"id\":\"4436\",\"type\":\"ResetTool\"},{\"id\":\"4437\",\"type\":\"HelpTool\"}]},\"id\":\"4438\",\"type\":\"Toolbar\"},{\"attributes\":{\"bottom\":{\"value\":0},\"fill_color\":{\"value\":\"#1f77b4\"},\"left\":{\"field\":\"left\"},\"line_color\":{\"value\":\"#1f77b4\"},\"right\":{\"field\":\"right\"},\"top\":{\"field\":\"top\"}},\"id\":\"4372\",\"type\":\"Quad\"},{\"attributes\":{\"ticker\":{\"id\":\"4386\",\"type\":\"BasicTicker\"}},\"id\":\"4389\",\"type\":\"Grid\"},{\"attributes\":{\"data_source\":{\"id\":\"4445\",\"type\":\"ColumnDataSource\"},\"glyph\":{\"id\":\"4446\",\"type\":\"Quad\"},\"hover_glyph\":null,\"muted_glyph\":null,\"nonselection_glyph\":{\"id\":\"4447\",\"type\":\"Quad\"},\"selection_glyph\":null,\"view\":{\"id\":\"4449\",\"type\":\"CDSView\"}},\"id\":\"4448\",\"type\":\"GlyphRenderer\"},{\"attributes\":{\"callback\":null,\"data\":{\"left\":{\"__ndarray__\":\"QH4HNYH7/r8Y+3IhaUfSv7QATqTM1/U/GGB8yLkgCEDq32ifxqoSQMiPk1owRRlAqD++FZrfH0DDd3ToAT0jQLLPCcY2iiZAoSefo2vXKUCQfzSBoCQtQMDrZK/qODBAuJcvHoXfMUCvQ/qMH4YzQKfvxPu5LDVAnpuPalTTNkCWR1rZ7nk4QI7zJEiJIDpAhZ/vtiPHO0B9S7olvm09QHT3hJRYFD9AttGngXldQECyJw25xjBBQK59cvATBEJAqtPXJ2HXQkClKT1frqpDQKF/opb7fURAndUHzkhRRUCZK20FliRGQJWB0jzj90ZAkNc3dDDLR0CMLZ2rfZ5IQIiDAuPKcUlAhNlnGhhFSkCAL81RZRhLQHuFMomy60tAd9uXwP++TEBzMf33TJJNQG+HYi+aZU5Aat3HZuc4T0CzmRZPGgZQQLFEyerAb1BAr+97hmfZUECtmi4iDkNRQKtF4b20rFFAqfCTWVsWUkCnm0b1AYBSQKVG+ZCo6VJAo/GrLE9TU0CgnF7I9bxTQA==\",\"dtype\":\"float64\",\"shape\":[50]},\"right\":{\"__ndarray__\":\"GPtyIWlH0r+0AE6kzNf1PxhgfMi5IAhA6t9on8aqEkDIj5NaMEUZQKg/vhWa3x9Aw3d06AE9I0CyzwnGNoomQKEnn6Nr1ylAkH80gaAkLUDA62Sv6jgwQLiXLx6F3zFAr0P6jB+GM0Cn78T7uSw1QJ6bj2pU0zZAlkda2e55OECO8yRIiSA6QIWf77YjxztAfUu6Jb5tPUB094SUWBQ/QLbRp4F5XUBAsicNucYwQUCufXLwEwRCQKrT1ydh10JApSk9X66qQ0Chf6KW+31EQJ3VB85IUUVAmSttBZYkRkCVgdI84/dGQJDXN3Qwy0dAjC2dq32eSECIgwLjynFJQITZZxoYRUpAgC/NUWUYS0B7hTKJsutLQHfbl8D/vkxAczH990ySTUBvh2IvmmVOQGrdx2bnOE9As5kWTxoGUECxRMnqwG9QQK/ve4Zn2VBArZouIg5DUUCrReG9tKxRQKnwk1lbFlJAp5tG9QGAUkClRvmQqOlSQKPxqyxPU1NAoJxeyPW8U0CeRxFknCZUQA==\",\"dtype\":\"float64\",\"shape\":[50]},\"top\":{\"__ndarray__\":\"gkt6137CDz8AAAAAAAAAAIBLetd+wg8/AAAAAAAAAACDS3rXfsIPP3tLetd+wi8/Mm+sRo/ZMz+juJsh39FHP8ymAupWxk0/FAKL/C7KWz9n1EbzQshcP27PPSbVUmc/gMo0WWfdcT/X2o4oUBN3P5qED+PlhH4/iEFoPaPXhD9ktfeGWKyKP14abGnEIJA/gzTF7WSElj+8EICZMLCYPw4h2mgZ5p0/aYhJP6o2oT91yjRZZ92hP2iRn00AG6M/2E1i5n/hoz9C1DMOHwujP3z/fCPmMKQ/mpD2pp7Roz/rF3F1n0SiP7iqPEYbeKA/jJGyMiTYnD/oMnOgofGXP153Wa6DdJY/ZXJQ4RX/kD+hRnEKEU2KP8NjW0QUGYQ/Z9RG80LIfD/4ilcY8894P4rURvNCyGw/5BMkNLfVZT/rDhtnSWBgP/iKVxjzz1g/5BMkNLfVRT91yjRZZ91BPy1vrEaP2TM/LW+sRo/ZMz97S3rXfsIPP3tLetd+wg8/yEt6137CDz97S3rXfsIPPw==\",\"dtype\":\"float64\",\"shape\":[50]}},\"selected\":{\"id\":\"4468\",\"type\":\"Selection\"},\"selection_policy\":{\"id\":\"4467\",\"type\":\"UnionRenderers\"}},\"id\":\"4371\",\"type\":\"ColumnDataSource\"},{\"attributes\":{\"callback\":null},\"id\":\"4342\",\"type\":\"DataRange1d\"},{\"attributes\":{\"formatter\":{\"id\":\"4475\",\"type\":\"BasicTickFormatter\"},\"ticker\":{\"id\":\"4391\",\"type\":\"BasicTicker\"}},\"id\":\"4390\",\"type\":\"LinearAxis\"},{\"attributes\":{\"source\":{\"id\":\"4445\",\"type\":\"ColumnDataSource\"}},\"id\":\"4449\",\"type\":\"CDSView\"},{\"attributes\":{},\"id\":\"4391\",\"type\":\"BasicTicker\"},{\"attributes\":{\"text\":\"\"},\"id\":\"4450\",\"type\":\"Title\"},{\"attributes\":{\"formatter\":{\"id\":\"4465\",\"type\":\"BasicTickFormatter\"},\"ticker\":{\"id\":\"4354\",\"type\":\"BasicTicker\"}},\"id\":\"4353\",\"type\":\"LinearAxis\"},{\"attributes\":{\"dimension\":1,\"ticker\":{\"id\":\"4391\",\"type\":\"BasicTicker\"}},\"id\":\"4394\",\"type\":\"Grid\"},{\"attributes\":{\"bottom\":{\"value\":0},\"fill_alpha\":{\"value\":0.1},\"fill_color\":{\"value\":\"#1f77b4\"},\"left\":{\"field\":\"left\"},\"line_alpha\":{\"value\":0.1},\"line_color\":{\"value\":\"#1f77b4\"},\"right\":{\"field\":\"right\"},\"top\":{\"field\":\"top\"}},\"id\":\"4410\",\"type\":\"Quad\"},{\"attributes\":{},\"id\":\"4455\",\"type\":\"BasicTickFormatter\"},{\"attributes\":{\"bottom\":{\"value\":0},\"fill_color\":{\"value\":\"#1f77b4\"},\"left\":{\"field\":\"left\"},\"line_color\":{\"value\":\"#1f77b4\"},\"right\":{\"field\":\"right\"},\"top\":{\"field\":\"top\"}},\"id\":\"4409\",\"type\":\"Quad\"},{\"attributes\":{\"bottom_units\":\"screen\",\"fill_alpha\":{\"value\":0.5},\"fill_color\":{\"value\":\"lightgrey\"},\"left_units\":\"screen\",\"level\":\"overlay\",\"line_alpha\":{\"value\":1.0},\"line_color\":{\"value\":\"black\"},\"line_dash\":[4,4],\"line_width\":{\"value\":2},\"render_mode\":\"css\",\"right_units\":\"screen\",\"top_units\":\"screen\"},\"id\":\"4456\",\"type\":\"BoxAnnotation\"},{\"attributes\":{\"data_source\":{\"id\":\"4408\",\"type\":\"ColumnDataSource\"},\"glyph\":{\"id\":\"4409\",\"type\":\"Quad\"},\"hover_glyph\":null,\"muted_glyph\":null,\"nonselection_glyph\":{\"id\":\"4410\",\"type\":\"Quad\"},\"selection_glyph\":null,\"view\":{\"id\":\"4412\",\"type\":\"CDSView\"}},\"id\":\"4411\",\"type\":\"GlyphRenderer\"},{\"attributes\":{},\"id\":\"4349\",\"type\":\"BasicTicker\"},{\"attributes\":{},\"id\":\"4395\",\"type\":\"PanTool\"},{\"attributes\":{},\"id\":\"4458\",\"type\":\"Selection\"},{\"attributes\":{},\"id\":\"4396\",\"type\":\"WheelZoomTool\"},{\"attributes\":{\"text\":\"\"},\"id\":\"4460\",\"type\":\"Title\"},{\"attributes\":{\"formatter\":{\"id\":\"4463\",\"type\":\"BasicTickFormatter\"},\"ticker\":{\"id\":\"4349\",\"type\":\"BasicTicker\"}},\"id\":\"4348\",\"type\":\"LinearAxis\"},{\"attributes\":{\"overlay\":{\"id\":\"4476\",\"type\":\"BoxAnnotation\"}},\"id\":\"4397\",\"type\":\"BoxZoomTool\"},{\"attributes\":{},\"id\":\"4326\",\"type\":\"HelpTool\"},{\"attributes\":{},\"id\":\"4463\",\"type\":\"BasicTickFormatter\"},{\"attributes\":{},\"id\":\"4398\",\"type\":\"SaveTool\"},{\"attributes\":{},\"id\":\"4465\",\"type\":\"BasicTickFormatter\"},{\"attributes\":{},\"id\":\"4399\",\"type\":\"ResetTool\"},{\"attributes\":{},\"id\":\"4344\",\"type\":\"LinearScale\"},{\"attributes\":{\"bottom_units\":\"screen\",\"fill_alpha\":{\"value\":0.5},\"fill_color\":{\"value\":\"lightgrey\"},\"left_units\":\"screen\",\"level\":\"overlay\",\"line_alpha\":{\"value\":1.0},\"line_color\":{\"value\":\"black\"},\"line_dash\":[4,4],\"line_width\":{\"value\":2},\"render_mode\":\"css\",\"right_units\":\"screen\",\"top_units\":\"screen\"},\"id\":\"4466\",\"type\":\"BoxAnnotation\"},{\"attributes\":{},\"id\":\"4400\",\"type\":\"HelpTool\"},{\"attributes\":{\"callback\":null},\"id\":\"4340\",\"type\":\"DataRange1d\"},{\"attributes\":{},\"id\":\"4467\",\"type\":\"UnionRenderers\"},{\"attributes\":{\"active_drag\":\"auto\",\"active_inspect\":\"auto\",\"active_multi\":null,\"active_scroll\":\"auto\",\"active_tap\":\"auto\",\"tools\":[{\"id\":\"4395\",\"type\":\"PanTool\"},{\"id\":\"4396\",\"type\":\"WheelZoomTool\"},{\"id\":\"4397\",\"type\":\"BoxZoomTool\"},{\"id\":\"4398\",\"type\":\"SaveTool\"},{\"id\":\"4399\",\"type\":\"ResetTool\"},{\"id\":\"4400\",\"type\":\"HelpTool\"}]},\"id\":\"4401\",\"type\":\"Toolbar\"},{\"attributes\":{\"bottom\":{\"value\":0},\"fill_alpha\":{\"value\":0.1},\"fill_color\":{\"value\":\"#1f77b4\"},\"left\":{\"field\":\"left\"},\"line_alpha\":{\"value\":0.1},\"line_color\":{\"value\":\"#1f77b4\"},\"right\":{\"field\":\"right\"},\"top\":{\"field\":\"top\"}},\"id\":\"4373\",\"type\":\"Quad\"},{\"attributes\":{},\"id\":\"4468\",\"type\":\"Selection\"},{\"attributes\":{\"formatter\":{\"id\":\"4453\",\"type\":\"BasicTickFormatter\"},\"ticker\":{\"id\":\"4312\",\"type\":\"BasicTicker\"}},\"id\":\"4311\",\"type\":\"LinearAxis\"},{\"attributes\":{\"text\":\"\"},\"id\":\"4470\",\"type\":\"Title\"},{\"attributes\":{\"source\":{\"id\":\"4408\",\"type\":\"ColumnDataSource\"}},\"id\":\"4412\",\"type\":\"CDSView\"},{\"attributes\":{},\"id\":\"4346\",\"type\":\"LinearScale\"},{\"attributes\":{},\"id\":\"4473\",\"type\":\"BasicTickFormatter\"},{\"attributes\":{\"source\":{\"id\":\"4334\",\"type\":\"ColumnDataSource\"}},\"id\":\"4338\",\"type\":\"CDSView\"},{\"attributes\":{},\"id\":\"4457\",\"type\":\"UnionRenderers\"},{\"attributes\":{},\"id\":\"4475\",\"type\":\"BasicTickFormatter\"},{\"attributes\":{},\"id\":\"4325\",\"type\":\"ResetTool\"},{\"attributes\":{\"bottom\":{\"value\":0},\"fill_alpha\":{\"value\":0.1},\"fill_color\":{\"value\":\"#1f77b4\"},\"left\":{\"field\":\"left\"},\"line_alpha\":{\"value\":0.1},\"line_color\":{\"value\":\"#1f77b4\"},\"right\":{\"field\":\"right\"},\"top\":{\"field\":\"top\"}},\"id\":\"4447\",\"type\":\"Quad\"},{\"attributes\":{\"callback\":null},\"id\":\"4414\",\"type\":\"DataRange1d\"},{\"attributes\":{\"bottom_units\":\"screen\",\"fill_alpha\":{\"value\":0.5},\"fill_color\":{\"value\":\"lightgrey\"},\"left_units\":\"screen\",\"level\":\"overlay\",\"line_alpha\":{\"value\":1.0},\"line_color\":{\"value\":\"black\"},\"line_dash\":[4,4],\"line_width\":{\"value\":2},\"render_mode\":\"css\",\"right_units\":\"screen\",\"top_units\":\"screen\"},\"id\":\"4476\",\"type\":\"BoxAnnotation\"},{\"attributes\":{\"callback\":null},\"id\":\"4303\",\"type\":\"DataRange1d\"},{\"attributes\":{\"callback\":null},\"id\":\"4416\",\"type\":\"DataRange1d\"},{\"attributes\":{},\"id\":\"4477\",\"type\":\"UnionRenderers\"},{\"attributes\":{},\"id\":\"4418\",\"type\":\"LinearScale\"},{\"attributes\":{},\"id\":\"4478\",\"type\":\"Selection\"},{\"attributes\":{\"active_drag\":\"auto\",\"active_inspect\":\"auto\",\"active_multi\":null,\"active_scroll\":\"auto\",\"active_tap\":\"auto\",\"tools\":[{\"id\":\"4321\",\"type\":\"PanTool\"},{\"id\":\"4322\",\"type\":\"WheelZoomTool\"},{\"id\":\"4323\",\"type\":\"BoxZoomTool\"},{\"id\":\"4324\",\"type\":\"SaveTool\"},{\"id\":\"4325\",\"type\":\"ResetTool\"},{\"id\":\"4326\",\"type\":\"HelpTool\"}]},\"id\":\"4327\",\"type\":\"Toolbar\"},{\"attributes\":{\"text\":\"\"},\"id\":\"4480\",\"type\":\"Title\"},{\"attributes\":{},\"id\":\"4420\",\"type\":\"LinearScale\"},{\"attributes\":{},\"id\":\"4309\",\"type\":\"LinearScale\"},{\"attributes\":{\"formatter\":{\"id\":\"4483\",\"type\":\"BasicTickFormatter\"},\"ticker\":{\"id\":\"4423\",\"type\":\"BasicTicker\"}},\"id\":\"4422\",\"type\":\"LinearAxis\"},{\"attributes\":{},\"id\":\"4483\",\"type\":\"BasicTickFormatter\"},{\"attributes\":{},\"id\":\"4321\",\"type\":\"PanTool\"},{\"attributes\":{},\"id\":\"4423\",\"type\":\"BasicTicker\"},{\"attributes\":{},\"id\":\"4485\",\"type\":\"BasicTickFormatter\"},{\"attributes\":{\"overlay\":{\"id\":\"4456\",\"type\":\"BoxAnnotation\"}},\"id\":\"4323\",\"type\":\"BoxZoomTool\"},{\"attributes\":{},\"id\":\"4324\",\"type\":\"SaveTool\"},{\"attributes\":{\"ticker\":{\"id\":\"4423\",\"type\":\"BasicTicker\"}},\"id\":\"4426\",\"type\":\"Grid\"},{\"attributes\":{\"bottom_units\":\"screen\",\"fill_alpha\":{\"value\":0.5},\"fill_color\":{\"value\":\"lightgrey\"},\"left_units\":\"screen\",\"level\":\"overlay\",\"line_alpha\":{\"value\":1.0},\"line_color\":{\"value\":\"black\"},\"line_dash\":[4,4],\"line_width\":{\"value\":2},\"render_mode\":\"css\",\"right_units\":\"screen\",\"top_units\":\"screen\"},\"id\":\"4486\",\"type\":\"BoxAnnotation\"},{\"attributes\":{\"dimension\":1,\"ticker\":{\"id\":\"4354\",\"type\":\"BasicTicker\"}},\"id\":\"4357\",\"type\":\"Grid\"},{\"attributes\":{\"formatter\":{\"id\":\"4485\",\"type\":\"BasicTickFormatter\"},\"ticker\":{\"id\":\"4428\",\"type\":\"BasicTicker\"}},\"id\":\"4427\",\"type\":\"LinearAxis\"},{\"attributes\":{},\"id\":\"4487\",\"type\":\"UnionRenderers\"},{\"attributes\":{\"data_source\":{\"id\":\"4334\",\"type\":\"ColumnDataSource\"},\"glyph\":{\"id\":\"4335\",\"type\":\"Quad\"},\"hover_glyph\":null,\"muted_glyph\":null,\"nonselection_glyph\":{\"id\":\"4336\",\"type\":\"Quad\"},\"selection_glyph\":null,\"view\":{\"id\":\"4338\",\"type\":\"CDSView\"}},\"id\":\"4337\",\"type\":\"GlyphRenderer\"},{\"attributes\":{},\"id\":\"4428\",\"type\":\"BasicTicker\"},{\"attributes\":{},\"id\":\"4488\",\"type\":\"Selection\"},{\"attributes\":{},\"id\":\"4322\",\"type\":\"WheelZoomTool\"},{\"attributes\":{\"dimension\":1,\"ticker\":{\"id\":\"4428\",\"type\":\"BasicTicker\"}},\"id\":\"4431\",\"type\":\"Grid\"},{\"attributes\":{},\"id\":\"4453\",\"type\":\"BasicTickFormatter\"},{\"attributes\":{\"toolbar\":{\"id\":\"4491\",\"type\":\"ProxyToolbar\"},\"toolbar_location\":\"above\"},\"id\":\"4492\",\"type\":\"ToolbarBox\"},{\"attributes\":{\"formatter\":{\"id\":\"4455\",\"type\":\"BasicTickFormatter\"},\"ticker\":{\"id\":\"4317\",\"type\":\"BasicTicker\"}},\"id\":\"4316\",\"type\":\"LinearAxis\"},{\"attributes\":{\"below\":[{\"id\":\"4348\",\"type\":\"LinearAxis\"}],\"center\":[{\"id\":\"4352\",\"type\":\"Grid\"},{\"id\":\"4357\",\"type\":\"Grid\"}],\"left\":[{\"id\":\"4353\",\"type\":\"LinearAxis\"}],\"plot_height\":300,\"plot_width\":350,\"renderers\":[{\"id\":\"4374\",\"type\":\"GlyphRenderer\"}],\"title\":{\"id\":\"4460\",\"type\":\"Title\"},\"toolbar\":{\"id\":\"4364\",\"type\":\"Toolbar\"},\"toolbar_location\":null,\"x_range\":{\"id\":\"4340\",\"type\":\"DataRange1d\"},\"x_scale\":{\"id\":\"4344\",\"type\":\"LinearScale\"},\"y_range\":{\"id\":\"4342\",\"type\":\"DataRange1d\"},\"y_scale\":{\"id\":\"4346\",\"type\":\"LinearScale\"}},\"id\":\"4339\",\"subtype\":\"Figure\",\"type\":\"Plot\"},{\"attributes\":{},\"id\":\"4307\",\"type\":\"LinearScale\"},{\"attributes\":{\"bottom\":{\"value\":0},\"fill_color\":{\"value\":\"#1f77b4\"},\"left\":{\"field\":\"left\"},\"line_color\":{\"value\":\"#1f77b4\"},\"right\":{\"field\":\"right\"},\"top\":{\"field\":\"top\"}},\"id\":\"4446\",\"type\":\"Quad\"},{\"attributes\":{\"bottom\":{\"value\":0},\"fill_color\":{\"value\":\"#1f77b4\"},\"left\":{\"field\":\"left\"},\"line_color\":{\"value\":\"#1f77b4\"},\"right\":{\"field\":\"right\"},\"top\":{\"field\":\"top\"}},\"id\":\"4335\",\"type\":\"Quad\"},{\"attributes\":{\"callback\":null,\"data\":{\"left\":{\"__ndarray__\":\"31vQaNToNEBIERLI7+I2QLDGUycL3ThAGXyVhibXOkCBMdflQdE8QOrmGEVdyz5AKU4tUrxiQEDeKM4Byl9BQJIDb7HXXEJARt4PYeVZQ0D6uLAQ81ZEQK6TUcAAVEVAY27ybw5RRkAXSZMfHE5HQMwjNM8pS0hAgP7UfjdISUA02XUuRUVKQOizFt5SQktAnI63jWA/TEBQaVg9bjxNQAZE+ex7OU5Auh6anIk2T0C3fB2myxlQQBHq7X1SmFBAa1e+VdkWUUDFxI4tYJVRQB8yXwXnE1JAep8v3W2SUkDUDAC19BBTQC560Ix7j1NAiOegZAIOVEDiVHE8iYxUQDzCQRQQC1VAly8S7JaJVUDxnOLDHQhWQEsKs5ukhlZApXeDcysFV0D/5FNLsoNXQFlSJCM5AlhAs7/0+r+AWEAOLcXSRv9YQGialarNfVlAwgdmglT8WUAcdTZa23paQHbiBjJi+VpA0E/XCel3W0Aqvafhb/ZbQIUqeLn2dFxA35dIkX3zXEA5BRlpBHJdQA==\",\"dtype\":\"float64\",\"shape\":[50]},\"right\":{\"__ndarray__\":\"SBESyO/iNkCwxlMnC904QBl8lYYm1zpAgTHX5UHRPEDq5hhFXcs+QClOLVK8YkBA3ijOAcpfQUCSA2+x11xCQEbeD2HlWUNA+riwEPNWRECuk1HAAFRFQGNu8m8OUUZAF0mTHxxOR0DMIzTPKUtIQID+1H43SElANNl1LkVFSkDosxbeUkJLQJyOt41gP0xAUGlYPW48TUAGRPnsezlOQLoempyJNk9At3wdpssZUEAR6u19UphQQGtXvlXZFlFAxcSOLWCVUUAfMl8F5xNSQHqfL91tklJA1AwAtfQQU0AuetCMe49TQIjnoGQCDlRA4lRxPImMVEA8wkEUEAtVQJcvEuyWiVVA8Zziwx0IVkBLCrObpIZWQKV3g3MrBVdA/+RTS7KDV0BZUiQjOQJYQLO/9Pq/gFhADi3F0kb/WEBompWqzX1ZQMIHZoJU/FlAHHU2Wtt6WkB24gYyYvlaQNBP1wnpd1tAKr2n4W/2W0CFKni59nRcQN+XSJF981xAOQUZaQRyXUCTculAi/BdQA==\",\"dtype\":\"float64\",\"shape\":[50]},\"top\":{\"__ndarray__\":\"La/NX/h9Tz++78UtsXljPxGX7mFDw2s/wk5RaCSTcD8/zG8PUsp2PyhVBdcp9nU/DyPe4J2gfT/e/0Nhn3iAPz+fC8tqBoI/f8do/A3Agj/Ne7WsC1eFP2suVQFIlYY/rGs3eR1YiD8K9nmcttyIP00zXBSMn4o/rGs3eR1YiD8aOGMn0KmOPy4j3uCdoI0/lSExhdxHjD8HDlmaa5eMPwZN6G0Cs48/WGDAWHNjjz9RmkgZxnSOP4j8LQu8P44/orqiz1I2kD/aDwb2LPCNP9Zx6+ciu40/zIMWd9ISjD90EbNR7kiPP+c0CXBN+Is/LiPe4J2gjT95cD6MYWKMPxczXBSMn4o/eXA+jGFijD8j9nmcttyIPzKCaRsRuoo/rGs3eR1YiD8UaoodXP+GP2rc7UJAyYM/SKJlgu23hD9PK/tJxeODP9NJjrZ/AX0/iPwtC7w/fj9+z8nG1Ht5P9eoGfHyGno/mnhb9Yilcj+s2kDnfnByP9eoGfHyGmo/VIqGhDj9YD/3wPjup9VNPw==\",\"dtype\":\"float64\",\"shape\":[50]}},\"selected\":{\"id\":\"4488\",\"type\":\"Selection\"},\"selection_policy\":{\"id\":\"4487\",\"type\":\"UnionRenderers\"}},\"id\":\"4445\",\"type\":\"ColumnDataSource\"},{\"attributes\":{},\"id\":\"4312\",\"type\":\"BasicTicker\"},{\"attributes\":{},\"id\":\"4432\",\"type\":\"PanTool\"},{\"attributes\":{\"bottom\":{\"value\":0},\"fill_alpha\":{\"value\":0.1},\"fill_color\":{\"value\":\"#1f77b4\"},\"left\":{\"field\":\"left\"},\"line_alpha\":{\"value\":0.1},\"line_color\":{\"value\":\"#1f77b4\"},\"right\":{\"field\":\"right\"},\"top\":{\"field\":\"top\"}},\"id\":\"4336\",\"type\":\"Quad\"},{\"attributes\":{},\"id\":\"4433\",\"type\":\"WheelZoomTool\"},{\"attributes\":{\"dimension\":1,\"ticker\":{\"id\":\"4317\",\"type\":\"BasicTicker\"}},\"id\":\"4320\",\"type\":\"Grid\"},{\"attributes\":{\"overlay\":{\"id\":\"4486\",\"type\":\"BoxAnnotation\"}},\"id\":\"4434\",\"type\":\"BoxZoomTool\"},{\"attributes\":{\"ticker\":{\"id\":\"4312\",\"type\":\"BasicTicker\"}},\"id\":\"4315\",\"type\":\"Grid\"},{\"attributes\":{\"callback\":null},\"id\":\"4305\",\"type\":\"DataRange1d\"},{\"attributes\":{},\"id\":\"4435\",\"type\":\"SaveTool\"},{\"attributes\":{},\"id\":\"4317\",\"type\":\"BasicTicker\"},{\"attributes\":{\"callback\":null},\"id\":\"4377\",\"type\":\"DataRange1d\"},{\"attributes\":{},\"id\":\"4361\",\"type\":\"SaveTool\"},{\"attributes\":{\"tools\":[{\"id\":\"4321\",\"type\":\"PanTool\"},{\"id\":\"4322\",\"type\":\"WheelZoomTool\"},{\"id\":\"4323\",\"type\":\"BoxZoomTool\"},{\"id\":\"4324\",\"type\":\"SaveTool\"},{\"id\":\"4325\",\"type\":\"ResetTool\"},{\"id\":\"4326\",\"type\":\"HelpTool\"},{\"id\":\"4358\",\"type\":\"PanTool\"},{\"id\":\"4359\",\"type\":\"WheelZoomTool\"},{\"id\":\"4360\",\"type\":\"BoxZoomTool\"},{\"id\":\"4361\",\"type\":\"SaveTool\"},{\"id\":\"4362\",\"type\":\"ResetTool\"},{\"id\":\"4363\",\"type\":\"HelpTool\"},{\"id\":\"4395\",\"type\":\"PanTool\"},{\"id\":\"4396\",\"type\":\"WheelZoomTool\"},{\"id\":\"4397\",\"type\":\"BoxZoomTool\"},{\"id\":\"4398\",\"type\":\"SaveTool\"},{\"id\":\"4399\",\"type\":\"ResetTool\"},{\"id\":\"4400\",\"type\":\"HelpTool\"},{\"id\":\"4432\",\"type\":\"PanTool\"},{\"id\":\"4433\",\"type\":\"WheelZoomTool\"},{\"id\":\"4434\",\"type\":\"BoxZoomTool\"},{\"id\":\"4435\",\"type\":\"SaveTool\"},{\"id\":\"4436\",\"type\":\"ResetTool\"},{\"id\":\"4437\",\"type\":\"HelpTool\"}]},\"id\":\"4491\",\"type\":\"ProxyToolbar\"},{\"attributes\":{},\"id\":\"4381\",\"type\":\"LinearScale\"},{\"attributes\":{\"callback\":null,\"data\":{\"left\":{\"__ndarray__\":\"iS8SuNkBNEC17so5vgE2QOKtg7uiAThADm08PYcBOkA6LPW+awE8QGfrrUBQAT5ASlUzYZoAQEDgtA+ijABBQHYU7OJ+AEJADHTII3EAQ0Ci06RkYwBEQDgzgaVVAEVAzpJd5kcARkBl8jknOgBHQPtRFmgsAEhAkrHyqB4ASUAoEc/pEABKQL5wqyoDAEtAVNCHa/X/S0DqL2Ss5/9MQICPQO3Z/01AFu8cLsz/TkCsTvluvv9PQCHX6lfYf1BA7AZZeNH/UEC4NseYyn9RQINmNbnD/1FATpaj2bx/UkAZxhH6tf9SQOT1fxqvf1NAryXuOqj/U0B6VVxboX9UQEWFynua/1RAELU4nJN/VUDb5Ka8jP9VQKYUFd2Ff1ZAcUSD/X7/VkA8dPEdeH9XQAikXz5x/1dA09PNXmp/WECeAzx/Y/9YQGkzqp9cf1lANGMYwFX/WUD/kobgTn9aQMrC9ABI/1pAlfJiIUF/W0BgItFBOv9bQCtSP2Izf1xA9oGtgiz/XEDCsRujJX9dQA==\",\"dtype\":\"float64\",\"shape\":[50]},\"right\":{\"__ndarray__\":\"te7KOb4BNkDirYO7ogE4QA5tPD2HATpAOiz1vmsBPEBn661AUAE+QEpVM2GaAEBA4LQPoowAQUB2FOzifgBCQAx0yCNxAENAotOkZGMAREA4M4GlVQBFQM6SXeZHAEZAZfI5JzoAR0D7URZoLABIQJKx8qgeAElAKBHP6RAASkC+cKsqAwBLQFTQh2v1/0tA6i9krOf/TECAj0Dt2f9NQBbvHC7M/05ArE75br7/T0Ah1+pX2H9QQOwGWXjR/1BAuDbHmMp/UUCDZjW5w/9RQE6Wo9m8f1JAGcYR+rX/UkDk9X8ar39TQK8l7jqo/1NAelVcW6F/VEBFhcp7mv9UQBC1OJyTf1VA2+SmvIz/VUCmFBXdhX9WQHFEg/1+/1ZAPHTxHXh/V0AIpF8+cf9XQNPTzV5qf1hAngM8f2P/WEBpM6qfXH9ZQDRjGMBV/1lA/5KG4E5/WkDKwvQASP9aQJXyYiFBf1tAYCLRQTr/W0ArUj9iM39cQPaBrYIs/1xAwrEboyV/XUCN4YnDHv9dQA==\",\"dtype\":\"float64\",\"shape\":[50]},\"top\":{\"__ndarray__\":\"tfpestbQhT9Pl7X8US2EP8edsfuUb4I/jFPJ37c5hj8iFtnBYIiGP0+XtfxRLYQ/FDhP0C2ChT+oC5o5vU2FP6zl4KGPW4M/fIq9/suohz8tFtnBYIiGP1a9bpR/H4Y/qa7sgnvsgT/uagBm4fiDP8ih9IT1Z4U/WZe1/FEthD+41KUaqd6DP8TDapPCYYQ/qAuaOb1NhT+CPkvPcMSDP39kBGeetoU/4Xs77cd1gz92T4ZWV0GDPzDwHyozloQ/kNSlGqnegz+s5eChj1uDPzDwHyozloQ/0bIvDNzkhD/Ew2qTwmGEP87Y6KMJ14Y/FxKWOACQgz8w8B8qM5aEP6zl4KGPW4M/FxKWOACQgz+SB1ewXFWCP0yo8IM4qoM/FxKWOACQgz/RWcXe+nuEP5/2Gyl22II/f2QEZ562hT/3f352KG6GP/FER86zBoI/8URHzrMGgj9KzqkbZpyFPzDwHyozloQ/f2QEZ562hT8HSYpXFP+EP7jUpRqp3oM/B/AfKjOWhD893+SiTBmFPw==\",\"dtype\":\"float64\",\"shape\":[50]}},\"selected\":{\"id\":\"4478\",\"type\":\"Selection\"},\"selection_policy\":{\"id\":\"4477\",\"type\":\"UnionRenderers\"}},\"id\":\"4408\",\"type\":\"ColumnDataSource\"},{\"attributes\":{},\"id\":\"4358\",\"type\":\"PanTool\"},{\"attributes\":{\"source\":{\"id\":\"4371\",\"type\":\"ColumnDataSource\"}},\"id\":\"4375\",\"type\":\"CDSView\"},{\"attributes\":{\"children\":[[{\"id\":\"4302\",\"subtype\":\"Figure\",\"type\":\"Plot\"},0,0],[{\"id\":\"4339\",\"subtype\":\"Figure\",\"type\":\"Plot\"},0,1],[{\"id\":\"4376\",\"subtype\":\"Figure\",\"type\":\"Plot\"},1,0],[{\"id\":\"4413\",\"subtype\":\"Figure\",\"type\":\"Plot\"},1,1]]},\"id\":\"4490\",\"type\":\"GridBox\"},{\"attributes\":{\"callback\":null},\"id\":\"4379\",\"type\":\"DataRange1d\"},{\"attributes\":{},\"id\":\"4383\",\"type\":\"LinearScale\"},{\"attributes\":{\"below\":[{\"id\":\"4385\",\"type\":\"LinearAxis\"}],\"center\":[{\"id\":\"4389\",\"type\":\"Grid\"},{\"id\":\"4394\",\"type\":\"Grid\"}],\"left\":[{\"id\":\"4390\",\"type\":\"LinearAxis\"}],\"plot_height\":300,\"plot_width\":350,\"renderers\":[{\"id\":\"4411\",\"type\":\"GlyphRenderer\"}],\"title\":{\"id\":\"4470\",\"type\":\"Title\"},\"toolbar\":{\"id\":\"4401\",\"type\":\"Toolbar\"},\"toolbar_location\":null,\"x_range\":{\"id\":\"4377\",\"type\":\"DataRange1d\"},\"x_scale\":{\"id\":\"4381\",\"type\":\"LinearScale\"},\"y_range\":{\"id\":\"4379\",\"type\":\"DataRange1d\"},\"y_scale\":{\"id\":\"4383\",\"type\":\"LinearScale\"}},\"id\":\"4376\",\"subtype\":\"Figure\",\"type\":\"Plot\"},{\"attributes\":{\"active_drag\":\"auto\",\"active_inspect\":\"auto\",\"active_multi\":null,\"active_scroll\":\"auto\",\"active_tap\":\"auto\",\"tools\":[{\"id\":\"4358\",\"type\":\"PanTool\"},{\"id\":\"4359\",\"type\":\"WheelZoomTool\"},{\"id\":\"4360\",\"type\":\"BoxZoomTool\"},{\"id\":\"4361\",\"type\":\"SaveTool\"},{\"id\":\"4362\",\"type\":\"ResetTool\"},{\"id\":\"4363\",\"type\":\"HelpTool\"}]},\"id\":\"4364\",\"type\":\"Toolbar\"},{\"attributes\":{},\"id\":\"4363\",\"type\":\"HelpTool\"},{\"attributes\":{\"below\":[{\"id\":\"4311\",\"type\":\"LinearAxis\"}],\"center\":[{\"id\":\"4315\",\"type\":\"Grid\"},{\"id\":\"4320\",\"type\":\"Grid\"}],\"left\":[{\"id\":\"4316\",\"type\":\"LinearAxis\"}],\"plot_height\":300,\"plot_width\":350,\"renderers\":[{\"id\":\"4337\",\"type\":\"GlyphRenderer\"}],\"title\":{\"id\":\"4450\",\"type\":\"Title\"},\"toolbar\":{\"id\":\"4327\",\"type\":\"Toolbar\"},\"toolbar_location\":null,\"x_range\":{\"id\":\"4303\",\"type\":\"DataRange1d\"},\"x_scale\":{\"id\":\"4307\",\"type\":\"LinearScale\"},\"y_range\":{\"id\":\"4305\",\"type\":\"DataRange1d\"},\"y_scale\":{\"id\":\"4309\",\"type\":\"LinearScale\"}},\"id\":\"4302\",\"subtype\":\"Figure\",\"type\":\"Plot\"},{\"attributes\":{},\"id\":\"4362\",\"type\":\"ResetTool\"},{\"attributes\":{},\"id\":\"4354\",\"type\":\"BasicTicker\"},{\"attributes\":{\"below\":[{\"id\":\"4422\",\"type\":\"LinearAxis\"}],\"center\":[{\"id\":\"4426\",\"type\":\"Grid\"},{\"id\":\"4431\",\"type\":\"Grid\"}],\"left\":[{\"id\":\"4427\",\"type\":\"LinearAxis\"}],\"plot_height\":300,\"plot_width\":350,\"renderers\":[{\"id\":\"4448\",\"type\":\"GlyphRenderer\"}],\"title\":{\"id\":\"4480\",\"type\":\"Title\"},\"toolbar\":{\"id\":\"4438\",\"type\":\"Toolbar\"},\"toolbar_location\":null,\"x_range\":{\"id\":\"4414\",\"type\":\"DataRange1d\"},\"x_scale\":{\"id\":\"4418\",\"type\":\"LinearScale\"},\"y_range\":{\"id\":\"4416\",\"type\":\"DataRange1d\"},\"y_scale\":{\"id\":\"4420\",\"type\":\"LinearScale\"}},\"id\":\"4413\",\"subtype\":\"Figure\",\"type\":\"Plot\"},{\"attributes\":{},\"id\":\"4359\",\"type\":\"WheelZoomTool\"},{\"attributes\":{\"callback\":null,\"data\":{\"left\":{\"__ndarray__\":\"/09DOfhNcz8DhVoA3f0xQOi6mJBC/UFATzMEoZb7SkDb1bdY9fxRQA+S7WAffFZAQk4jaUn7WkB1Cllxc3pfQFVjx7zO/GFAb0HiwGM8ZECJH/3E+HtmQKL9F8mNu2hAvNsyzSL7akDWuU3RtzptQO+XaNVMem9ABLvB7PDccEARKs9uu/xxQB6Z3PCFHHNAKwjqclA8dEA4d/f0Glx1QEXmBHfle3ZAUVUS+a+bd0BexB97ert4QGszLf1E23lAeKI6fw/7ekCFEUgB2hp8QJKAVYOkOn1An+9iBW9afkCrXnCHOXp/QN3mvgQCTYBAY57FRefcgEDqVcyGzGyBQHAN08ex/IFA9sTZCJeMgkB9fOBJfByDQAM054phrINAiuvty0Y8hEAQo/QMLMyEQJda+00RXIVAHRICj/brhUCkyQjQ23uGQCqBDxHBC4dAsDgWUqabh0A38ByTiyuIQL2nI9Rwu4hARF8qFVZLiUDKFjFWO9uJQFHON5cga4pA14U+2AX7ikBdPUUZ64qLQA==\",\"dtype\":\"float64\",\"shape\":[50]},\"right\":{\"__ndarray__\":\"A4VaAN39MUDoupiQQv1BQE8zBKGW+0pA29W3WPX8UUAPku1gH3xWQEJOI2lJ+1pAdQpZcXN6X0BVY8e8zvxhQG9B4sBjPGRAiR/9xPh7ZkCi/RfJjbtoQLzbMs0i+2pA1rlN0bc6bUDvl2jVTHpvQAS7wezw3HBAESrPbrv8cUAemdzwhRxzQCsI6nJQPHRAOHf39BpcdUBF5gR35Xt2QFFVEvmvm3dAXsQfe3q7eEBrMy39RNt5QHiiOn8P+3pAhRFIAdoafECSgFWDpDp9QJ/vYgVvWn5Aq15whzl6f0Dd5r4EAk2AQGOexUXn3IBA6lXMhsxsgUBwDdPHsfyBQPbE2QiXjIJAfXzgSXwcg0ADNOeKYayDQIrr7ctGPIRAEKP0DCzMhECXWvtNEVyFQB0SAo/264VApMkI0Nt7hkAqgQ8RwQuHQLA4FlKmm4dAN/Ack4sriEC9pyPUcLuIQERfKhVWS4lAyhYxVjvbiUBRzjeXIGuKQNeFPtgF+4pAXT1FGeuKi0Dk9Eta0BqMQA==\",\"dtype\":\"float64\",\"shape\":[50]},\"top\":{\"__ndarray__\":\"1pd2glCsgj9/gfhFSUWAPz85V1pdjHg/zU+OnGBodj82wK2ULn5zP3F8DF25gmw/37+5QexHaz86ir1g8P5kP7HxXjgb5mE//GXRiyEOXD8JtzeStIBYPwylO1FuI1g/mOwzc7DJTj8cS1cqOIJLP7R8BD+QUUc/3zQUO3fcRT+6v73QgOA9P5yOAIDWrjc/Itsn9hcKND88ty90i08zPz0w3chO9io/cW8/cHLaMT/FWAy9A5cmP5o5S62fwiA/f11DLyx9IT+f47VSDZseP3TE9EKpxhg/VwzlRsI7Cj9gXUMvLH0BP+6bxU70Jf0+pxVTKxMIED/um8VO9CX9Pu6bxU70Jf0+Au0jN15nBD++fAQ/kFHXPpV8BD+QUQc/vnwEP5BR5z6VfAQ/kFHnPr58BD+QUdc+lXwEP5BR1z4AAAAAAAAAAL58BD+QUec+AAAAAAAAAAAAAAAAAAAAAAAAAAAAAAAAAAAAAAAAAACVfAQ/kFHXPgAAAAAAAAAAAAAAAAAAAACVfAQ/kFHXPg==\",\"dtype\":\"float64\",\"shape\":[50]}},\"selected\":{\"id\":\"4458\",\"type\":\"Selection\"},\"selection_policy\":{\"id\":\"4457\",\"type\":\"UnionRenderers\"}},\"id\":\"4334\",\"type\":\"ColumnDataSource\"},{\"attributes\":{\"overlay\":{\"id\":\"4466\",\"type\":\"BoxAnnotation\"}},\"id\":\"4360\",\"type\":\"BoxZoomTool\"},{\"attributes\":{\"data_source\":{\"id\":\"4371\",\"type\":\"ColumnDataSource\"},\"glyph\":{\"id\":\"4372\",\"type\":\"Quad\"},\"hover_glyph\":null,\"muted_glyph\":null,\"nonselection_glyph\":{\"id\":\"4373\",\"type\":\"Quad\"},\"selection_glyph\":null,\"view\":{\"id\":\"4375\",\"type\":\"CDSView\"}},\"id\":\"4374\",\"type\":\"GlyphRenderer\"}],\"root_ids\":[\"4493\"]},\"title\":\"Bokeh Application\",\"version\":\"1.2.0\"}};\n",
       "  var render_items = [{\"docid\":\"7659bcfa-2531-4039-a6ea-5db9d5d53634\",\"roots\":{\"4493\":\"2c66963d-a559-431c-b0d7-bc6420c00676\"}}];\n",
       "  root.Bokeh.embed.embed_items_notebook(docs_json, render_items);\n",
       "\n",
       "  }\n",
       "  if (root.Bokeh !== undefined) {\n",
       "    embed_document(root);\n",
       "  } else {\n",
       "    var attempts = 0;\n",
       "    var timer = setInterval(function(root) {\n",
       "      if (root.Bokeh !== undefined) {\n",
       "        embed_document(root);\n",
       "        clearInterval(timer);\n",
       "      }\n",
       "      attempts++;\n",
       "      if (attempts > 100) {\n",
       "        console.log(\"Bokeh: ERROR: Unable to run BokehJS code because BokehJS library is missing\");\n",
       "        clearInterval(timer);\n",
       "      }\n",
       "    }, 10, root)\n",
       "  }\n",
       "})(window);"
      ],
      "application/vnd.bokehjs_exec.v0+json": ""
     },
     "metadata": {
      "application/vnd.bokehjs_exec.v0+json": {
       "id": "4493"
      }
     },
     "output_type": "display_data"
    }
   ],
   "source": [
    "import scipy.stats\n",
    "\n",
    "w, h = 350, 300\n",
    "\n",
    "dists = [\n",
    "    scipy.stats.expon(scale=100), # the frozed uniform distribution\n",
    "    scipy.stats.norm(loc=40, scale=10), # the frozed uniform distribution\n",
    "    scipy.stats.uniform(loc=20, scale=100), # the frozed uniform distribution\n",
    "    scipy.stats.beta(2,2,loc=20, scale=100) # the frozed uniform distribution\n",
    "]\n",
    "\n",
    "figs = []\n",
    "for dist in dists:\n",
    "    hist, edges = np.histogram(dist.rvs(int(1e4)), density=True, bins=50)\n",
    "    p = bk.figure(plot_width=w, plot_height=h)\n",
    "    p.quad(top=hist, bottom=0, left=edges[:-1], right=edges[1:])\n",
    "    figs.append(p)\n",
    "\n",
    "bk.show(bk.gridplot([[figs[0], figs[1]],\n",
    "                     [figs[2], figs[3]] \n",
    "                     ]))"
   ]
  },
  {
   "cell_type": "code",
   "execution_count": 44,
   "metadata": {},
   "outputs": [
    {
     "name": "stdout",
     "output_type": "stream",
     "text": [
      "Fitting 5 folds for each of 10 candidates, totalling 50 fits\n"
     ]
    },
    {
     "name": "stderr",
     "output_type": "stream",
     "text": [
      "[Parallel(n_jobs=-1)]: Using backend LokyBackend with 4 concurrent workers.\n",
      "[Parallel(n_jobs=-1)]: Done  50 out of  50 | elapsed:    0.1s finished\n",
      "/Library/Frameworks/Python.framework/Versions/3.7/lib/python3.7/site-packages/sklearn/model_selection/_search.py:813: DeprecationWarning: The default of the `iid` parameter will change from True to False in version 0.22 and will be removed in 0.24. This will change numeric results when test-set sizes are unequal.\n",
      "  DeprecationWarning)\n"
     ]
    },
    {
     "data": {
      "text/plain": [
       "RandomizedSearchCV(cv=5, error_score='raise-deprecating',\n",
       "                   estimator=SVC(C=1.0, cache_size=200, class_weight=None,\n",
       "                                 coef0=0.0, decision_function_shape='ovr',\n",
       "                                 degree=3, gamma='auto_deprecated',\n",
       "                                 kernel='rbf', max_iter=-1, probability=False,\n",
       "                                 random_state=None, shrinking=True, tol=0.001,\n",
       "                                 verbose=False),\n",
       "                   iid='warn', n_iter=10, n_jobs=-1,\n",
       "                   param_distributions={'C': <scipy.stats._distn_infrastructure.rv_frozen object at 0x11ae4cd30>,\n",
       "                                        'gamma': <scipy.stats._distn_infrastructure.rv_frozen object at 0x11b2992e8>,\n",
       "                                        'kernel': ['linear', 'rbf']},\n",
       "                   pre_dispatch='2*n_jobs', random_state=None, refit=True,\n",
       "                   return_train_score=False, scoring=None, verbose=2)"
      ]
     },
     "execution_count": 44,
     "metadata": {},
     "output_type": "execute_result"
    }
   ],
   "source": [
    "# Standardize the data\n",
    "iris = datasets.load_iris()\n",
    "scaler = preprocessing.StandardScaler(copy=True, with_mean=True, with_std=True)\n",
    "X = scaler.fit_transform(iris.data)\n",
    "# Keep out the Test Set\n",
    "X_tr, X_test, y_tr, y_test = model_selection.train_test_split(X, iris.target,\n",
    "                                                              test_size=0.30, random_state=0)\n",
    "# Define the Search Grid\n",
    "param_grid = {'C': scipy.stats.uniform(loc=1, scale=100), 'kernel': ['linear','rbf'], \n",
    "              'gamma': scipy.stats.uniform(loc=0.01, scale=10)}\n",
    "# GridSearchCV\n",
    "clf = model_selection.RandomizedSearchCV(svm.SVC(), param_grid, cv=5, n_jobs=-1, verbose=2, n_iter=10)\n",
    "clf.fit(X_tr, y_tr)"
   ]
  },
  {
   "cell_type": "code",
   "execution_count": 45,
   "metadata": {},
   "outputs": [
    {
     "name": "stdout",
     "output_type": "stream",
     "text": [
      "mean: 0.962, std: 0.0360, params: {'C': 26.414479945822865, 'gamma': 8.461920981407586, 'kernel': 'linear'}\n",
      "mean: 0.962, std: 0.0360, params: {'C': 55.93446930891519, 'gamma': 3.894385938747857, 'kernel': 'linear'}\n",
      "mean: 0.943, std: 0.0348, params: {'C': 17.155859565449827, 'gamma': 1.6913486247050757, 'kernel': 'linear'}\n",
      "mean: 0.962, std: 0.0360, params: {'C': 93.31554616176741, 'gamma': 1.3888061075606983, 'kernel': 'linear'}\n",
      "mean: 0.857, std: 0.0813, params: {'C': 48.06153787597535, 'gamma': 8.83503861242045, 'kernel': 'rbf'}\n",
      "mean: 0.962, std: 0.0360, params: {'C': 66.95572367936933, 'gamma': 9.537084781812451, 'kernel': 'linear'}\n",
      "mean: 0.895, std: 0.0676, params: {'C': 83.3401698120732, 'gamma': 6.423318313980214, 'kernel': 'rbf'}\n",
      "mean: 0.857, std: 0.0813, params: {'C': 68.48252946299827, 'gamma': 9.5154416062423, 'kernel': 'rbf'}\n",
      "mean: 0.962, std: 0.0360, params: {'C': 60.95882351047934, 'gamma': 8.31572018382552, 'kernel': 'linear'}\n",
      "mean: 0.895, std: 0.0738, params: {'C': 3.4384495595874522, 'gamma': 5.027487326691249, 'kernel': 'rbf'}\n"
     ]
    }
   ],
   "source": [
    "for a,b,c in zip(clf.cv_results_['mean_test_score'], \n",
    "                 clf.cv_results_['std_test_score'], \n",
    "                 clf.cv_results_['params']):\n",
    "    print('mean: {:.3f}, std: {:.4f}, params: {}'.format(a,b,c))"
   ]
  },
  {
   "cell_type": "code",
   "execution_count": 46,
   "metadata": {},
   "outputs": [
    {
     "name": "stdout",
     "output_type": "stream",
     "text": [
      "Best estimator:  SVC(C=26.414479945822865, cache_size=200, class_weight=None, coef0=0.0,\n",
      "    decision_function_shape='ovr', degree=3, gamma=8.461920981407586,\n",
      "    kernel='linear', max_iter=-1, probability=False, random_state=None,\n",
      "    shrinking=True, tol=0.001, verbose=False)\n",
      "Accuracy: 0.96 (+/- 0.18)\n"
     ]
    }
   ],
   "source": [
    "best = clf.best_estimator_\n",
    "print('Best estimator: ', best)\n",
    "scores = model_selection.cross_val_score(best, X_test, y_test, cv=10)\n",
    "print(\"Accuracy: %0.2f (+/- %0.2f)\" % (scores.mean(), scores.std() * 2))"
   ]
  },
  {
   "cell_type": "markdown",
   "metadata": {},
   "source": [
    "## 9 Pipelines"
   ]
  },
  {
   "cell_type": "markdown",
   "metadata": {},
   "source": [
    "When we applied different preprocessing techniques, such as standardization for feature scaling or principal component analysis you learned that we have to reuse the parameters that were obtained during the fitting of the training data to scale and compress any new data, for example, the samples in the separate test dataset.\n",
    "\n",
    "In this section, you will learn about an extremely handy tool, the Pipeline class in scikit-learn. It allows us to fit a model including an arbitrary number of transformation steps and apply it to make predictions about new data.\n",
    "\n",
    "In this chapter, we will be working with the Breast Cancer Wisconsin dataset, which contains 569 samples of malignant and benign tumor cells. The first two columns in the dataset store the unique ID numbers of the samples and the corresponding diagnosis (M=malignant, B=benign), respectively. The columns 3-32 contain 30 real-value features that have been computed from digitized images of the cell nuclei, which can be used to build a model to predict whether a tumor is benign or malignant. The Breast Cancer Wisconsin dataset has been deposited on the UCI\n",
    "machine learning repository and more detailed information about this dataset can be found at [https://archive.ics.uci.edu/ml/datasets/Breast+Cancer+Wisconsin+(Diagnostic)](https://archive.ics.uci.edu/ml/datasets/Breast+Cancer+Wisconsin+(Diagnostic))\n",
    "\n",
    "In this section we will read in the dataset, and split it into training and test datasets in three simple steps.\n",
    "\n",
    "- We will start by reading in the dataset directly from the UCI website using pandas:"
   ]
  },
  {
   "cell_type": "code",
   "execution_count": 47,
   "metadata": {},
   "outputs": [],
   "source": [
    "import pandas as pd\n",
    "df = pd.read_csv('https://archive.ics.uci.edu/ml/machine-learning-databases/breast-cancer-wisconsin/wdbc.data', \n",
    "                 header=None)"
   ]
  },
  {
   "cell_type": "markdown",
   "metadata": {},
   "source": [
    "- Next, we assign the 30 features to a NumPy array X . Using LabelEncoder, we transform the class labels from their original string representation ( M and B ) into integers:"
   ]
  },
  {
   "cell_type": "code",
   "execution_count": 48,
   "metadata": {},
   "outputs": [],
   "source": [
    "from sklearn.preprocessing import LabelEncoder\n",
    "X = df.loc[:, 2:].values\n",
    "y = df.loc[:, 1].values\n",
    "le = LabelEncoder()\n",
    "y = le.fit_transform(y)"
   ]
  },
  {
   "cell_type": "markdown",
   "metadata": {},
   "source": [
    "After encoding the class labels (diagnosis) in an array y , the malignant\n",
    "tumors are now represented as class 1 , and the benign tumors are\n",
    "represented as class 0 , respectively, which we can illustrate by calling\n",
    "the transform method of LabelEncoder on two dummy class labels:"
   ]
  },
  {
   "cell_type": "code",
   "execution_count": 49,
   "metadata": {},
   "outputs": [
    {
     "data": {
      "text/plain": [
       "array([1, 0])"
      ]
     },
     "execution_count": 49,
     "metadata": {},
     "output_type": "execute_result"
    }
   ],
   "source": [
    "le.transform(['M', 'B'])"
   ]
  },
  {
   "cell_type": "markdown",
   "metadata": {},
   "source": [
    "- Before we construct our first model pipeline in the following subsection, let's divide the dataset into a separate training dataset (80 percent of the data) and a separate test dataset (20 percent of the data):"
   ]
  },
  {
   "cell_type": "code",
   "execution_count": 50,
   "metadata": {},
   "outputs": [],
   "source": [
    "from sklearn.model_selection import train_test_split\n",
    "X_train, X_test, y_train, y_test = train_test_split(X, y, test_size=0.20, random_state=1)"
   ]
  },
  {
   "cell_type": "markdown",
   "metadata": {},
   "source": [
    "Many learning algorithms require input features on the same scale for optimal performance. Thus, we need to standardize the columns in the Breast Cancer Wisconsin dataset before we can feed them to a linear classifier, such as logistic regression. Furthermore, let's assume that we want to compress our data from the initial 30 dimensions onto a lower two-dimensional subspace via principal component analysis (PCA). Instead of going through the fitting and transformation steps for the training and test dataset separately, we can chain the StandardScaler, PCA , and LogisticRegression objects in a pipeline:"
   ]
  },
  {
   "cell_type": "code",
   "execution_count": 51,
   "metadata": {},
   "outputs": [
    {
     "name": "stdout",
     "output_type": "stream",
     "text": [
      "Test Accuracy: 0.947\n"
     ]
    },
    {
     "name": "stderr",
     "output_type": "stream",
     "text": [
      "/Library/Frameworks/Python.framework/Versions/3.7/lib/python3.7/site-packages/sklearn/linear_model/logistic.py:432: FutureWarning: Default solver will be changed to 'lbfgs' in 0.22. Specify a solver to silence this warning.\n",
      "  FutureWarning)\n"
     ]
    }
   ],
   "source": [
    "from sklearn.preprocessing import StandardScaler\n",
    "from sklearn.decomposition import PCA\n",
    "from sklearn.linear_model import LogisticRegression\n",
    "from sklearn.pipeline import Pipeline\n",
    "pipe_lr = Pipeline([('scl', StandardScaler()), ('pca', PCA(n_components=2)), \n",
    "                    ('clf', LogisticRegression(random_state=1))])\n",
    "pipe_lr.fit(X_train, y_train)\n",
    "print('Test Accuracy: %.3f' % pipe_lr.score(X_test, y_test))"
   ]
  },
  {
   "cell_type": "markdown",
   "metadata": {},
   "source": [
    "The intermediate steps in a pipeline constitute scikit-learn transformers, and the last step is an estimator. In the preceding code example, we built a pipeline that consisted of two intermediate steps, a StandardScaler and a PCA transformer, and a logistic regression classifier as a final estimator. When we executed the fit method on the pipeline pipe_lr , the StandardScaler performed fit and transform on the training data, and the transformed training data was then passed onto the next object in the pipeline, the PCA. Similar to the previous step, PCA also executed fit and transform on the scaled input data and passed it to the final element of the pipeline, the estimator. We should note that there is no limit to the number of intermediate steps in this pipeline. "
   ]
  },
  {
   "cell_type": "markdown",
   "metadata": {},
   "source": [
    "## 10 Performance Metrics"
   ]
  },
  {
   "cell_type": "markdown",
   "metadata": {},
   "source": [
    "In the previous sections and chapters, we evaluated our models using the mean squared error, which is a useful metric to quantify the performance of a model in general. However, there are several other performance metrics that can be used to measure a model's relevance, such as precision, recall, and the F1-score.\n",
    "\n",
    "Before we get into the details of different scoring metrics, let's print a so-called confusion matrix, a matrix that lays out the performance of a learning algorithm. The confusion matrix is simply a square matrix that reports the counts of the true positive, true negative, false positive, and false negative predictions of a classifier.\n",
    "\n",
    "Although these metrics can be easily computed manually by comparing the true and predicted class labels, scikit-learn provides a convenient confusion_matrix function that we can use as follows:"
   ]
  },
  {
   "cell_type": "code",
   "execution_count": 53,
   "metadata": {},
   "outputs": [
    {
     "name": "stdout",
     "output_type": "stream",
     "text": [
      "[[71  1]\n",
      " [ 5 37]]\n"
     ]
    }
   ],
   "source": [
    "from sklearn.metrics import confusion_matrix\n",
    "y_pred = pipe_lr.predict(X_test)\n",
    "confmat = confusion_matrix(y_true=y_test, y_pred=y_pred)\n",
    "print(confmat)"
   ]
  },
  {
   "cell_type": "markdown",
   "metadata": {},
   "source": [
    "The array that was returned after executing the preceding code provides us with information about the different types of errors the classifier made on the test dataset that we can map onto the confusion matrix illustration in the previous figure using matplotlib's matshow function:"
   ]
  },
  {
   "cell_type": "code",
   "execution_count": 54,
   "metadata": {},
   "outputs": [
    {
     "data": {
      "image/png": "[encoded data removed]",
      "text/plain": [
       "<Figure size 396x396 with 1 Axes>"
      ]
     },
     "metadata": {
      "needs_background": "light"
     },
     "output_type": "display_data"
    }
   ],
   "source": [
    "fig, ax = plt.subplots(figsize=(5.5, 5.5))\n",
    "ax.matshow(confmat, cmap=plt.cm.Blues, alpha=0.3)\n",
    "for i in range(confmat.shape[0]):\n",
    "    for j in range(confmat.shape[1]):\n",
    "        ax.text(x=j, y=i,\n",
    "                s=confmat[i, j],\n",
    "                va='center', ha='center')\n",
    "plt.xlabel('predicted label')\n",
    "plt.ylabel('true label')\n",
    "plt.show()"
   ]
  },
  {
   "cell_type": "markdown",
   "metadata": {},
   "source": [
    "Assuming that class 1 (malignant) is the positive class in this example, our model correctly classified 71 of the samples that belong to class 0 (false negatives) and 37 samples that belong to class 1 (true positives), respectively. However, our model also incorrectly misclassified 5 samples from class 0 as class 1 (false negatives), and it predicted that 1 sample is benign although it is a malignant tumor (false positive). In the next section, we will learn how we can use this information to calculate various different error metrics.\n",
    "\n",
    "Both the prediction error (ERR) and accuracy (ACC) provide general information about how many samples are misclassified. The error can be understood as the sum of all false predictions divided by the number of total predictions, and the accuracy is calculated as the sum of correct predictions divided by the total number\n",
    "of predictions, respectively:\n",
    "\n",
    "$$ERR = \\frac{FP + FN}{Total}$$\n",
    "\n",
    "The prediction accuracy can then be calculated directly from the error:\n",
    "\n",
    "$$ACC = \\frac{TP + TN}{Total} = 1 − ERR$$\n",
    "\n",
    "In tumor diagnosis, for example, we are more concerned about the detection of malignant tumors in order to help a patient with the appropriate treatment. However, it is also important to decrease the number of benign tumors that were incorrectly classified as malignant (false positives) to not unnecessarily concern a patient. \n",
    "\n",
    "Precision (P) is defined as the number of true positives ($T_p$) over the number of true positives plus the number of false positives ($F_p$).\n",
    "\n",
    "$$P = \\frac{T_p}{T_p+F_p}$$\n",
    "\n",
    "Recall (R) is defined as the number of true positives ($T_p$) over the number of true positives plus the number of false negatives ($F_n$).\n",
    "\n",
    "$$R = \\frac{T_p}{T_p + F_n}$$\n",
    "\n",
    "These quantities are also related to the ($F_1$) score, which is defined as the harmonic mean of precision and recall.\n",
    "\n",
    "$$F_1 = 2\\frac{P \\times R}{P+R}$$\n",
    "\n",
    "It is important to note that the precision may not decrease with recall. The definition of precision ($\\frac{T_p}{T_p + F_p}$) shows that lowering the threshold of a classifier may increase the denominator, by increasing the number of results returned. If the threshold was previously set too high, the new results may all be true positives, which will increase precision. If the previous threshold was about right or too low, further lowering the threshold will introduce false positives, decreasing precision.\n",
    "\n",
    "Recall is defined as $\\frac{T_p}{T_p+F_n}$, where $T_p+F_n$ does not depend on the classifier threshold. This means that lowering the classifier threshold may increase recall, by increasing the number of true positive results. It is also possible that lowering the threshold may leave recall unchanged, while the precision fluctuates.\n",
    "\n",
    "These scoring metrics are all implemented in scikit-learn and can be imported from the sklearn.metrics module:"
   ]
  },
  {
   "cell_type": "code",
   "execution_count": 55,
   "metadata": {},
   "outputs": [
    {
     "name": "stdout",
     "output_type": "stream",
     "text": [
      "Precision: 0.974\n",
      "Recall: 0.881\n",
      "F1: 0.925\n"
     ]
    }
   ],
   "source": [
    "from sklearn.metrics import precision_score\n",
    "from sklearn.metrics import recall_score, f1_score\n",
    "print('Precision: %.3f' % precision_score(y_true=y_test, y_pred=y_pred))\n",
    "print('Recall: %.3f' % recall_score(y_true=y_test, y_pred=y_pred))\n",
    "print('F1: %.3f' % f1_score(y_true=y_test, y_pred=y_pred))"
   ]
  },
  {
   "cell_type": "markdown",
   "metadata": {},
   "source": [
    "---\n",
    "\n",
    "Visit [www.add-for.com](<http://www.add-for.com/>) for more tutorials and updates.\n",
    "\n",
    "This work is licensed under a <a rel=\"license\" href=\"http://creativecommons.org/licenses/by-sa/4.0/\">Creative Commons Attribution-ShareAlike 4.0 International License</a>."
   ]
  }
 ],
 "metadata": {
  "anaconda-cloud": {},
  "kernelspec": {
   "display_name": "Python 3",
   "language": "python",
   "name": "python3"
  },
  "language_info": {
   "codemirror_mode": {
    "name": "ipython",
    "version": 3
   },
   "file_extension": ".py",
   "mimetype": "text/x-python",
   "name": "python",
   "nbconvert_exporter": "python",
   "pygments_lexer": "ipython3",
   "version": "3.7.0"
  }
 },
 "nbformat": 4,
 "nbformat_minor": 1
}
