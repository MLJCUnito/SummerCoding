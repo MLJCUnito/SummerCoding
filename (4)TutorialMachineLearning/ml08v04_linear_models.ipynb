{
 "cells": [
  {
   "cell_type": "markdown",
   "metadata": {},
   "source": [
    "# Linear Models"
   ]
  },
  {
   "cell_type": "code",
   "execution_count": 1,
   "metadata": {
    "scrolled": false
   },
   "outputs": [
    {
     "data": {
      "text/html": [
       "<div id='toc-container'><script type='text/javascript'>\n",
       "$(function() {\n",
       "    function regenTOC(){\n",
       "        element = $(\"#toc-container\");\n",
       "\n",
       "\tvar toc = document.createElement(\"div\");\n",
       "\t$(toc).attr(\"class\", \"table-of-contents\");\n",
       "\n",
       "\tvar curLevel = 0;\n",
       "\tvar containerStack = [toc];\n",
       "\tvar levelOfTag = {\"h2\": 1, \"h3\": 2, \"h4\": 3, \"h5\": 4};\n",
       "\n",
       "\tfunction pushLevel() {\n",
       "            var list = document.createElement(\"ul\");\n",
       "            containerStack.push(list);\n",
       "            curLevel++;\n",
       "\t}\n",
       "\t\n",
       "\tfunction popLevel() {\n",
       "            var lastContainer = containerStack.pop();\n",
       "            $(lastContainer).appendTo(containerStack[containerStack.length - 1]);\n",
       "            curLevel--;\n",
       "\t}\n",
       "\t\n",
       "\t$(\".text_cell_render :header\").each(function (i, elem) {\n",
       "            var level = levelOfTag[ elem.tagName.toLowerCase() ];\n",
       "\n",
       "            if (level === undefined)\n",
       "\t\treturn;\n",
       "\n",
       "            while (curLevel < level)\n",
       "\t\tpushLevel();\n",
       "            while (curLevel > level)\n",
       "\t\tpopLevel();\n",
       "            \n",
       "            var listItem = document.createElement(\"li\");\n",
       "            var link = document.createElement(\"a\");\n",
       "            $(link)\n",
       "\t\t.text($(elem).contents().first().text()) // Remove the pilcrow sign\n",
       "\t\t.attr(\"href\", \"#\" + $(elem).attr(\"id\"))\n",
       "\t\t.appendTo(listItem);\n",
       "            $(listItem).appendTo(containerStack[containerStack.length - 1]);\n",
       "\t});\n",
       "\t\n",
       "\twhile (curLevel > 0)\n",
       "            popLevel();\n",
       "\n",
       "        $(\"<a class='btn-update' href='#'>Update</a>\")\n",
       "          .click(regenTOC).prependTo(toc);\n",
       "\n",
       "\t$(toc).prepend(\"<div class='title'>Contents</div>\")\n",
       "          .wrap(\"<div class='toc-headings'/>\");\n",
       "\n",
       "        $(element).empty();\n",
       "        $(element).append(toc);\n",
       "    }\n",
       "\n",
       "    if (typeof(IPython) !== 'undefined')\n",
       "        $([IPython.events]).on('notebook_loaded.Notebook', regenTOC);\n",
       "    regenTOC();\n",
       "});\n",
       "\n",
       "</script></div>"
      ],
      "text/plain": [
       "<IPython.core.display.HTML object>"
      ]
     },
     "execution_count": 1,
     "metadata": {},
     "output_type": "execute_result"
    }
   ],
   "source": [
    "import addutils.toc ; addutils.toc.js(ipy_notebook=True)"
   ]
  },
  {
   "cell_type": "code",
   "execution_count": 2,
   "metadata": {},
   "outputs": [
    {
     "data": {
      "text/html": [
       "<style>\n",
       ".text_cell_render @font-face {\n",
       "    font-family: \"Computer Modern\";\n",
       "    src: url('http://mirrors.ctan.org/fonts/cm-unicode/fonts/otf/cmunss.otf');\n",
       "}\n",
       "\n",
       "div.cell {\n",
       "    width: 900px;\n",
       "    margin-left: 0% !important;\n",
       "    margin-right: 0%;\n",
       "}\n",
       "\n",
       "code {\n",
       "    font-size:10pt;\n",
       "}\n",
       "\n",
       ".text_cell_render  h1 {\n",
       "    font-family: Tahoma, sans-serif;\n",
       "    color: rgb( 10, 88, 126 );\n",
       "    font-size:28pt;\n",
       "}\n",
       ".text_cell_render h2 {\n",
       "    font-family: Tahoma, sans-serif;\n",
       "    color: rgb( 10, 88, 126 );\n",
       "    font-size:24pt;\n",
       "}\n",
       ".text_cell_render h3 {\n",
       "    font-family: Tahoma, sans-serif;\n",
       "    color: rgb( 10, 88, 126 );\n",
       "    font-size:20pt;\n",
       "}\n",
       ".text_cell_render h4 {\n",
       "    font-family: Tahoma, sans-serif;\n",
       "    color: rgb( 10, 88, 126 );\n",
       "    font-size:18pt;\n",
       "    margin-top:12px;\n",
       "    margin-bottom: 3px;\n",
       "}\n",
       "\n",
       ".text_cell_render h5 {\n",
       "    font-weight: 300;\n",
       "    font-size: 11pt;\n",
       "    color: rgb( 48, 48, 48 );\n",
       "    font-style: italic;\n",
       "    margin-bottom: .5em;\n",
       "    margin-top: 0.5em;\n",
       "    display: block;\n",
       "}\n",
       "\n",
       ".text_cell_render ul {\n",
       "    font-family: Tahoma, sans-serif;\n",
       "    color: rgb( 90, 90, 90 );\n",
       "    font-size:11pt;\n",
       "    line-height: 185%;\n",
       "}\n",
       "\n",
       ".text_cell_render yp {\n",
       "    font-family: Tahoma, sans-serif;\n",
       "    color: rgb( 90, 90, 90 );\n",
       "    font-size:11pt;\n",
       "}\n",
       "\n",
       ".text_cell_render strong {\n",
       "    font-family: Tahoma, sans-serif;\n",
       "    color: rgb( 30, 30, 30 );\n",
       "    font-size:11pt;\n",
       "}\n",
       "\n",
       ".text_cell_render a:link {\n",
       "    font-family: Tahoma, sans-serif;\n",
       "    color: rgb( 10, 88, 126 );\n",
       "    font-size:11pt;\n",
       "}\n",
       "\n",
       ".text_cell_render a:visited {\n",
       "    color:rgb( 10, 88, 126 );\n",
       "}\n",
       "\n",
       ".text_cell_render {\n",
       "    font-family: Helvetica, Courier, Computer Modern, \"Helvetica Neue\", Arial, Geneva, sans-serif;\n",
       "    color: rgb( 84, 84, 84 );\n",
       "    font-size:11pt;\n",
       "    line-height: 125%;\n",
       "    font-size: 100%;\n",
       "    width:800px;\n",
       "}\n",
       "\n",
       ".CodeMirror {\n",
       "    font-family: Courier, \"Source Code Pro\", source-code-pro,Consolas, monospace;\n",
       "}\n",
       "\n",
       ".warning {\n",
       "    color: rgb( 240, 20, 20 );\n",
       "}\n",
       "\n",
       "/* Pandas tables */\n",
       "/*\n",
       ".rendered_html td {\n",
       "    text-align: right;\n",
       "}\n",
       "*/\n",
       "\n",
       "table.dataframe td {\n",
       "    text-align: right;\n",
       "}\n",
       "\n",
       ".output .table-of-contents {\n",
       "    border: 1px #cecece solid;\n",
       "    background-color: #fafafa;\n",
       "    padding-top: 10px;\n",
       "    padding-bottom: 5px;\n",
       "    padding-right: 15px;\n",
       "    padding-left: 0px;\n",
       "    margin-bottom: 20px;\n",
       "    display: inline-block;\n",
       "    position: relative;\n",
       "}\n",
       "\n",
       ".output .table-of-contents ul {\n",
       "    list-style-type: none;\n",
       "    padding-left: 20px;\n",
       "}\n",
       "\n",
       ".output .table-of-contents .title {\n",
       "    font-weight: bold;\n",
       "    font-height: 11pt;\n",
       "    padding-left: 20px; /* looks better if it's the same to the <ul> */\n",
       "}\n",
       "\n",
       ".output .table-of-contents .btn-update {\n",
       "    position: absolute;\n",
       "    float: right;\n",
       "    right: 11px;\n",
       "    top: 4px;\n",
       "    font-size: 9pt;\n",
       "}\n",
       "\n",
       "</style>\n",
       "<script>\n",
       "    MathJax.Hub.Config({\n",
       "                        TeX: {\n",
       "                           extensions: [\"AMSmath.js\"]\n",
       "                           },\n",
       "                displayAlign: 'center', // Change this to 'center' to center equations.\n",
       "                \"HTML-CSS\": {\n",
       "                    styles: {'.MathJax_Display': {\"margin\": 4}}\n",
       "                }\n",
       "        });\n",
       "</script>\n"
      ],
      "text/plain": [
       "<IPython.core.display.HTML object>"
      ]
     },
     "execution_count": 2,
     "metadata": {},
     "output_type": "execute_result"
    }
   ],
   "source": [
    "import numpy as np\n",
    "import pandas as pd\n",
    "from addutils import css_notebook\n",
    "from sklearn.datasets.samples_generator import make_regression\n",
    "from sklearn import linear_model, neighbors\n",
    "from sklearn import metrics\n",
    "css_notebook()"
   ]
  },
  {
   "cell_type": "code",
   "execution_count": 3,
   "metadata": {},
   "outputs": [
    {
     "data": {
      "text/html": [
       "\n",
       "    <div class=\"bk-root\">\n",
       "        <a href=\"https://bokeh.pydata.org\" target=\"_blank\" class=\"bk-logo bk-logo-small bk-logo-notebook\"></a>\n",
       "        <span id=\"1001\">Loading BokehJS ...</span>\n",
       "    </div>"
      ]
     },
     "metadata": {},
     "output_type": "display_data"
    },
    {
     "data": {
      "application/javascript": [
       "\n",
       "(function(root) {\n",
       "  function now() {\n",
       "    return new Date();\n",
       "  }\n",
       "\n",
       "  var force = true;\n",
       "\n",
       "  if (typeof root._bokeh_onload_callbacks === \"undefined\" || force === true) {\n",
       "    root._bokeh_onload_callbacks = [];\n",
       "    root._bokeh_is_loading = undefined;\n",
       "  }\n",
       "\n",
       "  var JS_MIME_TYPE = 'application/javascript';\n",
       "  var HTML_MIME_TYPE = 'text/html';\n",
       "  var EXEC_MIME_TYPE = 'application/vnd.bokehjs_exec.v0+json';\n",
       "  var CLASS_NAME = 'output_bokeh rendered_html';\n",
       "\n",
       "  /**\n",
       "   * Render data to the DOM node\n",
       "   */\n",
       "  function render(props, node) {\n",
       "    var script = document.createElement(\"script\");\n",
       "    node.appendChild(script);\n",
       "  }\n",
       "\n",
       "  /**\n",
       "   * Handle when an output is cleared or removed\n",
       "   */\n",
       "  function handleClearOutput(event, handle) {\n",
       "    var cell = handle.cell;\n",
       "\n",
       "    var id = cell.output_area._bokeh_element_id;\n",
       "    var server_id = cell.output_area._bokeh_server_id;\n",
       "    // Clean up Bokeh references\n",
       "    if (id != null && id in Bokeh.index) {\n",
       "      Bokeh.index[id].model.document.clear();\n",
       "      delete Bokeh.index[id];\n",
       "    }\n",
       "\n",
       "    if (server_id !== undefined) {\n",
       "      // Clean up Bokeh references\n",
       "      var cmd = \"from bokeh.io.state import curstate; print(curstate().uuid_to_server['\" + server_id + \"'].get_sessions()[0].document.roots[0]._id)\";\n",
       "      cell.notebook.kernel.execute(cmd, {\n",
       "        iopub: {\n",
       "          output: function(msg) {\n",
       "            var id = msg.content.text.trim();\n",
       "            if (id in Bokeh.index) {\n",
       "              Bokeh.index[id].model.document.clear();\n",
       "              delete Bokeh.index[id];\n",
       "            }\n",
       "          }\n",
       "        }\n",
       "      });\n",
       "      // Destroy server and session\n",
       "      var cmd = \"import bokeh.io.notebook as ion; ion.destroy_server('\" + server_id + \"')\";\n",
       "      cell.notebook.kernel.execute(cmd);\n",
       "    }\n",
       "  }\n",
       "\n",
       "  /**\n",
       "   * Handle when a new output is added\n",
       "   */\n",
       "  function handleAddOutput(event, handle) {\n",
       "    var output_area = handle.output_area;\n",
       "    var output = handle.output;\n",
       "\n",
       "    // limit handleAddOutput to display_data with EXEC_MIME_TYPE content only\n",
       "    if ((output.output_type != \"display_data\") || (!output.data.hasOwnProperty(EXEC_MIME_TYPE))) {\n",
       "      return\n",
       "    }\n",
       "\n",
       "    var toinsert = output_area.element.find(\".\" + CLASS_NAME.split(' ')[0]);\n",
       "\n",
       "    if (output.metadata[EXEC_MIME_TYPE][\"id\"] !== undefined) {\n",
       "      toinsert[toinsert.length - 1].firstChild.textContent = output.data[JS_MIME_TYPE];\n",
       "      // store reference to embed id on output_area\n",
       "      output_area._bokeh_element_id = output.metadata[EXEC_MIME_TYPE][\"id\"];\n",
       "    }\n",
       "    if (output.metadata[EXEC_MIME_TYPE][\"server_id\"] !== undefined) {\n",
       "      var bk_div = document.createElement(\"div\");\n",
       "      bk_div.innerHTML = output.data[HTML_MIME_TYPE];\n",
       "      var script_attrs = bk_div.children[0].attributes;\n",
       "      for (var i = 0; i < script_attrs.length; i++) {\n",
       "        toinsert[toinsert.length - 1].firstChild.setAttribute(script_attrs[i].name, script_attrs[i].value);\n",
       "      }\n",
       "      // store reference to server id on output_area\n",
       "      output_area._bokeh_server_id = output.metadata[EXEC_MIME_TYPE][\"server_id\"];\n",
       "    }\n",
       "  }\n",
       "\n",
       "  function register_renderer(events, OutputArea) {\n",
       "\n",
       "    function append_mime(data, metadata, element) {\n",
       "      // create a DOM node to render to\n",
       "      var toinsert = this.create_output_subarea(\n",
       "        metadata,\n",
       "        CLASS_NAME,\n",
       "        EXEC_MIME_TYPE\n",
       "      );\n",
       "      this.keyboard_manager.register_events(toinsert);\n",
       "      // Render to node\n",
       "      var props = {data: data, metadata: metadata[EXEC_MIME_TYPE]};\n",
       "      render(props, toinsert[toinsert.length - 1]);\n",
       "      element.append(toinsert);\n",
       "      return toinsert\n",
       "    }\n",
       "\n",
       "    /* Handle when an output is cleared or removed */\n",
       "    events.on('clear_output.CodeCell', handleClearOutput);\n",
       "    events.on('delete.Cell', handleClearOutput);\n",
       "\n",
       "    /* Handle when a new output is added */\n",
       "    events.on('output_added.OutputArea', handleAddOutput);\n",
       "\n",
       "    /**\n",
       "     * Register the mime type and append_mime function with output_area\n",
       "     */\n",
       "    OutputArea.prototype.register_mime_type(EXEC_MIME_TYPE, append_mime, {\n",
       "      /* Is output safe? */\n",
       "      safe: true,\n",
       "      /* Index of renderer in `output_area.display_order` */\n",
       "      index: 0\n",
       "    });\n",
       "  }\n",
       "\n",
       "  // register the mime type if in Jupyter Notebook environment and previously unregistered\n",
       "  if (root.Jupyter !== undefined) {\n",
       "    var events = require('base/js/events');\n",
       "    var OutputArea = require('notebook/js/outputarea').OutputArea;\n",
       "\n",
       "    if (OutputArea.prototype.mime_types().indexOf(EXEC_MIME_TYPE) == -1) {\n",
       "      register_renderer(events, OutputArea);\n",
       "    }\n",
       "  }\n",
       "\n",
       "  \n",
       "  if (typeof (root._bokeh_timeout) === \"undefined\" || force === true) {\n",
       "    root._bokeh_timeout = Date.now() + 5000;\n",
       "    root._bokeh_failed_load = false;\n",
       "  }\n",
       "\n",
       "  var NB_LOAD_WARNING = {'data': {'text/html':\n",
       "     \"<div style='background-color: #fdd'>\\n\"+\n",
       "     \"<p>\\n\"+\n",
       "     \"BokehJS does not appear to have successfully loaded. If loading BokehJS from CDN, this \\n\"+\n",
       "     \"may be due to a slow or bad network connection. Possible fixes:\\n\"+\n",
       "     \"</p>\\n\"+\n",
       "     \"<ul>\\n\"+\n",
       "     \"<li>re-rerun `output_notebook()` to attempt to load from CDN again, or</li>\\n\"+\n",
       "     \"<li>use INLINE resources instead, as so:</li>\\n\"+\n",
       "     \"</ul>\\n\"+\n",
       "     \"<code>\\n\"+\n",
       "     \"from bokeh.resources import INLINE\\n\"+\n",
       "     \"output_notebook(resources=INLINE)\\n\"+\n",
       "     \"</code>\\n\"+\n",
       "     \"</div>\"}};\n",
       "\n",
       "  function display_loaded() {\n",
       "    var el = document.getElementById(\"1001\");\n",
       "    if (el != null) {\n",
       "      el.textContent = \"BokehJS is loading...\";\n",
       "    }\n",
       "    if (root.Bokeh !== undefined) {\n",
       "      if (el != null) {\n",
       "        el.textContent = \"BokehJS \" + root.Bokeh.version + \" successfully loaded.\";\n",
       "      }\n",
       "    } else if (Date.now() < root._bokeh_timeout) {\n",
       "      setTimeout(display_loaded, 100)\n",
       "    }\n",
       "  }\n",
       "\n",
       "\n",
       "  function run_callbacks() {\n",
       "    try {\n",
       "      root._bokeh_onload_callbacks.forEach(function(callback) {\n",
       "        if (callback != null)\n",
       "          callback();\n",
       "      });\n",
       "    } finally {\n",
       "      delete root._bokeh_onload_callbacks\n",
       "    }\n",
       "    console.debug(\"Bokeh: all callbacks have finished\");\n",
       "  }\n",
       "\n",
       "  function load_libs(css_urls, js_urls, callback) {\n",
       "    if (css_urls == null) css_urls = [];\n",
       "    if (js_urls == null) js_urls = [];\n",
       "\n",
       "    root._bokeh_onload_callbacks.push(callback);\n",
       "    if (root._bokeh_is_loading > 0) {\n",
       "      console.debug(\"Bokeh: BokehJS is being loaded, scheduling callback at\", now());\n",
       "      return null;\n",
       "    }\n",
       "    if (js_urls == null || js_urls.length === 0) {\n",
       "      run_callbacks();\n",
       "      return null;\n",
       "    }\n",
       "    console.debug(\"Bokeh: BokehJS not loaded, scheduling load and callback at\", now());\n",
       "    root._bokeh_is_loading = css_urls.length + js_urls.length;\n",
       "\n",
       "    function on_load() {\n",
       "      root._bokeh_is_loading--;\n",
       "      if (root._bokeh_is_loading === 0) {\n",
       "        console.debug(\"Bokeh: all BokehJS libraries/stylesheets loaded\");\n",
       "        run_callbacks()\n",
       "      }\n",
       "    }\n",
       "\n",
       "    function on_error() {\n",
       "      console.error(\"failed to load \" + url);\n",
       "    }\n",
       "\n",
       "    for (var i = 0; i < css_urls.length; i++) {\n",
       "      var url = css_urls[i];\n",
       "      const element = document.createElement(\"link\");\n",
       "      element.onload = on_load;\n",
       "      element.onerror = on_error;\n",
       "      element.rel = \"stylesheet\";\n",
       "      element.type = \"text/css\";\n",
       "      element.href = url;\n",
       "      console.debug(\"Bokeh: injecting link tag for BokehJS stylesheet: \", url);\n",
       "      document.body.appendChild(element);\n",
       "    }\n",
       "\n",
       "    for (var i = 0; i < js_urls.length; i++) {\n",
       "      var url = js_urls[i];\n",
       "      var element = document.createElement('script');\n",
       "      element.onload = on_load;\n",
       "      element.onerror = on_error;\n",
       "      element.async = false;\n",
       "      element.src = url;\n",
       "      console.debug(\"Bokeh: injecting script tag for BokehJS library: \", url);\n",
       "      document.head.appendChild(element);\n",
       "    }\n",
       "  };var element = document.getElementById(\"1001\");\n",
       "  if (element == null) {\n",
       "    console.error(\"Bokeh: ERROR: autoload.js configured with elementid '1001' but no matching script tag was found. \")\n",
       "    return false;\n",
       "  }\n",
       "\n",
       "  function inject_raw_css(css) {\n",
       "    const element = document.createElement(\"style\");\n",
       "    element.appendChild(document.createTextNode(css));\n",
       "    document.body.appendChild(element);\n",
       "  }\n",
       "\n",
       "  var js_urls = [\"https://cdn.pydata.org/bokeh/release/bokeh-1.2.0.min.js\", \"https://cdn.pydata.org/bokeh/release/bokeh-widgets-1.2.0.min.js\", \"https://cdn.pydata.org/bokeh/release/bokeh-tables-1.2.0.min.js\", \"https://cdn.pydata.org/bokeh/release/bokeh-gl-1.2.0.min.js\"];\n",
       "  var css_urls = [\"https://cdn.pydata.org/bokeh/release/bokeh-1.2.0.min.css\", \"https://cdn.pydata.org/bokeh/release/bokeh-widgets-1.2.0.min.css\", \"https://cdn.pydata.org/bokeh/release/bokeh-tables-1.2.0.min.css\"];\n",
       "\n",
       "  var inline_js = [\n",
       "    function(Bokeh) {\n",
       "      Bokeh.set_log_level(\"info\");\n",
       "    },\n",
       "    \n",
       "    function(Bokeh) {\n",
       "      \n",
       "    },\n",
       "    function(Bokeh) {} // ensure no trailing comma for IE\n",
       "  ];\n",
       "\n",
       "  function run_inline_js() {\n",
       "    \n",
       "    if ((root.Bokeh !== undefined) || (force === true)) {\n",
       "      for (var i = 0; i < inline_js.length; i++) {\n",
       "        inline_js[i].call(root, root.Bokeh);\n",
       "      }if (force === true) {\n",
       "        display_loaded();\n",
       "      }} else if (Date.now() < root._bokeh_timeout) {\n",
       "      setTimeout(run_inline_js, 100);\n",
       "    } else if (!root._bokeh_failed_load) {\n",
       "      console.log(\"Bokeh: BokehJS failed to load within specified timeout.\");\n",
       "      root._bokeh_failed_load = true;\n",
       "    } else if (force !== true) {\n",
       "      var cell = $(document.getElementById(\"1001\")).parents('.cell').data().cell;\n",
       "      cell.output_area.append_execute_result(NB_LOAD_WARNING)\n",
       "    }\n",
       "\n",
       "  }\n",
       "\n",
       "  if (root._bokeh_is_loading === 0) {\n",
       "    console.debug(\"Bokeh: BokehJS loaded, going straight to plotting\");\n",
       "    run_inline_js();\n",
       "  } else {\n",
       "    load_libs(css_urls, js_urls, function() {\n",
       "      console.debug(\"Bokeh: BokehJS plotting callback run at\", now());\n",
       "      run_inline_js();\n",
       "    });\n",
       "  }\n",
       "}(window));"
      ],
      "application/vnd.bokehjs_load.v0+json": "\n(function(root) {\n  function now() {\n    return new Date();\n  }\n\n  var force = true;\n\n  if (typeof root._bokeh_onload_callbacks === \"undefined\" || force === true) {\n    root._bokeh_onload_callbacks = [];\n    root._bokeh_is_loading = undefined;\n  }\n\n  \n\n  \n  if (typeof (root._bokeh_timeout) === \"undefined\" || force === true) {\n    root._bokeh_timeout = Date.now() + 5000;\n    root._bokeh_failed_load = false;\n  }\n\n  var NB_LOAD_WARNING = {'data': {'text/html':\n     \"<div style='background-color: #fdd'>\\n\"+\n     \"<p>\\n\"+\n     \"BokehJS does not appear to have successfully loaded. If loading BokehJS from CDN, this \\n\"+\n     \"may be due to a slow or bad network connection. Possible fixes:\\n\"+\n     \"</p>\\n\"+\n     \"<ul>\\n\"+\n     \"<li>re-rerun `output_notebook()` to attempt to load from CDN again, or</li>\\n\"+\n     \"<li>use INLINE resources instead, as so:</li>\\n\"+\n     \"</ul>\\n\"+\n     \"<code>\\n\"+\n     \"from bokeh.resources import INLINE\\n\"+\n     \"output_notebook(resources=INLINE)\\n\"+\n     \"</code>\\n\"+\n     \"</div>\"}};\n\n  function display_loaded() {\n    var el = document.getElementById(\"1001\");\n    if (el != null) {\n      el.textContent = \"BokehJS is loading...\";\n    }\n    if (root.Bokeh !== undefined) {\n      if (el != null) {\n        el.textContent = \"BokehJS \" + root.Bokeh.version + \" successfully loaded.\";\n      }\n    } else if (Date.now() < root._bokeh_timeout) {\n      setTimeout(display_loaded, 100)\n    }\n  }\n\n\n  function run_callbacks() {\n    try {\n      root._bokeh_onload_callbacks.forEach(function(callback) {\n        if (callback != null)\n          callback();\n      });\n    } finally {\n      delete root._bokeh_onload_callbacks\n    }\n    console.debug(\"Bokeh: all callbacks have finished\");\n  }\n\n  function load_libs(css_urls, js_urls, callback) {\n    if (css_urls == null) css_urls = [];\n    if (js_urls == null) js_urls = [];\n\n    root._bokeh_onload_callbacks.push(callback);\n    if (root._bokeh_is_loading > 0) {\n      console.debug(\"Bokeh: BokehJS is being loaded, scheduling callback at\", now());\n      return null;\n    }\n    if (js_urls == null || js_urls.length === 0) {\n      run_callbacks();\n      return null;\n    }\n    console.debug(\"Bokeh: BokehJS not loaded, scheduling load and callback at\", now());\n    root._bokeh_is_loading = css_urls.length + js_urls.length;\n\n    function on_load() {\n      root._bokeh_is_loading--;\n      if (root._bokeh_is_loading === 0) {\n        console.debug(\"Bokeh: all BokehJS libraries/stylesheets loaded\");\n        run_callbacks()\n      }\n    }\n\n    function on_error() {\n      console.error(\"failed to load \" + url);\n    }\n\n    for (var i = 0; i < css_urls.length; i++) {\n      var url = css_urls[i];\n      const element = document.createElement(\"link\");\n      element.onload = on_load;\n      element.onerror = on_error;\n      element.rel = \"stylesheet\";\n      element.type = \"text/css\";\n      element.href = url;\n      console.debug(\"Bokeh: injecting link tag for BokehJS stylesheet: \", url);\n      document.body.appendChild(element);\n    }\n\n    for (var i = 0; i < js_urls.length; i++) {\n      var url = js_urls[i];\n      var element = document.createElement('script');\n      element.onload = on_load;\n      element.onerror = on_error;\n      element.async = false;\n      element.src = url;\n      console.debug(\"Bokeh: injecting script tag for BokehJS library: \", url);\n      document.head.appendChild(element);\n    }\n  };var element = document.getElementById(\"1001\");\n  if (element == null) {\n    console.error(\"Bokeh: ERROR: autoload.js configured with elementid '1001' but no matching script tag was found. \")\n    return false;\n  }\n\n  function inject_raw_css(css) {\n    const element = document.createElement(\"style\");\n    element.appendChild(document.createTextNode(css));\n    document.body.appendChild(element);\n  }\n\n  var js_urls = [\"https://cdn.pydata.org/bokeh/release/bokeh-1.2.0.min.js\", \"https://cdn.pydata.org/bokeh/release/bokeh-widgets-1.2.0.min.js\", \"https://cdn.pydata.org/bokeh/release/bokeh-tables-1.2.0.min.js\", \"https://cdn.pydata.org/bokeh/release/bokeh-gl-1.2.0.min.js\"];\n  var css_urls = [\"https://cdn.pydata.org/bokeh/release/bokeh-1.2.0.min.css\", \"https://cdn.pydata.org/bokeh/release/bokeh-widgets-1.2.0.min.css\", \"https://cdn.pydata.org/bokeh/release/bokeh-tables-1.2.0.min.css\"];\n\n  var inline_js = [\n    function(Bokeh) {\n      Bokeh.set_log_level(\"info\");\n    },\n    \n    function(Bokeh) {\n      \n    },\n    function(Bokeh) {} // ensure no trailing comma for IE\n  ];\n\n  function run_inline_js() {\n    \n    if ((root.Bokeh !== undefined) || (force === true)) {\n      for (var i = 0; i < inline_js.length; i++) {\n        inline_js[i].call(root, root.Bokeh);\n      }if (force === true) {\n        display_loaded();\n      }} else if (Date.now() < root._bokeh_timeout) {\n      setTimeout(run_inline_js, 100);\n    } else if (!root._bokeh_failed_load) {\n      console.log(\"Bokeh: BokehJS failed to load within specified timeout.\");\n      root._bokeh_failed_load = true;\n    } else if (force !== true) {\n      var cell = $(document.getElementById(\"1001\")).parents('.cell').data().cell;\n      cell.output_area.append_execute_result(NB_LOAD_WARNING)\n    }\n\n  }\n\n  if (root._bokeh_is_loading === 0) {\n    console.debug(\"Bokeh: BokehJS loaded, going straight to plotting\");\n    run_inline_js();\n  } else {\n    load_libs(css_urls, js_urls, function() {\n      console.debug(\"Bokeh: BokehJS plotting callback run at\", now());\n      run_inline_js();\n    });\n  }\n}(window));"
     },
     "metadata": {},
     "output_type": "display_data"
    }
   ],
   "source": [
    "import bokeh.plotting as bk\n",
    "from bokeh import palettes\n",
    "from bokeh.models import Range1d, FixedTicker\n",
    "from bokeh.layouts import gridplot\n",
    "bk.output_notebook()"
   ]
  },
  {
   "cell_type": "code",
   "execution_count": 4,
   "metadata": {},
   "outputs": [],
   "source": [
    "import matplotlib.pyplot as plt\n",
    "%matplotlib notebook"
   ]
  },
  {
   "cell_type": "markdown",
   "metadata": {},
   "source": [
    "## 1 Introduction"
   ]
  },
  {
   "cell_type": "markdown",
   "metadata": {},
   "source": [
    "In this notebook we introduce linear models for regression and classification. This introduction serves also to introduce the main terminology of ML as well one important aspect of ML practice: the *curse of dimensionality*."
   ]
  },
  {
   "cell_type": "markdown",
   "metadata": {},
   "source": [
    "## 2 Linear Model for Regression"
   ]
  },
  {
   "cell_type": "markdown",
   "metadata": {},
   "source": [
    "`LinearRegression` fits a linear model with coefficients $w = (w_1, \\ldots, w_p)$ to minimize the residual sum of squares between the observed responses in the dataset, and the responses predicted by the linear approximation.\n",
    "\n",
    "Mathematically it solves a problem of the form: \n",
    "$$ \\underset{w}{min} \\|Xw -y\\|_2^2$$"
   ]
  },
  {
   "cell_type": "markdown",
   "metadata": {},
   "source": [
    "### 2.1 Simple Linear Regression"
   ]
  },
  {
   "cell_type": "markdown",
   "metadata": {},
   "source": [
    "Simple linear regression is an approach for predicting a **quantitative response** using a **single feature** (or \"predictor\" or \"input variable\"). It has the following mathematical definition:\n",
    "\n",
    "$y = \\beta_0 + \\beta_1x$\n",
    "\n",
    "Where:\n",
    "- $y$ is the response or **target**\n",
    "- $x$ is the **feature**\n",
    "- $\\beta_0$ is the intercept\n",
    "- $\\beta_1$ is the coefficient for x\n",
    "\n",
    "$\\beta_0$ and $\\beta_1$ are called the **model coefficients** or **parameters**. To build the model, it is necessary to **learn** the values of these coefficients. And once the model has learned these coefficients, it can be used for prediction. We are learning a function, sometimes called **hypothesis** that is $h(x) = \\beta_0 + \\beta_1x$\n",
    "\n",
    "In supervised learning we are going to learn model from examples. What are examples? They are given couples feature, response. For example suppose we want to learn to predict the price of a house based on its size in feet$^2$. You are presented a **dataset** that is a table with two columns one that represent the size and the other that represent the price."
   ]
  },
  {
   "cell_type": "markdown",
   "metadata": {},
   "source": [
    "<img src=\"images/trainset_example.png\" alt=\"\" height=\"400\" width=\"400\">"
   ]
  },
  {
   "cell_type": "markdown",
   "metadata": {},
   "source": [
    "An **example** is a line in the table. The number of example $n$ is the size of the dataset. A couple $(x, y)$ is one training example, $(x_i, y_i)$ refers to the $i^{th}$ training example."
   ]
  },
  {
   "cell_type": "markdown",
   "metadata": {},
   "source": [
    "<img src=\"images/train_cycle.png\" alt=\"\" height=\"400\" width=\"400\">"
   ]
  },
  {
   "cell_type": "markdown",
   "metadata": {},
   "source": [
    "### 2.2 Interpreting Model Coefficients"
   ]
  },
  {
   "cell_type": "markdown",
   "metadata": {},
   "source": [
    "How do we interpret the coefficient $\\beta_1$? A *unit* **increase** in the variable $x$ is **associated with** $\\beta_1$ *unit* **increase** in variable $y$. Note that if an increase in $x$ is associated with a **decrease** in $y$, $\\beta_1$ would be **negative**."
   ]
  },
  {
   "cell_type": "code",
   "execution_count": 5,
   "metadata": {},
   "outputs": [],
   "source": [
    "X, y = make_regression(n_samples=100000, n_features=1, n_informative=1,\n",
    "                       random_state=0, noise=35)"
   ]
  },
  {
   "cell_type": "code",
   "execution_count": 6,
   "metadata": {},
   "outputs": [
    {
     "data": {
      "text/html": [
       "\n",
       "\n",
       "\n",
       "\n",
       "\n",
       "\n",
       "  <div class=\"bk-root\" id=\"2534d0fd-cde6-4bab-9a60-ff8fcea8fccc\" data-root-id=\"1002\"></div>\n"
      ]
     },
     "metadata": {},
     "output_type": "display_data"
    },
    {
     "data": {
      "application/javascript": [
       "(function(root) {\n",
       "  function embed_document(root) {\n",
       "    \n",
       "  var docs_json = {\"ea8c6281-6bd6-489d-811c-38e29bae1b54\":{\"roots\":{\"references\":[{\"attributes\":{\"below\":[{\"id\":\"1012\",\"type\":\"LinearAxis\"}],\"center\":[{\"id\":\"1016\",\"type\":\"Grid\"},{\"id\":\"1021\",\"type\":\"Grid\"}],\"left\":[{\"id\":\"1017\",\"type\":\"LinearAxis\"}],\"plot_height\":300,\"plot_width\":630,\"renderers\":[{\"id\":\"1038\",\"type\":\"GlyphRenderer\"},{\"id\":\"1043\",\"type\":\"GlyphRenderer\"}],\"title\":null,\"toolbar\":{\"id\":\"1028\",\"type\":\"Toolbar\"},\"x_range\":{\"id\":\"1004\",\"type\":\"DataRange1d\"},\"x_scale\":{\"id\":\"1008\",\"type\":\"LinearScale\"},\"y_range\":{\"id\":\"1006\",\"type\":\"DataRange1d\"},\"y_scale\":{\"id\":\"1010\",\"type\":\"LinearScale\"}},\"id\":\"1002\",\"subtype\":\"Figure\",\"type\":\"Plot\"},{\"attributes\":{\"line_alpha\":0.1,\"line_color\":\"#1f77b4\",\"line_width\":3,\"x\":{\"field\":\"x\"},\"y\":{\"field\":\"y\"}},\"id\":\"1042\",\"type\":\"Line\"},{\"attributes\":{\"line_color\":\"red\",\"line_width\":3,\"x\":{\"field\":\"x\"},\"y\":{\"field\":\"y\"}},\"id\":\"1041\",\"type\":\"Line\"},{\"attributes\":{\"source\":{\"id\":\"1035\",\"type\":\"ColumnDataSource\"}},\"id\":\"1039\",\"type\":\"CDSView\"},{\"attributes\":{},\"id\":\"1022\",\"type\":\"PanTool\"},{\"attributes\":{\"overlay\":{\"id\":\"1050\",\"type\":\"BoxAnnotation\"}},\"id\":\"1024\",\"type\":\"BoxZoomTool\"},{\"attributes\":{},\"id\":\"1048\",\"type\":\"BasicTickFormatter\"},{\"attributes\":{},\"id\":\"1025\",\"type\":\"SaveTool\"},{\"attributes\":{},\"id\":\"1026\",\"type\":\"ResetTool\"},{\"attributes\":{},\"id\":\"1046\",\"type\":\"BasicTickFormatter\"},{\"attributes\":{},\"id\":\"1027\",\"type\":\"HelpTool\"},{\"attributes\":{\"fill_color\":{\"value\":\"black\"},\"x\":{\"field\":\"x\"},\"y\":{\"field\":\"y\"}},\"id\":\"1036\",\"type\":\"Circle\"},{\"attributes\":{\"callback\":null,\"data\":{\"x\":{\"__ndarray__\":\"MqNhARb47z/xq5BPfCXwPwoV11+YwH8/+OB1NJ4u6j+UnUAMN7TuvwI9nTkwj/i/mg4SYvTd8D8upzHE0Hz6P4Iha/CxjvS/IWCvl2sc9r/wh7HgDBjIPxhfXwUXf/G/9lsYNUWx4T+PiounKkL6P4XiHNE6/vy/WFkCwlYM4L81AycenmnnP9mV7eZVxsK/tVQpYCFa8L8wNELzK++wP6hvNYGW6Na/GTzlruiq978b9nYKuJ7tP61nUWXKweo/WrRpmaFT47/lqMgGVHf0P0KcFdSIBwBA4wlsELGI4D+vhc/9qVfSv09M47hI1QlAo5i2DiSj8r8SgTPnrPTwP5AKD3ZoEsQ/8MDx3O2W1z8zkiKLHunKPx9eMUTM85g/KLMYS8mt4D/yeW3e4vTPP6t4atNROPW/2YUTzmAZ8D+qEaaB1nfuv5LiWYyX7c6/nZuf9OsK+D+04b42qdjVPwZG8ZaijNc/D7ELYtSt3D/gHC4CZEDov4k85SuoqvI/Huhf90Ksqr+3hGfOUqzfP5CTPjhXKem/u31ZcZR0z7/kkLxWjvzmv7KKfsNYNe6/gpJ4EQ5jy7/yTNz1JuXNv7H+7WuzVAPAy5bBgvjeyb+igHDcolzWP+TQDa2wp/I/0HqaRczU6r/bgPzJBcn7vxrL5y0lrfC/MDqqh/8Z8j8LFNUNlt74P18VC34N/No//YiOjl5Z+L/jW0APwgLwPyHRzDjse8m/urB9OU/zAsCCVwZfS9pvv6JuW36dtuQ/yLbpi8t//T9//7VBbpC9v4cCOncTKPY/U0kQqyuQwb8tUEqGLjzzv9LMEzwpN/c/FmZ1NG6c0b+YjH9ar3bsvxKIRq1GyNg/b6GxptwC1z+PT4uHrjbmvytM9iksStE/m+DoE+hT9L9mgjBdBvnyv78iGoBbqeG/lx0Mxuc/9j9t7ZVqclz3v1UYLCeFPvS/bSbjGLbQwD8rEI4ili/mv6irRA6xIOW/bdZ6NmUB+T81Jru8cAAAwG3pvW24qT2/TTH4IuJKAEBMtV/aW4zxP0RUTZjVYao/ckpVmKLO5j8=\",\"dtype\":\"float64\",\"shape\":[100]},\"y\":{\"__ndarray__\":\"HKyN58TfNkAqcCmmHGtLQKfLccn0vDHAnJ8AJl76UUCsp1WUWqljwKIHgeqGVlTA9tbCX+HeWECBjYHasbNiQMvjOqK1F2PAThyQJb67YcBZ4Wa5fTQwwL2avafZXlzAbqrnAhfFU0CcutvIKJ5lQFr5kqGx7WbA/ai+4iWOQcByzvurxLlTQIb6JFZ6ODzAq67P/ymQWcCuaCNKwAszQLyF4yx2oSzANppNmW8ZTMB4JDaGTshmQJD3pI1nKjpAiGLwGul6QsAsCuZOEmJJQLbz+3ePA2BALD6q3e1UIsBvuY2rU2w5QIxSsCAlTHFANOunMO9eQcBX3cFVYDFCQBCS7xah2v2/MrpXblTTQ8A7cj5YFnQ+wDrbJxVw3yJAf5IsVPcDQUBR9iclGOtSQGJbQcoLklbAKRi7qq96VEDGtPWytmhbwBDpl7XbMiZAj2cryny2ZEA8zFgguD4dQA4lMw3Sp0JAkXU7KBQKREB+MWh9I/c3wAFQEbuxCVZATYR9CJcUNMBJbCk9U+05QOiHOMpwYFfANjzQ/RnrRMAalzQSgA47wGahuGE0QUzA9QftGJJCSsAufSsCT9EzQF+C1gciIGPAKdtpRq9mRcB6l4qBNQE7QGANk/m4lVdA8JzBNdyXWcCHjH6vBBFfwGCdfP3y1VnAcOBJh7WLX0Damn+bvFdSQLj6ywMM2ynACZ5AoSPlXsA2E/oDqF9JQO622A9LPUjA/NDJp/X7acA5oAWyoS8yQDOe6hzkMlRAT+338HNiZ0DZMTKDvawxQJ4hHQ/VS1pApHlcEj2oN8AG+Iht9PlfwK3rJrF5p2FAPDlm1osBHkA3Yu/Y6WhWwCbbCjvnbDBAbed7Zn1fS0DQ+9q3LoNVwL/bJgGUIFRAE/3bQeVgZ8BgKfH7YGIwwIm5h0QbsTLA8CaETUYHXEBcs+iFvLZdwE4/qWmmAk/AbvyD5A1mOMCN9V8iiQZAwF5pxKBjK1nAWz8lSoX7YUASnd7VmkhlwN7w6vNNBDdAQZ2OKZUzaUAFU9iuNzFFQIGj7QzEVT3AmFqPMWWtV0A=\",\"dtype\":\"float64\",\"shape\":[100]}},\"selected\":{\"id\":\"1051\",\"type\":\"Selection\"},\"selection_policy\":{\"id\":\"1052\",\"type\":\"UnionRenderers\"}},\"id\":\"1035\",\"type\":\"ColumnDataSource\"},{\"attributes\":{\"callback\":null},\"id\":\"1004\",\"type\":\"DataRange1d\"},{\"attributes\":{\"active_drag\":\"auto\",\"active_inspect\":\"auto\",\"active_multi\":null,\"active_scroll\":\"auto\",\"active_tap\":\"auto\",\"tools\":[{\"id\":\"1022\",\"type\":\"PanTool\"},{\"id\":\"1023\",\"type\":\"WheelZoomTool\"},{\"id\":\"1024\",\"type\":\"BoxZoomTool\"},{\"id\":\"1025\",\"type\":\"SaveTool\"},{\"id\":\"1026\",\"type\":\"ResetTool\"},{\"id\":\"1027\",\"type\":\"HelpTool\"}]},\"id\":\"1028\",\"type\":\"Toolbar\"},{\"attributes\":{\"data_source\":{\"id\":\"1035\",\"type\":\"ColumnDataSource\"},\"glyph\":{\"id\":\"1036\",\"type\":\"Circle\"},\"hover_glyph\":null,\"muted_glyph\":null,\"nonselection_glyph\":{\"id\":\"1037\",\"type\":\"Circle\"},\"selection_glyph\":null,\"view\":{\"id\":\"1039\",\"type\":\"CDSView\"}},\"id\":\"1038\",\"type\":\"GlyphRenderer\"},{\"attributes\":{\"callback\":null},\"id\":\"1006\",\"type\":\"DataRange1d\"},{\"attributes\":{},\"id\":\"1023\",\"type\":\"WheelZoomTool\"},{\"attributes\":{},\"id\":\"1008\",\"type\":\"LinearScale\"},{\"attributes\":{\"fill_alpha\":{\"value\":0.1},\"fill_color\":{\"value\":\"#1f77b4\"},\"line_alpha\":{\"value\":0.1},\"line_color\":{\"value\":\"#1f77b4\"},\"x\":{\"field\":\"x\"},\"y\":{\"field\":\"y\"}},\"id\":\"1037\",\"type\":\"Circle\"},{\"attributes\":{\"data_source\":{\"id\":\"1040\",\"type\":\"ColumnDataSource\"},\"glyph\":{\"id\":\"1041\",\"type\":\"Line\"},\"hover_glyph\":null,\"muted_glyph\":null,\"nonselection_glyph\":{\"id\":\"1042\",\"type\":\"Line\"},\"selection_glyph\":null,\"view\":{\"id\":\"1044\",\"type\":\"CDSView\"}},\"id\":\"1043\",\"type\":\"GlyphRenderer\"},{\"attributes\":{},\"id\":\"1010\",\"type\":\"LinearScale\"},{\"attributes\":{\"source\":{\"id\":\"1040\",\"type\":\"ColumnDataSource\"}},\"id\":\"1044\",\"type\":\"CDSView\"},{\"attributes\":{\"formatter\":{\"id\":\"1046\",\"type\":\"BasicTickFormatter\"},\"minor_tick_out\":0,\"ticker\":{\"id\":\"1013\",\"type\":\"BasicTicker\"}},\"id\":\"1012\",\"type\":\"LinearAxis\"},{\"attributes\":{},\"id\":\"1013\",\"type\":\"BasicTicker\"},{\"attributes\":{\"bottom_units\":\"screen\",\"fill_alpha\":{\"value\":0.5},\"fill_color\":{\"value\":\"lightgrey\"},\"left_units\":\"screen\",\"level\":\"overlay\",\"line_alpha\":{\"value\":1.0},\"line_color\":{\"value\":\"black\"},\"line_dash\":[4,4],\"line_width\":{\"value\":2},\"render_mode\":\"css\",\"right_units\":\"screen\",\"top_units\":\"screen\"},\"id\":\"1050\",\"type\":\"BoxAnnotation\"},{\"attributes\":{\"callback\":null,\"data\":{\"x\":{\"__ndarray__\":\"MqNhARb47z/xq5BPfCXwPwoV11+YwH8/+OB1NJ4u6j+UnUAMN7TuvwI9nTkwj/i/mg4SYvTd8D8upzHE0Hz6P4Iha/CxjvS/IWCvl2sc9r/wh7HgDBjIPxhfXwUXf/G/9lsYNUWx4T+PiounKkL6P4XiHNE6/vy/WFkCwlYM4L81AycenmnnP9mV7eZVxsK/tVQpYCFa8L8wNELzK++wP6hvNYGW6Na/GTzlruiq978b9nYKuJ7tP61nUWXKweo/WrRpmaFT47/lqMgGVHf0P0KcFdSIBwBA4wlsELGI4D+vhc/9qVfSv09M47hI1QlAo5i2DiSj8r8SgTPnrPTwP5AKD3ZoEsQ/8MDx3O2W1z8zkiKLHunKPx9eMUTM85g/KLMYS8mt4D/yeW3e4vTPP6t4atNROPW/2YUTzmAZ8D+qEaaB1nfuv5LiWYyX7c6/nZuf9OsK+D+04b42qdjVPwZG8ZaijNc/D7ELYtSt3D/gHC4CZEDov4k85SuoqvI/Huhf90Ksqr+3hGfOUqzfP5CTPjhXKem/u31ZcZR0z7/kkLxWjvzmv7KKfsNYNe6/gpJ4EQ5jy7/yTNz1JuXNv7H+7WuzVAPAy5bBgvjeyb+igHDcolzWP+TQDa2wp/I/0HqaRczU6r/bgPzJBcn7vxrL5y0lrfC/MDqqh/8Z8j8LFNUNlt74P18VC34N/No//YiOjl5Z+L/jW0APwgLwPyHRzDjse8m/urB9OU/zAsCCVwZfS9pvv6JuW36dtuQ/yLbpi8t//T9//7VBbpC9v4cCOncTKPY/U0kQqyuQwb8tUEqGLjzzv9LMEzwpN/c/FmZ1NG6c0b+YjH9ar3bsvxKIRq1GyNg/b6GxptwC1z+PT4uHrjbmvytM9iksStE/m+DoE+hT9L9mgjBdBvnyv78iGoBbqeG/lx0Mxuc/9j9t7ZVqclz3v1UYLCeFPvS/bSbjGLbQwD8rEI4ili/mv6irRA6xIOW/bdZ6NmUB+T81Jru8cAAAwG3pvW24qT2/TTH4IuJKAEBMtV/aW4zxP0RUTZjVYao/ckpVmKLO5j8=\",\"dtype\":\"float64\",\"shape\":[100]},\"y\":{\"__ndarray__\":\"doYIQhndU0CE4li5dhBUQEjy3ZDwVOo/2M4UQwNHUEDYcnwNxvlSwF2a3zk0Y17ATbE+hxn1VEAiad5/0XBgQNKxPkZrbVnATcR12l5aW8DIaSkxUkcuQJi3rIoyolXAAxOJr1EIRkALYaYMeUxgQLzzt6wA8WHAGe2CnV7JQ8BjZWRnRR9NQGhwOOGh2ibAm1etaRg3VMB7gmWJEtIVQB+wRal+LzzACs6hqURIXcAYNRxdbGhSQPtqNLY3olBANSVHh5zZR8BXNiZIE2tZQH9DFuav5GNAm2vhOruYREAy38XXsoY2wMv/imyrBXBAZYtqXiwMV8AjmZiuQhFVQAQHZ4MnSylA0SEbmQxyPUB3h2dPhOIwQIXWQ3l9IAFArvedHbXGREAC2pPbCgM0QFqMYgaoP1rAGTSlHHUBVEBpuElsW9RSwCBHqnxn9TLAFld5CePZXUDpq0ep7kg7QGwYRF5KZT1AEd+rJnPgQUAISlMnO/RNwFDSS1IbMFdA/CtWzT9lD8CqOG3ddLtDQFYyian0FE/A8im93Q5JM8BVy6mP3GJMwHAhEdEmq1LAeRhIYpzDMMABY838hlEywIuTt4bm7mfA2TfcNjimL8B5hsODgew7QANeZ/ttLFdAPdUhAmGTUMAejPD7YTFhwF8leXr8nVTAD6n+DdB8VkBdlD/EOuBeQNXeleCh00BA/Q3azn8gXsBnGWrna+VTQFwZDPB0Ky/AV+ly4TB2Z8CcM6vxALm5v0gkJubSxklARmWl3ZpOYkDjMzLlyechwAWu7kxvg1tAd+tqlTRaJcB72vs628lXwNHdK8ps01xARyHT4KKeNcDBE8RnWZZRwMar4SiB7D5ALS3914e6PEBEfElenG1LwKhck5QnozVAo/y9EI4kWcDoCR3MnnZXwHf5oalGyUXAWeVKMPigW0AOC/kxBedcwNwNUUsMClnAegxEDdlBJUCXSlMU0WRLwGDdAfAPFUrAunsCgF8LX0Daubvolc5jwGiyXZKrBcY/eAsqPyk4ZEC1oEDSQs1VQBQfALhiLhFA8sRbei5fTEA=\",\"dtype\":\"float64\",\"shape\":[100]}},\"selected\":{\"id\":\"1053\",\"type\":\"Selection\"},\"selection_policy\":{\"id\":\"1054\",\"type\":\"UnionRenderers\"}},\"id\":\"1040\",\"type\":\"ColumnDataSource\"},{\"attributes\":{\"grid_line_color\":null,\"ticker\":{\"id\":\"1013\",\"type\":\"BasicTicker\"}},\"id\":\"1016\",\"type\":\"Grid\"},{\"attributes\":{},\"id\":\"1051\",\"type\":\"Selection\"},{\"attributes\":{\"formatter\":{\"id\":\"1048\",\"type\":\"BasicTickFormatter\"},\"minor_tick_out\":0,\"ticker\":{\"id\":\"1018\",\"type\":\"BasicTicker\"}},\"id\":\"1017\",\"type\":\"LinearAxis\"},{\"attributes\":{},\"id\":\"1052\",\"type\":\"UnionRenderers\"},{\"attributes\":{},\"id\":\"1018\",\"type\":\"BasicTicker\"},{\"attributes\":{},\"id\":\"1053\",\"type\":\"Selection\"},{\"attributes\":{\"dimension\":1,\"grid_line_color\":null,\"ticker\":{\"id\":\"1018\",\"type\":\"BasicTicker\"}},\"id\":\"1021\",\"type\":\"Grid\"},{\"attributes\":{},\"id\":\"1054\",\"type\":\"UnionRenderers\"}],\"root_ids\":[\"1002\"]},\"title\":\"Bokeh Application\",\"version\":\"1.2.0\"}};\n",
       "  var render_items = [{\"docid\":\"ea8c6281-6bd6-489d-811c-38e29bae1b54\",\"roots\":{\"1002\":\"2534d0fd-cde6-4bab-9a60-ff8fcea8fccc\"}}];\n",
       "  root.Bokeh.embed.embed_items_notebook(docs_json, render_items);\n",
       "\n",
       "  }\n",
       "  if (root.Bokeh !== undefined) {\n",
       "    embed_document(root);\n",
       "  } else {\n",
       "    var attempts = 0;\n",
       "    var timer = setInterval(function(root) {\n",
       "      if (root.Bokeh !== undefined) {\n",
       "        embed_document(root);\n",
       "        clearInterval(timer);\n",
       "      }\n",
       "      attempts++;\n",
       "      if (attempts > 100) {\n",
       "        console.log(\"Bokeh: ERROR: Unable to run BokehJS code because BokehJS library is missing\");\n",
       "        clearInterval(timer);\n",
       "      }\n",
       "    }, 10, root)\n",
       "  }\n",
       "})(window);"
      ],
      "application/vnd.bokehjs_exec.v0+json": ""
     },
     "metadata": {
      "application/vnd.bokehjs_exec.v0+json": {
       "id": "1002"
      }
     },
     "output_type": "display_data"
    }
   ],
   "source": [
    "regr = linear_model.LinearRegression()\n",
    "regr.fit(X, y)\n",
    "\n",
    "fig = bk.figure(plot_width=630, plot_height=300, title=None)\n",
    "fig.circle(X[::1000, 0], y[::1000],  color='black')\n",
    "fig.line(X[::1000, 0], regr.predict(X[::1000]), color='red', line_width=3)\n",
    "fig.grid.grid_line_color = None\n",
    "fig.axis.minor_tick_out = 0\n",
    "bk.show(fig)"
   ]
  },
  {
   "cell_type": "markdown",
   "metadata": {},
   "source": [
    "### 2.3 Estimating Coefficients"
   ]
  },
  {
   "cell_type": "markdown",
   "metadata": {},
   "source": [
    "Generally speaking, coefficients are estimated using the **least squares criterion**, which finds the line that minimizes the **sum of squared residuals** (or \"sum of squared errors\"):"
   ]
  },
  {
   "cell_type": "markdown",
   "metadata": {},
   "source": [
    "<img src=\"images/estimating_coefficients.png\">"
   ]
  },
  {
   "cell_type": "markdown",
   "metadata": {},
   "source": [
    "Where:\n",
    "- The black dots are the **observed values** of x and y.\n",
    "- The blue line is our **least squares line**.\n",
    "- The red lines are the **residuals**, which are the distances between the observed values and the least squares line.\n",
    "\n",
    "How do the model coefficients relate to the least squares line?\n",
    "- $\\beta_0$ is the **intercept** (the value of $y$ when $x$=0)\n",
    "- $\\beta_1$ is the **slope** (the change in $y$ divided by change in $x$)\n",
    "\n",
    "Here is a graphical representation:"
   ]
  },
  {
   "cell_type": "markdown",
   "metadata": {},
   "source": [
    "<img src=\"images/slope_intercept.png\">"
   ]
  },
  {
   "cell_type": "markdown",
   "metadata": {},
   "source": [
    "Different choices of $\\beta_0$ and $\\beta_1$ give us different hypothesis. How do I choose $\\beta_0$ and $\\beta_1$ in order to get the best regression line? That is we want to find the best couple of $\\beta_0$ and $\\beta_1$ that minimizes the difference between the output of our hypothesis and the target. Using the notation above:\n",
    "$$min_{\\beta_0, \\beta_1} \\quad J(\\beta_0, \\beta_1) = \\frac{1}{2n}\\sum_i^n (h(x_i)-y_i)^2$$\n",
    "the second part of the expression is the **cost function** (*mean squared error* in this case) and it depends on $\\beta_0$ and $\\beta_1$, so changing their values changes the cost. Why we use the squared error? It is one of the most used functions, but there are many other. We will see why it is useful. \n",
    "\n",
    "To recap, we have:\n",
    "- an *hypothesis*: the equation of the line\n",
    "- *parameters* to learn: $\\beta_0$ and $\\beta_1$\n",
    "- *cost function*: mean squared error\n",
    "- *goal*: minimize error\n",
    "\n",
    "In order to ease the discussion we will make an example with a single parameter hypothesis:  $h(x) = \\beta_1x$; we are going to find a value for $\\beta_1$ that minimize $J(\\beta_1) = \\frac{1}{2n}\\sum_i^n (h(x_i)-y_i)^2$. How does varying the parameter affect the cost function? How varies the error?"
   ]
  },
  {
   "cell_type": "markdown",
   "metadata": {},
   "source": [
    "<img src=\"images/beta_cost.jpg\" alt=\"\" height=\"600\" width=\"600\">"
   ]
  },
  {
   "cell_type": "markdown",
   "metadata": {},
   "source": [
    "What happens if we keep both the coefficients $\\beta_0$ and $\\beta_1$? We have a quadratic bowl, such as the one in the picture below. "
   ]
  },
  {
   "cell_type": "markdown",
   "metadata": {},
   "source": [
    "<img src=\"images/quadratic_bowl.png\" alt=\"\" height=\"600\" width=\"600\">"
   ]
  },
  {
   "cell_type": "markdown",
   "metadata": {},
   "source": [
    "### 2.4 Learning algorithm"
   ]
  },
  {
   "cell_type": "markdown",
   "metadata": {},
   "source": [
    "How do we learn the parameters? We have a quadratic surface, how about starting with some random value for the parameters $\\beta_0$, $\\beta_1$ and then keep changing them until the cost function reaches its minimum? There could be different **local minima** as well as a **global minima**. Changing the initialization slightly changes the outcome of the optimization. "
   ]
  },
  {
   "cell_type": "markdown",
   "metadata": {},
   "source": [
    "<img src=\"images/gradient_descent.png\" alt=\"\" height=\"600\" width=\"600\">"
   ]
  },
  {
   "cell_type": "markdown",
   "metadata": {},
   "source": [
    "What is the update step? We are moving in the direction of the slope, using the derivative of the error function. How further we move? By a fixed proportion of this derivative, $\\alpha$ called the *learning rate* \n",
    "\n",
    "$$\\beta_i = \\beta_i - \\alpha \\frac{\\delta}{\\delta \\beta_i} J(\\beta_0, \\beta_1) \\quad i=0,1$$\n",
    "\n",
    "How do we apply gradient descent to minimize the mean squared error cost function? We plug our $J$ into the parameter update function and we take the derivative. \n",
    "\n",
    "$$\\frac{\\delta}{\\delta \\beta_0} J(\\beta_0, \\beta_1) =  \\frac{\\delta}{\\delta \\beta_0}\\frac{1}{2n}\\sum_i^n [(\\beta_0 + \\beta_1 x_i)-y_i]^2 = \\frac{1}{n} \\sum_i^n (h(x_i)-y_i)$$\n",
    "$$\\frac{\\delta}{\\delta \\beta_1} J(\\beta_0, \\beta_1) =  \\frac{\\delta}{\\delta \\beta_1}\\frac{1}{2n}\\sum_i^n [(\\beta_0 + \\beta_1 x_i)-y_i]^2 = \\frac{1}{n} \\sum_i^n (h(x_i)-y_i) x_i$$\n",
    "\n",
    "Actually the graph for the cost function for the linear regression is a convex function that always return the global minima. "
   ]
  },
  {
   "cell_type": "markdown",
   "metadata": {},
   "source": [
    "### 2.5 Multiple features"
   ]
  },
  {
   "cell_type": "markdown",
   "metadata": {},
   "source": [
    "At the moment we are trying to predict an outcome based on a single input variable (or feature). What if we have multiple variables as input? Does the accuracy of the model improve?"
   ]
  },
  {
   "cell_type": "markdown",
   "metadata": {},
   "source": [
    "<img src=\"images/trainset_multiple_example.png\" alt=\"\" height=\"600\" width=\"600\">"
   ]
  },
  {
   "cell_type": "markdown",
   "metadata": {},
   "source": [
    "In this case I can call the first four features as $x_1, x_2, x_3, x_4$ and the target (the price) is $y$. Here we introduce another concept in ML. The concept of dimensionality. The dimensionality of a dataset is the number of features that it has. We will denote the number of features of a dataset with the letter $p$. Here $p = 4$ (whereas in the previous example $p=1$). To simplify, $n$ is the number of rows in the table, while $p$ is the number of columns of the table.\n",
    "\n",
    "If we look at the previous notation, we can upgrade it so that now $x_i^{(j)}$ denotes the $i^{th}$ example and the $j^{th}$ feature. With multiple features the table is a matrix and each example $x_i$ is a $p$ dimensional vector. Talking again about notation, if we have multiple features our hypothesis become: \n",
    "\n",
    "$$ h(x) = \\beta_0 + \\beta_1x^{(1)} + \\beta_2x^{(2)} + \\ldots + \\beta_px^{(p)}$$\n",
    "\n",
    "Since it is no longer possible to use such notation to express the computation of the hypothesis we switch to the vectorized notation. We use a fake $x^{(0)}$ for the intercept  that we set it to $1$ for each example so that our notation becomes:\n",
    "\n",
    "$$ h(x) = \\beta_0x^{(0)} + \\beta_1x^{(1)} + \\beta_2x^{(2)} + \\ldots + \\beta_px^{(p)}$$ \n",
    "\n",
    "where $x_i^{(0)} = 1 \\quad \\forall i$. This way we can simplify the expression of the hypothesis as a dot product between the input and the paramteres:\n",
    "\n",
    "$$ h(X) = \\beta^TX$$ \n",
    "\n",
    "How does the update rule for the gradient descent algorithm work? We use vector notation for the parameter $\\beta$ that now denotes a $p$ dimensional vector,  $x$. Since we added our fake $x_i^{(0)}$ we are going to use a single update rule for each parameter:\n",
    "\n",
    "$$\\beta_j = \\beta_j - \\alpha \\frac{\\delta}{\\delta \\beta_j} J(\\beta) = \\beta_j - \\alpha \\frac{1}{n} \\sum_i^n (h(x_i)-y_i) x_j \\quad \\forall i$$\n",
    "\n",
    "**Problems** with gradient descent:\n",
    "- you need to find the correct learning rate\n",
    "- you have to scale data to use it effectively\n",
    "- you need many iterations"
   ]
  },
  {
   "cell_type": "markdown",
   "metadata": {},
   "source": [
    "### 2.6 Normal equation"
   ]
  },
  {
   "cell_type": "markdown",
   "metadata": {},
   "source": [
    "Instead of gradient descent we can solve for the vector of parameters analytically. Let's see how we can do it. We have switched to vectorized notation. Now the input is no longer a vector of length $n$ but a $n \\times p$ matrix. We can rewrite our hypothesis in matrix notation as:\n",
    "\n",
    "$$Y = XB$$\n",
    "\n",
    "where $Y$ is a $n$-dimensional vector and $B$ is a $p$-dimensional vector. Can we solve directly for $B$? Yes, we can obtain it from the residual sum of squares that we see at the beginning. \n",
    "\n",
    "$$RSS(\\beta) = \\sum_{i=1}^n (y_i - h(x_i))^2 = \\sum_{i=1}^n (y_i - \\sum_{j=1}^p(x_{ij}\\beta_j))^2 $$\n",
    "\n",
    "How to minimize this? If we switch to the matrix notation above we obtain the following equation:\n",
    "\n",
    "$$RSS(\\beta) = (y - X\\beta)^T(y - X\\beta)$$\n",
    "\n",
    "This is a quadratic function in the $p+1$ parameters. Differentiating with respect to $\\beta$ we obtain:\n",
    "\n",
    "$$\\frac{\\delta RSS(\\beta)}{\\delta \\beta} = -2X^T(y - X\\beta)$$\n",
    "\n",
    "Assuming (for the moment) that X has full column rank, and hence $X^T X$ is positive definite, if we set this derivative to zero we get:\n",
    "\n",
    "$$X^T(y - X\\beta) = 0$$\n",
    "\n",
    "we can obtain the solution: \n",
    "\n",
    "$$\\hat B = (X^T X)^{−1} X^T Y$$\n",
    "\n",
    "It might happen that the columns of X are not linearly independent, so that X is not of full rank. This would occur, for example, if two of the inputs were perfectly correlated, (e.g., $x_2 = 3x_1 $). Then $X^T X$ is singular and the least squares coefficients $\\beta$ are not uniquely defined. This implies that the matrix is not invertible. It is possible to remove redundant features or use pseudo-inverse.\n",
    "\n",
    "**Problems** with Normal equation:\n",
    "- computing $(X^T X)^{−1}$ is done in $O(n^3)$\n",
    "- slow if $n$ is large"
   ]
  },
  {
   "cell_type": "markdown",
   "metadata": {},
   "source": [
    "## 3 Nearest Neighbors"
   ]
  },
  {
   "cell_type": "markdown",
   "metadata": {},
   "source": [
    "It is tempting to ask if there is an ideal $h(x)$. In particular what is a good value of $h(x)$ for each selected value of $x$? If the dataset has some noise, there can be many $y$ values for each $x$. An approximation for our target function can thus be:\n",
    "\n",
    "$$ h(x) = E(y \\mid x=v) $$\n",
    "\n",
    "So the correct value might be the expected value of the target at that particular point. The case of linear regression is a particular case where we might have a single value at each data point. This is an ideal form of *regression function*. $x$ can also be a vector. It is *ideal* because is the function that minimizes $E[(Y-g(x))^2 \\mid x=v]$ over all function $g$ at all points $x$. We are still making mistakes, called *irreducible error* (remember the noise in the measurements?). \n",
    "\n",
    "Typically we don't have many (sometimes we don't even have a value for each point), so we cannot compute $E(y \\mid x=v)$! What can we do? We can relax the definition and let\n",
    "\n",
    "$$ \\hat h(x) = Ave(y \\mid x \\in \\mathcal{N}(x)) $$\n",
    "\n",
    "where $\\mathcal{N}(x)$ is some neighborhood of $x$.\n",
    "\n",
    "This algorithm is called **Nearest Neighbour (NN)** (or local averaging). "
   ]
  },
  {
   "cell_type": "code",
   "execution_count": 7,
   "metadata": {},
   "outputs": [
    {
     "data": {
      "text/html": [
       "\n",
       "\n",
       "\n",
       "\n",
       "\n",
       "\n",
       "  <div class=\"bk-root\" id=\"7227dabf-a406-4b98-94df-70b570921ab9\" data-root-id=\"1115\"></div>\n"
      ]
     },
     "metadata": {},
     "output_type": "display_data"
    },
    {
     "data": {
      "application/javascript": [
       "(function(root) {\n",
       "  function embed_document(root) {\n",
       "    \n",
       "  var docs_json = {\"5b4585dd-61d7-4099-b2b1-aaaf3dd8c6bd\":{\"roots\":{\"references\":[{\"attributes\":{\"below\":[{\"id\":\"1125\",\"type\":\"LinearAxis\"}],\"center\":[{\"id\":\"1129\",\"type\":\"Grid\"},{\"id\":\"1134\",\"type\":\"Grid\"}],\"left\":[{\"id\":\"1130\",\"type\":\"LinearAxis\"}],\"plot_height\":300,\"plot_width\":630,\"renderers\":[{\"id\":\"1151\",\"type\":\"GlyphRenderer\"},{\"id\":\"1156\",\"type\":\"GlyphRenderer\"}],\"title\":null,\"toolbar\":{\"id\":\"1141\",\"type\":\"Toolbar\"},\"x_range\":{\"id\":\"1117\",\"type\":\"DataRange1d\"},\"x_scale\":{\"id\":\"1121\",\"type\":\"LinearScale\"},\"y_range\":{\"id\":\"1119\",\"type\":\"DataRange1d\"},\"y_scale\":{\"id\":\"1123\",\"type\":\"LinearScale\"}},\"id\":\"1115\",\"subtype\":\"Figure\",\"type\":\"Plot\"},{\"attributes\":{},\"id\":\"1126\",\"type\":\"BasicTicker\"},{\"attributes\":{\"active_drag\":\"auto\",\"active_inspect\":\"auto\",\"active_multi\":null,\"active_scroll\":\"auto\",\"active_tap\":\"auto\",\"tools\":[{\"id\":\"1135\",\"type\":\"PanTool\"},{\"id\":\"1136\",\"type\":\"WheelZoomTool\"},{\"id\":\"1137\",\"type\":\"BoxZoomTool\"},{\"id\":\"1138\",\"type\":\"SaveTool\"},{\"id\":\"1139\",\"type\":\"ResetTool\"},{\"id\":\"1140\",\"type\":\"HelpTool\"}]},\"id\":\"1141\",\"type\":\"Toolbar\"},{\"attributes\":{\"grid_line_color\":null,\"ticker\":{\"id\":\"1126\",\"type\":\"BasicTicker\"}},\"id\":\"1129\",\"type\":\"Grid\"},{\"attributes\":{\"source\":{\"id\":\"1148\",\"type\":\"ColumnDataSource\"}},\"id\":\"1152\",\"type\":\"CDSView\"},{\"attributes\":{\"line_color\":\"red\",\"line_width\":3,\"x\":{\"field\":\"x\"},\"y\":{\"field\":\"y\"}},\"id\":\"1154\",\"type\":\"Line\"},{\"attributes\":{\"line_alpha\":0.1,\"line_color\":\"#1f77b4\",\"line_width\":3,\"x\":{\"field\":\"x\"},\"y\":{\"field\":\"y\"}},\"id\":\"1155\",\"type\":\"Line\"},{\"attributes\":{\"callback\":null,\"data\":{\"x\":{\"__ndarray__\":\"sf7ta7NUA8C6sH05T/MCwDUmu7xwAADAheIc0Tr+/L/bgPzJBcn7vwI9nTkwj/i//YiOjl5Z+L8ZPOWu6Kr3v23tlWpyXPe/IWCvl2sc9r+reGrTUTj1v4Iha/CxjvS/m+DoE+hT9L9VGCwnhT70vy1QSoYuPPO/ZoIwXQb58r+jmLYOJKPyvxhfXwUXf/G/GsvnLSWt8L+1VClgIVrwv5SdQAw3tO6/qhGmgdZ37r+yin7DWDXuv5iMf1qvduy/0HqaRczU6r+Qkz44Vynpv+AcLgJkQOi/5JC8Vo785r+PT4uHrjbmvysQjiKWL+a/qKtEDrEg5b9atGmZoVPjv78iGoBbqeG/WFkCwlYM4L+obzWBlujWv6+Fz/2pV9K/FmZ1NG6c0b+7fVlxlHTPv5LiWYyX7c6/8kzc9Sblzb+CkngRDmPLv8uWwYL43sm/IdHMOOx7yb/Zle3mVcbCv1NJEKsrkMG/f/+1QW6Qvb8e6F/3Qqyqv4JXBl9L2m+/bem9bbipPb8KFddfmMB/Px9eMUTM85g/RFRNmNVhqj8wNELzK++wP20m4xi20MA/kAoPdmgSxD/wh7HgDBjIPzOSIose6co/8nlt3uL0zz8rTPYpLErRP7Thvjap2NU/ooBw3KJc1j9vobGm3ALXPwZG8ZaijNc/8MDx3O2W1z8SiEatRsjYP18VC34N/No/D7ELYtSt3D+3hGfOUqzfP+MJbBCxiOA/KLMYS8mt4D/2Wxg1RbHhP6JuW36dtuQ/ckpVmKLO5j81AycenmnnP/jgdTSeLuo/rWdRZcrB6j8b9nYKuJ7tPzKjYQEW+O8/41tAD8IC8D/ZhRPOYBnwP/GrkE98JfA/mg4SYvTd8D8SgTPnrPTwP0y1X9pbjPE/MDqqh/8Z8j/k0A2tsKfyP4k85SuoqvI/5ajIBlR39D+HAjp3Eyj2P5cdDMbnP/Y/0swTPCk39z+dm5/06wr4PwsU1Q2W3vg/bdZ6NmUB+T+PiounKkL6Py6nMcTQfPo/yLbpi8t//T9CnBXUiAcAQE0x+CLiSgBAT0zjuEjVCUA=\",\"dtype\":\"float64\",\"shape\":[100]},\"y\":{\"__ndarray__\":\"fE8c6yeWZ8DpfevOdwJnwN2R1HcMGmTAYQAi+yO9YMDLUmU14blgwCU1ONNGeVzApH1j4BhLXcBGBBZ0EThdwLf5YIQ8EFzAo3RlCp1/XcCu3hBUuIlXwFqWA6ppqVfAjBIMPzA2WsCbyOUfim9ZwP17+czNwVrA74jno38DVsDKDJih+tFVwOQel893a1fAgtJruRdqUcCNID76u5pRwP3kEfiz51LAYYfrRY93VMCBqdg+KfdSwCPuteUVrFHADaTEepVwS8D6dSWOkMVQwLfKo5GOmE7AvbdGUyDTSsCjJQ18VZBOwAPo53ud/k/A9DugwlOzRsDpUKkg/6RFwFSrQZXk60TAM9LS46YNQMCcEzuAAGM+wKpyGJDZGELAxz6AzmrzMMDnM+xJ9BY4wMGNY+gvNTTA0s887Fy6NMAcX91oVaEewK1oaoIZjyXAlLCPc08xMMBFkHLRockzwFa0L6vRwiDAIeF7ul8DJcCSYdiwsecTwNUEO5bU1f6/S8be6NvHI8AyIXcWvJwIQLUE4sfkyyNAG+UyBUWkKMBZIiUA07MAwEJEA/Rsgg5AnwvVxh3iMkDAw452GsY1QCrvxkhcazlAWf24bK1PN0BPCF8BejA9QFZe8aNIPEBANRTfgsLtP0C0SA0Mc5E+QERvDddUAztA4nj0+y44O0Dmui3Kgro5QNR32/diyEBA93/mRGkBSECE2thgXdE6QNv6o7dLI0RA0mHf5+nkR0DUGxl11vxFQGSghcjmnkpA9P/ji44dTEA5c2532xJQQDmOJG2lvVFAcWieEnC8UED9OcomaPtVQIk0LRNuz1RAAj6ytgZaUUB8KxUWhGlXQPLve10191NAxjUpPY08VUCdzm5E+GNRQBASd/qODFRAZUrqk7dqVkBijywpFORXQArLjUe7klNAJNYrJEYHWUDrKK1DPWRcQHbUTgmpAVpAY6O520wKYEBi/+HlMEVdQD7ZoIdoYF5Ab0E3zsAEXUBegYqM9uVfQA27TTzlZWBA4M+tbXrNYUBuAt9JlK9kQHBS5z7D0GNA6Rpz3Yvwb0A=\",\"dtype\":\"float64\",\"shape\":[100]}},\"selected\":{\"id\":\"1176\",\"type\":\"Selection\"},\"selection_policy\":{\"id\":\"1177\",\"type\":\"UnionRenderers\"}},\"id\":\"1153\",\"type\":\"ColumnDataSource\"},{\"attributes\":{},\"id\":\"1140\",\"type\":\"HelpTool\"},{\"attributes\":{},\"id\":\"1139\",\"type\":\"ResetTool\"},{\"attributes\":{},\"id\":\"1135\",\"type\":\"PanTool\"},{\"attributes\":{\"data_source\":{\"id\":\"1153\",\"type\":\"ColumnDataSource\"},\"glyph\":{\"id\":\"1154\",\"type\":\"Line\"},\"hover_glyph\":null,\"muted_glyph\":null,\"nonselection_glyph\":{\"id\":\"1155\",\"type\":\"Line\"},\"selection_glyph\":null,\"view\":{\"id\":\"1157\",\"type\":\"CDSView\"}},\"id\":\"1156\",\"type\":\"GlyphRenderer\"},{\"attributes\":{},\"id\":\"1138\",\"type\":\"SaveTool\"},{\"attributes\":{\"source\":{\"id\":\"1153\",\"type\":\"ColumnDataSource\"}},\"id\":\"1157\",\"type\":\"CDSView\"},{\"attributes\":{},\"id\":\"1171\",\"type\":\"BasicTickFormatter\"},{\"attributes\":{\"formatter\":{\"id\":\"1171\",\"type\":\"BasicTickFormatter\"},\"minor_tick_out\":0,\"ticker\":{\"id\":\"1131\",\"type\":\"BasicTicker\"}},\"id\":\"1130\",\"type\":\"LinearAxis\"},{\"attributes\":{},\"id\":\"1123\",\"type\":\"LinearScale\"},{\"attributes\":{\"dimension\":1,\"grid_line_color\":null,\"ticker\":{\"id\":\"1131\",\"type\":\"BasicTicker\"}},\"id\":\"1134\",\"type\":\"Grid\"},{\"attributes\":{\"bottom_units\":\"screen\",\"fill_alpha\":{\"value\":0.5},\"fill_color\":{\"value\":\"lightgrey\"},\"left_units\":\"screen\",\"level\":\"overlay\",\"line_alpha\":{\"value\":1.0},\"line_color\":{\"value\":\"black\"},\"line_dash\":[4,4],\"line_width\":{\"value\":2},\"render_mode\":\"css\",\"right_units\":\"screen\",\"top_units\":\"screen\"},\"id\":\"1173\",\"type\":\"BoxAnnotation\"},{\"attributes\":{},\"id\":\"1174\",\"type\":\"Selection\"},{\"attributes\":{\"fill_alpha\":{\"value\":0.1},\"fill_color\":{\"value\":\"#1f77b4\"},\"line_alpha\":{\"value\":0.1},\"line_color\":{\"value\":\"#1f77b4\"},\"x\":{\"field\":\"x\"},\"y\":{\"field\":\"y\"}},\"id\":\"1150\",\"type\":\"Circle\"},{\"attributes\":{},\"id\":\"1136\",\"type\":\"WheelZoomTool\"},{\"attributes\":{},\"id\":\"1175\",\"type\":\"UnionRenderers\"},{\"attributes\":{\"callback\":null},\"id\":\"1117\",\"type\":\"DataRange1d\"},{\"attributes\":{},\"id\":\"1176\",\"type\":\"Selection\"},{\"attributes\":{},\"id\":\"1169\",\"type\":\"BasicTickFormatter\"},{\"attributes\":{},\"id\":\"1177\",\"type\":\"UnionRenderers\"},{\"attributes\":{\"overlay\":{\"id\":\"1173\",\"type\":\"BoxAnnotation\"}},\"id\":\"1137\",\"type\":\"BoxZoomTool\"},{\"attributes\":{\"callback\":null,\"data\":{\"x\":{\"__ndarray__\":\"MqNhARb47z/xq5BPfCXwPwoV11+YwH8/+OB1NJ4u6j+UnUAMN7TuvwI9nTkwj/i/mg4SYvTd8D8upzHE0Hz6P4Iha/CxjvS/IWCvl2sc9r/wh7HgDBjIPxhfXwUXf/G/9lsYNUWx4T+PiounKkL6P4XiHNE6/vy/WFkCwlYM4L81AycenmnnP9mV7eZVxsK/tVQpYCFa8L8wNELzK++wP6hvNYGW6Na/GTzlruiq978b9nYKuJ7tP61nUWXKweo/WrRpmaFT47/lqMgGVHf0P0KcFdSIBwBA4wlsELGI4D+vhc/9qVfSv09M47hI1QlAo5i2DiSj8r8SgTPnrPTwP5AKD3ZoEsQ/8MDx3O2W1z8zkiKLHunKPx9eMUTM85g/KLMYS8mt4D/yeW3e4vTPP6t4atNROPW/2YUTzmAZ8D+qEaaB1nfuv5LiWYyX7c6/nZuf9OsK+D+04b42qdjVPwZG8ZaijNc/D7ELYtSt3D/gHC4CZEDov4k85SuoqvI/Huhf90Ksqr+3hGfOUqzfP5CTPjhXKem/u31ZcZR0z7/kkLxWjvzmv7KKfsNYNe6/gpJ4EQ5jy7/yTNz1JuXNv7H+7WuzVAPAy5bBgvjeyb+igHDcolzWP+TQDa2wp/I/0HqaRczU6r/bgPzJBcn7vxrL5y0lrfC/MDqqh/8Z8j8LFNUNlt74P18VC34N/No//YiOjl5Z+L/jW0APwgLwPyHRzDjse8m/urB9OU/zAsCCVwZfS9pvv6JuW36dtuQ/yLbpi8t//T9//7VBbpC9v4cCOncTKPY/U0kQqyuQwb8tUEqGLjzzv9LMEzwpN/c/FmZ1NG6c0b+YjH9ar3bsvxKIRq1GyNg/b6GxptwC1z+PT4uHrjbmvytM9iksStE/m+DoE+hT9L9mgjBdBvnyv78iGoBbqeG/lx0Mxuc/9j9t7ZVqclz3v1UYLCeFPvS/bSbjGLbQwD8rEI4ili/mv6irRA6xIOW/bdZ6NmUB+T81Jru8cAAAwG3pvW24qT2/TTH4IuJKAEBMtV/aW4zxP0RUTZjVYao/ckpVmKLO5j8=\",\"dtype\":\"float64\",\"shape\":[100]},\"y\":{\"__ndarray__\":\"HKyN58TfNkAqcCmmHGtLQKfLccn0vDHAnJ8AJl76UUCsp1WUWqljwKIHgeqGVlTA9tbCX+HeWECBjYHasbNiQMvjOqK1F2PAThyQJb67YcBZ4Wa5fTQwwL2avafZXlzAbqrnAhfFU0CcutvIKJ5lQFr5kqGx7WbA/ai+4iWOQcByzvurxLlTQIb6JFZ6ODzAq67P/ymQWcCuaCNKwAszQLyF4yx2oSzANppNmW8ZTMB4JDaGTshmQJD3pI1nKjpAiGLwGul6QsAsCuZOEmJJQLbz+3ePA2BALD6q3e1UIsBvuY2rU2w5QIxSsCAlTHFANOunMO9eQcBX3cFVYDFCQBCS7xah2v2/MrpXblTTQ8A7cj5YFnQ+wDrbJxVw3yJAf5IsVPcDQUBR9iclGOtSQGJbQcoLklbAKRi7qq96VEDGtPWytmhbwBDpl7XbMiZAj2cryny2ZEA8zFgguD4dQA4lMw3Sp0JAkXU7KBQKREB+MWh9I/c3wAFQEbuxCVZATYR9CJcUNMBJbCk9U+05QOiHOMpwYFfANjzQ/RnrRMAalzQSgA47wGahuGE0QUzA9QftGJJCSsAufSsCT9EzQF+C1gciIGPAKdtpRq9mRcB6l4qBNQE7QGANk/m4lVdA8JzBNdyXWcCHjH6vBBFfwGCdfP3y1VnAcOBJh7WLX0Damn+bvFdSQLj6ywMM2ynACZ5AoSPlXsA2E/oDqF9JQO622A9LPUjA/NDJp/X7acA5oAWyoS8yQDOe6hzkMlRAT+338HNiZ0DZMTKDvawxQJ4hHQ/VS1pApHlcEj2oN8AG+Iht9PlfwK3rJrF5p2FAPDlm1osBHkA3Yu/Y6WhWwCbbCjvnbDBAbed7Zn1fS0DQ+9q3LoNVwL/bJgGUIFRAE/3bQeVgZ8BgKfH7YGIwwIm5h0QbsTLA8CaETUYHXEBcs+iFvLZdwE4/qWmmAk/AbvyD5A1mOMCN9V8iiQZAwF5pxKBjK1nAWz8lSoX7YUASnd7VmkhlwN7w6vNNBDdAQZ2OKZUzaUAFU9iuNzFFQIGj7QzEVT3AmFqPMWWtV0A=\",\"dtype\":\"float64\",\"shape\":[100]}},\"selected\":{\"id\":\"1174\",\"type\":\"Selection\"},\"selection_policy\":{\"id\":\"1175\",\"type\":\"UnionRenderers\"}},\"id\":\"1148\",\"type\":\"ColumnDataSource\"},{\"attributes\":{\"callback\":null},\"id\":\"1119\",\"type\":\"DataRange1d\"},{\"attributes\":{},\"id\":\"1131\",\"type\":\"BasicTicker\"},{\"attributes\":{},\"id\":\"1121\",\"type\":\"LinearScale\"},{\"attributes\":{\"data_source\":{\"id\":\"1148\",\"type\":\"ColumnDataSource\"},\"glyph\":{\"id\":\"1149\",\"type\":\"Circle\"},\"hover_glyph\":null,\"muted_glyph\":null,\"nonselection_glyph\":{\"id\":\"1150\",\"type\":\"Circle\"},\"selection_glyph\":null,\"view\":{\"id\":\"1152\",\"type\":\"CDSView\"}},\"id\":\"1151\",\"type\":\"GlyphRenderer\"},{\"attributes\":{\"fill_color\":{\"value\":\"black\"},\"x\":{\"field\":\"x\"},\"y\":{\"field\":\"y\"}},\"id\":\"1149\",\"type\":\"Circle\"},{\"attributes\":{\"formatter\":{\"id\":\"1169\",\"type\":\"BasicTickFormatter\"},\"minor_tick_out\":0,\"ticker\":{\"id\":\"1126\",\"type\":\"BasicTicker\"}},\"id\":\"1125\",\"type\":\"LinearAxis\"}],\"root_ids\":[\"1115\"]},\"title\":\"Bokeh Application\",\"version\":\"1.2.0\"}};\n",
       "  var render_items = [{\"docid\":\"5b4585dd-61d7-4099-b2b1-aaaf3dd8c6bd\",\"roots\":{\"1115\":\"7227dabf-a406-4b98-94df-70b570921ab9\"}}];\n",
       "  root.Bokeh.embed.embed_items_notebook(docs_json, render_items);\n",
       "\n",
       "  }\n",
       "  if (root.Bokeh !== undefined) {\n",
       "    embed_document(root);\n",
       "  } else {\n",
       "    var attempts = 0;\n",
       "    var timer = setInterval(function(root) {\n",
       "      if (root.Bokeh !== undefined) {\n",
       "        embed_document(root);\n",
       "        clearInterval(timer);\n",
       "      }\n",
       "      attempts++;\n",
       "      if (attempts > 100) {\n",
       "        console.log(\"Bokeh: ERROR: Unable to run BokehJS code because BokehJS library is missing\");\n",
       "        clearInterval(timer);\n",
       "      }\n",
       "    }, 10, root)\n",
       "  }\n",
       "})(window);"
      ],
      "application/vnd.bokehjs_exec.v0+json": ""
     },
     "metadata": {
      "application/vnd.bokehjs_exec.v0+json": {
       "id": "1115"
      }
     },
     "output_type": "display_data"
    }
   ],
   "source": [
    "n_neighbors = 30\n",
    "sample = 1000\n",
    "\n",
    "knn = neighbors.KNeighborsRegressor(n_neighbors, weights='uniform')\n",
    "knn.fit(X, y)\n",
    "\n",
    "fig = bk.figure(plot_width=630, plot_height=300, title=None)\n",
    "fig.circle(X[::sample, 0], y[::sample],  color='black')\n",
    "a = np.hstack([np.atleast_2d(X[::sample, 0]).T, \n",
    "               np.atleast_2d(knn.predict(X[::sample])).T])\n",
    "a = a[a[:,0].argsort()]\n",
    "fig.line(a[:,0], a[:,1], color='red', line_width=3)\n",
    "fig.grid.grid_line_color = None\n",
    "fig.axis.minor_tick_out = 0\n",
    "bk.show(fig)"
   ]
  },
  {
   "cell_type": "markdown",
   "metadata": {},
   "source": [
    "Albeit it is a pretty cool idea, it does not work in higher dimension. This introduces a major topic in ML."
   ]
  },
  {
   "cell_type": "markdown",
   "metadata": {},
   "source": [
    "### 3.1 The Curse of Dimensionality"
   ]
  },
  {
   "cell_type": "markdown",
   "metadata": {},
   "source": [
    "Nearest Neighbor averaging can be pretty good for small $p$ (tipycally $p \\leq 4$) and larger $n$. But what happens when $p$ is large? This method can be pretty lousy. The reason is the curse of dimensionality. Nearest Neighbors tend to be far away in high dimensions. \n",
    "\n",
    "We need to get a reasonable fraction of the N values of $y_i$ to average to bring the variance down. A $10\\%$ neighborhood in high dimensions need no longer be local, so we lose the spirit of estimating $E(y \\mid x=v)$ by local averaging. \n",
    "\n",
    "For a better understanding take a look at the picture below."
   ]
  },
  {
   "cell_type": "markdown",
   "metadata": {},
   "source": [
    "<img src=\"images/curse_dimensionality.png\" alt=\"\" height=\"600\" width=\"600\">"
   ]
  },
  {
   "cell_type": "markdown",
   "metadata": {},
   "source": [
    "So let's look at a little example of that. In the left panel, we've got values of two variables, $x_1$ and $x_2$, that are uniformly distributed in this cube with edges $-1$ to $+1$, $-1$ to $+1$. We form two 10% neighborhoods in this case. The first neighborhood is just involving the variable $x_1$, ignoring $x_2$. \n",
    "\n",
    "That's indicated by the vertical dotted lines. Our target point is at $0$. And we spread out a neighborhood to the left and right until we capture $10\\%$ of the data points with respect to the variable $x_1$. The dotted line indicates the width of the neighborhood.\n",
    "\n",
    "Alternatively, if we want to find a neighborhood in two dimensions, we spread out a circle centered at the target point, which is the red dot there, until we've captured $10\\%$ of the points. Notice the radius of the circle in two dimensions? It is much bigger than the radius of the circle in one dimension which is just the width between these two dotted lines. To capture $10\\%$ of the points in two dimensions, we have to go out further and we are less local than we are in one dimension! \n",
    "\n",
    "We can take this example further. On the right hand plot, we can see far you have to go out in one, two, three, five, and ten dimensions. In ten dimensions, these are different versions of this problem as the dimensions get higher, in order to capture a certain fraction of the volume. Take, for example, $10\\%$ or $0.1$ fraction of the volume. For $p=1$, if the data is uniform, you roughly go out $10\\%$ of the distance. In two dimensions, we showed you went more. Look what happens in five dimensions. In five dimensions, you have to go out to about $0.9$ on each coordinate axes to get $10\\%$ of the data. That's just about the whole radius of this sphere. And in ten dimensions, you actually have to go break out of this sphere in order to get points in the corner to capture the $10\\%$. The take home lesson here is: it's really hard to find new neighborhoods in high dimensions and stay local! If we didn't have this issue we could use NN for every problem!"
   ]
  },
  {
   "cell_type": "markdown",
   "metadata": {},
   "source": [
    "## 4 Linear Models for classification"
   ]
  },
  {
   "cell_type": "markdown",
   "metadata": {},
   "source": [
    "In classification the output that we want to predict is a discrete value that has typically few values that we call **classes**. Recall the example that we did before: \n",
    "- email: spam/not spam\n",
    "- transaction: fraudolent/not fraudolent\n",
    "- tumor: malignant/benign\n",
    "\n",
    "we can assign numerical values to those classes and our target variable becomes $y \\in (0,1)$ where $0$ is the *negative class* (not spam) and $1$ is the *positive class* (spam). \n",
    "\n",
    "Let's see if we can apply simple linear regression to one of this problems. For example we want to learn if a tumor is malignant or not based on its size. Suppose that we see the following example, that is our dataset is composed of various tumor measurements and to each one is associated the value $1$ malignant and $0$ benign. Suppose that I find an hypothesis such that is represented by the line in the picture. How can I decide to which class each example belongs?"
   ]
  },
  {
   "cell_type": "markdown",
   "metadata": {},
   "source": [
    "<img src=\"images/logistic_regression.jpg\" alt=\"\" height=\"500\" width=\"500\">"
   ]
  },
  {
   "cell_type": "markdown",
   "metadata": {},
   "source": [
    "I can use a threshold at $0.5$ for example such that: \n",
    "- if $h(x) \\geq 0.5$ predict $1$ \n",
    "- if $h(x) < 0.5$ predict $0$\n",
    "\n",
    "what happens if we change the dataset a little bit? Let's say we add one more example to the right."
   ]
  },
  {
   "cell_type": "markdown",
   "metadata": {},
   "source": [
    "<img src=\"images/logistic_regression2.jpg\" alt=\"\" height=\"600\" width=\"600\">"
   ]
  },
  {
   "cell_type": "markdown",
   "metadata": {},
   "source": [
    "What happened? Linear regression changed because of the single value, and using our threshold of $0.5$ now gives wrong results. How can we overcome this kind of situations? Is it possible to use a different algorithm that estimates the class correctly? Linear regression output can be $>1$ and $<0$ while in a two-class classification problem the class can be $0$ or $1$. "
   ]
  },
  {
   "cell_type": "markdown",
   "metadata": {},
   "source": [
    "### 4.1 Logistic Regression"
   ]
  },
  {
   "cell_type": "markdown",
   "metadata": {},
   "source": [
    "The logistic regression model arises from the desire to model the posterior probabilities of the $K$ classes via linear functions in $x$, while at the same time ensuring that they sum to one and remain in $[0, 1]$.\n",
    "\n",
    "We apply the logistic function to hour hypothesis. What is the logistic function? "
   ]
  },
  {
   "cell_type": "markdown",
   "metadata": {},
   "source": [
    "<img src=\"images/logistic_function.png\" alt=\"\" height=\"500\" width=\"500\">"
   ]
  },
  {
   "cell_type": "markdown",
   "metadata": {},
   "source": [
    "$$g(z) = \\frac{1}{1+e^{-z}} $$\n",
    "\n",
    "We can apply this function to our previous linear regression hypothesis:\n",
    "\n",
    "$$ h(x) = g(\\beta^Tx)$$\n",
    "\n",
    "Now the $z$ in the previous function has now the value of $\\beta^Tx$ and the output of my hypothesis is no longer the value of $\\hat y$ but the probability of being in that class that is $P(Y=c \\mid X=x)$, given $x$ parametrized by $\\beta$."
   ]
  },
  {
   "cell_type": "markdown",
   "metadata": {},
   "source": [
    "### 4.2 Decision Boundary"
   ]
  },
  {
   "cell_type": "markdown",
   "metadata": {},
   "source": [
    "Why the logistic regression is a linear model if its function is clearly non linear? Let's discuss how the class is computed. \n",
    "\n",
    "Again we are using a threshold, suppose to predict $y=1$  if $h(x) \\geq 0.5$ and  $y=1$  if $h(x) < 0.5$. In this case $g(z) \\geq 0.5$. But when it is such the case? $g(z)$ is $\\geq 0.5$ when $z \\geq 0$, so basically when $\\beta^Tx \\geq 0$.\n",
    "\n",
    "What happens in the other case? $y=0$  if $h(x) < 0.5$. In this case $g(z) < 0.5$ when $z < 0$, so basically when $\\beta^Tx < 0$"
   ]
  },
  {
   "cell_type": "markdown",
   "metadata": {},
   "source": [
    "<img src=\"images/decision_boundary.jpg\" alt=\"\" height=\"500\" width=\"500\">"
   ]
  },
  {
   "cell_type": "markdown",
   "metadata": {},
   "source": [
    "Suppose that we are looking at the region boundary in the picture above. In this case the line that divides the two planes has equation $-3+x_1+x_2 = 0$. In this case we are classifying the examples with class 1 when $x_1 + x_2 \\geq 3$ and we are classifying examples with class 0 when $x_1 + x_2 < 3$"
   ]
  },
  {
   "cell_type": "markdown",
   "metadata": {},
   "source": [
    "### 4.3 Cost function"
   ]
  },
  {
   "cell_type": "markdown",
   "metadata": {},
   "source": [
    "Using mean squared error as the cost for the logistic gives us a non-convex function in the parameter $\\beta$. What do we mean for non convex? See the picture below! This happens because the $h(x)$ in the cost function has nonlinearities (the logistic function). In this way it is really hard to find the global minimum of the error function and thus the optimal solution. "
   ]
  },
  {
   "cell_type": "markdown",
   "metadata": {},
   "source": [
    "<img src=\"images/non_convex.png\" alt=\"\" height=\"600\" width=\"600\">"
   ]
  },
  {
   "cell_type": "markdown",
   "metadata": {},
   "source": [
    "We need another cost function.\n",
    "\n",
    "$$J(h(x),y) = \\Bigg\\{\\begin{array}{lr}\n",
    "    -log(h(x)) & if y=1\\\\\n",
    "    -log(1-h(x)) & if y=0\n",
    "  \\end{array}$$\n",
    "  \n",
    "Let's see if it works. If $y=1$ and $h(x)=1$ the cost is zero. So if the model is predicting the correct label the error is zero as expected. If however $y=1$ and $h(x)=0$ the cost is $\\inf$ because we have $-log(0)$. This capture the notion that if we are making a mistake we are going to penalize the model by a large quantity. "
   ]
  },
  {
   "cell_type": "markdown",
   "metadata": {},
   "source": [
    "<img src=\"images/logistic_cost.png\" alt=\"\" height=\"700\" width=\"700\">"
   ]
  },
  {
   "cell_type": "markdown",
   "metadata": {},
   "source": [
    "The same applies for the case where $y=0$."
   ]
  },
  {
   "cell_type": "code",
   "execution_count": 8,
   "metadata": {},
   "outputs": [
    {
     "name": "stderr",
     "output_type": "stream",
     "text": [
      "/Library/Frameworks/Python.framework/Versions/3.7/lib/python3.7/site-packages/sklearn/linear_model/logistic.py:432: FutureWarning: Default solver will be changed to 'lbfgs' in 0.22. Specify a solver to silence this warning.\n",
      "  FutureWarning)\n"
     ]
    },
    {
     "data": {
      "text/html": [
       "\n",
       "\n",
       "\n",
       "\n",
       "\n",
       "\n",
       "  <div class=\"bk-root\" id=\"f16746a3-72e9-447e-8811-df931552f7a6\" data-root-id=\"1238\"></div>\n"
      ]
     },
     "metadata": {},
     "output_type": "display_data"
    },
    {
     "data": {
      "application/javascript": [
       "(function(root) {\n",
       "  function embed_document(root) {\n",
       "    \n",
       "  var docs_json = {\"b5397184-dd66-4a6c-a66a-c2db611a79c3\":{\"roots\":{\"references\":[{\"attributes\":{\"below\":[{\"id\":\"1248\",\"type\":\"LinearAxis\"}],\"center\":[{\"id\":\"1252\",\"type\":\"Grid\"},{\"id\":\"1257\",\"type\":\"Grid\"},{\"id\":\"1289\",\"type\":\"Legend\"}],\"left\":[{\"id\":\"1253\",\"type\":\"LinearAxis\"}],\"plot_height\":300,\"plot_width\":630,\"renderers\":[{\"id\":\"1274\",\"type\":\"GlyphRenderer\"},{\"id\":\"1279\",\"type\":\"GlyphRenderer\"},{\"id\":\"1294\",\"type\":\"GlyphRenderer\"}],\"title\":null,\"toolbar\":{\"id\":\"1264\",\"type\":\"Toolbar\"},\"x_range\":{\"id\":\"1307\",\"type\":\"Range1d\"},\"x_scale\":{\"id\":\"1244\",\"type\":\"LinearScale\"},\"y_range\":{\"id\":\"1308\",\"type\":\"Range1d\"},\"y_scale\":{\"id\":\"1246\",\"type\":\"LinearScale\"}},\"id\":\"1238\",\"subtype\":\"Figure\",\"type\":\"Plot\"},{\"attributes\":{\"data_source\":{\"id\":\"1291\",\"type\":\"ColumnDataSource\"},\"glyph\":{\"id\":\"1292\",\"type\":\"Line\"},\"hover_glyph\":null,\"muted_glyph\":null,\"nonselection_glyph\":{\"id\":\"1293\",\"type\":\"Line\"},\"selection_glyph\":null,\"view\":{\"id\":\"1295\",\"type\":\"CDSView\"}},\"id\":\"1294\",\"type\":\"GlyphRenderer\"},{\"attributes\":{\"source\":{\"id\":\"1271\",\"type\":\"ColumnDataSource\"}},\"id\":\"1275\",\"type\":\"CDSView\"},{\"attributes\":{\"source\":{\"id\":\"1291\",\"type\":\"ColumnDataSource\"}},\"id\":\"1295\",\"type\":\"CDSView\"},{\"attributes\":{},\"id\":\"1244\",\"type\":\"LinearScale\"},{\"attributes\":{\"callback\":null,\"data\":{\"x\":{\"__ndarray__\":\"AAAAAAAAFMAC+pT2oMwTwAP0Ke1BmRPABe6+4+JlE8AH6FPagzITwAni6NAk/xLACtx9x8XLEsAM1hK+ZpgSwA7Qp7QHZRLAD8o8q6gxEsARxNGhSf4RwBO+ZpjqyhHAFLj7jouXEcAWspCFLGQRwBisJXzNMBHAGqa6cm79EMAboE9pD8oQwB2a5F+wlhDAH5R5VlFjEMAgjg5N8i8QwEQQR4cm+Q/ASARxdGiSD8BM+JphqisPwE7sxE7sxA7AUuDuOy5eDsBW1BgpcPcNwFnIQhaykA3AXLxsA/QpDcBgsJbwNcMMwGOkwN13XAzAZpjqyrn1C8BqjBS4+44LwG6APqU9KAvAcXRokn/BCsB0aJJ/wVoKwHhcvGwD9AnAe1DmWUWNCcB+RBBHhyYJwII4OjTJvwjAhixkIQtZCMCJII4OTfIHwIwUuPuOiwfAkAji6NAkB8CT/AvWEr4GwJfwNcNUVwbAmuRfsJbwBcCd2Imd2IkFwKHMs4oaIwXApMDdd1y8BMCotAdlnlUEwKuoMVLg7gPAr5xbPyKIA8CykIUsZCEDwLWErxmmugLAuXjZBuhTAsC8bAP0Ke0BwMBgLeFrhgHAw1RXzq0fAcDGSIG777gAwMo8q6gxUgDAmmGqK+fW/7+iSf4Fawn/v6gxUuDuO/6/sBmmunJu/b+2AfqU9qD8v7zpTW960/u/xNGhSf4F+7/KufUjgjj6v9KhSf4Fa/m/2Imd2Imd+L/gcfGyDdD3v+ZZRY2RAve/7EGZZxU19r/0Ke1BmWf1v/oRQRwdmvS/AvqU9qDM878I4ujQJP/yvw7KPKuoMfK/FrKQhSxk8b8cmuRfsJbwv0gEcXRoku+/WNQYKXD37b9gpMDdd1zsv3B0aJJ/weq/gEQQR4cm6b+IFLj7jovnv5jkX7CW8OW/qLQHZZ5V5L+4hK8Zprriv8BUV86tH+G/oEn+BWsJ37/A6U1vetPbv9CJndiJndi/8CntQZln1b8QyjyrqDHSv2DUGClw982/gBS4+46Lx7/AVFfOrR/BvwAq7UGZZ7W/gFRXzq0fob8AVVfOrR+RP8BUV86tH7E/QNQYKXD3vT8AKu1BmWfFP8DpTW9608s/wFRXzq0f0T+wtAdlnlXUP5AUuPuOi9c/cHRokn/B2j9g1BgpcPfdPyCa5F+wluA/EMo8q6gx4j8A+pT2oMzjP/gp7UGZZ+U/6FlFjZEC5z/YiZ3YiZ3oP9C59SOCOOo/wOlNb3rT6z+wGaa6cm7tP6BJ/gVrCe8/zDyrqDFS8D/EVFfOrR/xP7xsA/Qp7fE/uISvGaa68j+wnFs/IojzP6i0B2WeVfQ/oMyzihoj9T+c5F+wlvD1P5T8C9YSvvY/jBS4+46L9z+ILGQhC1n4P4BEEEeHJvk/eFy8bAP0+T9wdGiSf8H6P2yMFLj7jvs/ZKTA3Xdc/D9cvGwD9Cn9P1jUGClw9/0/UOzETuzE/j9IBHF0aJL/PyCODk3yLwBAHprkX7CWAEAaprpybv0AQBaykIUsZAFAFL5mmOrKAUAQyjyrqDECQAzWEr5mmAJACOLo0CT/AkAG7r7j4mUDQAL6lPagzANA/gVrCV8zBED8EUEcHZoEQPgdFy/bAAVA9CntQZlnBUDyNcNUV84FQO5BmWcVNQZA6k1vetObBkDmWUWNkQIHQORlG6BPaQdA4HHxsg3QB0DcfcfFyzYIQNiJndiJnQhA1JVz60cECUDUoUn+BWsJQNCtHxHE0QlAzLn1I4I4CkDIxcs2QJ8KQMTRoUn+BQtAwN13XLxsC0C86U1vetMLQLz1I4I4OgxAuAH6lPagDEC0DdCntAcNQLAZprpybg1ArCV8zTDVDUCoMVLg7jsOQKQ9KPOsog5ApEn+BWsJD0CgVdQYKXAPQJxhqivn1g9AzDZAn9IeEEDKPKuoMVIQQMhCFrKQhRBAxkiBu++4EEDGTuzETuwQQMRUV86tHxFAwlrC1wxTEUDAYC3ha4YRQL5mmOrKuRFAvGwD9CntEUC6cm79iCASQLp42QboUxJAuH5EEEeHEkC2hK8ZproSQLSKGiMF7hJAspCFLGQhE0CwlvA1w1QTQK6cWz8iiBNArqLGSIG7E0CsqDFS4O4TQKqunFs/IhRAqLQHZZ5VFECmunJu/YgUQKTA3XdcvBRAosZIgbvvFECizLOKGiMVQKDSHpR5VhVAntiJndiJFUCc3vSmN70VQJrkX7CW8BVAmOrKufUjFkCW8DXDVFcWQJb2oMyzihZAlPwL1hK+FkCSAnffcfEWQJAI4ujQJBdAjg5N8i9YF0CMFLj7josXQIwaIwXuvhdAiiCODk3yF0CIJvkXrCUYQIYsZCELWRhAhDLPKmqMGECCODo0yb8YQIA+pT0o8xhAgEQQR4cmGUB+SntQ5lkZQHxQ5llFjRlAelZRY6TAGUB4XLxsA/QZQHZiJ3ZiJxpAdGiSf8FaGkB0bv2III4aQHJ0aJJ/wRpAcHrTm970GkBugD6lPSgbQGyGqa6cWxtAaowUuPuOG0Bokn/BWsIbQGiY6sq59RtAZp5V1BgpHEBkpMDdd1wcQGKqK+fWjxxAYLCW8DXDHEBetgH6lPYcQFy8bAP0KR1AXMLXDFNdHUBayEIWspAdQFjOrR8RxB1AVtQYKXD3HUBU2oMyzyoeQFLg7jsuXh5AUOZZRY2RHkBQ7MRO7MQeQE7yL1hL+B5ATPiaYaorH0BK/gVrCV8fQEgEcXRokh9ARgrcfcfFH0BEEEeHJvkfQCILWchCFiBAIY4OTfIvIEAgEcTRoUkgQB+UeVZRYyBAHhcv2wB9IEAdmuRfsJYgQBwdmuRfsCBAHKBPaQ/KIEAbIwXuvuMgQBqmunJu/SBAGSlw9x0XIUAYrCV8zTAhQBcv2wB9SiFAFrKQhSxkIUAWNUYK3H0hQBW4+46LlyFAFDuxEzuxIUATvmaY6sohQBJBHB2a5CFAEcTRoUn+IUAQR4cm+RciQBDKPKuoMSJAD03yL1hLIkAO0Ke0B2UiQA1TXTm3fiJADNYSvmaYIkALWchCFrIiQArcfcfFyyJACl8zTHXlIkAJ4ujQJP8iQAhlnlXUGCNAB+hT2oMyI0AGawlfM0wjQAXuvuPiZSNABHF0aJJ/I0AE9CntQZkjQAN333HxsiNAAvqU9qDMI0ABfUp7UOYjQAAAAAAAACRA\",\"dtype\":\"float64\",\"shape\":[300]},\"y\":{\"__ndarray__\":\"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\",\"dtype\":\"float64\",\"shape\":[300]}},\"selected\":{\"id\":\"1304\",\"type\":\"Selection\"},\"selection_policy\":{\"id\":\"1305\",\"type\":\"UnionRenderers\"}},\"id\":\"1276\",\"type\":\"ColumnDataSource\"},{\"attributes\":{},\"id\":\"1304\",\"type\":\"Selection\"},{\"attributes\":{},\"id\":\"1246\",\"type\":\"LinearScale\"},{\"attributes\":{\"line_color\":\"red\",\"line_width\":3,\"x\":{\"field\":\"x\"},\"y\":{\"field\":\"y\"}},\"id\":\"1277\",\"type\":\"Line\"},{\"attributes\":{},\"id\":\"1305\",\"type\":\"UnionRenderers\"},{\"attributes\":{\"formatter\":{\"id\":\"1282\",\"type\":\"BasicTickFormatter\"},\"minor_tick_out\":0,\"ticker\":{\"id\":\"1249\",\"type\":\"BasicTicker\"}},\"id\":\"1248\",\"type\":\"LinearAxis\"},{\"attributes\":{\"line_alpha\":0.1,\"line_color\":\"#1f77b4\",\"line_width\":3,\"x\":{\"field\":\"x\"},\"y\":{\"field\":\"y\"}},\"id\":\"1278\",\"type\":\"Line\"},{\"attributes\":{\"label\":{\"value\":\"Linear Regression Model\"},\"renderers\":[{\"id\":\"1294\",\"type\":\"GlyphRenderer\"}]},\"id\":\"1306\",\"type\":\"LegendItem\"},{\"attributes\":{},\"id\":\"1249\",\"type\":\"BasicTicker\"},{\"attributes\":{\"data_source\":{\"id\":\"1276\",\"type\":\"ColumnDataSource\"},\"glyph\":{\"id\":\"1277\",\"type\":\"Line\"},\"hover_glyph\":null,\"muted_glyph\":null,\"nonselection_glyph\":{\"id\":\"1278\",\"type\":\"Line\"},\"selection_glyph\":null,\"view\":{\"id\":\"1280\",\"type\":\"CDSView\"}},\"id\":\"1279\",\"type\":\"GlyphRenderer\"},{\"attributes\":{\"formatter\":{\"id\":\"1284\",\"type\":\"BasicTickFormatter\"},\"minor_tick_out\":0,\"ticker\":{\"id\":\"1309\",\"type\":\"FixedTicker\"}},\"id\":\"1253\",\"type\":\"LinearAxis\"},{\"attributes\":{\"callback\":null,\"end\":1.25,\"start\":-0.25},\"id\":\"1308\",\"type\":\"Range1d\"},{\"attributes\":{\"source\":{\"id\":\"1276\",\"type\":\"ColumnDataSource\"}},\"id\":\"1280\",\"type\":\"CDSView\"},{\"attributes\":{},\"id\":\"1254\",\"type\":\"BasicTicker\"},{\"attributes\":{},\"id\":\"1282\",\"type\":\"BasicTickFormatter\"},{\"attributes\":{\"active_drag\":\"auto\",\"active_inspect\":\"auto\",\"active_multi\":null,\"active_scroll\":\"auto\",\"active_tap\":\"auto\",\"tools\":[{\"id\":\"1258\",\"type\":\"PanTool\"},{\"id\":\"1259\",\"type\":\"WheelZoomTool\"},{\"id\":\"1260\",\"type\":\"BoxZoomTool\"},{\"id\":\"1261\",\"type\":\"SaveTool\"},{\"id\":\"1262\",\"type\":\"ResetTool\"},{\"id\":\"1263\",\"type\":\"HelpTool\"}]},\"id\":\"1264\",\"type\":\"Toolbar\"},{\"attributes\":{\"ticks\":[0,0.5,1]},\"id\":\"1309\",\"type\":\"FixedTicker\"},{\"attributes\":{\"dimension\":1,\"grid_line_color\":null,\"ticker\":{\"id\":\"1254\",\"type\":\"BasicTicker\"}},\"id\":\"1257\",\"type\":\"Grid\"},{\"attributes\":{},\"id\":\"1284\",\"type\":\"BasicTickFormatter\"},{\"attributes\":{},\"id\":\"1340\",\"type\":\"Selection\"},{\"attributes\":{\"bottom_units\":\"screen\",\"fill_alpha\":{\"value\":0.5},\"fill_color\":{\"value\":\"lightgrey\"},\"left_units\":\"screen\",\"level\":\"overlay\",\"line_alpha\":{\"value\":1.0},\"line_color\":{\"value\":\"black\"},\"line_dash\":[4,4],\"line_width\":{\"value\":2},\"render_mode\":\"css\",\"right_units\":\"screen\",\"top_units\":\"screen\"},\"id\":\"1286\",\"type\":\"BoxAnnotation\"},{\"attributes\":{\"fill_alpha\":{\"value\":0.1},\"fill_color\":{\"value\":\"#1f77b4\"},\"line_alpha\":{\"value\":0.1},\"line_color\":{\"value\":\"#1f77b4\"},\"x\":{\"field\":\"x\"},\"y\":{\"field\":\"y\"}},\"id\":\"1273\",\"type\":\"Circle\"},{\"attributes\":{},\"id\":\"1341\",\"type\":\"UnionRenderers\"},{\"attributes\":{},\"id\":\"1287\",\"type\":\"Selection\"},{\"attributes\":{\"fill_color\":{\"value\":\"black\"},\"x\":{\"field\":\"x\"},\"y\":{\"field\":\"y\"}},\"id\":\"1272\",\"type\":\"Circle\"},{\"attributes\":{},\"id\":\"1288\",\"type\":\"UnionRenderers\"},{\"attributes\":{},\"id\":\"1258\",\"type\":\"PanTool\"},{\"attributes\":{\"items\":[{\"id\":\"1290\",\"type\":\"LegendItem\"},{\"id\":\"1306\",\"type\":\"LegendItem\"}],\"location\":\"bottom_right\"},\"id\":\"1289\",\"type\":\"Legend\"},{\"attributes\":{},\"id\":\"1259\",\"type\":\"WheelZoomTool\"},{\"attributes\":{\"label\":{\"value\":\"Logistic Regression Model\"},\"renderers\":[{\"id\":\"1279\",\"type\":\"GlyphRenderer\"}]},\"id\":\"1290\",\"type\":\"LegendItem\"},{\"attributes\":{\"overlay\":{\"id\":\"1286\",\"type\":\"BoxAnnotation\"}},\"id\":\"1260\",\"type\":\"BoxZoomTool\"},{\"attributes\":{\"callback\":null,\"end\":10,\"start\":-4},\"id\":\"1307\",\"type\":\"Range1d\"},{\"attributes\":{},\"id\":\"1261\",\"type\":\"SaveTool\"},{\"attributes\":{\"grid_line_color\":null,\"ticker\":{\"id\":\"1249\",\"type\":\"BasicTicker\"}},\"id\":\"1252\",\"type\":\"Grid\"},{\"attributes\":{\"callback\":null,\"data\":{\"x\":{\"__ndarray__\":\"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\",\"dtype\":\"float64\",\"shape\":[300]},\"y\":{\"__ndarray__\":\"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\",\"dtype\":\"float64\",\"shape\":[300]}},\"selected\":{\"id\":\"1340\",\"type\":\"Selection\"},\"selection_policy\":{\"id\":\"1341\",\"type\":\"UnionRenderers\"}},\"id\":\"1291\",\"type\":\"ColumnDataSource\"},{\"attributes\":{},\"id\":\"1262\",\"type\":\"ResetTool\"},{\"attributes\":{\"line_color\":\"#1f77b4\",\"line_width\":3,\"x\":{\"field\":\"x\"},\"y\":{\"field\":\"y\"}},\"id\":\"1292\",\"type\":\"Line\"},{\"attributes\":{},\"id\":\"1263\",\"type\":\"HelpTool\"},{\"attributes\":{\"callback\":null,\"data\":{\"x\":{\"__ndarray__\":\"C5Ea8w98HkC4KVqjDCTzP5RBJk88RQxA0DmqpD+CIkDSRvpOInkcQBocLhZvOtm/1bM9L/9oDUC8+bD0uQnYvwLmfcmBUN4/UqysT0CxAEASry3H3S7yP7W7UIwKWxhASKEks0hJBkD4iyV9nPTwP5nhAcPuHvs/Z1x0hfo0+T9aylhivgoZQMtoX/Y3G9C/V+++x+H79j/zBXNRVnriv4mQ0k4/hQPAH1mNwPhGAkBor33psmAMQF32GwMuCNa/Q1W+l8W9IUCRHN/l8/z3vyxBjia136o/qrwcTq6G1z9lGZToylQZQIc6tnGq/xdAfOXvzlfi2D8orlWyccr6PxO7kor9cPG/dzcQnDqK/7/KFBpswDzhv56ghT6lgeo/p21NOmZgFEACxSJf9fwSQHe3aqiCL9G/PeoeqMUq5L/PL+SMVO/3v+jC/Ax4nPS/Yqj1BROA+r802kUqdfkfQJjN+NP7Rso/7mQQIzXOw7/gktkwIG34vxqk5+x+jwtAqkYxncERAMCimypBUXrWv3JZPWVfT+2/D6gY2y5+AEB/QTg8037nvxTogahl2/a/2ManOTaNrb+BdQnbgTr4P8JP4O90VOM/xOg8BlxZ7D/UeIKzYlDvv9I2PNUfn9+/7ByvssJM6r/ABCrhOxLMP+BPr23/5+C/GwVSREUz+7+0La77ieTVPzJMJcUhAcO/Ti2AZ1vi/r8Mgwd/AjT2P1Ba6dzioOG/InaXOSFi0z9Mr8lMfIoJQJsBcC3RkeM/ag4GHTRCE0DQzcSp0+H2vxevA30WyfQ/VuDAUcG93r8j+7DRA8rxvzMX2fCSJOm/W9F7koKv3L8yBIzmh23NPwVj6gNxV/S/dKr97cyGCUDIcZH9iLb6PyYVFTVJoAHAO1kCvPOPGED2s7HyaGkcQBQRT7oDiRFAMv1cMvkGxb8jgEXnk670v6OBI2EMuRJA1HWukyZQ6b9qcwtMLOETQBMq+Yg2SOo/9bKaSfNyDEDjcQKctVH5P48Pjm3ZMgZANHbdX6KB0T9/vt7w548dQG6TcxaDgfI/IfaZd0ISAEA=\",\"dtype\":\"float64\",\"shape\":[100]},\"y\":{\"__ndarray__\":\"AAAAAAAA8D8AAAAAAADwPwAAAAAAAPA/AAAAAAAA8D8AAAAAAADwPwAAAAAAAAAAAAAAAAAA8D8AAAAAAAAAAAAAAAAAAAAAAAAAAAAA8D8AAAAAAADwPwAAAAAAAPA/AAAAAAAA8D8AAAAAAADwPwAAAAAAAPA/AAAAAAAA8D8AAAAAAADwPwAAAAAAAAAAAAAAAAAA8D8AAAAAAAAAAAAAAAAAAAAAAAAAAAAA8D8AAAAAAADwPwAAAAAAAAAAAAAAAAAA8D8AAAAAAAAAAAAAAAAAAPA/AAAAAAAAAAAAAAAAAADwPwAAAAAAAPA/AAAAAAAA8D8AAAAAAADwPwAAAAAAAAAAAAAAAAAAAAAAAAAAAAAAAAAAAAAAAPA/AAAAAAAA8D8AAAAAAADwPwAAAAAAAAAAAAAAAAAAAAAAAAAAAAAAAAAAAAAAAAAAAAAAAAAAAAAAAAAAAADwPwAAAAAAAAAAAAAAAAAAAAAAAAAAAAAAAAAAAAAAAPA/AAAAAAAAAAAAAAAAAAAAAAAAAAAAAAAAAAAAAAAA8D8AAAAAAAAAAAAAAAAAAAAAAAAAAAAAAAAAAAAAAADwPwAAAAAAAPA/AAAAAAAA8D8AAAAAAAAAAAAAAAAAAAAAAAAAAAAAAAAAAAAAAAAAAAAAAAAAAAAAAAAAAAAAAAAAAAAAAADwPwAAAAAAAAAAAAAAAAAAAAAAAAAAAADwPwAAAAAAAAAAAAAAAAAA8D8AAAAAAADwPwAAAAAAAPA/AAAAAAAA8D8AAAAAAAAAAAAAAAAAAPA/AAAAAAAAAAAAAAAAAAAAAAAAAAAAAAAAAAAAAAAAAAAAAAAAAADwPwAAAAAAAAAAAAAAAAAA8D8AAAAAAADwPwAAAAAAAAAAAAAAAAAA8D8AAAAAAADwPwAAAAAAAPA/AAAAAAAAAAAAAAAAAAAAAAAAAAAAAPA/AAAAAAAAAAAAAAAAAADwPwAAAAAAAPA/AAAAAAAA8D8AAAAAAADwPwAAAAAAAPA/AAAAAAAA8D8AAAAAAADwPwAAAAAAAPA/AAAAAAAA8D8=\",\"dtype\":\"float64\",\"shape\":[100]}},\"selected\":{\"id\":\"1287\",\"type\":\"Selection\"},\"selection_policy\":{\"id\":\"1288\",\"type\":\"UnionRenderers\"}},\"id\":\"1271\",\"type\":\"ColumnDataSource\"},{\"attributes\":{\"line_alpha\":0.1,\"line_color\":\"#1f77b4\",\"line_width\":3,\"x\":{\"field\":\"x\"},\"y\":{\"field\":\"y\"}},\"id\":\"1293\",\"type\":\"Line\"},{\"attributes\":{\"data_source\":{\"id\":\"1271\",\"type\":\"ColumnDataSource\"},\"glyph\":{\"id\":\"1272\",\"type\":\"Circle\"},\"hover_glyph\":null,\"muted_glyph\":null,\"nonselection_glyph\":{\"id\":\"1273\",\"type\":\"Circle\"},\"selection_glyph\":null,\"view\":{\"id\":\"1275\",\"type\":\"CDSView\"}},\"id\":\"1274\",\"type\":\"GlyphRenderer\"}],\"root_ids\":[\"1238\"]},\"title\":\"Bokeh Application\",\"version\":\"1.2.0\"}};\n",
       "  var render_items = [{\"docid\":\"b5397184-dd66-4a6c-a66a-c2db611a79c3\",\"roots\":{\"1238\":\"f16746a3-72e9-447e-8811-df931552f7a6\"}}];\n",
       "  root.Bokeh.embed.embed_items_notebook(docs_json, render_items);\n",
       "\n",
       "  }\n",
       "  if (root.Bokeh !== undefined) {\n",
       "    embed_document(root);\n",
       "  } else {\n",
       "    var attempts = 0;\n",
       "    var timer = setInterval(function(root) {\n",
       "      if (root.Bokeh !== undefined) {\n",
       "        embed_document(root);\n",
       "        clearInterval(timer);\n",
       "      }\n",
       "      attempts++;\n",
       "      if (attempts > 100) {\n",
       "        console.log(\"Bokeh: ERROR: Unable to run BokehJS code because BokehJS library is missing\");\n",
       "        clearInterval(timer);\n",
       "      }\n",
       "    }, 10, root)\n",
       "  }\n",
       "})(window);"
      ],
      "application/vnd.bokehjs_exec.v0+json": ""
     },
     "metadata": {
      "application/vnd.bokehjs_exec.v0+json": {
       "id": "1238"
      }
     },
     "output_type": "display_data"
    }
   ],
   "source": [
    "# this is our test set, it's just a straight line with some\n",
    "# Gaussian noise\n",
    "xmin, xmax = -5, 5\n",
    "n_samples = 100\n",
    "np.random.seed(0)\n",
    "X = np.random.normal(size=n_samples)\n",
    "y = (X > 0).astype(np.float)\n",
    "X[X > 0] *= 4\n",
    "X += .3 * np.random.normal(size=n_samples)\n",
    "\n",
    "X = X[:, np.newaxis]\n",
    "# run the classifier\n",
    "clf = linear_model.LogisticRegression(C=1e5)\n",
    "clf.fit(X, y)\n",
    "\n",
    "# and plot the result\n",
    "fig = bk.figure(plot_width=630, plot_height=300, title=None)\n",
    "fig.circle(X.ravel(), y,  color='black')\n",
    "X_test = np.linspace(-5, 10, 300)\n",
    "\n",
    "def model(x):\n",
    "    return 1 / (1 + np.exp(-x))\n",
    "\n",
    "loss = model(X_test * clf.coef_ + clf.intercept_).ravel()\n",
    "fig.line(X_test, loss, color='red', line_width=3, \n",
    "         legend='Logistic Regression Model')\n",
    "\n",
    "ols = linear_model.LinearRegression()\n",
    "ols.fit(X, y)\n",
    "\n",
    "fig.line(X_test, ols.coef_ * X_test + ols.intercept_, line_width=3, \n",
    "         legend='Linear Regression Model')\n",
    "\n",
    "fig.x_range=Range1d(-4, 10)\n",
    "fig.y_range=Range1d(-0.25, 1.25)\n",
    "fig.grid.grid_line_color = None\n",
    "fig.axis.minor_tick_out = 0\n",
    "fig.yaxis[0].ticker=FixedTicker(ticks=[0, 0.5, 1])\n",
    "fig.legend.location = \"bottom_right\"\n",
    "bk.show(fig)"
   ]
  },
  {
   "cell_type": "markdown",
   "metadata": {},
   "source": [
    "### 4.4 Multiclass Classification"
   ]
  },
  {
   "cell_type": "markdown",
   "metadata": {},
   "source": [
    "So far we have assumed that the logistic regression can classify problems with an outcome consisting in two classes. It is possible to extend to a multiclass setting, that is, a problem where the discrete output variable can assume more than two values. \n",
    "\n",
    "One simple extension to the basic binary classification is to use a one-vs-all approach, that is turn the problem in three separate problems, each of which is binary."
   ]
  },
  {
   "cell_type": "markdown",
   "metadata": {},
   "source": [
    "<img src=\"images/one_vs_all.png\" alt=\"\" height=\"700\" width=\"700\">"
   ]
  },
  {
   "cell_type": "markdown",
   "metadata": {},
   "source": [
    "Train a logistic regression classifier for each class:\n",
    "\n",
    "$$h_i(x) = P(y=i \\mid x, \\beta) \\quad (i=1,2,3)$$\n",
    "\n",
    "on new input $x$ output the class that maximizes the probability \n",
    "\n",
    "$$\\underset{i}{max} \\, h_i(x)$$"
   ]
  },
  {
   "cell_type": "markdown",
   "metadata": {},
   "source": [
    "---\n",
    "\n",
    "Visit [www.add-for.com](<http://www.add-for.com/>) for more tutorials and updates.\n",
    "\n",
    "This work is licensed under a <a rel=\"license\" href=\"http://creativecommons.org/licenses/by-sa/4.0/\">Creative Commons Attribution-ShareAlike 4.0 International License</a>."
   ]
  }
 ],
 "metadata": {
  "anaconda-cloud": {},
  "kernelspec": {
   "display_name": "Python 3",
   "language": "python",
   "name": "python3"
  },
  "language_info": {
   "codemirror_mode": {
    "name": "ipython",
    "version": 3
   },
   "file_extension": ".py",
   "mimetype": "text/x-python",
   "name": "python",
   "nbconvert_exporter": "python",
   "pygments_lexer": "ipython3",
   "version": "3.7.0"
  }
 },
 "nbformat": 4,
 "nbformat_minor": 1
}
