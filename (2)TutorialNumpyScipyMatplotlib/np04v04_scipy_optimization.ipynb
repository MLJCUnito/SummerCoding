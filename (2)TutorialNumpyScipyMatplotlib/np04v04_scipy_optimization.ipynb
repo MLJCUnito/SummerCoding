{
 "cells": [
  {
   "cell_type": "markdown",
   "metadata": {},
   "source": [
    "# Scipy - Optimization"
   ]
  },
  {
   "cell_type": "code",
   "execution_count": 1,
   "metadata": {},
   "outputs": [
    {
     "data": {
      "text/html": [
       "<div id='toc-container'><script type='text/javascript'>\n",
       "$(function() {\n",
       "    function regenTOC(){\n",
       "        element = $(\"#toc-container\");\n",
       "\n",
       "\tvar toc = document.createElement(\"div\");\n",
       "\t$(toc).attr(\"class\", \"table-of-contents\");\n",
       "\n",
       "\tvar curLevel = 0;\n",
       "\tvar containerStack = [toc];\n",
       "\tvar levelOfTag = {\"h2\": 1, \"h3\": 2, \"h4\": 3, \"h5\": 4};\n",
       "\n",
       "\tfunction pushLevel() {\n",
       "            var list = document.createElement(\"ul\");\n",
       "            containerStack.push(list);\n",
       "            curLevel++;\n",
       "\t}\n",
       "\t\n",
       "\tfunction popLevel() {\n",
       "            var lastContainer = containerStack.pop();\n",
       "            $(lastContainer).appendTo(containerStack[containerStack.length - 1]);\n",
       "            curLevel--;\n",
       "\t}\n",
       "\t\n",
       "\t$(\".text_cell_render :header\").each(function (i, elem) {\n",
       "            var level = levelOfTag[ elem.tagName.toLowerCase() ];\n",
       "\n",
       "            if (level === undefined)\n",
       "\t\treturn;\n",
       "\n",
       "            while (curLevel < level)\n",
       "\t\tpushLevel();\n",
       "            while (curLevel > level)\n",
       "\t\tpopLevel();\n",
       "            \n",
       "            var listItem = document.createElement(\"li\");\n",
       "            var link = document.createElement(\"a\");\n",
       "            $(link)\n",
       "\t\t.text($(elem).contents().first().text()) // Remove the pilcrow sign\n",
       "\t\t.attr(\"href\", \"#\" + $(elem).attr(\"id\"))\n",
       "\t\t.appendTo(listItem);\n",
       "            $(listItem).appendTo(containerStack[containerStack.length - 1]);\n",
       "\t});\n",
       "\t\n",
       "\twhile (curLevel > 0)\n",
       "            popLevel();\n",
       "\n",
       "        $(\"<a class='btn-update' href='#'>Update</a>\")\n",
       "          .click(regenTOC).prependTo(toc);\n",
       "\n",
       "\t$(toc).prepend(\"<div class='title'>Contents</div>\")\n",
       "          .wrap(\"<div class='toc-headings'/>\");\n",
       "\n",
       "        $(element).empty();\n",
       "        $(element).append(toc);\n",
       "    }\n",
       "\n",
       "    if (typeof(IPython) !== 'undefined')\n",
       "        $([IPython.events]).on('notebook_loaded.Notebook', regenTOC);\n",
       "    regenTOC();\n",
       "});\n",
       "\n",
       "</script></div>"
      ],
      "text/plain": [
       "<IPython.core.display.HTML object>"
      ]
     },
     "execution_count": 1,
     "metadata": {},
     "output_type": "execute_result"
    }
   ],
   "source": [
    "import addutils.toc ; addutils.toc.js(ipy_notebook=True)"
   ]
  },
  {
   "cell_type": "code",
   "execution_count": 2,
   "metadata": {},
   "outputs": [
    {
     "data": {
      "text/html": [
       "<style>\n",
       ".text_cell_render @font-face {\n",
       "    font-family: \"Computer Modern\";\n",
       "    src: url('http://mirrors.ctan.org/fonts/cm-unicode/fonts/otf/cmunss.otf');\n",
       "}\n",
       "\n",
       "div.cell {\n",
       "    width: 900px;\n",
       "    margin-left: 0% !important;\n",
       "    margin-right: 0%;\n",
       "}\n",
       "\n",
       "code {\n",
       "    font-size:10pt;\n",
       "}\n",
       "\n",
       ".text_cell_render  h1 {\n",
       "    font-family: Tahoma, sans-serif;\n",
       "    color: rgb( 10, 88, 126 );\n",
       "    font-size:28pt;\n",
       "}\n",
       ".text_cell_render h2 {\n",
       "    font-family: Tahoma, sans-serif;\n",
       "    color: rgb( 10, 88, 126 );\n",
       "    font-size:24pt;\n",
       "}\n",
       ".text_cell_render h3 {\n",
       "    font-family: Tahoma, sans-serif;\n",
       "    color: rgb( 10, 88, 126 );\n",
       "    font-size:20pt;\n",
       "}\n",
       ".text_cell_render h4 {\n",
       "    font-family: Tahoma, sans-serif;\n",
       "    color: rgb( 10, 88, 126 );\n",
       "    font-size:18pt;\n",
       "    margin-top:12px;\n",
       "    margin-bottom: 3px;\n",
       "}\n",
       "\n",
       ".text_cell_render h5 {\n",
       "    font-weight: 300;\n",
       "    font-size: 11pt;\n",
       "    color: rgb( 48, 48, 48 );\n",
       "    font-style: italic;\n",
       "    margin-bottom: .5em;\n",
       "    margin-top: 0.5em;\n",
       "    display: block;\n",
       "}\n",
       "\n",
       ".text_cell_render ul {\n",
       "    font-family: Tahoma, sans-serif;\n",
       "    color: rgb( 90, 90, 90 );\n",
       "    font-size:11pt;\n",
       "    line-height: 185%;\n",
       "}\n",
       "\n",
       ".text_cell_render yp {\n",
       "    font-family: Tahoma, sans-serif;\n",
       "    color: rgb( 90, 90, 90 );\n",
       "    font-size:11pt;\n",
       "}\n",
       "\n",
       ".text_cell_render strong {\n",
       "    font-family: Tahoma, sans-serif;\n",
       "    color: rgb( 30, 30, 30 );\n",
       "    font-size:11pt;\n",
       "}\n",
       "\n",
       ".text_cell_render a:link {\n",
       "    font-family: Tahoma, sans-serif;\n",
       "    color: rgb( 10, 88, 126 );\n",
       "    font-size:11pt;\n",
       "}\n",
       "\n",
       ".text_cell_render a:visited {\n",
       "    color:rgb( 10, 88, 126 );\n",
       "}\n",
       "\n",
       ".text_cell_render {\n",
       "    font-family: Helvetica, Courier, Computer Modern, \"Helvetica Neue\", Arial, Geneva, sans-serif;\n",
       "    color: rgb( 84, 84, 84 );\n",
       "    font-size:11pt;\n",
       "    line-height: 125%;\n",
       "    font-size: 100%;\n",
       "    width:800px;\n",
       "}\n",
       "\n",
       ".CodeMirror {\n",
       "    font-family: Courier, \"Source Code Pro\", source-code-pro,Consolas, monospace;\n",
       "}\n",
       "\n",
       ".warning {\n",
       "    color: rgb( 240, 20, 20 );\n",
       "}\n",
       "\n",
       "/* Pandas tables */\n",
       "/*\n",
       ".rendered_html td {\n",
       "    text-align: right;\n",
       "}\n",
       "*/\n",
       "\n",
       "table.dataframe td {\n",
       "    text-align: right;\n",
       "}\n",
       "\n",
       ".output .table-of-contents {\n",
       "    border: 1px #cecece solid;\n",
       "    background-color: #fafafa;\n",
       "    padding-top: 10px;\n",
       "    padding-bottom: 5px;\n",
       "    padding-right: 15px;\n",
       "    padding-left: 0px;\n",
       "    margin-bottom: 20px;\n",
       "    display: inline-block;\n",
       "    position: relative;\n",
       "}\n",
       "\n",
       ".output .table-of-contents ul {\n",
       "    list-style-type: none;\n",
       "    padding-left: 20px;\n",
       "}\n",
       "\n",
       ".output .table-of-contents .title {\n",
       "    font-weight: bold;\n",
       "    font-height: 11pt;\n",
       "    padding-left: 20px; /* looks better if it's the same to the <ul> */\n",
       "}\n",
       "\n",
       ".output .table-of-contents .btn-update {\n",
       "    position: absolute;\n",
       "    float: right;\n",
       "    right: 11px;\n",
       "    top: 4px;\n",
       "    font-size: 9pt;\n",
       "}\n",
       "\n",
       "</style>\n",
       "<script>\n",
       "    MathJax.Hub.Config({\n",
       "                        TeX: {\n",
       "                           extensions: [\"AMSmath.js\"]\n",
       "                           },\n",
       "                displayAlign: 'center', // Change this to 'center' to center equations.\n",
       "                \"HTML-CSS\": {\n",
       "                    styles: {'.MathJax_Display': {\"margin\": 4}}\n",
       "                }\n",
       "        });\n",
       "</script>\n"
      ],
      "text/plain": [
       "<IPython.core.display.HTML object>"
      ]
     },
     "execution_count": 2,
     "metadata": {},
     "output_type": "execute_result"
    }
   ],
   "source": [
    "import bokeh.plotting as bk\n",
    "from addutils import css_notebook\n",
    "css_notebook()"
   ]
  },
  {
   "cell_type": "code",
   "execution_count": 3,
   "metadata": {},
   "outputs": [
    {
     "data": {
      "text/html": [
       "\n",
       "    <div class=\"bk-root\">\n",
       "        <a href=\"https://bokeh.pydata.org\" target=\"_blank\" class=\"bk-logo bk-logo-small bk-logo-notebook\"></a>\n",
       "        <span id=\"1001\">Loading BokehJS ...</span>\n",
       "    </div>"
      ]
     },
     "metadata": {},
     "output_type": "display_data"
    },
    {
     "data": {
      "application/javascript": [
       "\n",
       "(function(root) {\n",
       "  function now() {\n",
       "    return new Date();\n",
       "  }\n",
       "\n",
       "  var force = true;\n",
       "\n",
       "  if (typeof root._bokeh_onload_callbacks === \"undefined\" || force === true) {\n",
       "    root._bokeh_onload_callbacks = [];\n",
       "    root._bokeh_is_loading = undefined;\n",
       "  }\n",
       "\n",
       "  var JS_MIME_TYPE = 'application/javascript';\n",
       "  var HTML_MIME_TYPE = 'text/html';\n",
       "  var EXEC_MIME_TYPE = 'application/vnd.bokehjs_exec.v0+json';\n",
       "  var CLASS_NAME = 'output_bokeh rendered_html';\n",
       "\n",
       "  /**\n",
       "   * Render data to the DOM node\n",
       "   */\n",
       "  function render(props, node) {\n",
       "    var script = document.createElement(\"script\");\n",
       "    node.appendChild(script);\n",
       "  }\n",
       "\n",
       "  /**\n",
       "   * Handle when an output is cleared or removed\n",
       "   */\n",
       "  function handleClearOutput(event, handle) {\n",
       "    var cell = handle.cell;\n",
       "\n",
       "    var id = cell.output_area._bokeh_element_id;\n",
       "    var server_id = cell.output_area._bokeh_server_id;\n",
       "    // Clean up Bokeh references\n",
       "    if (id != null && id in Bokeh.index) {\n",
       "      Bokeh.index[id].model.document.clear();\n",
       "      delete Bokeh.index[id];\n",
       "    }\n",
       "\n",
       "    if (server_id !== undefined) {\n",
       "      // Clean up Bokeh references\n",
       "      var cmd = \"from bokeh.io.state import curstate; print(curstate().uuid_to_server['\" + server_id + \"'].get_sessions()[0].document.roots[0]._id)\";\n",
       "      cell.notebook.kernel.execute(cmd, {\n",
       "        iopub: {\n",
       "          output: function(msg) {\n",
       "            var id = msg.content.text.trim();\n",
       "            if (id in Bokeh.index) {\n",
       "              Bokeh.index[id].model.document.clear();\n",
       "              delete Bokeh.index[id];\n",
       "            }\n",
       "          }\n",
       "        }\n",
       "      });\n",
       "      // Destroy server and session\n",
       "      var cmd = \"import bokeh.io.notebook as ion; ion.destroy_server('\" + server_id + \"')\";\n",
       "      cell.notebook.kernel.execute(cmd);\n",
       "    }\n",
       "  }\n",
       "\n",
       "  /**\n",
       "   * Handle when a new output is added\n",
       "   */\n",
       "  function handleAddOutput(event, handle) {\n",
       "    var output_area = handle.output_area;\n",
       "    var output = handle.output;\n",
       "\n",
       "    // limit handleAddOutput to display_data with EXEC_MIME_TYPE content only\n",
       "    if ((output.output_type != \"display_data\") || (!output.data.hasOwnProperty(EXEC_MIME_TYPE))) {\n",
       "      return\n",
       "    }\n",
       "\n",
       "    var toinsert = output_area.element.find(\".\" + CLASS_NAME.split(' ')[0]);\n",
       "\n",
       "    if (output.metadata[EXEC_MIME_TYPE][\"id\"] !== undefined) {\n",
       "      toinsert[toinsert.length - 1].firstChild.textContent = output.data[JS_MIME_TYPE];\n",
       "      // store reference to embed id on output_area\n",
       "      output_area._bokeh_element_id = output.metadata[EXEC_MIME_TYPE][\"id\"];\n",
       "    }\n",
       "    if (output.metadata[EXEC_MIME_TYPE][\"server_id\"] !== undefined) {\n",
       "      var bk_div = document.createElement(\"div\");\n",
       "      bk_div.innerHTML = output.data[HTML_MIME_TYPE];\n",
       "      var script_attrs = bk_div.children[0].attributes;\n",
       "      for (var i = 0; i < script_attrs.length; i++) {\n",
       "        toinsert[toinsert.length - 1].firstChild.setAttribute(script_attrs[i].name, script_attrs[i].value);\n",
       "      }\n",
       "      // store reference to server id on output_area\n",
       "      output_area._bokeh_server_id = output.metadata[EXEC_MIME_TYPE][\"server_id\"];\n",
       "    }\n",
       "  }\n",
       "\n",
       "  function register_renderer(events, OutputArea) {\n",
       "\n",
       "    function append_mime(data, metadata, element) {\n",
       "      // create a DOM node to render to\n",
       "      var toinsert = this.create_output_subarea(\n",
       "        metadata,\n",
       "        CLASS_NAME,\n",
       "        EXEC_MIME_TYPE\n",
       "      );\n",
       "      this.keyboard_manager.register_events(toinsert);\n",
       "      // Render to node\n",
       "      var props = {data: data, metadata: metadata[EXEC_MIME_TYPE]};\n",
       "      render(props, toinsert[toinsert.length - 1]);\n",
       "      element.append(toinsert);\n",
       "      return toinsert\n",
       "    }\n",
       "\n",
       "    /* Handle when an output is cleared or removed */\n",
       "    events.on('clear_output.CodeCell', handleClearOutput);\n",
       "    events.on('delete.Cell', handleClearOutput);\n",
       "\n",
       "    /* Handle when a new output is added */\n",
       "    events.on('output_added.OutputArea', handleAddOutput);\n",
       "\n",
       "    /**\n",
       "     * Register the mime type and append_mime function with output_area\n",
       "     */\n",
       "    OutputArea.prototype.register_mime_type(EXEC_MIME_TYPE, append_mime, {\n",
       "      /* Is output safe? */\n",
       "      safe: true,\n",
       "      /* Index of renderer in `output_area.display_order` */\n",
       "      index: 0\n",
       "    });\n",
       "  }\n",
       "\n",
       "  // register the mime type if in Jupyter Notebook environment and previously unregistered\n",
       "  if (root.Jupyter !== undefined) {\n",
       "    var events = require('base/js/events');\n",
       "    var OutputArea = require('notebook/js/outputarea').OutputArea;\n",
       "\n",
       "    if (OutputArea.prototype.mime_types().indexOf(EXEC_MIME_TYPE) == -1) {\n",
       "      register_renderer(events, OutputArea);\n",
       "    }\n",
       "  }\n",
       "\n",
       "  \n",
       "  if (typeof (root._bokeh_timeout) === \"undefined\" || force === true) {\n",
       "    root._bokeh_timeout = Date.now() + 5000;\n",
       "    root._bokeh_failed_load = false;\n",
       "  }\n",
       "\n",
       "  var NB_LOAD_WARNING = {'data': {'text/html':\n",
       "     \"<div style='background-color: #fdd'>\\n\"+\n",
       "     \"<p>\\n\"+\n",
       "     \"BokehJS does not appear to have successfully loaded. If loading BokehJS from CDN, this \\n\"+\n",
       "     \"may be due to a slow or bad network connection. Possible fixes:\\n\"+\n",
       "     \"</p>\\n\"+\n",
       "     \"<ul>\\n\"+\n",
       "     \"<li>re-rerun `output_notebook()` to attempt to load from CDN again, or</li>\\n\"+\n",
       "     \"<li>use INLINE resources instead, as so:</li>\\n\"+\n",
       "     \"</ul>\\n\"+\n",
       "     \"<code>\\n\"+\n",
       "     \"from bokeh.resources import INLINE\\n\"+\n",
       "     \"output_notebook(resources=INLINE)\\n\"+\n",
       "     \"</code>\\n\"+\n",
       "     \"</div>\"}};\n",
       "\n",
       "  function display_loaded() {\n",
       "    var el = document.getElementById(\"1001\");\n",
       "    if (el != null) {\n",
       "      el.textContent = \"BokehJS is loading...\";\n",
       "    }\n",
       "    if (root.Bokeh !== undefined) {\n",
       "      if (el != null) {\n",
       "        el.textContent = \"BokehJS \" + root.Bokeh.version + \" successfully loaded.\";\n",
       "      }\n",
       "    } else if (Date.now() < root._bokeh_timeout) {\n",
       "      setTimeout(display_loaded, 100)\n",
       "    }\n",
       "  }\n",
       "\n",
       "\n",
       "  function run_callbacks() {\n",
       "    try {\n",
       "      root._bokeh_onload_callbacks.forEach(function(callback) {\n",
       "        if (callback != null)\n",
       "          callback();\n",
       "      });\n",
       "    } finally {\n",
       "      delete root._bokeh_onload_callbacks\n",
       "    }\n",
       "    console.debug(\"Bokeh: all callbacks have finished\");\n",
       "  }\n",
       "\n",
       "  function load_libs(css_urls, js_urls, callback) {\n",
       "    if (css_urls == null) css_urls = [];\n",
       "    if (js_urls == null) js_urls = [];\n",
       "\n",
       "    root._bokeh_onload_callbacks.push(callback);\n",
       "    if (root._bokeh_is_loading > 0) {\n",
       "      console.debug(\"Bokeh: BokehJS is being loaded, scheduling callback at\", now());\n",
       "      return null;\n",
       "    }\n",
       "    if (js_urls == null || js_urls.length === 0) {\n",
       "      run_callbacks();\n",
       "      return null;\n",
       "    }\n",
       "    console.debug(\"Bokeh: BokehJS not loaded, scheduling load and callback at\", now());\n",
       "    root._bokeh_is_loading = css_urls.length + js_urls.length;\n",
       "\n",
       "    function on_load() {\n",
       "      root._bokeh_is_loading--;\n",
       "      if (root._bokeh_is_loading === 0) {\n",
       "        console.debug(\"Bokeh: all BokehJS libraries/stylesheets loaded\");\n",
       "        run_callbacks()\n",
       "      }\n",
       "    }\n",
       "\n",
       "    function on_error() {\n",
       "      console.error(\"failed to load \" + url);\n",
       "    }\n",
       "\n",
       "    for (var i = 0; i < css_urls.length; i++) {\n",
       "      var url = css_urls[i];\n",
       "      const element = document.createElement(\"link\");\n",
       "      element.onload = on_load;\n",
       "      element.onerror = on_error;\n",
       "      element.rel = \"stylesheet\";\n",
       "      element.type = \"text/css\";\n",
       "      element.href = url;\n",
       "      console.debug(\"Bokeh: injecting link tag for BokehJS stylesheet: \", url);\n",
       "      document.body.appendChild(element);\n",
       "    }\n",
       "\n",
       "    for (var i = 0; i < js_urls.length; i++) {\n",
       "      var url = js_urls[i];\n",
       "      var element = document.createElement('script');\n",
       "      element.onload = on_load;\n",
       "      element.onerror = on_error;\n",
       "      element.async = false;\n",
       "      element.src = url;\n",
       "      console.debug(\"Bokeh: injecting script tag for BokehJS library: \", url);\n",
       "      document.head.appendChild(element);\n",
       "    }\n",
       "  };var element = document.getElementById(\"1001\");\n",
       "  if (element == null) {\n",
       "    console.error(\"Bokeh: ERROR: autoload.js configured with elementid '1001' but no matching script tag was found. \")\n",
       "    return false;\n",
       "  }\n",
       "\n",
       "  function inject_raw_css(css) {\n",
       "    const element = document.createElement(\"style\");\n",
       "    element.appendChild(document.createTextNode(css));\n",
       "    document.body.appendChild(element);\n",
       "  }\n",
       "\n",
       "  var js_urls = [\"https://cdn.pydata.org/bokeh/release/bokeh-1.2.0.min.js\", \"https://cdn.pydata.org/bokeh/release/bokeh-widgets-1.2.0.min.js\", \"https://cdn.pydata.org/bokeh/release/bokeh-tables-1.2.0.min.js\", \"https://cdn.pydata.org/bokeh/release/bokeh-gl-1.2.0.min.js\"];\n",
       "  var css_urls = [\"https://cdn.pydata.org/bokeh/release/bokeh-1.2.0.min.css\", \"https://cdn.pydata.org/bokeh/release/bokeh-widgets-1.2.0.min.css\", \"https://cdn.pydata.org/bokeh/release/bokeh-tables-1.2.0.min.css\"];\n",
       "\n",
       "  var inline_js = [\n",
       "    function(Bokeh) {\n",
       "      Bokeh.set_log_level(\"info\");\n",
       "    },\n",
       "    \n",
       "    function(Bokeh) {\n",
       "      \n",
       "    },\n",
       "    function(Bokeh) {} // ensure no trailing comma for IE\n",
       "  ];\n",
       "\n",
       "  function run_inline_js() {\n",
       "    \n",
       "    if ((root.Bokeh !== undefined) || (force === true)) {\n",
       "      for (var i = 0; i < inline_js.length; i++) {\n",
       "        inline_js[i].call(root, root.Bokeh);\n",
       "      }if (force === true) {\n",
       "        display_loaded();\n",
       "      }} else if (Date.now() < root._bokeh_timeout) {\n",
       "      setTimeout(run_inline_js, 100);\n",
       "    } else if (!root._bokeh_failed_load) {\n",
       "      console.log(\"Bokeh: BokehJS failed to load within specified timeout.\");\n",
       "      root._bokeh_failed_load = true;\n",
       "    } else if (force !== true) {\n",
       "      var cell = $(document.getElementById(\"1001\")).parents('.cell').data().cell;\n",
       "      cell.output_area.append_execute_result(NB_LOAD_WARNING)\n",
       "    }\n",
       "\n",
       "  }\n",
       "\n",
       "  if (root._bokeh_is_loading === 0) {\n",
       "    console.debug(\"Bokeh: BokehJS loaded, going straight to plotting\");\n",
       "    run_inline_js();\n",
       "  } else {\n",
       "    load_libs(css_urls, js_urls, function() {\n",
       "      console.debug(\"Bokeh: BokehJS plotting callback run at\", now());\n",
       "      run_inline_js();\n",
       "    });\n",
       "  }\n",
       "}(window));"
      ],
      "application/vnd.bokehjs_load.v0+json": "\n(function(root) {\n  function now() {\n    return new Date();\n  }\n\n  var force = true;\n\n  if (typeof root._bokeh_onload_callbacks === \"undefined\" || force === true) {\n    root._bokeh_onload_callbacks = [];\n    root._bokeh_is_loading = undefined;\n  }\n\n  \n\n  \n  if (typeof (root._bokeh_timeout) === \"undefined\" || force === true) {\n    root._bokeh_timeout = Date.now() + 5000;\n    root._bokeh_failed_load = false;\n  }\n\n  var NB_LOAD_WARNING = {'data': {'text/html':\n     \"<div style='background-color: #fdd'>\\n\"+\n     \"<p>\\n\"+\n     \"BokehJS does not appear to have successfully loaded. If loading BokehJS from CDN, this \\n\"+\n     \"may be due to a slow or bad network connection. Possible fixes:\\n\"+\n     \"</p>\\n\"+\n     \"<ul>\\n\"+\n     \"<li>re-rerun `output_notebook()` to attempt to load from CDN again, or</li>\\n\"+\n     \"<li>use INLINE resources instead, as so:</li>\\n\"+\n     \"</ul>\\n\"+\n     \"<code>\\n\"+\n     \"from bokeh.resources import INLINE\\n\"+\n     \"output_notebook(resources=INLINE)\\n\"+\n     \"</code>\\n\"+\n     \"</div>\"}};\n\n  function display_loaded() {\n    var el = document.getElementById(\"1001\");\n    if (el != null) {\n      el.textContent = \"BokehJS is loading...\";\n    }\n    if (root.Bokeh !== undefined) {\n      if (el != null) {\n        el.textContent = \"BokehJS \" + root.Bokeh.version + \" successfully loaded.\";\n      }\n    } else if (Date.now() < root._bokeh_timeout) {\n      setTimeout(display_loaded, 100)\n    }\n  }\n\n\n  function run_callbacks() {\n    try {\n      root._bokeh_onload_callbacks.forEach(function(callback) {\n        if (callback != null)\n          callback();\n      });\n    } finally {\n      delete root._bokeh_onload_callbacks\n    }\n    console.debug(\"Bokeh: all callbacks have finished\");\n  }\n\n  function load_libs(css_urls, js_urls, callback) {\n    if (css_urls == null) css_urls = [];\n    if (js_urls == null) js_urls = [];\n\n    root._bokeh_onload_callbacks.push(callback);\n    if (root._bokeh_is_loading > 0) {\n      console.debug(\"Bokeh: BokehJS is being loaded, scheduling callback at\", now());\n      return null;\n    }\n    if (js_urls == null || js_urls.length === 0) {\n      run_callbacks();\n      return null;\n    }\n    console.debug(\"Bokeh: BokehJS not loaded, scheduling load and callback at\", now());\n    root._bokeh_is_loading = css_urls.length + js_urls.length;\n\n    function on_load() {\n      root._bokeh_is_loading--;\n      if (root._bokeh_is_loading === 0) {\n        console.debug(\"Bokeh: all BokehJS libraries/stylesheets loaded\");\n        run_callbacks()\n      }\n    }\n\n    function on_error() {\n      console.error(\"failed to load \" + url);\n    }\n\n    for (var i = 0; i < css_urls.length; i++) {\n      var url = css_urls[i];\n      const element = document.createElement(\"link\");\n      element.onload = on_load;\n      element.onerror = on_error;\n      element.rel = \"stylesheet\";\n      element.type = \"text/css\";\n      element.href = url;\n      console.debug(\"Bokeh: injecting link tag for BokehJS stylesheet: \", url);\n      document.body.appendChild(element);\n    }\n\n    for (var i = 0; i < js_urls.length; i++) {\n      var url = js_urls[i];\n      var element = document.createElement('script');\n      element.onload = on_load;\n      element.onerror = on_error;\n      element.async = false;\n      element.src = url;\n      console.debug(\"Bokeh: injecting script tag for BokehJS library: \", url);\n      document.head.appendChild(element);\n    }\n  };var element = document.getElementById(\"1001\");\n  if (element == null) {\n    console.error(\"Bokeh: ERROR: autoload.js configured with elementid '1001' but no matching script tag was found. \")\n    return false;\n  }\n\n  function inject_raw_css(css) {\n    const element = document.createElement(\"style\");\n    element.appendChild(document.createTextNode(css));\n    document.body.appendChild(element);\n  }\n\n  var js_urls = [\"https://cdn.pydata.org/bokeh/release/bokeh-1.2.0.min.js\", \"https://cdn.pydata.org/bokeh/release/bokeh-widgets-1.2.0.min.js\", \"https://cdn.pydata.org/bokeh/release/bokeh-tables-1.2.0.min.js\", \"https://cdn.pydata.org/bokeh/release/bokeh-gl-1.2.0.min.js\"];\n  var css_urls = [\"https://cdn.pydata.org/bokeh/release/bokeh-1.2.0.min.css\", \"https://cdn.pydata.org/bokeh/release/bokeh-widgets-1.2.0.min.css\", \"https://cdn.pydata.org/bokeh/release/bokeh-tables-1.2.0.min.css\"];\n\n  var inline_js = [\n    function(Bokeh) {\n      Bokeh.set_log_level(\"info\");\n    },\n    \n    function(Bokeh) {\n      \n    },\n    function(Bokeh) {} // ensure no trailing comma for IE\n  ];\n\n  function run_inline_js() {\n    \n    if ((root.Bokeh !== undefined) || (force === true)) {\n      for (var i = 0; i < inline_js.length; i++) {\n        inline_js[i].call(root, root.Bokeh);\n      }if (force === true) {\n        display_loaded();\n      }} else if (Date.now() < root._bokeh_timeout) {\n      setTimeout(run_inline_js, 100);\n    } else if (!root._bokeh_failed_load) {\n      console.log(\"Bokeh: BokehJS failed to load within specified timeout.\");\n      root._bokeh_failed_load = true;\n    } else if (force !== true) {\n      var cell = $(document.getElementById(\"1001\")).parents('.cell').data().cell;\n      cell.output_area.append_execute_result(NB_LOAD_WARNING)\n    }\n\n  }\n\n  if (root._bokeh_is_loading === 0) {\n    console.debug(\"Bokeh: BokehJS loaded, going straight to plotting\");\n    run_inline_js();\n  } else {\n    load_libs(css_urls, js_urls, function() {\n      console.debug(\"Bokeh: BokehJS plotting callback run at\", now());\n      run_inline_js();\n    });\n  }\n}(window));"
     },
     "metadata": {},
     "output_type": "display_data"
    }
   ],
   "source": [
    "bk.output_notebook()"
   ]
  },
  {
   "cell_type": "markdown",
   "metadata": {},
   "source": [
    "## 1 Brief Introduction to Optimization"
   ]
  },
  {
   "cell_type": "markdown",
   "metadata": {},
   "source": [
    "### 1.1 Dimensionality of the problem"
   ]
  },
  {
   "cell_type": "markdown",
   "metadata": {},
   "source": [
    "The scale of an optimization problem is pretty much set by the dimensionality of the problem, i.e. the number of scalar variables on which the search is performed."
   ]
  },
  {
   "cell_type": "markdown",
   "metadata": {},
   "source": [
    "### 1.2 Convex versus non-convex optimization"
   ]
  },
  {
   "cell_type": "markdown",
   "metadata": {},
   "source": [
    "Convex functions can be optimized easily with gradient-descent algorithms. Non-convex functions optimization problems are much more difficult, expecially for higher dimensionality problems. This second class of optimization problems are not analyzed in this brief tutorial but are part of a specialised course."
   ]
  },
  {
   "cell_type": "markdown",
   "metadata": {},
   "source": [
    "<div style=\"float:left;\"><img src=\"images/convex_function.png\"><br />Convex function</div>\n",
    "<div><img src=\"images/non_convex_function.png\"><br />Non Convex Function</div>"
   ]
  },
  {
   "cell_type": "markdown",
   "metadata": {},
   "source": [
    "### 1.3 Smooth and non-smooth problems"
   ]
  },
  {
   "cell_type": "markdown",
   "metadata": {},
   "source": [
    "In a smooth problem the gradient is defined everywhere: this helps in speeding-up the optimization algorithms."
   ]
  },
  {
   "cell_type": "markdown",
   "metadata": {},
   "source": [
    "<div style=\"float:left;\"><img src=\"images/smooth_function.png\"><br />Smooth function</div>\n",
    "<div><img src=\"images/non_smooth_function.png\"><br />Non Smooth Function</div>"
   ]
  },
  {
   "cell_type": "markdown",
   "metadata": {},
   "source": [
    "## 2 A Simpe Optimization Example"
   ]
  },
  {
   "cell_type": "markdown",
   "metadata": {},
   "source": [
    "The `scipy.optimize` module provides useful algorithms for function minimization (scalar or multi-dimensional), curve fitting and root finding.\n",
    "\n",
    "Let's find the minimum of this simple smooth non-convex function:"
   ]
  },
  {
   "cell_type": "code",
   "execution_count": 4,
   "metadata": {},
   "outputs": [
    {
     "data": {
      "text/html": [
       "\n",
       "\n",
       "\n",
       "\n",
       "\n",
       "\n",
       "  <div class=\"bk-root\" id=\"c164ee77-b7df-4f33-a35d-e8d30142e44d\" data-root-id=\"1002\"></div>\n"
      ]
     },
     "metadata": {},
     "output_type": "display_data"
    },
    {
     "data": {
      "application/javascript": [
       "(function(root) {\n",
       "  function embed_document(root) {\n",
       "    \n",
       "  var docs_json = {\"d37a1f34-c33e-4ac3-b985-1a70402cf78c\":{\"roots\":{\"references\":[{\"attributes\":{\"below\":[{\"id\":\"1011\",\"type\":\"LinearAxis\"}],\"center\":[{\"id\":\"1015\",\"type\":\"Grid\"},{\"id\":\"1020\",\"type\":\"Grid\"}],\"left\":[{\"id\":\"1016\",\"type\":\"LinearAxis\"}],\"renderers\":[{\"id\":\"1037\",\"type\":\"GlyphRenderer\"}],\"title\":{\"id\":\"1039\",\"type\":\"Title\"},\"toolbar\":{\"id\":\"1027\",\"type\":\"Toolbar\"},\"x_range\":{\"id\":\"1003\",\"type\":\"DataRange1d\"},\"x_scale\":{\"id\":\"1007\",\"type\":\"LinearScale\"},\"y_range\":{\"id\":\"1005\",\"type\":\"DataRange1d\"},\"y_scale\":{\"id\":\"1009\",\"type\":\"LinearScale\"}},\"id\":\"1002\",\"subtype\":\"Figure\",\"type\":\"Plot\"},{\"attributes\":{\"line_alpha\":0.1,\"line_color\":\"#1f77b4\",\"x\":{\"field\":\"x\"},\"y\":{\"field\":\"y\"}},\"id\":\"1036\",\"type\":\"Line\"},{\"attributes\":{},\"id\":\"1021\",\"type\":\"PanTool\"},{\"attributes\":{},\"id\":\"1022\",\"type\":\"WheelZoomTool\"},{\"attributes\":{\"overlay\":{\"id\":\"1045\",\"type\":\"BoxAnnotation\"}},\"id\":\"1023\",\"type\":\"BoxZoomTool\"},{\"attributes\":{},\"id\":\"1024\",\"type\":\"SaveTool\"},{\"attributes\":{\"callback\":null,\"data\":{\"x\":{\"__ndarray__\":\"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\",\"dtype\":\"float64\",\"shape\":[200]},\"y\":{\"__ndarray__\":\"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\",\"dtype\":\"float64\",\"shape\":[200]}},\"selected\":{\"id\":\"1046\",\"type\":\"Selection\"},\"selection_policy\":{\"id\":\"1047\",\"type\":\"UnionRenderers\"}},\"id\":\"1034\",\"type\":\"ColumnDataSource\"},{\"attributes\":{},\"id\":\"1025\",\"type\":\"ResetTool\"},{\"attributes\":{},\"id\":\"1026\",\"type\":\"HelpTool\"},{\"attributes\":{\"callback\":null},\"id\":\"1003\",\"type\":\"DataRange1d\"},{\"attributes\":{\"active_drag\":\"auto\",\"active_inspect\":\"auto\",\"active_multi\":null,\"active_scroll\":\"auto\",\"active_tap\":\"auto\",\"tools\":[{\"id\":\"1021\",\"type\":\"PanTool\"},{\"id\":\"1022\",\"type\":\"WheelZoomTool\"},{\"id\":\"1023\",\"type\":\"BoxZoomTool\"},{\"id\":\"1024\",\"type\":\"SaveTool\"},{\"id\":\"1025\",\"type\":\"ResetTool\"},{\"id\":\"1026\",\"type\":\"HelpTool\"}]},\"id\":\"1027\",\"type\":\"Toolbar\"},{\"attributes\":{\"callback\":null},\"id\":\"1005\",\"type\":\"DataRange1d\"},{\"attributes\":{},\"id\":\"1007\",\"type\":\"LinearScale\"},{\"attributes\":{\"data_source\":{\"id\":\"1034\",\"type\":\"ColumnDataSource\"},\"glyph\":{\"id\":\"1035\",\"type\":\"Line\"},\"hover_glyph\":null,\"muted_glyph\":null,\"nonselection_glyph\":{\"id\":\"1036\",\"type\":\"Line\"},\"selection_glyph\":null,\"view\":{\"id\":\"1038\",\"type\":\"CDSView\"}},\"id\":\"1037\",\"type\":\"GlyphRenderer\"},{\"attributes\":{},\"id\":\"1009\",\"type\":\"LinearScale\"},{\"attributes\":{\"line_color\":\"#1f77b4\",\"x\":{\"field\":\"x\"},\"y\":{\"field\":\"y\"}},\"id\":\"1035\",\"type\":\"Line\"},{\"attributes\":{\"source\":{\"id\":\"1034\",\"type\":\"ColumnDataSource\"}},\"id\":\"1038\",\"type\":\"CDSView\"},{\"attributes\":{\"formatter\":{\"id\":\"1044\",\"type\":\"BasicTickFormatter\"},\"ticker\":{\"id\":\"1012\",\"type\":\"BasicTicker\"}},\"id\":\"1011\",\"type\":\"LinearAxis\"},{\"attributes\":{},\"id\":\"1012\",\"type\":\"BasicTicker\"},{\"attributes\":{},\"id\":\"1042\",\"type\":\"BasicTickFormatter\"},{\"attributes\":{\"ticker\":{\"id\":\"1012\",\"type\":\"BasicTicker\"}},\"id\":\"1015\",\"type\":\"Grid\"},{\"attributes\":{},\"id\":\"1044\",\"type\":\"BasicTickFormatter\"},{\"attributes\":{\"formatter\":{\"id\":\"1042\",\"type\":\"BasicTickFormatter\"},\"ticker\":{\"id\":\"1017\",\"type\":\"BasicTicker\"}},\"id\":\"1016\",\"type\":\"LinearAxis\"},{\"attributes\":{\"bottom_units\":\"screen\",\"fill_alpha\":{\"value\":0.5},\"fill_color\":{\"value\":\"lightgrey\"},\"left_units\":\"screen\",\"level\":\"overlay\",\"line_alpha\":{\"value\":1.0},\"line_color\":{\"value\":\"black\"},\"line_dash\":[4,4],\"line_width\":{\"value\":2},\"render_mode\":\"css\",\"right_units\":\"screen\",\"top_units\":\"screen\"},\"id\":\"1045\",\"type\":\"BoxAnnotation\"},{\"attributes\":{},\"id\":\"1017\",\"type\":\"BasicTicker\"},{\"attributes\":{},\"id\":\"1046\",\"type\":\"Selection\"},{\"attributes\":{\"dimension\":1,\"ticker\":{\"id\":\"1017\",\"type\":\"BasicTicker\"}},\"id\":\"1020\",\"type\":\"Grid\"},{\"attributes\":{},\"id\":\"1047\",\"type\":\"UnionRenderers\"},{\"attributes\":{\"text\":\"\"},\"id\":\"1039\",\"type\":\"Title\"}],\"root_ids\":[\"1002\"]},\"title\":\"Bokeh Application\",\"version\":\"1.2.0\"}};\n",
       "  var render_items = [{\"docid\":\"d37a1f34-c33e-4ac3-b985-1a70402cf78c\",\"roots\":{\"1002\":\"c164ee77-b7df-4f33-a35d-e8d30142e44d\"}}];\n",
       "  root.Bokeh.embed.embed_items_notebook(docs_json, render_items);\n",
       "\n",
       "  }\n",
       "  if (root.Bokeh !== undefined) {\n",
       "    embed_document(root);\n",
       "  } else {\n",
       "    var attempts = 0;\n",
       "    var timer = setInterval(function(root) {\n",
       "      if (root.Bokeh !== undefined) {\n",
       "        embed_document(root);\n",
       "        clearInterval(timer);\n",
       "      }\n",
       "      attempts++;\n",
       "      if (attempts > 100) {\n",
       "        console.log(\"Bokeh: ERROR: Unable to run BokehJS code because BokehJS library is missing\");\n",
       "        clearInterval(timer);\n",
       "      }\n",
       "    }, 10, root)\n",
       "  }\n",
       "})(window);"
      ],
      "application/vnd.bokehjs_exec.v0+json": ""
     },
     "metadata": {
      "application/vnd.bokehjs_exec.v0+json": {
       "id": "1002"
      }
     },
     "output_type": "display_data"
    }
   ],
   "source": [
    "from scipy import optimize\n",
    "import numpy as np\n",
    "\n",
    "def f(x):\n",
    "    return x**2 + 10*np.sin(x)\n",
    "\n",
    "x = np.arange(-10, 10, 0.1)\n",
    "\n",
    "fig = bk.figure()\n",
    "fig.plot_height = 600\n",
    "fig.plot_width = 600\n",
    "fig.line(x, f(x))\n",
    "bk.show(fig)"
   ]
  },
  {
   "cell_type": "markdown",
   "metadata": {},
   "source": [
    "This function has a global minimum around -1.3 and a local minimum around 3.8.\n",
    "\n",
    "The general and efficient way to find a minimum for this function is to conduct a gradient descent starting from a given initial point. The [BFGS](http://docs.scipy.org/doc/scipy/reference/generated/scipy.optimize.fmin_bfgs.html?highlight=bfgs#scipy.optimize.fmin_bfgs) (quasi-Newton method of Broyden, Fletcher, Goldfarb, and Shanno) algorithm is a good way of doing this:"
   ]
  },
  {
   "cell_type": "code",
   "execution_count": 5,
   "metadata": {},
   "outputs": [
    {
     "name": "stdout",
     "output_type": "stream",
     "text": [
      "Optimization terminated successfully.\n",
      "         Current function value: -7.945823\n",
      "         Iterations: 5\n",
      "         Function evaluations: 18\n",
      "         Gradient evaluations: 6\n"
     ]
    },
    {
     "data": {
      "text/plain": [
       "array([-1.30644012])"
      ]
     },
     "execution_count": 5,
     "metadata": {},
     "output_type": "execute_result"
    }
   ],
   "source": [
    "optimize.fmin_bfgs(f, 0)"
   ]
  },
  {
   "cell_type": "markdown",
   "metadata": {},
   "source": [
    "A possible issue with this approach is that, if the function has local minima, the algorithm may find these local minima instead of the global minimum. `scipy.optimize.anneal()` provides an alternative, using simulated annealing. More efficient algorithms for different classes of global optimization problems exist, but this is out of the scope of scipy. Some useful packages for global optimization are [OpenOpt](https://web.archive.org/web/20150825045301/http://openopt.org/Welcome), [PyGMO](https://esa.github.io/pygmo/) and [PyEvolve](http://pyevolve.sourceforge.net/)."
   ]
  },
  {
   "cell_type": "markdown",
   "metadata": {},
   "source": [
    "## 3 Finding the roots of a scalar function"
   ]
  },
  {
   "cell_type": "markdown",
   "metadata": {},
   "source": [
    "To find a root, i.e. a point where `f(x) = 0`, of the function f above we can use for example `scipy.optimize.fsolve()`:"
   ]
  },
  {
   "cell_type": "code",
   "execution_count": 6,
   "metadata": {},
   "outputs": [
    {
     "data": {
      "text/plain": [
       "array([0.])"
      ]
     },
     "execution_count": 6,
     "metadata": {},
     "output_type": "execute_result"
    }
   ],
   "source": [
    "root = optimize.fsolve(f, 1)\n",
    "root"
   ]
  },
  {
   "cell_type": "markdown",
   "metadata": {},
   "source": [
    "Note that only one root is found. Inspecting the plot of f reveals that there is a second root around -2.5. We find the exact value of it by adjusting our initial guess:"
   ]
  },
  {
   "cell_type": "code",
   "execution_count": 7,
   "metadata": {},
   "outputs": [
    {
     "data": {
      "text/plain": [
       "array([-2.47948183])"
      ]
     },
     "execution_count": 7,
     "metadata": {},
     "output_type": "execute_result"
    }
   ],
   "source": [
    "root2 = optimize.fsolve(f, -2.5)\n",
    "root2"
   ]
  },
  {
   "cell_type": "markdown",
   "metadata": {},
   "source": [
    "## 4 Curve Fitting"
   ]
  },
  {
   "cell_type": "markdown",
   "metadata": {},
   "source": [
    "Suppose we have data sampled from `f` with some noise:"
   ]
  },
  {
   "cell_type": "code",
   "execution_count": 8,
   "metadata": {},
   "outputs": [],
   "source": [
    "xdata = np.linspace(-10, 10, num=20)\n",
    "ydata = f(xdata) + np.random.randn(xdata.size)"
   ]
  },
  {
   "cell_type": "markdown",
   "metadata": {},
   "source": [
    "Now if we know the functional form of the function from which the samples were drawn (`x^2 + sin(x)` in this case) but not the amplitudes of the terms, we can find those by least squares curve fitting. First we have to define the function to fit:"
   ]
  },
  {
   "cell_type": "code",
   "execution_count": 9,
   "metadata": {},
   "outputs": [],
   "source": [
    "def f2(x, a, b):\n",
    "    return a*x**2 + b*np.sin(x)"
   ]
  },
  {
   "cell_type": "markdown",
   "metadata": {},
   "source": [
    "Then we can use `scipy.optimize.curve_fit()` to find `a` and `b`:"
   ]
  },
  {
   "cell_type": "code",
   "execution_count": 10,
   "metadata": {},
   "outputs": [
    {
     "data": {
      "text/html": [
       "\n",
       "\n",
       "\n",
       "\n",
       "\n",
       "\n",
       "  <div class=\"bk-root\" id=\"b3d58f3e-9d98-4e9b-bd79-5adf737cab20\" data-root-id=\"1102\"></div>\n"
      ]
     },
     "metadata": {},
     "output_type": "display_data"
    },
    {
     "data": {
      "application/javascript": [
       "(function(root) {\n",
       "  function embed_document(root) {\n",
       "    \n",
       "  var docs_json = {\"7fba647b-f1bb-48eb-9e99-2cb2e3b6484d\":{\"roots\":{\"references\":[{\"attributes\":{\"below\":[{\"id\":\"1112\",\"type\":\"LinearAxis\"}],\"center\":[{\"id\":\"1116\",\"type\":\"Grid\"},{\"id\":\"1121\",\"type\":\"Grid\"},{\"id\":\"1146\",\"type\":\"Legend\"}],\"left\":[{\"id\":\"1117\",\"type\":\"LinearAxis\"}],\"renderers\":[{\"id\":\"1138\",\"type\":\"GlyphRenderer\"},{\"id\":\"1151\",\"type\":\"GlyphRenderer\"},{\"id\":\"1165\",\"type\":\"GlyphRenderer\"},{\"id\":\"1181\",\"type\":\"GlyphRenderer\"}],\"title\":null,\"toolbar\":{\"id\":\"1128\",\"type\":\"Toolbar\"},\"x_range\":{\"id\":\"1104\",\"type\":\"DataRange1d\"},\"x_scale\":{\"id\":\"1108\",\"type\":\"LinearScale\"},\"y_range\":{\"id\":\"1106\",\"type\":\"DataRange1d\"},\"y_scale\":{\"id\":\"1110\",\"type\":\"LinearScale\"}},\"id\":\"1102\",\"subtype\":\"Figure\",\"type\":\"Plot\"},{\"attributes\":{\"axis_label\":\"x\",\"formatter\":{\"id\":\"1144\",\"type\":\"BasicTickFormatter\"},\"ticker\":{\"id\":\"1113\",\"type\":\"BasicTicker\"}},\"id\":\"1112\",\"type\":\"LinearAxis\"},{\"attributes\":{},\"id\":\"1175\",\"type\":\"Selection\"},{\"attributes\":{},\"id\":\"1144\",\"type\":\"BasicTickFormatter\"},{\"attributes\":{},\"id\":\"1176\",\"type\":\"UnionRenderers\"},{\"attributes\":{},\"id\":\"1113\",\"type\":\"BasicTicker\"},{\"attributes\":{\"label\":{\"value\":\"Minima\"},\"renderers\":[{\"id\":\"1165\",\"type\":\"GlyphRenderer\"}]},\"id\":\"1177\",\"type\":\"LegendItem\"},{\"attributes\":{\"bottom_units\":\"screen\",\"fill_alpha\":{\"value\":0.5},\"fill_color\":{\"value\":\"lightgrey\"},\"left_units\":\"screen\",\"level\":\"overlay\",\"line_alpha\":{\"value\":1.0},\"line_color\":{\"value\":\"black\"},\"line_dash\":[4,4],\"line_width\":{\"value\":2},\"render_mode\":\"css\",\"right_units\":\"screen\",\"top_units\":\"screen\"},\"id\":\"1145\",\"type\":\"BoxAnnotation\"},{\"attributes\":{\"ticker\":{\"id\":\"1113\",\"type\":\"BasicTicker\"}},\"id\":\"1116\",\"type\":\"Grid\"},{\"attributes\":{\"callback\":null,\"data\":{\"x\":{\"__ndarray__\":\"AAAAAAAAAACEsFCS+tUDwA==\",\"dtype\":\"float64\",\"shape\":[2]},\"y\":{\"__ndarray__\":\"AAAAAAAAAAAAAAAAAADgvA==\",\"dtype\":\"float64\",\"shape\":[2]}},\"selected\":{\"id\":\"1217\",\"type\":\"Selection\"},\"selection_policy\":{\"id\":\"1218\",\"type\":\"UnionRenderers\"}},\"id\":\"1178\",\"type\":\"ColumnDataSource\"},{\"attributes\":{\"items\":[{\"id\":\"1147\",\"type\":\"LegendItem\"},{\"id\":\"1161\",\"type\":\"LegendItem\"},{\"id\":\"1177\",\"type\":\"LegendItem\"},{\"id\":\"1195\",\"type\":\"LegendItem\"}]},\"id\":\"1146\",\"type\":\"Legend\"},{\"attributes\":{\"axis_label\":\"f(x)\",\"formatter\":{\"id\":\"1142\",\"type\":\"BasicTickFormatter\"},\"ticker\":{\"id\":\"1118\",\"type\":\"BasicTicker\"}},\"id\":\"1117\",\"type\":\"LinearAxis\"},{\"attributes\":{\"fill_color\":{\"value\":\"black\"},\"size\":{\"units\":\"screen\",\"value\":9},\"x\":{\"field\":\"x\"},\"y\":{\"field\":\"y\"}},\"id\":\"1179\",\"type\":\"Triangle\"},{\"attributes\":{\"label\":{\"value\":\"f(x)\"},\"renderers\":[{\"id\":\"1138\",\"type\":\"GlyphRenderer\"}]},\"id\":\"1147\",\"type\":\"LegendItem\"},{\"attributes\":{},\"id\":\"1118\",\"type\":\"BasicTicker\"},{\"attributes\":{\"fill_alpha\":{\"value\":0.1},\"fill_color\":{\"value\":\"#1f77b4\"},\"line_alpha\":{\"value\":0.1},\"line_color\":{\"value\":\"#1f77b4\"},\"size\":{\"units\":\"screen\",\"value\":9},\"x\":{\"field\":\"x\"},\"y\":{\"field\":\"y\"}},\"id\":\"1180\",\"type\":\"Triangle\"},{\"attributes\":{},\"id\":\"1217\",\"type\":\"Selection\"},{\"attributes\":{\"dimension\":1,\"ticker\":{\"id\":\"1118\",\"type\":\"BasicTicker\"}},\"id\":\"1121\",\"type\":\"Grid\"},{\"attributes\":{\"data_source\":{\"id\":\"1178\",\"type\":\"ColumnDataSource\"},\"glyph\":{\"id\":\"1179\",\"type\":\"Triangle\"},\"hover_glyph\":null,\"muted_glyph\":null,\"nonselection_glyph\":{\"id\":\"1180\",\"type\":\"Triangle\"},\"selection_glyph\":null,\"view\":{\"id\":\"1182\",\"type\":\"CDSView\"}},\"id\":\"1181\",\"type\":\"GlyphRenderer\"},{\"attributes\":{\"line_color\":\"red\",\"line_dash\":[5],\"line_width\":2,\"x\":{\"field\":\"x\"},\"y\":{\"field\":\"y\"}},\"id\":\"1149\",\"type\":\"Line\"},{\"attributes\":{\"line_alpha\":0.1,\"line_color\":\"#1f77b4\",\"line_width\":2,\"x\":{\"field\":\"x\"},\"y\":{\"field\":\"y\"}},\"id\":\"1137\",\"type\":\"Line\"},{\"attributes\":{\"source\":{\"id\":\"1178\",\"type\":\"ColumnDataSource\"}},\"id\":\"1182\",\"type\":\"CDSView\"},{\"attributes\":{\"line_alpha\":0.1,\"line_color\":\"#1f77b4\",\"line_dash\":[5],\"line_width\":2,\"x\":{\"field\":\"x\"},\"y\":{\"field\":\"y\"}},\"id\":\"1150\",\"type\":\"Line\"},{\"attributes\":{\"line_color\":\"blue\",\"line_width\":2,\"x\":{\"field\":\"x\"},\"y\":{\"field\":\"y\"}},\"id\":\"1136\",\"type\":\"Line\"},{\"attributes\":{},\"id\":\"1193\",\"type\":\"Selection\"},{\"attributes\":{\"data_source\":{\"id\":\"1148\",\"type\":\"ColumnDataSource\"},\"glyph\":{\"id\":\"1149\",\"type\":\"Line\"},\"hover_glyph\":null,\"muted_glyph\":null,\"nonselection_glyph\":{\"id\":\"1150\",\"type\":\"Line\"},\"selection_glyph\":null,\"view\":{\"id\":\"1152\",\"type\":\"CDSView\"}},\"id\":\"1151\",\"type\":\"GlyphRenderer\"},{\"attributes\":{\"callback\":null,\"data\":{\"x\":{\"__ndarray__\":\"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\",\"dtype\":\"float64\",\"shape\":[200]},\"y\":{\"__ndarray__\":\"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\",\"dtype\":\"float64\",\"shape\":[200]}},\"selected\":{\"id\":\"1175\",\"type\":\"Selection\"},\"selection_policy\":{\"id\":\"1176\",\"type\":\"UnionRenderers\"}},\"id\":\"1148\",\"type\":\"ColumnDataSource\"},{\"attributes\":{},\"id\":\"1194\",\"type\":\"UnionRenderers\"},{\"attributes\":{\"source\":{\"id\":\"1148\",\"type\":\"ColumnDataSource\"}},\"id\":\"1152\",\"type\":\"CDSView\"},{\"attributes\":{},\"id\":\"1122\",\"type\":\"PanTool\"},{\"attributes\":{\"label\":{\"value\":\"Roots\"},\"renderers\":[{\"id\":\"1181\",\"type\":\"GlyphRenderer\"}]},\"id\":\"1195\",\"type\":\"LegendItem\"},{\"attributes\":{},\"id\":\"1159\",\"type\":\"Selection\"},{\"attributes\":{},\"id\":\"1123\",\"type\":\"WheelZoomTool\"},{\"attributes\":{},\"id\":\"1160\",\"type\":\"UnionRenderers\"},{\"attributes\":{\"overlay\":{\"id\":\"1145\",\"type\":\"BoxAnnotation\"}},\"id\":\"1124\",\"type\":\"BoxZoomTool\"},{\"attributes\":{\"callback\":null,\"data\":{\"x\":{\"__ndarray__\":\"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\",\"dtype\":\"float64\",\"shape\":[200]},\"y\":{\"__ndarray__\":\"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\",\"dtype\":\"float64\",\"shape\":[200]}},\"selected\":{\"id\":\"1159\",\"type\":\"Selection\"},\"selection_policy\":{\"id\":\"1160\",\"type\":\"UnionRenderers\"}},\"id\":\"1135\",\"type\":\"ColumnDataSource\"},{\"attributes\":{\"label\":{\"value\":\"Curve fit result\"},\"renderers\":[{\"id\":\"1151\",\"type\":\"GlyphRenderer\"}]},\"id\":\"1161\",\"type\":\"LegendItem\"},{\"attributes\":{},\"id\":\"1125\",\"type\":\"SaveTool\"},{\"attributes\":{},\"id\":\"1218\",\"type\":\"UnionRenderers\"},{\"attributes\":{},\"id\":\"1126\",\"type\":\"ResetTool\"},{\"attributes\":{\"callback\":null,\"data\":{\"x\":{\"__ndarray__\":\"TvYoXA/n9L9dxA32IbMOQA==\",\"dtype\":\"float64\",\"shape\":[2]},\"y\":{\"__ndarray__\":\"68f064XIH8DK491ulKEgQA==\",\"dtype\":\"float64\",\"shape\":[2]}},\"selected\":{\"id\":\"1193\",\"type\":\"Selection\"},\"selection_policy\":{\"id\":\"1194\",\"type\":\"UnionRenderers\"}},\"id\":\"1162\",\"type\":\"ColumnDataSource\"},{\"attributes\":{\"fill_color\":{\"value\":\"green\"},\"line_color\":{\"value\":\"green\"},\"size\":{\"units\":\"screen\",\"value\":9},\"x\":{\"field\":\"x\"},\"y\":{\"field\":\"y\"}},\"id\":\"1163\",\"type\":\"Circle\"},{\"attributes\":{},\"id\":\"1127\",\"type\":\"HelpTool\"},{\"attributes\":{\"callback\":null},\"id\":\"1104\",\"type\":\"DataRange1d\"},{\"attributes\":{\"fill_alpha\":{\"value\":0.1},\"fill_color\":{\"value\":\"#1f77b4\"},\"line_alpha\":{\"value\":0.1},\"line_color\":{\"value\":\"#1f77b4\"},\"size\":{\"units\":\"screen\",\"value\":9},\"x\":{\"field\":\"x\"},\"y\":{\"field\":\"y\"}},\"id\":\"1164\",\"type\":\"Circle\"},{\"attributes\":{\"active_drag\":\"auto\",\"active_inspect\":\"auto\",\"active_multi\":null,\"active_scroll\":\"auto\",\"active_tap\":\"auto\",\"tools\":[{\"id\":\"1122\",\"type\":\"PanTool\"},{\"id\":\"1123\",\"type\":\"WheelZoomTool\"},{\"id\":\"1124\",\"type\":\"BoxZoomTool\"},{\"id\":\"1125\",\"type\":\"SaveTool\"},{\"id\":\"1126\",\"type\":\"ResetTool\"},{\"id\":\"1127\",\"type\":\"HelpTool\"}]},\"id\":\"1128\",\"type\":\"Toolbar\"},{\"attributes\":{\"data_source\":{\"id\":\"1135\",\"type\":\"ColumnDataSource\"},\"glyph\":{\"id\":\"1136\",\"type\":\"Line\"},\"hover_glyph\":null,\"muted_glyph\":null,\"nonselection_glyph\":{\"id\":\"1137\",\"type\":\"Line\"},\"selection_glyph\":null,\"view\":{\"id\":\"1139\",\"type\":\"CDSView\"}},\"id\":\"1138\",\"type\":\"GlyphRenderer\"},{\"attributes\":{\"data_source\":{\"id\":\"1162\",\"type\":\"ColumnDataSource\"},\"glyph\":{\"id\":\"1163\",\"type\":\"Circle\"},\"hover_glyph\":null,\"muted_glyph\":null,\"nonselection_glyph\":{\"id\":\"1164\",\"type\":\"Circle\"},\"selection_glyph\":null,\"view\":{\"id\":\"1166\",\"type\":\"CDSView\"}},\"id\":\"1165\",\"type\":\"GlyphRenderer\"},{\"attributes\":{\"callback\":null},\"id\":\"1106\",\"type\":\"DataRange1d\"},{\"attributes\":{},\"id\":\"1108\",\"type\":\"LinearScale\"},{\"attributes\":{\"source\":{\"id\":\"1162\",\"type\":\"ColumnDataSource\"}},\"id\":\"1166\",\"type\":\"CDSView\"},{\"attributes\":{\"source\":{\"id\":\"1135\",\"type\":\"ColumnDataSource\"}},\"id\":\"1139\",\"type\":\"CDSView\"},{\"attributes\":{},\"id\":\"1142\",\"type\":\"BasicTickFormatter\"},{\"attributes\":{},\"id\":\"1110\",\"type\":\"LinearScale\"}],\"root_ids\":[\"1102\"]},\"title\":\"Bokeh Application\",\"version\":\"1.2.0\"}};\n",
       "  var render_items = [{\"docid\":\"7fba647b-f1bb-48eb-9e99-2cb2e3b6484d\",\"roots\":{\"1102\":\"b3d58f3e-9d98-4e9b-bd79-5adf737cab20\"}}];\n",
       "  root.Bokeh.embed.embed_items_notebook(docs_json, render_items);\n",
       "\n",
       "  }\n",
       "  if (root.Bokeh !== undefined) {\n",
       "    embed_document(root);\n",
       "  } else {\n",
       "    var attempts = 0;\n",
       "    var timer = setInterval(function(root) {\n",
       "      if (root.Bokeh !== undefined) {\n",
       "        embed_document(root);\n",
       "        clearInterval(timer);\n",
       "      }\n",
       "      attempts++;\n",
       "      if (attempts > 100) {\n",
       "        console.log(\"Bokeh: ERROR: Unable to run BokehJS code because BokehJS library is missing\");\n",
       "        clearInterval(timer);\n",
       "      }\n",
       "    }, 10, root)\n",
       "  }\n",
       "})(window);"
      ],
      "application/vnd.bokehjs_exec.v0+json": ""
     },
     "metadata": {
      "application/vnd.bokehjs_exec.v0+json": {
       "id": "1102"
      }
     },
     "output_type": "display_data"
    }
   ],
   "source": [
    "guess = [2, 2]\n",
    "params, params_covariance = optimize.curve_fit(f2, xdata, ydata, guess)\n",
    "\n",
    "grid = (-10, 10, 0.1)\n",
    "xmin_global = optimize.brute(f, (grid,))\n",
    "xmin_local = optimize.fminbound(f, 0, 10)\n",
    "\n",
    "fig = bk.figure(title=None)\n",
    "fig.line(x, f(x), color='blue', line_width=2, legend=\"f(x)\")\n",
    "fig.line(x, f2(x, *params), color='red', line_width=2, line_dash=[5], legend=\"Curve fit result\")\n",
    "\n",
    "xmins = np.array([xmin_global[0], xmin_local])\n",
    "\n",
    "fig.circle(xmins, f(xmins), size=9, color='green', legend=\"Minima\")\n",
    "\n",
    "roots = np.array([root[0], root2[0]])\n",
    "\n",
    "fig.triangle(roots, f(roots), size=9, color=\"black\", legend=\"Roots\")\n",
    "fig.xaxis[0].axis_label = 'x'\n",
    "fig.yaxis[0].axis_label = 'f(x)'\n",
    "bk.show(fig)\n"
   ]
  },
  {
   "cell_type": "markdown",
   "metadata": {},
   "source": [
    "## 5 Optimizing with Box-Bound Constraints"
   ]
  },
  {
   "cell_type": "markdown",
   "metadata": {},
   "source": [
    "Box bounds correspond to limiting each of the individual parameters of the optimization. Note that some problems that are not originally written as box bounds can be rewritten as such be a change of variables.\n",
    "\n",
    "* `scipy.optimize.fminbound()` for 1D-optimization\n",
    "* `scipy.optimize.fmin_l_bfgs_b()` a quasi-Newton method with bound constraints"
   ]
  },
  {
   "cell_type": "code",
   "execution_count": 11,
   "metadata": {},
   "outputs": [],
   "source": [
    "import warnings\n",
    "warnings.filterwarnings('ignore', category=UnicodeWarning)"
   ]
  },
  {
   "cell_type": "code",
   "execution_count": 12,
   "metadata": {},
   "outputs": [
    {
     "data": {
      "text/plain": [
       "[<matplotlib.lines.Line2D at 0x1177e7a20>]"
      ]
     },
     "execution_count": 12,
     "metadata": {},
     "output_type": "execute_result"
    },
    {
     "data": {
      "image/png": "[encoded data removed]",
      "text/plain": [
       "<Figure size 216x180 with 1 Axes>"
      ]
     },
     "metadata": {
      "needs_background": "light"
     },
     "output_type": "display_data"
    },
    {
     "data": {
      "image/png": "[encoded data removed]",
      "text/plain": [
       "<Figure size 216x180 with 1 Axes>"
      ]
     },
     "metadata": {
      "needs_background": "light"
     },
     "output_type": "display_data"
    }
   ],
   "source": [
    "%matplotlib inline\n",
    "import matplotlib.pyplot as plt\n",
    "\n",
    "x, y = np.mgrid[-2.9:5.8:.05, -2.5:5:.05]\n",
    "x = x.T\n",
    "y = y.T\n",
    "\n",
    "for i in (1, 2):\n",
    "    # Create 2 figure: only the second one will have the optimization\n",
    "    # path\n",
    "    plt.figure(i, figsize=(3, 2.5))\n",
    "    plt.clf()\n",
    "    plt.axes([0, 0, 1, 1])\n",
    "\n",
    "    contours = plt.contour(np.sqrt((x - 3)**2 + (y - 2)**2),\n",
    "                           extent=[-3, 6, -2.5, 5], cmap=plt.cm.gnuplot)\n",
    "    plt.clabel(contours, inline=1, fmt='%1.1f', fontsize=14)\n",
    "\n",
    "    plt.plot([-1.5, -1.5,  1.5,  1.5, -1.5],\n",
    "             [-1.5,  1.5,  1.5, -1.5, -1.5], 'k', linewidth=2)\n",
    "    plt.fill_between([ -1.5,  1.5],\n",
    "                     [ -1.5, -1.5],\n",
    "                     [  1.5,  1.5],\n",
    "                     color='.8')\n",
    "    plt.axvline(0, color='k')\n",
    "    plt.axhline(0, color='k')\n",
    "\n",
    "    plt.text(-.9, 4.4, '$x_2$', size=20)\n",
    "    plt.text(5.6, -.6, '$x_1$', size=20)\n",
    "    plt.axis('equal')\n",
    "    plt.axis('off')\n",
    "\n",
    "# And now plot the optimization path\n",
    "accumulator = list()\n",
    "\n",
    "def f(x):\n",
    "    # Store the list of function calls\n",
    "    accumulator.append(x)\n",
    "    return np.sqrt((x[0] - 3)**2 + (x[1] - 2)**2)\n",
    "\n",
    "# We don't use the gradient, as with the gradient, L-BFGS is too fast,\n",
    "# and finds the optimum without showing us a pretty path\n",
    "def f_prime(x):\n",
    "    r = np.sqrt((x[0] - 3)**2 + (x[0] - 2)**2)\n",
    "    return np.array(((x[0] - 3)/r, (x[0] - 2)/r))\n",
    "\n",
    "optimize.fmin_l_bfgs_b(f, np.array([0, 0]), approx_grad=1,\n",
    "                       bounds=((-1.5, 1.5), (-1.5, 1.5)))\n",
    "\n",
    "accumulated = np.array(accumulator)\n",
    "plt.plot(accumulated[:, 0], accumulated[:, 1])"
   ]
  },
  {
   "cell_type": "markdown",
   "metadata": {},
   "source": [
    "---\n",
    "\n",
    "Visit [www.add-for.com](<http://www.add-for.com/IT>) for more tutorials and updates.\n",
    "\n",
    "This work is licensed under a <a rel=\"license\" href=\"http://creativecommons.org/licenses/by-sa/4.0/\">Creative Commons Attribution-ShareAlike 4.0 International License</a>."
   ]
  }
 ],
 "metadata": {
  "kernelspec": {
   "display_name": "Python 3",
   "language": "python",
   "name": "python3"
  },
  "language_info": {
   "codemirror_mode": {
    "name": "ipython",
    "version": 3
   },
   "file_extension": ".py",
   "mimetype": "text/x-python",
   "name": "python",
   "nbconvert_exporter": "python",
   "pygments_lexer": "ipython3",
   "version": "3.7.0"
  }
 },
 "nbformat": 4,
 "nbformat_minor": 1
}
