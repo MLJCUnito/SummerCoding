{
 "cells": [
  {
   "cell_type": "markdown",
   "metadata": {},
   "source": [
    "# Numpy Basic Concepts"
   ]
  },
  {
   "cell_type": "code",
   "execution_count": 3,
   "metadata": {},
   "outputs": [
    {
     "data": {
      "text/html": [
       "<div id='toc-container'><script type='text/javascript'>\n",
       "$(function() {\n",
       "    function regenTOC(){\n",
       "        element = $(\"#toc-container\");\n",
       "\n",
       "\tvar toc = document.createElement(\"div\");\n",
       "\t$(toc).attr(\"class\", \"table-of-contents\");\n",
       "\n",
       "\tvar curLevel = 0;\n",
       "\tvar containerStack = [toc];\n",
       "\tvar levelOfTag = {\"h2\": 1, \"h3\": 2, \"h4\": 3, \"h5\": 4};\n",
       "\n",
       "\tfunction pushLevel() {\n",
       "            var list = document.createElement(\"ul\");\n",
       "            containerStack.push(list);\n",
       "            curLevel++;\n",
       "\t}\n",
       "\t\n",
       "\tfunction popLevel() {\n",
       "            var lastContainer = containerStack.pop();\n",
       "            $(lastContainer).appendTo(containerStack[containerStack.length - 1]);\n",
       "            curLevel--;\n",
       "\t}\n",
       "\t\n",
       "\t$(\".text_cell_render :header\").each(function (i, elem) {\n",
       "            var level = levelOfTag[ elem.tagName.toLowerCase() ];\n",
       "\n",
       "            if (level === undefined)\n",
       "\t\treturn;\n",
       "\n",
       "            while (curLevel < level)\n",
       "\t\tpushLevel();\n",
       "            while (curLevel > level)\n",
       "\t\tpopLevel();\n",
       "            \n",
       "            var listItem = document.createElement(\"li\");\n",
       "            var link = document.createElement(\"a\");\n",
       "            $(link)\n",
       "\t\t.text($(elem).contents().first().text()) // Remove the pilcrow sign\n",
       "\t\t.attr(\"href\", \"#\" + $(elem).attr(\"id\"))\n",
       "\t\t.appendTo(listItem);\n",
       "            $(listItem).appendTo(containerStack[containerStack.length - 1]);\n",
       "\t});\n",
       "\t\n",
       "\twhile (curLevel > 0)\n",
       "            popLevel();\n",
       "\n",
       "        $(\"<a class='btn-update' href='#'>Update</a>\")\n",
       "          .click(regenTOC).prependTo(toc);\n",
       "\n",
       "\t$(toc).prepend(\"<div class='title'>Contents</div>\")\n",
       "          .wrap(\"<div class='toc-headings'/>\");\n",
       "\n",
       "        $(element).empty();\n",
       "        $(element).append(toc);\n",
       "    }\n",
       "\n",
       "    if (typeof(IPython) !== 'undefined')\n",
       "        $([IPython.events]).on('notebook_loaded.Notebook', regenTOC);\n",
       "    regenTOC();\n",
       "});\n",
       "\n",
       "</script></div>"
      ],
      "text/plain": [
       "<IPython.core.display.HTML object>"
      ]
     },
     "execution_count": 3,
     "metadata": {},
     "output_type": "execute_result"
    }
   ],
   "source": [
    "import addutils.toc ; addutils.toc.js(ipy_notebook=True)"
   ]
  },
  {
   "cell_type": "code",
   "execution_count": 4,
   "metadata": {},
   "outputs": [
    {
     "data": {
      "text/html": [
       "<style>\n",
       ".text_cell_render @font-face {\n",
       "    font-family: \"Computer Modern\";\n",
       "    src: url('http://mirrors.ctan.org/fonts/cm-unicode/fonts/otf/cmunss.otf');\n",
       "}\n",
       "\n",
       "div.cell {\n",
       "    width: 900px;\n",
       "    margin-left: 0% !important;\n",
       "    margin-right: 0%;\n",
       "}\n",
       "\n",
       "code {\n",
       "    font-size:10pt;\n",
       "}\n",
       "\n",
       ".text_cell_render  h1 {\n",
       "    font-family: Tahoma, sans-serif;\n",
       "    color: rgb( 10, 88, 126 );\n",
       "    font-size:28pt;\n",
       "}\n",
       ".text_cell_render h2 {\n",
       "    font-family: Tahoma, sans-serif;\n",
       "    color: rgb( 10, 88, 126 );\n",
       "    font-size:24pt;\n",
       "}\n",
       ".text_cell_render h3 {\n",
       "    font-family: Tahoma, sans-serif;\n",
       "    color: rgb( 10, 88, 126 );\n",
       "    font-size:20pt;\n",
       "}\n",
       ".text_cell_render h4 {\n",
       "    font-family: Tahoma, sans-serif;\n",
       "    color: rgb( 10, 88, 126 );\n",
       "    font-size:18pt;\n",
       "    margin-top:12px;\n",
       "    margin-bottom: 3px;\n",
       "}\n",
       "\n",
       ".text_cell_render h5 {\n",
       "    font-weight: 300;\n",
       "    font-size: 11pt;\n",
       "    color: rgb( 48, 48, 48 );\n",
       "    font-style: italic;\n",
       "    margin-bottom: .5em;\n",
       "    margin-top: 0.5em;\n",
       "    display: block;\n",
       "}\n",
       "\n",
       ".text_cell_render ul {\n",
       "    font-family: Tahoma, sans-serif;\n",
       "    color: rgb( 90, 90, 90 );\n",
       "    font-size:11pt;\n",
       "    line-height: 185%;\n",
       "}\n",
       "\n",
       ".text_cell_render yp {\n",
       "    font-family: Tahoma, sans-serif;\n",
       "    color: rgb( 90, 90, 90 );\n",
       "    font-size:11pt;\n",
       "}\n",
       "\n",
       ".text_cell_render strong {\n",
       "    font-family: Tahoma, sans-serif;\n",
       "    color: rgb( 30, 30, 30 );\n",
       "    font-size:11pt;\n",
       "}\n",
       "\n",
       ".text_cell_render a:link {\n",
       "    font-family: Tahoma, sans-serif;\n",
       "    color: rgb( 10, 88, 126 );\n",
       "    font-size:11pt;\n",
       "}\n",
       "\n",
       ".text_cell_render a:visited {\n",
       "    color:rgb( 10, 88, 126 );\n",
       "}\n",
       "\n",
       ".text_cell_render {\n",
       "    font-family: Helvetica, Courier, Computer Modern, \"Helvetica Neue\", Arial, Geneva, sans-serif;\n",
       "    color: rgb( 84, 84, 84 );\n",
       "    font-size:11pt;\n",
       "    line-height: 125%;\n",
       "    font-size: 100%;\n",
       "    width:800px;\n",
       "}\n",
       "\n",
       ".CodeMirror {\n",
       "    font-family: Courier, \"Source Code Pro\", source-code-pro,Consolas, monospace;\n",
       "}\n",
       "\n",
       ".warning {\n",
       "    color: rgb( 240, 20, 20 );\n",
       "}\n",
       "\n",
       "/* Pandas tables */\n",
       "/*\n",
       ".rendered_html td {\n",
       "    text-align: right;\n",
       "}\n",
       "*/\n",
       "\n",
       "table.dataframe td {\n",
       "    text-align: right;\n",
       "}\n",
       "\n",
       ".output .table-of-contents {\n",
       "    border: 1px #cecece solid;\n",
       "    background-color: #fafafa;\n",
       "    padding-top: 10px;\n",
       "    padding-bottom: 5px;\n",
       "    padding-right: 15px;\n",
       "    padding-left: 0px;\n",
       "    margin-bottom: 20px;\n",
       "    display: inline-block;\n",
       "    position: relative;\n",
       "}\n",
       "\n",
       ".output .table-of-contents ul {\n",
       "    list-style-type: none;\n",
       "    padding-left: 20px;\n",
       "}\n",
       "\n",
       ".output .table-of-contents .title {\n",
       "    font-weight: bold;\n",
       "    font-height: 11pt;\n",
       "    padding-left: 20px; /* looks better if it's the same to the <ul> */\n",
       "}\n",
       "\n",
       ".output .table-of-contents .btn-update {\n",
       "    position: absolute;\n",
       "    float: right;\n",
       "    right: 11px;\n",
       "    top: 4px;\n",
       "    font-size: 9pt;\n",
       "}\n",
       "\n",
       "</style>\n",
       "<script>\n",
       "    MathJax.Hub.Config({\n",
       "                        TeX: {\n",
       "                           extensions: [\"AMSmath.js\"]\n",
       "                           },\n",
       "                displayAlign: 'center', // Change this to 'center' to center equations.\n",
       "                \"HTML-CSS\": {\n",
       "                    styles: {'.MathJax_Display': {\"margin\": 4}}\n",
       "                }\n",
       "        });\n",
       "</script>\n"
      ],
      "text/plain": [
       "<IPython.core.display.HTML object>"
      ]
     },
     "execution_count": 4,
     "metadata": {},
     "output_type": "execute_result"
    }
   ],
   "source": [
    "from addutils import css_notebook\n",
    "css_notebook()"
   ]
  },
  {
   "cell_type": "markdown",
   "metadata": {},
   "source": [
    "## 1 What is Numpy ?"
   ]
  },
  {
   "cell_type": "markdown",
   "metadata": {},
   "source": [
    "NumPy is the fundamental package for scientific computing with Python. It is:\n",
    "\n",
    "* a powerful Python extension for N-dimensional array\n",
    "* a tool for integrating C/C++ and Fortran code\n",
    "* designed for scientific computation: linear algebra and Signal Analysis\n",
    "\n",
    "If you are a MATLAB&reg; user we recommend to read [Numpy for MATLAB Users](https://docs.scipy.org/doc/numpy/user/numpy-for-matlab-users.html) and [Benefit of Open Source Python versus commercial packages](https://scipy.github.io/old-wiki/pages/NumPyProConPage.html). For an idea of the Open Source Approach to science, we suggest the [Science Code Manifesto](http://sciencecodemanifesto.org/)"
   ]
  },
  {
   "cell_type": "markdown",
   "metadata": {},
   "source": [
    "### 1.1 Documentation and reference:"
   ]
  },
  {
   "cell_type": "markdown",
   "metadata": {},
   "source": [
    "* [Numpy Reference guide](http://docs.scipy.org/doc/numpy/reference/)\n",
    "* [SciPy Reference](http://docs.scipy.org/doc/scipy/reference/)\n",
    "* [Scipy Topical Software](http://www.scipy.org/Topical_Software)\n",
    "* [Numpy Functions by Category](http://www.scipy.org/Numpy_Functions_by_Category)\n",
    "* [Numpy Example List With Doc](http://www.scipy.org/Numpy_Example_List_With_Doc)  "
   ]
  },
  {
   "cell_type": "markdown",
   "metadata": {},
   "source": [
    "Lets start by checking the Numpy version used in this Notebook:"
   ]
  },
  {
   "cell_type": "code",
   "execution_count": 5,
   "metadata": {},
   "outputs": [
    {
     "name": "stdout",
     "output_type": "stream",
     "text": [
      "numpy version:  1.16.4\n"
     ]
    }
   ],
   "source": [
    "import numpy as np\n",
    "print ('numpy version: ', np.__version__)"
   ]
  },
  {
   "cell_type": "markdown",
   "metadata": {},
   "source": [
    "## 2 Array Creation"
   ]
  },
  {
   "cell_type": "markdown",
   "metadata": {},
   "source": [
    "NumPy's main object is the homogeneous ***multidimensional array***. It is a table of elements (usually numbers), all of the same type. In Numpy dimensions are called ***axes***. The number of axes is called ***rank***. The most important attributes of an ndarray object are:\n",
    "\n",
    "* **ndarray.ndim**     - the number of axes (dimensions) of the array. \n",
    "* **ndarray.shape**    - the dimensions of the array. For a matrix with n rows and m columns, shape will be (n,m). \n",
    "* **ndarray.size**     - the total number of elements of the array. \n",
    "* **ndarray.dtype**    - numpy.int32, numpy.int16, and numpy.float64 are some examples. \n",
    "* **ndarray.itemsize** - the size in bytes of elements of the array. For example, elements of type float64 has itemsize 8 (=64/8) "
   ]
  },
  {
   "cell_type": "code",
   "execution_count": 6,
   "metadata": {},
   "outputs": [
    {
     "name": "stdout",
     "output_type": "stream",
     "text": [
      "Rows:003 ; Cols:003\n"
     ]
    }
   ],
   "source": [
    "a = np.array([[0,1,2,3], [4,5,6,7], [8,9,10,11]])\n",
    "rows, cols = np.shape(a)\n",
    "print ('Rows:{0:03d} ; Cols:{0:03d}'.format(rows, cols))"
   ]
  },
  {
   "cell_type": "markdown",
   "metadata": {},
   "source": [
    "**Try by yourself**   the following commands *(type or paste the commands in the cell below)*:\n",
    "\n",
    "    a.ndim                  # Number of dimensions\n",
    "    print a.dtype.name      # Type of data\n",
    "    a.itemsize              # Size in bytes of elements\n",
    "    a.size                  # Number of elements in the array"
   ]
  },
  {
   "cell_type": "code",
   "execution_count": 8,
   "metadata": {},
   "outputs": [
    {
     "data": {
      "text/plain": [
       "2"
      ]
     },
     "execution_count": 8,
     "metadata": {},
     "output_type": "execute_result"
    }
   ],
   "source": [
    "a.ndim"
   ]
  },
  {
   "cell_type": "markdown",
   "metadata": {},
   "source": [
    "The type of the array can be specified at creation time:"
   ]
  },
  {
   "cell_type": "code",
   "execution_count": 9,
   "metadata": {},
   "outputs": [
    {
     "name": "stdout",
     "output_type": "stream",
     "text": [
      "[[2.+0.j 3.+0.j]\n",
      " [6.+0.j 7.+0.j]]\n"
     ]
    }
   ],
   "source": [
    "b = np.array([[2,3], [6,7]], dtype=np.complex64)\n",
    "print (b)"
   ]
  },
  {
   "cell_type": "markdown",
   "metadata": {},
   "source": [
    "### 2.1 Array creation functions"
   ]
  },
  {
   "cell_type": "markdown",
   "metadata": {},
   "source": [
    "Often, the elements of an array are originally unknown, but its size is known. Hence, **NumPy** offers several functions to create arrays with initial placeholder content.\n",
    "\n",
    "The function `zeros` creates an array full of zeros, the function `ones` creates an array full of ones, and the function `empty` creates an array whose initial content is random and depends on the state of the memory. By default, the dtype of the created array is float64.  \n",
    "***Try by yourself*** the following commands:\n",
    "\n",
    "    zeros((3,4))\n",
    "    ones((3,4))\n",
    "    empty((2,3))\n",
    "    eye(3)\n",
    "    diag(np.arange(5))\n",
    "    np.tile(np.array([[6, 7], [8, 9]]), (2, 2))"
   ]
  },
  {
   "cell_type": "code",
   "execution_count": 10,
   "metadata": {},
   "outputs": [
    {
     "data": {
      "text/plain": [
       "array([[0., 0., 0., 0.],\n",
       "       [0., 0., 0., 0.],\n",
       "       [0., 0., 0., 0.]])"
      ]
     },
     "execution_count": 10,
     "metadata": {},
     "output_type": "execute_result"
    }
   ],
   "source": [
    "np.zeros((3,4))"
   ]
  },
  {
   "cell_type": "markdown",
   "metadata": {},
   "source": [
    "`zeros_like, ones_like` and `empty_like` can be used to create arrays of the same type of a given one"
   ]
  },
  {
   "cell_type": "code",
   "execution_count": 11,
   "metadata": {},
   "outputs": [
    {
     "data": {
      "text/plain": [
       "array([[0.+0.j, 0.+0.j],\n",
       "       [0.+0.j, 0.+0.j]], dtype=complex64)"
      ]
     },
     "execution_count": 11,
     "metadata": {},
     "output_type": "execute_result"
    }
   ],
   "source": [
    "np.zeros_like(b)"
   ]
  },
  {
   "cell_type": "markdown",
   "metadata": {},
   "source": [
    "### 2.2 Sequences and reshaping"
   ]
  },
  {
   "cell_type": "markdown",
   "metadata": {},
   "source": [
    "Arrays can be created with ***linspace***, ***logspace*** (returning evenly spaced numbers, linear or logarithmic) or ***arange*** and then shaped in matrix form. **mgrid** is like the equivaled \"meshgrid\" in MATLAB."
   ]
  },
  {
   "cell_type": "code",
   "execution_count": 12,
   "metadata": {},
   "outputs": [
    {
     "data": {
      "text/plain": [
       "array([1.e+01, 1.e+03, 1.e+05])"
      ]
     },
     "execution_count": 12,
     "metadata": {},
     "output_type": "execute_result"
    }
   ],
   "source": [
    "np.logspace(1,5,3)"
   ]
  },
  {
   "cell_type": "code",
   "execution_count": 13,
   "metadata": {},
   "outputs": [],
   "source": [
    "x = np.arange(4).reshape(2,2)"
   ]
  },
  {
   "cell_type": "code",
   "execution_count": 14,
   "metadata": {},
   "outputs": [
    {
     "name": "stdout",
     "output_type": "stream",
     "text": [
      "[[ 0  1  2]\n",
      " [10 11 12]\n",
      " [20 21 22]\n",
      " [30 31 32]]\n"
     ]
    }
   ],
   "source": [
    "# Use List comprehention to create a matrix\n",
    "c = np.array([[10*j+i for i in range(3)] for j in range(4)])\n",
    "print (c)"
   ]
  },
  {
   "cell_type": "markdown",
   "metadata": {},
   "source": [
    "Use *'newaxis'* to add a dimension (as for turning a row vector in a column vector):"
   ]
  },
  {
   "cell_type": "code",
   "execution_count": 15,
   "metadata": {},
   "outputs": [
    {
     "name": "stdout",
     "output_type": "stream",
     "text": [
      "[ 0.  3.  6.  9. 12.]\n",
      "[[ 0.]\n",
      " [ 3.]\n",
      " [ 6.]\n",
      " [ 9.]\n",
      " [12.]]\n"
     ]
    }
   ],
   "source": [
    "d = np.linspace(0, 12, 5)\n",
    "print (d)\n",
    "print (d[:, np.newaxis])       # make into a column vector"
   ]
  },
  {
   "cell_type": "code",
   "execution_count": 16,
   "metadata": {},
   "outputs": [
    {
     "data": {
      "text/plain": [
       "array([[0, 0, 0, 0, 0],\n",
       "       [1, 1, 1, 1, 1],\n",
       "       [2, 2, 2, 2, 2],\n",
       "       [3, 3, 3, 3, 3],\n",
       "       [4, 4, 4, 4, 4]])"
      ]
     },
     "execution_count": 16,
     "metadata": {},
     "output_type": "execute_result"
    }
   ],
   "source": [
    "X, Y = np.mgrid[0:5, 0:5] # similar to meshgrid in MATLAB\n",
    "X"
   ]
  },
  {
   "cell_type": "code",
   "execution_count": 17,
   "metadata": {},
   "outputs": [
    {
     "data": {
      "text/plain": [
       "array([[0, 1, 2, 3, 4],\n",
       "       [0, 1, 2, 3, 4],\n",
       "       [0, 1, 2, 3, 4],\n",
       "       [0, 1, 2, 3, 4],\n",
       "       [0, 1, 2, 3, 4]])"
      ]
     },
     "execution_count": 17,
     "metadata": {},
     "output_type": "execute_result"
    }
   ],
   "source": [
    "Y"
   ]
  },
  {
   "cell_type": "markdown",
   "metadata": {},
   "source": [
    "### 2.3 Sparse Matrices"
   ]
  },
  {
   "cell_type": "markdown",
   "metadata": {},
   "source": [
    "We can create and manipulate sparse matrices as follows:"
   ]
  },
  {
   "cell_type": "code",
   "execution_count": 18,
   "metadata": {},
   "outputs": [
    {
     "name": "stdout",
     "output_type": "stream",
     "text": [
      "[[0.         0.         0.         0.         0.         0.        ]\n",
      " [0.         0.         0.862686   0.         0.98183011 0.        ]\n",
      " [0.         0.         0.         0.         0.91678453 0.        ]\n",
      " [0.         0.         0.         0.         0.         0.        ]\n",
      " [0.         0.         0.         0.         0.         0.        ]]\n",
      "  (1, 2)\t0.8626859953390715\n",
      "  (1, 4)\t0.9818301115418057\n",
      "  (2, 4)\t0.9167845305405492\n"
     ]
    }
   ],
   "source": [
    "from scipy import sparse\n",
    "X = np.random.random((5, 6)) # Create an array with many zeros\n",
    "X[X < 0.85] = 0\n",
    "print (X)\n",
    "X_csr = sparse.csr_matrix(X) # turn X into a csr (Compressed-Sparse-Row) matrix\n",
    "print (X_csr)"
   ]
  },
  {
   "cell_type": "code",
   "execution_count": 19,
   "metadata": {},
   "outputs": [
    {
     "name": "stdout",
     "output_type": "stream",
     "text": [
      "[[0.         0.         0.         0.         0.         0.        ]\n",
      " [0.         0.         0.862686   0.         0.98183011 0.        ]\n",
      " [0.         0.         0.         0.         0.91678453 0.        ]\n",
      " [0.         0.         0.         0.         0.         0.        ]\n",
      " [0.         0.         0.         0.         0.         0.        ]]\n"
     ]
    }
   ],
   "source": [
    "print (X_csr.toarray())       # convert back to a dense array"
   ]
  },
  {
   "cell_type": "markdown",
   "metadata": {},
   "source": [
    "There are several other sparse formats that can be useful for various problems:\n",
    "\n",
    "- `CSC` (compressed sparse column)\n",
    "- `BSR` (block sparse row)\n",
    "- `COO` (coordinate)\n",
    "- `DIA` (diagonal)\n",
    "- `DOK` (dictionary of keys)\n",
    "\n",
    "The ``scipy.sparse`` submodule also has a lot of functions for sparse matrices\n",
    "including linear algebra, sparse solvers, graph algorithms, and much more."
   ]
  },
  {
   "cell_type": "markdown",
   "metadata": {},
   "source": [
    "### 2.4 Random Numbers"
   ]
  },
  {
   "cell_type": "code",
   "execution_count": 20,
   "metadata": {},
   "outputs": [
    {
     "data": {
      "text/plain": [
       "array([[0.46106809, 0.05031194, 0.94729276, 0.61892103, 0.34136097],\n",
       "       [0.38186832, 0.14417673, 0.83097396, 0.96375129, 0.99867487],\n",
       "       [0.1444305 , 0.32541648, 0.47379161, 0.61785889, 0.37073758],\n",
       "       [0.05368767, 0.74738374, 0.0614794 , 0.61771039, 0.25724658]])"
      ]
     },
     "execution_count": 20,
     "metadata": {},
     "output_type": "execute_result"
    }
   ],
   "source": [
    "np.random.rand(4,5) # uniform random numbers in [0,1]"
   ]
  },
  {
   "cell_type": "code",
   "execution_count": 21,
   "metadata": {},
   "outputs": [
    {
     "data": {
      "text/plain": [
       "array([[-0.968592  , -0.29253883,  1.65561957,  0.02048449, -0.18133169],\n",
       "       [-0.24213909,  0.10895673, -0.23968826,  1.47874722,  0.21260384],\n",
       "       [-0.04848066,  0.23510901, -2.74908475, -0.17280323,  0.11577377],\n",
       "       [-0.96707721,  1.2545671 ,  1.09994173,  0.44774959, -0.00881051]])"
      ]
     },
     "execution_count": 21,
     "metadata": {},
     "output_type": "execute_result"
    }
   ],
   "source": [
    "np.random.randn(4,5) # standard normal distributed random numbers"
   ]
  },
  {
   "cell_type": "markdown",
   "metadata": {},
   "source": [
    "### 2.5 Casting"
   ]
  },
  {
   "cell_type": "markdown",
   "metadata": {},
   "source": [
    "Forced casts:"
   ]
  },
  {
   "cell_type": "code",
   "execution_count": 22,
   "metadata": {},
   "outputs": [
    {
     "data": {
      "text/plain": [
       "array([1, 1, 1])"
      ]
     },
     "execution_count": 22,
     "metadata": {},
     "output_type": "execute_result"
    }
   ],
   "source": [
    "a = np.array([1.7, 1.2, 1.6])\n",
    "b = a.astype(int)           # <-- truncates to integer\n",
    "b"
   ]
  },
  {
   "cell_type": "markdown",
   "metadata": {},
   "source": [
    "Rounding:"
   ]
  },
  {
   "cell_type": "code",
   "execution_count": 23,
   "metadata": {},
   "outputs": [
    {
     "name": "stdout",
     "output_type": "stream",
     "text": [
      "[1. 2. 2. 2. 4. 4.]\n",
      "[1 2 2 2 4 4]\n"
     ]
    }
   ],
   "source": [
    "a = np.array([1.2, 1.5, 1.6, 2.5, 3.5, 4.5])\n",
    "b = np.around(a)\n",
    "print (b)                     # still floating-point\n",
    "c = np.around(a).astype(int)\n",
    "print (c)"
   ]
  },
  {
   "cell_type": "markdown",
   "metadata": {},
   "source": [
    "## 3 Basic Visualization with Bokeh"
   ]
  },
  {
   "cell_type": "code",
   "execution_count": 24,
   "metadata": {},
   "outputs": [
    {
     "data": {
      "text/html": [
       "\n",
       "    <div class=\"bk-root\">\n",
       "        <a href=\"https://bokeh.pydata.org\" target=\"_blank\" class=\"bk-logo bk-logo-small bk-logo-notebook\"></a>\n",
       "        <span id=\"1001\">Loading BokehJS ...</span>\n",
       "    </div>"
      ]
     },
     "metadata": {},
     "output_type": "display_data"
    },
    {
     "data": {
      "application/javascript": [
       "\n",
       "(function(root) {\n",
       "  function now() {\n",
       "    return new Date();\n",
       "  }\n",
       "\n",
       "  var force = true;\n",
       "\n",
       "  if (typeof root._bokeh_onload_callbacks === \"undefined\" || force === true) {\n",
       "    root._bokeh_onload_callbacks = [];\n",
       "    root._bokeh_is_loading = undefined;\n",
       "  }\n",
       "\n",
       "  var JS_MIME_TYPE = 'application/javascript';\n",
       "  var HTML_MIME_TYPE = 'text/html';\n",
       "  var EXEC_MIME_TYPE = 'application/vnd.bokehjs_exec.v0+json';\n",
       "  var CLASS_NAME = 'output_bokeh rendered_html';\n",
       "\n",
       "  /**\n",
       "   * Render data to the DOM node\n",
       "   */\n",
       "  function render(props, node) {\n",
       "    var script = document.createElement(\"script\");\n",
       "    node.appendChild(script);\n",
       "  }\n",
       "\n",
       "  /**\n",
       "   * Handle when an output is cleared or removed\n",
       "   */\n",
       "  function handleClearOutput(event, handle) {\n",
       "    var cell = handle.cell;\n",
       "\n",
       "    var id = cell.output_area._bokeh_element_id;\n",
       "    var server_id = cell.output_area._bokeh_server_id;\n",
       "    // Clean up Bokeh references\n",
       "    if (id != null && id in Bokeh.index) {\n",
       "      Bokeh.index[id].model.document.clear();\n",
       "      delete Bokeh.index[id];\n",
       "    }\n",
       "\n",
       "    if (server_id !== undefined) {\n",
       "      // Clean up Bokeh references\n",
       "      var cmd = \"from bokeh.io.state import curstate; print(curstate().uuid_to_server['\" + server_id + \"'].get_sessions()[0].document.roots[0]._id)\";\n",
       "      cell.notebook.kernel.execute(cmd, {\n",
       "        iopub: {\n",
       "          output: function(msg) {\n",
       "            var id = msg.content.text.trim();\n",
       "            if (id in Bokeh.index) {\n",
       "              Bokeh.index[id].model.document.clear();\n",
       "              delete Bokeh.index[id];\n",
       "            }\n",
       "          }\n",
       "        }\n",
       "      });\n",
       "      // Destroy server and session\n",
       "      var cmd = \"import bokeh.io.notebook as ion; ion.destroy_server('\" + server_id + \"')\";\n",
       "      cell.notebook.kernel.execute(cmd);\n",
       "    }\n",
       "  }\n",
       "\n",
       "  /**\n",
       "   * Handle when a new output is added\n",
       "   */\n",
       "  function handleAddOutput(event, handle) {\n",
       "    var output_area = handle.output_area;\n",
       "    var output = handle.output;\n",
       "\n",
       "    // limit handleAddOutput to display_data with EXEC_MIME_TYPE content only\n",
       "    if ((output.output_type != \"display_data\") || (!output.data.hasOwnProperty(EXEC_MIME_TYPE))) {\n",
       "      return\n",
       "    }\n",
       "\n",
       "    var toinsert = output_area.element.find(\".\" + CLASS_NAME.split(' ')[0]);\n",
       "\n",
       "    if (output.metadata[EXEC_MIME_TYPE][\"id\"] !== undefined) {\n",
       "      toinsert[toinsert.length - 1].firstChild.textContent = output.data[JS_MIME_TYPE];\n",
       "      // store reference to embed id on output_area\n",
       "      output_area._bokeh_element_id = output.metadata[EXEC_MIME_TYPE][\"id\"];\n",
       "    }\n",
       "    if (output.metadata[EXEC_MIME_TYPE][\"server_id\"] !== undefined) {\n",
       "      var bk_div = document.createElement(\"div\");\n",
       "      bk_div.innerHTML = output.data[HTML_MIME_TYPE];\n",
       "      var script_attrs = bk_div.children[0].attributes;\n",
       "      for (var i = 0; i < script_attrs.length; i++) {\n",
       "        toinsert[toinsert.length - 1].firstChild.setAttribute(script_attrs[i].name, script_attrs[i].value);\n",
       "      }\n",
       "      // store reference to server id on output_area\n",
       "      output_area._bokeh_server_id = output.metadata[EXEC_MIME_TYPE][\"server_id\"];\n",
       "    }\n",
       "  }\n",
       "\n",
       "  function register_renderer(events, OutputArea) {\n",
       "\n",
       "    function append_mime(data, metadata, element) {\n",
       "      // create a DOM node to render to\n",
       "      var toinsert = this.create_output_subarea(\n",
       "        metadata,\n",
       "        CLASS_NAME,\n",
       "        EXEC_MIME_TYPE\n",
       "      );\n",
       "      this.keyboard_manager.register_events(toinsert);\n",
       "      // Render to node\n",
       "      var props = {data: data, metadata: metadata[EXEC_MIME_TYPE]};\n",
       "      render(props, toinsert[toinsert.length - 1]);\n",
       "      element.append(toinsert);\n",
       "      return toinsert\n",
       "    }\n",
       "\n",
       "    /* Handle when an output is cleared or removed */\n",
       "    events.on('clear_output.CodeCell', handleClearOutput);\n",
       "    events.on('delete.Cell', handleClearOutput);\n",
       "\n",
       "    /* Handle when a new output is added */\n",
       "    events.on('output_added.OutputArea', handleAddOutput);\n",
       "\n",
       "    /**\n",
       "     * Register the mime type and append_mime function with output_area\n",
       "     */\n",
       "    OutputArea.prototype.register_mime_type(EXEC_MIME_TYPE, append_mime, {\n",
       "      /* Is output safe? */\n",
       "      safe: true,\n",
       "      /* Index of renderer in `output_area.display_order` */\n",
       "      index: 0\n",
       "    });\n",
       "  }\n",
       "\n",
       "  // register the mime type if in Jupyter Notebook environment and previously unregistered\n",
       "  if (root.Jupyter !== undefined) {\n",
       "    var events = require('base/js/events');\n",
       "    var OutputArea = require('notebook/js/outputarea').OutputArea;\n",
       "\n",
       "    if (OutputArea.prototype.mime_types().indexOf(EXEC_MIME_TYPE) == -1) {\n",
       "      register_renderer(events, OutputArea);\n",
       "    }\n",
       "  }\n",
       "\n",
       "  \n",
       "  if (typeof (root._bokeh_timeout) === \"undefined\" || force === true) {\n",
       "    root._bokeh_timeout = Date.now() + 5000;\n",
       "    root._bokeh_failed_load = false;\n",
       "  }\n",
       "\n",
       "  var NB_LOAD_WARNING = {'data': {'text/html':\n",
       "     \"<div style='background-color: #fdd'>\\n\"+\n",
       "     \"<p>\\n\"+\n",
       "     \"BokehJS does not appear to have successfully loaded. If loading BokehJS from CDN, this \\n\"+\n",
       "     \"may be due to a slow or bad network connection. Possible fixes:\\n\"+\n",
       "     \"</p>\\n\"+\n",
       "     \"<ul>\\n\"+\n",
       "     \"<li>re-rerun `output_notebook()` to attempt to load from CDN again, or</li>\\n\"+\n",
       "     \"<li>use INLINE resources instead, as so:</li>\\n\"+\n",
       "     \"</ul>\\n\"+\n",
       "     \"<code>\\n\"+\n",
       "     \"from bokeh.resources import INLINE\\n\"+\n",
       "     \"output_notebook(resources=INLINE)\\n\"+\n",
       "     \"</code>\\n\"+\n",
       "     \"</div>\"}};\n",
       "\n",
       "  function display_loaded() {\n",
       "    var el = document.getElementById(\"1001\");\n",
       "    if (el != null) {\n",
       "      el.textContent = \"BokehJS is loading...\";\n",
       "    }\n",
       "    if (root.Bokeh !== undefined) {\n",
       "      if (el != null) {\n",
       "        el.textContent = \"BokehJS \" + root.Bokeh.version + \" successfully loaded.\";\n",
       "      }\n",
       "    } else if (Date.now() < root._bokeh_timeout) {\n",
       "      setTimeout(display_loaded, 100)\n",
       "    }\n",
       "  }\n",
       "\n",
       "\n",
       "  function run_callbacks() {\n",
       "    try {\n",
       "      root._bokeh_onload_callbacks.forEach(function(callback) {\n",
       "        if (callback != null)\n",
       "          callback();\n",
       "      });\n",
       "    } finally {\n",
       "      delete root._bokeh_onload_callbacks\n",
       "    }\n",
       "    console.debug(\"Bokeh: all callbacks have finished\");\n",
       "  }\n",
       "\n",
       "  function load_libs(css_urls, js_urls, callback) {\n",
       "    if (css_urls == null) css_urls = [];\n",
       "    if (js_urls == null) js_urls = [];\n",
       "\n",
       "    root._bokeh_onload_callbacks.push(callback);\n",
       "    if (root._bokeh_is_loading > 0) {\n",
       "      console.debug(\"Bokeh: BokehJS is being loaded, scheduling callback at\", now());\n",
       "      return null;\n",
       "    }\n",
       "    if (js_urls == null || js_urls.length === 0) {\n",
       "      run_callbacks();\n",
       "      return null;\n",
       "    }\n",
       "    console.debug(\"Bokeh: BokehJS not loaded, scheduling load and callback at\", now());\n",
       "    root._bokeh_is_loading = css_urls.length + js_urls.length;\n",
       "\n",
       "    function on_load() {\n",
       "      root._bokeh_is_loading--;\n",
       "      if (root._bokeh_is_loading === 0) {\n",
       "        console.debug(\"Bokeh: all BokehJS libraries/stylesheets loaded\");\n",
       "        run_callbacks()\n",
       "      }\n",
       "    }\n",
       "\n",
       "    function on_error() {\n",
       "      console.error(\"failed to load \" + url);\n",
       "    }\n",
       "\n",
       "    for (var i = 0; i < css_urls.length; i++) {\n",
       "      var url = css_urls[i];\n",
       "      const element = document.createElement(\"link\");\n",
       "      element.onload = on_load;\n",
       "      element.onerror = on_error;\n",
       "      element.rel = \"stylesheet\";\n",
       "      element.type = \"text/css\";\n",
       "      element.href = url;\n",
       "      console.debug(\"Bokeh: injecting link tag for BokehJS stylesheet: \", url);\n",
       "      document.body.appendChild(element);\n",
       "    }\n",
       "\n",
       "    for (var i = 0; i < js_urls.length; i++) {\n",
       "      var url = js_urls[i];\n",
       "      var element = document.createElement('script');\n",
       "      element.onload = on_load;\n",
       "      element.onerror = on_error;\n",
       "      element.async = false;\n",
       "      element.src = url;\n",
       "      console.debug(\"Bokeh: injecting script tag for BokehJS library: \", url);\n",
       "      document.head.appendChild(element);\n",
       "    }\n",
       "  };var element = document.getElementById(\"1001\");\n",
       "  if (element == null) {\n",
       "    console.error(\"Bokeh: ERROR: autoload.js configured with elementid '1001' but no matching script tag was found. \")\n",
       "    return false;\n",
       "  }\n",
       "\n",
       "  function inject_raw_css(css) {\n",
       "    const element = document.createElement(\"style\");\n",
       "    element.appendChild(document.createTextNode(css));\n",
       "    document.body.appendChild(element);\n",
       "  }\n",
       "\n",
       "  var js_urls = [\"https://cdn.pydata.org/bokeh/release/bokeh-1.2.0.min.js\", \"https://cdn.pydata.org/bokeh/release/bokeh-widgets-1.2.0.min.js\", \"https://cdn.pydata.org/bokeh/release/bokeh-tables-1.2.0.min.js\", \"https://cdn.pydata.org/bokeh/release/bokeh-gl-1.2.0.min.js\"];\n",
       "  var css_urls = [\"https://cdn.pydata.org/bokeh/release/bokeh-1.2.0.min.css\", \"https://cdn.pydata.org/bokeh/release/bokeh-widgets-1.2.0.min.css\", \"https://cdn.pydata.org/bokeh/release/bokeh-tables-1.2.0.min.css\"];\n",
       "\n",
       "  var inline_js = [\n",
       "    function(Bokeh) {\n",
       "      Bokeh.set_log_level(\"info\");\n",
       "    },\n",
       "    \n",
       "    function(Bokeh) {\n",
       "      \n",
       "    },\n",
       "    function(Bokeh) {} // ensure no trailing comma for IE\n",
       "  ];\n",
       "\n",
       "  function run_inline_js() {\n",
       "    \n",
       "    if ((root.Bokeh !== undefined) || (force === true)) {\n",
       "      for (var i = 0; i < inline_js.length; i++) {\n",
       "        inline_js[i].call(root, root.Bokeh);\n",
       "      }if (force === true) {\n",
       "        display_loaded();\n",
       "      }} else if (Date.now() < root._bokeh_timeout) {\n",
       "      setTimeout(run_inline_js, 100);\n",
       "    } else if (!root._bokeh_failed_load) {\n",
       "      console.log(\"Bokeh: BokehJS failed to load within specified timeout.\");\n",
       "      root._bokeh_failed_load = true;\n",
       "    } else if (force !== true) {\n",
       "      var cell = $(document.getElementById(\"1001\")).parents('.cell').data().cell;\n",
       "      cell.output_area.append_execute_result(NB_LOAD_WARNING)\n",
       "    }\n",
       "\n",
       "  }\n",
       "\n",
       "  if (root._bokeh_is_loading === 0) {\n",
       "    console.debug(\"Bokeh: BokehJS loaded, going straight to plotting\");\n",
       "    run_inline_js();\n",
       "  } else {\n",
       "    load_libs(css_urls, js_urls, function() {\n",
       "      console.debug(\"Bokeh: BokehJS plotting callback run at\", now());\n",
       "      run_inline_js();\n",
       "    });\n",
       "  }\n",
       "}(window));"
      ],
      "application/vnd.bokehjs_load.v0+json": "\n(function(root) {\n  function now() {\n    return new Date();\n  }\n\n  var force = true;\n\n  if (typeof root._bokeh_onload_callbacks === \"undefined\" || force === true) {\n    root._bokeh_onload_callbacks = [];\n    root._bokeh_is_loading = undefined;\n  }\n\n  \n\n  \n  if (typeof (root._bokeh_timeout) === \"undefined\" || force === true) {\n    root._bokeh_timeout = Date.now() + 5000;\n    root._bokeh_failed_load = false;\n  }\n\n  var NB_LOAD_WARNING = {'data': {'text/html':\n     \"<div style='background-color: #fdd'>\\n\"+\n     \"<p>\\n\"+\n     \"BokehJS does not appear to have successfully loaded. If loading BokehJS from CDN, this \\n\"+\n     \"may be due to a slow or bad network connection. Possible fixes:\\n\"+\n     \"</p>\\n\"+\n     \"<ul>\\n\"+\n     \"<li>re-rerun `output_notebook()` to attempt to load from CDN again, or</li>\\n\"+\n     \"<li>use INLINE resources instead, as so:</li>\\n\"+\n     \"</ul>\\n\"+\n     \"<code>\\n\"+\n     \"from bokeh.resources import INLINE\\n\"+\n     \"output_notebook(resources=INLINE)\\n\"+\n     \"</code>\\n\"+\n     \"</div>\"}};\n\n  function display_loaded() {\n    var el = document.getElementById(\"1001\");\n    if (el != null) {\n      el.textContent = \"BokehJS is loading...\";\n    }\n    if (root.Bokeh !== undefined) {\n      if (el != null) {\n        el.textContent = \"BokehJS \" + root.Bokeh.version + \" successfully loaded.\";\n      }\n    } else if (Date.now() < root._bokeh_timeout) {\n      setTimeout(display_loaded, 100)\n    }\n  }\n\n\n  function run_callbacks() {\n    try {\n      root._bokeh_onload_callbacks.forEach(function(callback) {\n        if (callback != null)\n          callback();\n      });\n    } finally {\n      delete root._bokeh_onload_callbacks\n    }\n    console.debug(\"Bokeh: all callbacks have finished\");\n  }\n\n  function load_libs(css_urls, js_urls, callback) {\n    if (css_urls == null) css_urls = [];\n    if (js_urls == null) js_urls = [];\n\n    root._bokeh_onload_callbacks.push(callback);\n    if (root._bokeh_is_loading > 0) {\n      console.debug(\"Bokeh: BokehJS is being loaded, scheduling callback at\", now());\n      return null;\n    }\n    if (js_urls == null || js_urls.length === 0) {\n      run_callbacks();\n      return null;\n    }\n    console.debug(\"Bokeh: BokehJS not loaded, scheduling load and callback at\", now());\n    root._bokeh_is_loading = css_urls.length + js_urls.length;\n\n    function on_load() {\n      root._bokeh_is_loading--;\n      if (root._bokeh_is_loading === 0) {\n        console.debug(\"Bokeh: all BokehJS libraries/stylesheets loaded\");\n        run_callbacks()\n      }\n    }\n\n    function on_error() {\n      console.error(\"failed to load \" + url);\n    }\n\n    for (var i = 0; i < css_urls.length; i++) {\n      var url = css_urls[i];\n      const element = document.createElement(\"link\");\n      element.onload = on_load;\n      element.onerror = on_error;\n      element.rel = \"stylesheet\";\n      element.type = \"text/css\";\n      element.href = url;\n      console.debug(\"Bokeh: injecting link tag for BokehJS stylesheet: \", url);\n      document.body.appendChild(element);\n    }\n\n    for (var i = 0; i < js_urls.length; i++) {\n      var url = js_urls[i];\n      var element = document.createElement('script');\n      element.onload = on_load;\n      element.onerror = on_error;\n      element.async = false;\n      element.src = url;\n      console.debug(\"Bokeh: injecting script tag for BokehJS library: \", url);\n      document.head.appendChild(element);\n    }\n  };var element = document.getElementById(\"1001\");\n  if (element == null) {\n    console.error(\"Bokeh: ERROR: autoload.js configured with elementid '1001' but no matching script tag was found. \")\n    return false;\n  }\n\n  function inject_raw_css(css) {\n    const element = document.createElement(\"style\");\n    element.appendChild(document.createTextNode(css));\n    document.body.appendChild(element);\n  }\n\n  var js_urls = [\"https://cdn.pydata.org/bokeh/release/bokeh-1.2.0.min.js\", \"https://cdn.pydata.org/bokeh/release/bokeh-widgets-1.2.0.min.js\", \"https://cdn.pydata.org/bokeh/release/bokeh-tables-1.2.0.min.js\", \"https://cdn.pydata.org/bokeh/release/bokeh-gl-1.2.0.min.js\"];\n  var css_urls = [\"https://cdn.pydata.org/bokeh/release/bokeh-1.2.0.min.css\", \"https://cdn.pydata.org/bokeh/release/bokeh-widgets-1.2.0.min.css\", \"https://cdn.pydata.org/bokeh/release/bokeh-tables-1.2.0.min.css\"];\n\n  var inline_js = [\n    function(Bokeh) {\n      Bokeh.set_log_level(\"info\");\n    },\n    \n    function(Bokeh) {\n      \n    },\n    function(Bokeh) {} // ensure no trailing comma for IE\n  ];\n\n  function run_inline_js() {\n    \n    if ((root.Bokeh !== undefined) || (force === true)) {\n      for (var i = 0; i < inline_js.length; i++) {\n        inline_js[i].call(root, root.Bokeh);\n      }if (force === true) {\n        display_loaded();\n      }} else if (Date.now() < root._bokeh_timeout) {\n      setTimeout(run_inline_js, 100);\n    } else if (!root._bokeh_failed_load) {\n      console.log(\"Bokeh: BokehJS failed to load within specified timeout.\");\n      root._bokeh_failed_load = true;\n    } else if (force !== true) {\n      var cell = $(document.getElementById(\"1001\")).parents('.cell').data().cell;\n      cell.output_area.append_execute_result(NB_LOAD_WARNING)\n    }\n\n  }\n\n  if (root._bokeh_is_loading === 0) {\n    console.debug(\"Bokeh: BokehJS loaded, going straight to plotting\");\n    run_inline_js();\n  } else {\n    load_libs(css_urls, js_urls, function() {\n      console.debug(\"Bokeh: BokehJS plotting callback run at\", now());\n      run_inline_js();\n    });\n  }\n}(window));"
     },
     "metadata": {},
     "output_type": "display_data"
    }
   ],
   "source": [
    "import bokeh.plotting as bk\n",
    "bk.output_notebook()"
   ]
  },
  {
   "cell_type": "markdown",
   "metadata": {},
   "source": [
    "### 3.1 2D Plotting"
   ]
  },
  {
   "cell_type": "code",
   "execution_count": 25,
   "metadata": {
    "scrolled": false
   },
   "outputs": [
    {
     "data": {
      "text/html": [
       "\n",
       "\n",
       "\n",
       "\n",
       "\n",
       "\n",
       "  <div class=\"bk-root\" id=\"555f1e01-38f6-4b15-9d2f-78583b0804b3\" data-root-id=\"1002\"></div>\n"
      ]
     },
     "metadata": {},
     "output_type": "display_data"
    },
    {
     "data": {
      "application/javascript": [
       "(function(root) {\n",
       "  function embed_document(root) {\n",
       "    \n",
       "  var docs_json = {\"5279713e-b6c5-4e29-b919-34d5d9262d2e\":{\"roots\":{\"references\":[{\"attributes\":{\"below\":[{\"id\":\"1011\",\"type\":\"LinearAxis\"}],\"center\":[{\"id\":\"1015\",\"type\":\"Grid\"},{\"id\":\"1020\",\"type\":\"Grid\"}],\"left\":[{\"id\":\"1016\",\"type\":\"LinearAxis\"}],\"renderers\":[{\"id\":\"1037\",\"type\":\"GlyphRenderer\"},{\"id\":\"1042\",\"type\":\"GlyphRenderer\"}],\"title\":{\"id\":\"1045\",\"type\":\"Title\"},\"toolbar\":{\"id\":\"1027\",\"type\":\"Toolbar\"},\"x_range\":{\"id\":\"1003\",\"type\":\"DataRange1d\"},\"x_scale\":{\"id\":\"1007\",\"type\":\"LinearScale\"},\"y_range\":{\"id\":\"1005\",\"type\":\"DataRange1d\"},\"y_scale\":{\"id\":\"1009\",\"type\":\"LinearScale\"}},\"id\":\"1002\",\"subtype\":\"Figure\",\"type\":\"Plot\"},{\"attributes\":{\"source\":{\"id\":\"1039\",\"type\":\"ColumnDataSource\"}},\"id\":\"1043\",\"type\":\"CDSView\"},{\"attributes\":{\"dimension\":1,\"ticker\":{\"id\":\"1017\",\"type\":\"BasicTicker\"}},\"id\":\"1020\",\"type\":\"Grid\"},{\"attributes\":{\"line_color\":\"#1f77b4\",\"x\":{\"field\":\"x\"},\"y\":{\"field\":\"y\"}},\"id\":\"1035\",\"type\":\"Line\"},{\"attributes\":{},\"id\":\"1046\",\"type\":\"BasicTickFormatter\"},{\"attributes\":{\"bottom_units\":\"screen\",\"fill_alpha\":{\"value\":0.5},\"fill_color\":{\"value\":\"lightgrey\"},\"left_units\":\"screen\",\"level\":\"overlay\",\"line_alpha\":{\"value\":1.0},\"line_color\":{\"value\":\"black\"},\"line_dash\":[4,4],\"line_width\":{\"value\":2},\"render_mode\":\"css\",\"right_units\":\"screen\",\"top_units\":\"screen\"},\"id\":\"1050\",\"type\":\"BoxAnnotation\"},{\"attributes\":{},\"id\":\"1021\",\"type\":\"PanTool\"},{\"attributes\":{},\"id\":\"1051\",\"type\":\"Selection\"},{\"attributes\":{},\"id\":\"1022\",\"type\":\"WheelZoomTool\"},{\"attributes\":{\"callback\":null},\"id\":\"1003\",\"type\":\"DataRange1d\"},{\"attributes\":{},\"id\":\"1052\",\"type\":\"UnionRenderers\"},{\"attributes\":{\"overlay\":{\"id\":\"1050\",\"type\":\"BoxAnnotation\"}},\"id\":\"1023\",\"type\":\"BoxZoomTool\"},{\"attributes\":{},\"id\":\"1053\",\"type\":\"Selection\"},{\"attributes\":{},\"id\":\"1024\",\"type\":\"SaveTool\"},{\"attributes\":{\"callback\":null,\"data\":{\"x\":{\"__ndarray__\":\"AAAAAAAAAABeQ3kN5TXEP15DeQ3lNdQ/DeU1lNdQ3j9eQ3kN5TXkPzaU11BeQ+k/DeU1lNdQ7j/yGsprKK/xP15DeQ3lNfQ/ymsor6G89j82lNdQXkP5P6G8hvIayvs/DeU1lNdQ/j+8hvIaymsAQPIaymsorwFAKK+hvIbyAkBeQ3kN5TUEQJTXUF5DeQVAymsor6G8BkAAAAAAAAAIQA==\",\"dtype\":\"float64\",\"shape\":[20]},\"y\":{\"__ndarray__\":\"AAAAAAAAAAAN5TWU11DePw3lNZTXUO4/ymsor6G89j8N5TWU11D+PyivobyG8gJAymsor6G8BkBrKK+hvIYKQA3lNZTXUA5A11BeQ3kNEUAor6G8hvISQHkN5TWU1xRAymsor6G8FkAbymsor6EYQGsor6G8hhpAvIbyGsprHEAN5TWU11AeQK+hvIbyGiBA11BeQ3kNIUAAAAAAAAAiQA==\",\"dtype\":\"float64\",\"shape\":[20]}},\"selected\":{\"id\":\"1053\",\"type\":\"Selection\"},\"selection_policy\":{\"id\":\"1054\",\"type\":\"UnionRenderers\"}},\"id\":\"1039\",\"type\":\"ColumnDataSource\"},{\"attributes\":{\"callback\":null,\"data\":{\"x\":{\"__ndarray__\":\"AAAAAAAAAABeQ3kN5TXEP15DeQ3lNdQ/DeU1lNdQ3j9eQ3kN5TXkPzaU11BeQ+k/DeU1lNdQ7j/yGsprKK/xP15DeQ3lNfQ/ymsor6G89j82lNdQXkP5P6G8hvIayvs/DeU1lNdQ/j+8hvIaymsAQPIaymsorwFAKK+hvIbyAkBeQ3kN5TUEQJTXUF5DeQVAymsor6G8BkAAAAAAAAAIQA==\",\"dtype\":\"float64\",\"shape\":[20]},\"y\":{\"__ndarray__\":\"AAAAAAAAAAAN5TWU11DePw3lNZTXUO4/ymsor6G89j8N5TWU11D+PyivobyG8gJAymsor6G8BkBrKK+hvIYKQA3lNZTXUA5A11BeQ3kNEUAor6G8hvISQHkN5TWU1xRAymsor6G8FkAbymsor6EYQGsor6G8hhpAvIbyGsprHEAN5TWU11AeQK+hvIbyGiBA11BeQ3kNIUAAAAAAAAAiQA==\",\"dtype\":\"float64\",\"shape\":[20]}},\"selected\":{\"id\":\"1051\",\"type\":\"Selection\"},\"selection_policy\":{\"id\":\"1052\",\"type\":\"UnionRenderers\"}},\"id\":\"1034\",\"type\":\"ColumnDataSource\"},{\"attributes\":{},\"id\":\"1054\",\"type\":\"UnionRenderers\"},{\"attributes\":{},\"id\":\"1025\",\"type\":\"ResetTool\"},{\"attributes\":{},\"id\":\"1048\",\"type\":\"BasicTickFormatter\"},{\"attributes\":{},\"id\":\"1026\",\"type\":\"HelpTool\"},{\"attributes\":{\"active_drag\":\"auto\",\"active_inspect\":\"auto\",\"active_multi\":null,\"active_scroll\":\"auto\",\"active_tap\":\"auto\",\"tools\":[{\"id\":\"1021\",\"type\":\"PanTool\"},{\"id\":\"1022\",\"type\":\"WheelZoomTool\"},{\"id\":\"1023\",\"type\":\"BoxZoomTool\"},{\"id\":\"1024\",\"type\":\"SaveTool\"},{\"id\":\"1025\",\"type\":\"ResetTool\"},{\"id\":\"1026\",\"type\":\"HelpTool\"}]},\"id\":\"1027\",\"type\":\"Toolbar\"},{\"attributes\":{\"callback\":null},\"id\":\"1005\",\"type\":\"DataRange1d\"},{\"attributes\":{\"line_alpha\":0.1,\"line_color\":\"#1f77b4\",\"x\":{\"field\":\"x\"},\"y\":{\"field\":\"y\"}},\"id\":\"1036\",\"type\":\"Line\"},{\"attributes\":{},\"id\":\"1007\",\"type\":\"LinearScale\"},{\"attributes\":{\"data_source\":{\"id\":\"1034\",\"type\":\"ColumnDataSource\"},\"glyph\":{\"id\":\"1035\",\"type\":\"Line\"},\"hover_glyph\":null,\"muted_glyph\":null,\"nonselection_glyph\":{\"id\":\"1036\",\"type\":\"Line\"},\"selection_glyph\":null,\"view\":{\"id\":\"1038\",\"type\":\"CDSView\"}},\"id\":\"1037\",\"type\":\"GlyphRenderer\"},{\"attributes\":{},\"id\":\"1009\",\"type\":\"LinearScale\"},{\"attributes\":{\"source\":{\"id\":\"1034\",\"type\":\"ColumnDataSource\"}},\"id\":\"1038\",\"type\":\"CDSView\"},{\"attributes\":{\"formatter\":{\"id\":\"1048\",\"type\":\"BasicTickFormatter\"},\"ticker\":{\"id\":\"1012\",\"type\":\"BasicTicker\"}},\"id\":\"1011\",\"type\":\"LinearAxis\"},{\"attributes\":{\"text\":\"\"},\"id\":\"1045\",\"type\":\"Title\"},{\"attributes\":{},\"id\":\"1012\",\"type\":\"BasicTicker\"},{\"attributes\":{\"ticker\":{\"id\":\"1012\",\"type\":\"BasicTicker\"}},\"id\":\"1015\",\"type\":\"Grid\"},{\"attributes\":{\"fill_color\":{\"value\":\"green\"},\"line_color\":{\"value\":\"green\"},\"x\":{\"field\":\"x\"},\"y\":{\"field\":\"y\"}},\"id\":\"1040\",\"type\":\"Circle\"},{\"attributes\":{\"formatter\":{\"id\":\"1046\",\"type\":\"BasicTickFormatter\"},\"ticker\":{\"id\":\"1017\",\"type\":\"BasicTicker\"}},\"id\":\"1016\",\"type\":\"LinearAxis\"},{\"attributes\":{\"fill_alpha\":{\"value\":0.1},\"fill_color\":{\"value\":\"#1f77b4\"},\"line_alpha\":{\"value\":0.1},\"line_color\":{\"value\":\"#1f77b4\"},\"x\":{\"field\":\"x\"},\"y\":{\"field\":\"y\"}},\"id\":\"1041\",\"type\":\"Circle\"},{\"attributes\":{},\"id\":\"1017\",\"type\":\"BasicTicker\"},{\"attributes\":{\"data_source\":{\"id\":\"1039\",\"type\":\"ColumnDataSource\"},\"glyph\":{\"id\":\"1040\",\"type\":\"Circle\"},\"hover_glyph\":null,\"muted_glyph\":null,\"nonselection_glyph\":{\"id\":\"1041\",\"type\":\"Circle\"},\"selection_glyph\":null,\"view\":{\"id\":\"1043\",\"type\":\"CDSView\"}},\"id\":\"1042\",\"type\":\"GlyphRenderer\"}],\"root_ids\":[\"1002\"]},\"title\":\"Bokeh Application\",\"version\":\"1.2.0\"}};\n",
       "  var render_items = [{\"docid\":\"5279713e-b6c5-4e29-b919-34d5d9262d2e\",\"roots\":{\"1002\":\"555f1e01-38f6-4b15-9d2f-78583b0804b3\"}}];\n",
       "  root.Bokeh.embed.embed_items_notebook(docs_json, render_items);\n",
       "\n",
       "  }\n",
       "  if (root.Bokeh !== undefined) {\n",
       "    embed_document(root);\n",
       "  } else {\n",
       "    var attempts = 0;\n",
       "    var timer = setInterval(function(root) {\n",
       "      if (root.Bokeh !== undefined) {\n",
       "        embed_document(root);\n",
       "        clearInterval(timer);\n",
       "      }\n",
       "      attempts++;\n",
       "      if (attempts > 100) {\n",
       "        console.log(\"Bokeh: ERROR: Unable to run BokehJS code because BokehJS library is missing\");\n",
       "        clearInterval(timer);\n",
       "      }\n",
       "    }, 10, root)\n",
       "  }\n",
       "})(window);"
      ],
      "application/vnd.bokehjs_exec.v0+json": ""
     },
     "metadata": {
      "application/vnd.bokehjs_exec.v0+json": {
       "id": "1002"
      }
     },
     "output_type": "display_data"
    }
   ],
   "source": [
    "x = np.linspace(0, 3, 20)\n",
    "y = np.linspace(0, 9, 20)\n",
    "fig = bk.figure()\n",
    "fig.line(x, y)\n",
    "fig.circle(x, y, color='green')\n",
    "bk.show(fig)"
   ]
  },
  {
   "cell_type": "markdown",
   "metadata": {},
   "source": [
    "Somethimes, if the code is not relevant for the topic we are developing, we can put the code in a separate file and run it from the Notebook:"
   ]
  },
  {
   "cell_type": "code",
   "execution_count": 26,
   "metadata": {
    "scrolled": false
   },
   "outputs": [
    {
     "data": {
      "text/html": [
       "\n",
       "\n",
       "\n",
       "\n",
       "\n",
       "\n",
       "  <div class=\"bk-root\" id=\"493b3ebf-6372-4326-9657-05958cf11847\" data-root-id=\"1121\"></div>\n"
      ]
     },
     "metadata": {},
     "output_type": "display_data"
    },
    {
     "data": {
      "application/javascript": [
       "(function(root) {\n",
       "  function embed_document(root) {\n",
       "    \n",
       "  var docs_json = {\"bd9941aa-618d-4722-8757-357845601f82\":{\"roots\":{\"references\":[{\"attributes\":{\"below\":[{\"id\":\"1130\",\"type\":\"LinearAxis\"}],\"center\":[{\"id\":\"1134\",\"type\":\"Grid\"},{\"id\":\"1139\",\"type\":\"Grid\"}],\"left\":[{\"id\":\"1135\",\"type\":\"LinearAxis\"}],\"renderers\":[{\"id\":\"1158\",\"type\":\"GlyphRenderer\"}],\"title\":{\"id\":\"1172\",\"type\":\"Title\"},\"toolbar\":{\"id\":\"1146\",\"type\":\"Toolbar\"},\"x_range\":{\"id\":\"1122\",\"type\":\"DataRange1d\"},\"x_scale\":{\"id\":\"1126\",\"type\":\"LinearScale\"},\"y_range\":{\"id\":\"1124\",\"type\":\"DataRange1d\"},\"y_scale\":{\"id\":\"1128\",\"type\":\"LinearScale\"}},\"id\":\"1121\",\"subtype\":\"Figure\",\"type\":\"Plot\"},{\"attributes\":{\"source\":{\"id\":\"1153\",\"type\":\"ColumnDataSource\"}},\"id\":\"1159\",\"type\":\"CDSView\"},{\"attributes\":{},\"id\":\"1144\",\"type\":\"ResetTool\"},{\"attributes\":{\"text\":\"\"},\"id\":\"1172\",\"type\":\"Title\"},{\"attributes\":{\"callback\":null},\"id\":\"1122\",\"type\":\"DataRange1d\"},{\"attributes\":{\"data_source\":{\"id\":\"1153\",\"type\":\"ColumnDataSource\"},\"glyph\":{\"id\":\"1154\",\"type\":\"Image\"},\"hover_glyph\":null,\"muted_glyph\":null,\"nonselection_glyph\":{\"id\":\"1156\",\"type\":\"Image\"},\"selection_glyph\":null,\"view\":{\"id\":\"1159\",\"type\":\"CDSView\"}},\"id\":\"1158\",\"type\":\"GlyphRenderer\"},{\"attributes\":{\"callback\":null},\"id\":\"1124\",\"type\":\"DataRange1d\"},{\"attributes\":{},\"id\":\"1140\",\"type\":\"PanTool\"},{\"attributes\":{},\"id\":\"1173\",\"type\":\"BasicTickFormatter\"},{\"attributes\":{\"bottom_units\":\"screen\",\"fill_alpha\":{\"value\":0.5},\"fill_color\":{\"value\":\"lightgrey\"},\"left_units\":\"screen\",\"level\":\"overlay\",\"line_alpha\":{\"value\":1.0},\"line_color\":{\"value\":\"black\"},\"line_dash\":[4,4],\"line_width\":{\"value\":2},\"render_mode\":\"css\",\"right_units\":\"screen\",\"top_units\":\"screen\"},\"id\":\"1177\",\"type\":\"BoxAnnotation\"},{\"attributes\":{},\"id\":\"1126\",\"type\":\"LinearScale\"},{\"attributes\":{},\"id\":\"1175\",\"type\":\"BasicTickFormatter\"},{\"attributes\":{\"palette\":[\"#7f0000\",\"#b30000\",\"#d7301f\",\"#ef6548\",\"#fc8d59\",\"#fdbb84\",\"#fdd49e\",\"#fee8c8\",\"#fff7ec\"]},\"id\":\"1155\",\"type\":\"LinearColorMapper\"},{\"attributes\":{},\"id\":\"1128\",\"type\":\"LinearScale\"},{\"attributes\":{\"callback\":null,\"data\":{\"dh\":[1],\"dw\":[1],\"image\":[{\"__ndarray__\":\"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\",\"dtype\":\"float64\",\"shape\":[120,120]}],\"x\":[0],\"y\":[0]},\"selected\":{\"id\":\"1178\",\"type\":\"Selection\"},\"selection_policy\":{\"id\":\"1179\",\"type\":\"UnionRenderers\"}},\"id\":\"1153\",\"type\":\"ColumnDataSource\"},{\"attributes\":{},\"id\":\"1179\",\"type\":\"UnionRenderers\"},{\"attributes\":{\"color_mapper\":{\"id\":\"1157\",\"type\":\"LinearColorMapper\"},\"dh\":{\"field\":\"dh\",\"units\":\"data\"},\"dw\":{\"field\":\"dw\",\"units\":\"data\"},\"image\":{\"field\":\"image\"},\"x\":{\"field\":\"x\"},\"y\":{\"field\":\"y\"}},\"id\":\"1156\",\"type\":\"Image\"},{\"attributes\":{},\"id\":\"1178\",\"type\":\"Selection\"},{\"attributes\":{\"ticker\":{\"id\":\"1131\",\"type\":\"BasicTicker\"}},\"id\":\"1134\",\"type\":\"Grid\"},{\"attributes\":{\"overlay\":{\"id\":\"1177\",\"type\":\"BoxAnnotation\"}},\"id\":\"1142\",\"type\":\"BoxZoomTool\"},{\"attributes\":{\"dimension\":1,\"ticker\":{\"id\":\"1136\",\"type\":\"BasicTicker\"}},\"id\":\"1139\",\"type\":\"Grid\"},{\"attributes\":{\"palette\":[\"#7f0000\",\"#b30000\",\"#d7301f\",\"#ef6548\",\"#fc8d59\",\"#fdbb84\",\"#fdd49e\",\"#fee8c8\",\"#fff7ec\"]},\"id\":\"1157\",\"type\":\"LinearColorMapper\"},{\"attributes\":{\"color_mapper\":{\"id\":\"1155\",\"type\":\"LinearColorMapper\"},\"dh\":{\"field\":\"dh\",\"units\":\"data\"},\"dw\":{\"field\":\"dw\",\"units\":\"data\"},\"image\":{\"field\":\"image\"},\"x\":{\"field\":\"x\"},\"y\":{\"field\":\"y\"}},\"id\":\"1154\",\"type\":\"Image\"},{\"attributes\":{},\"id\":\"1136\",\"type\":\"BasicTicker\"},{\"attributes\":{},\"id\":\"1145\",\"type\":\"HelpTool\"},{\"attributes\":{\"formatter\":{\"id\":\"1175\",\"type\":\"BasicTickFormatter\"},\"ticker\":{\"id\":\"1131\",\"type\":\"BasicTicker\"}},\"id\":\"1130\",\"type\":\"LinearAxis\"},{\"attributes\":{\"formatter\":{\"id\":\"1173\",\"type\":\"BasicTickFormatter\"},\"ticker\":{\"id\":\"1136\",\"type\":\"BasicTicker\"}},\"id\":\"1135\",\"type\":\"LinearAxis\"},{\"attributes\":{\"active_drag\":\"auto\",\"active_inspect\":\"auto\",\"active_multi\":null,\"active_scroll\":\"auto\",\"active_tap\":\"auto\",\"tools\":[{\"id\":\"1140\",\"type\":\"PanTool\"},{\"id\":\"1141\",\"type\":\"WheelZoomTool\"},{\"id\":\"1142\",\"type\":\"BoxZoomTool\"},{\"id\":\"1143\",\"type\":\"SaveTool\"},{\"id\":\"1144\",\"type\":\"ResetTool\"},{\"id\":\"1145\",\"type\":\"HelpTool\"}]},\"id\":\"1146\",\"type\":\"Toolbar\"},{\"attributes\":{},\"id\":\"1141\",\"type\":\"WheelZoomTool\"},{\"attributes\":{},\"id\":\"1143\",\"type\":\"SaveTool\"},{\"attributes\":{},\"id\":\"1131\",\"type\":\"BasicTicker\"}],\"root_ids\":[\"1121\"]},\"title\":\"Bokeh Application\",\"version\":\"1.2.0\"}};\n",
       "  var render_items = [{\"docid\":\"bd9941aa-618d-4722-8757-357845601f82\",\"roots\":{\"1121\":\"493b3ebf-6372-4326-9657-05958cf11847\"}}];\n",
       "  root.Bokeh.embed.embed_items_notebook(docs_json, render_items);\n",
       "\n",
       "  }\n",
       "  if (root.Bokeh !== undefined) {\n",
       "    embed_document(root);\n",
       "  } else {\n",
       "    var attempts = 0;\n",
       "    var timer = setInterval(function(root) {\n",
       "      if (root.Bokeh !== undefined) {\n",
       "        embed_document(root);\n",
       "        clearInterval(timer);\n",
       "      }\n",
       "      attempts++;\n",
       "      if (attempts > 100) {\n",
       "        console.log(\"Bokeh: ERROR: Unable to run BokehJS code because BokehJS library is missing\");\n",
       "        clearInterval(timer);\n",
       "      }\n",
       "    }, 10, root)\n",
       "  }\n",
       "})(window);"
      ],
      "application/vnd.bokehjs_exec.v0+json": ""
     },
     "metadata": {
      "application/vnd.bokehjs_exec.v0+json": {
       "id": "1121"
      }
     },
     "output_type": "display_data"
    }
   ],
   "source": [
    "from utilities import plot_01\n",
    "bk.show(plot_01())"
   ]
  },
  {
   "cell_type": "markdown",
   "metadata": {},
   "source": [
    "At any time if you want to see the code, you can load it and run it directly from the cell in the Notebook:"
   ]
  },
  {
   "cell_type": "code",
   "execution_count": 27,
   "metadata": {},
   "outputs": [
    {
     "data": {
      "text/html": [
       "\n",
       "    <div class=\"bk-root\">\n",
       "        <a href=\"https://bokeh.pydata.org\" target=\"_blank\" class=\"bk-logo bk-logo-small bk-logo-notebook\"></a>\n",
       "        <span id=\"1234\">Loading BokehJS ...</span>\n",
       "    </div>"
      ]
     },
     "metadata": {},
     "output_type": "display_data"
    },
    {
     "data": {
      "application/javascript": [
       "\n",
       "(function(root) {\n",
       "  function now() {\n",
       "    return new Date();\n",
       "  }\n",
       "\n",
       "  var force = true;\n",
       "\n",
       "  if (typeof root._bokeh_onload_callbacks === \"undefined\" || force === true) {\n",
       "    root._bokeh_onload_callbacks = [];\n",
       "    root._bokeh_is_loading = undefined;\n",
       "  }\n",
       "\n",
       "  var JS_MIME_TYPE = 'application/javascript';\n",
       "  var HTML_MIME_TYPE = 'text/html';\n",
       "  var EXEC_MIME_TYPE = 'application/vnd.bokehjs_exec.v0+json';\n",
       "  var CLASS_NAME = 'output_bokeh rendered_html';\n",
       "\n",
       "  /**\n",
       "   * Render data to the DOM node\n",
       "   */\n",
       "  function render(props, node) {\n",
       "    var script = document.createElement(\"script\");\n",
       "    node.appendChild(script);\n",
       "  }\n",
       "\n",
       "  /**\n",
       "   * Handle when an output is cleared or removed\n",
       "   */\n",
       "  function handleClearOutput(event, handle) {\n",
       "    var cell = handle.cell;\n",
       "\n",
       "    var id = cell.output_area._bokeh_element_id;\n",
       "    var server_id = cell.output_area._bokeh_server_id;\n",
       "    // Clean up Bokeh references\n",
       "    if (id != null && id in Bokeh.index) {\n",
       "      Bokeh.index[id].model.document.clear();\n",
       "      delete Bokeh.index[id];\n",
       "    }\n",
       "\n",
       "    if (server_id !== undefined) {\n",
       "      // Clean up Bokeh references\n",
       "      var cmd = \"from bokeh.io.state import curstate; print(curstate().uuid_to_server['\" + server_id + \"'].get_sessions()[0].document.roots[0]._id)\";\n",
       "      cell.notebook.kernel.execute(cmd, {\n",
       "        iopub: {\n",
       "          output: function(msg) {\n",
       "            var id = msg.content.text.trim();\n",
       "            if (id in Bokeh.index) {\n",
       "              Bokeh.index[id].model.document.clear();\n",
       "              delete Bokeh.index[id];\n",
       "            }\n",
       "          }\n",
       "        }\n",
       "      });\n",
       "      // Destroy server and session\n",
       "      var cmd = \"import bokeh.io.notebook as ion; ion.destroy_server('\" + server_id + \"')\";\n",
       "      cell.notebook.kernel.execute(cmd);\n",
       "    }\n",
       "  }\n",
       "\n",
       "  /**\n",
       "   * Handle when a new output is added\n",
       "   */\n",
       "  function handleAddOutput(event, handle) {\n",
       "    var output_area = handle.output_area;\n",
       "    var output = handle.output;\n",
       "\n",
       "    // limit handleAddOutput to display_data with EXEC_MIME_TYPE content only\n",
       "    if ((output.output_type != \"display_data\") || (!output.data.hasOwnProperty(EXEC_MIME_TYPE))) {\n",
       "      return\n",
       "    }\n",
       "\n",
       "    var toinsert = output_area.element.find(\".\" + CLASS_NAME.split(' ')[0]);\n",
       "\n",
       "    if (output.metadata[EXEC_MIME_TYPE][\"id\"] !== undefined) {\n",
       "      toinsert[toinsert.length - 1].firstChild.textContent = output.data[JS_MIME_TYPE];\n",
       "      // store reference to embed id on output_area\n",
       "      output_area._bokeh_element_id = output.metadata[EXEC_MIME_TYPE][\"id\"];\n",
       "    }\n",
       "    if (output.metadata[EXEC_MIME_TYPE][\"server_id\"] !== undefined) {\n",
       "      var bk_div = document.createElement(\"div\");\n",
       "      bk_div.innerHTML = output.data[HTML_MIME_TYPE];\n",
       "      var script_attrs = bk_div.children[0].attributes;\n",
       "      for (var i = 0; i < script_attrs.length; i++) {\n",
       "        toinsert[toinsert.length - 1].firstChild.setAttribute(script_attrs[i].name, script_attrs[i].value);\n",
       "      }\n",
       "      // store reference to server id on output_area\n",
       "      output_area._bokeh_server_id = output.metadata[EXEC_MIME_TYPE][\"server_id\"];\n",
       "    }\n",
       "  }\n",
       "\n",
       "  function register_renderer(events, OutputArea) {\n",
       "\n",
       "    function append_mime(data, metadata, element) {\n",
       "      // create a DOM node to render to\n",
       "      var toinsert = this.create_output_subarea(\n",
       "        metadata,\n",
       "        CLASS_NAME,\n",
       "        EXEC_MIME_TYPE\n",
       "      );\n",
       "      this.keyboard_manager.register_events(toinsert);\n",
       "      // Render to node\n",
       "      var props = {data: data, metadata: metadata[EXEC_MIME_TYPE]};\n",
       "      render(props, toinsert[toinsert.length - 1]);\n",
       "      element.append(toinsert);\n",
       "      return toinsert\n",
       "    }\n",
       "\n",
       "    /* Handle when an output is cleared or removed */\n",
       "    events.on('clear_output.CodeCell', handleClearOutput);\n",
       "    events.on('delete.Cell', handleClearOutput);\n",
       "\n",
       "    /* Handle when a new output is added */\n",
       "    events.on('output_added.OutputArea', handleAddOutput);\n",
       "\n",
       "    /**\n",
       "     * Register the mime type and append_mime function with output_area\n",
       "     */\n",
       "    OutputArea.prototype.register_mime_type(EXEC_MIME_TYPE, append_mime, {\n",
       "      /* Is output safe? */\n",
       "      safe: true,\n",
       "      /* Index of renderer in `output_area.display_order` */\n",
       "      index: 0\n",
       "    });\n",
       "  }\n",
       "\n",
       "  // register the mime type if in Jupyter Notebook environment and previously unregistered\n",
       "  if (root.Jupyter !== undefined) {\n",
       "    var events = require('base/js/events');\n",
       "    var OutputArea = require('notebook/js/outputarea').OutputArea;\n",
       "\n",
       "    if (OutputArea.prototype.mime_types().indexOf(EXEC_MIME_TYPE) == -1) {\n",
       "      register_renderer(events, OutputArea);\n",
       "    }\n",
       "  }\n",
       "\n",
       "  \n",
       "  if (typeof (root._bokeh_timeout) === \"undefined\" || force === true) {\n",
       "    root._bokeh_timeout = Date.now() + 5000;\n",
       "    root._bokeh_failed_load = false;\n",
       "  }\n",
       "\n",
       "  var NB_LOAD_WARNING = {'data': {'text/html':\n",
       "     \"<div style='background-color: #fdd'>\\n\"+\n",
       "     \"<p>\\n\"+\n",
       "     \"BokehJS does not appear to have successfully loaded. If loading BokehJS from CDN, this \\n\"+\n",
       "     \"may be due to a slow or bad network connection. Possible fixes:\\n\"+\n",
       "     \"</p>\\n\"+\n",
       "     \"<ul>\\n\"+\n",
       "     \"<li>re-rerun `output_notebook()` to attempt to load from CDN again, or</li>\\n\"+\n",
       "     \"<li>use INLINE resources instead, as so:</li>\\n\"+\n",
       "     \"</ul>\\n\"+\n",
       "     \"<code>\\n\"+\n",
       "     \"from bokeh.resources import INLINE\\n\"+\n",
       "     \"output_notebook(resources=INLINE)\\n\"+\n",
       "     \"</code>\\n\"+\n",
       "     \"</div>\"}};\n",
       "\n",
       "  function display_loaded() {\n",
       "    var el = document.getElementById(\"1234\");\n",
       "    if (el != null) {\n",
       "      el.textContent = \"BokehJS is loading...\";\n",
       "    }\n",
       "    if (root.Bokeh !== undefined) {\n",
       "      if (el != null) {\n",
       "        el.textContent = \"BokehJS \" + root.Bokeh.version + \" successfully loaded.\";\n",
       "      }\n",
       "    } else if (Date.now() < root._bokeh_timeout) {\n",
       "      setTimeout(display_loaded, 100)\n",
       "    }\n",
       "  }\n",
       "\n",
       "\n",
       "  function run_callbacks() {\n",
       "    try {\n",
       "      root._bokeh_onload_callbacks.forEach(function(callback) {\n",
       "        if (callback != null)\n",
       "          callback();\n",
       "      });\n",
       "    } finally {\n",
       "      delete root._bokeh_onload_callbacks\n",
       "    }\n",
       "    console.debug(\"Bokeh: all callbacks have finished\");\n",
       "  }\n",
       "\n",
       "  function load_libs(css_urls, js_urls, callback) {\n",
       "    if (css_urls == null) css_urls = [];\n",
       "    if (js_urls == null) js_urls = [];\n",
       "\n",
       "    root._bokeh_onload_callbacks.push(callback);\n",
       "    if (root._bokeh_is_loading > 0) {\n",
       "      console.debug(\"Bokeh: BokehJS is being loaded, scheduling callback at\", now());\n",
       "      return null;\n",
       "    }\n",
       "    if (js_urls == null || js_urls.length === 0) {\n",
       "      run_callbacks();\n",
       "      return null;\n",
       "    }\n",
       "    console.debug(\"Bokeh: BokehJS not loaded, scheduling load and callback at\", now());\n",
       "    root._bokeh_is_loading = css_urls.length + js_urls.length;\n",
       "\n",
       "    function on_load() {\n",
       "      root._bokeh_is_loading--;\n",
       "      if (root._bokeh_is_loading === 0) {\n",
       "        console.debug(\"Bokeh: all BokehJS libraries/stylesheets loaded\");\n",
       "        run_callbacks()\n",
       "      }\n",
       "    }\n",
       "\n",
       "    function on_error() {\n",
       "      console.error(\"failed to load \" + url);\n",
       "    }\n",
       "\n",
       "    for (var i = 0; i < css_urls.length; i++) {\n",
       "      var url = css_urls[i];\n",
       "      const element = document.createElement(\"link\");\n",
       "      element.onload = on_load;\n",
       "      element.onerror = on_error;\n",
       "      element.rel = \"stylesheet\";\n",
       "      element.type = \"text/css\";\n",
       "      element.href = url;\n",
       "      console.debug(\"Bokeh: injecting link tag for BokehJS stylesheet: \", url);\n",
       "      document.body.appendChild(element);\n",
       "    }\n",
       "\n",
       "    for (var i = 0; i < js_urls.length; i++) {\n",
       "      var url = js_urls[i];\n",
       "      var element = document.createElement('script');\n",
       "      element.onload = on_load;\n",
       "      element.onerror = on_error;\n",
       "      element.async = false;\n",
       "      element.src = url;\n",
       "      console.debug(\"Bokeh: injecting script tag for BokehJS library: \", url);\n",
       "      document.head.appendChild(element);\n",
       "    }\n",
       "  };var element = document.getElementById(\"1234\");\n",
       "  if (element == null) {\n",
       "    console.error(\"Bokeh: ERROR: autoload.js configured with elementid '1234' but no matching script tag was found. \")\n",
       "    return false;\n",
       "  }\n",
       "\n",
       "  function inject_raw_css(css) {\n",
       "    const element = document.createElement(\"style\");\n",
       "    element.appendChild(document.createTextNode(css));\n",
       "    document.body.appendChild(element);\n",
       "  }\n",
       "\n",
       "  var js_urls = [\"https://cdn.pydata.org/bokeh/release/bokeh-1.2.0.min.js\", \"https://cdn.pydata.org/bokeh/release/bokeh-widgets-1.2.0.min.js\", \"https://cdn.pydata.org/bokeh/release/bokeh-tables-1.2.0.min.js\", \"https://cdn.pydata.org/bokeh/release/bokeh-gl-1.2.0.min.js\"];\n",
       "  var css_urls = [\"https://cdn.pydata.org/bokeh/release/bokeh-1.2.0.min.css\", \"https://cdn.pydata.org/bokeh/release/bokeh-widgets-1.2.0.min.css\", \"https://cdn.pydata.org/bokeh/release/bokeh-tables-1.2.0.min.css\"];\n",
       "\n",
       "  var inline_js = [\n",
       "    function(Bokeh) {\n",
       "      Bokeh.set_log_level(\"info\");\n",
       "    },\n",
       "    \n",
       "    function(Bokeh) {\n",
       "      \n",
       "    },\n",
       "    function(Bokeh) {} // ensure no trailing comma for IE\n",
       "  ];\n",
       "\n",
       "  function run_inline_js() {\n",
       "    \n",
       "    if ((root.Bokeh !== undefined) || (force === true)) {\n",
       "      for (var i = 0; i < inline_js.length; i++) {\n",
       "        inline_js[i].call(root, root.Bokeh);\n",
       "      }if (force === true) {\n",
       "        display_loaded();\n",
       "      }} else if (Date.now() < root._bokeh_timeout) {\n",
       "      setTimeout(run_inline_js, 100);\n",
       "    } else if (!root._bokeh_failed_load) {\n",
       "      console.log(\"Bokeh: BokehJS failed to load within specified timeout.\");\n",
       "      root._bokeh_failed_load = true;\n",
       "    } else if (force !== true) {\n",
       "      var cell = $(document.getElementById(\"1234\")).parents('.cell').data().cell;\n",
       "      cell.output_area.append_execute_result(NB_LOAD_WARNING)\n",
       "    }\n",
       "\n",
       "  }\n",
       "\n",
       "  if (root._bokeh_is_loading === 0) {\n",
       "    console.debug(\"Bokeh: BokehJS loaded, going straight to plotting\");\n",
       "    run_inline_js();\n",
       "  } else {\n",
       "    load_libs(css_urls, js_urls, function() {\n",
       "      console.debug(\"Bokeh: BokehJS plotting callback run at\", now());\n",
       "      run_inline_js();\n",
       "    });\n",
       "  }\n",
       "}(window));"
      ],
      "application/vnd.bokehjs_load.v0+json": "\n(function(root) {\n  function now() {\n    return new Date();\n  }\n\n  var force = true;\n\n  if (typeof root._bokeh_onload_callbacks === \"undefined\" || force === true) {\n    root._bokeh_onload_callbacks = [];\n    root._bokeh_is_loading = undefined;\n  }\n\n  \n\n  \n  if (typeof (root._bokeh_timeout) === \"undefined\" || force === true) {\n    root._bokeh_timeout = Date.now() + 5000;\n    root._bokeh_failed_load = false;\n  }\n\n  var NB_LOAD_WARNING = {'data': {'text/html':\n     \"<div style='background-color: #fdd'>\\n\"+\n     \"<p>\\n\"+\n     \"BokehJS does not appear to have successfully loaded. If loading BokehJS from CDN, this \\n\"+\n     \"may be due to a slow or bad network connection. Possible fixes:\\n\"+\n     \"</p>\\n\"+\n     \"<ul>\\n\"+\n     \"<li>re-rerun `output_notebook()` to attempt to load from CDN again, or</li>\\n\"+\n     \"<li>use INLINE resources instead, as so:</li>\\n\"+\n     \"</ul>\\n\"+\n     \"<code>\\n\"+\n     \"from bokeh.resources import INLINE\\n\"+\n     \"output_notebook(resources=INLINE)\\n\"+\n     \"</code>\\n\"+\n     \"</div>\"}};\n\n  function display_loaded() {\n    var el = document.getElementById(\"1234\");\n    if (el != null) {\n      el.textContent = \"BokehJS is loading...\";\n    }\n    if (root.Bokeh !== undefined) {\n      if (el != null) {\n        el.textContent = \"BokehJS \" + root.Bokeh.version + \" successfully loaded.\";\n      }\n    } else if (Date.now() < root._bokeh_timeout) {\n      setTimeout(display_loaded, 100)\n    }\n  }\n\n\n  function run_callbacks() {\n    try {\n      root._bokeh_onload_callbacks.forEach(function(callback) {\n        if (callback != null)\n          callback();\n      });\n    } finally {\n      delete root._bokeh_onload_callbacks\n    }\n    console.debug(\"Bokeh: all callbacks have finished\");\n  }\n\n  function load_libs(css_urls, js_urls, callback) {\n    if (css_urls == null) css_urls = [];\n    if (js_urls == null) js_urls = [];\n\n    root._bokeh_onload_callbacks.push(callback);\n    if (root._bokeh_is_loading > 0) {\n      console.debug(\"Bokeh: BokehJS is being loaded, scheduling callback at\", now());\n      return null;\n    }\n    if (js_urls == null || js_urls.length === 0) {\n      run_callbacks();\n      return null;\n    }\n    console.debug(\"Bokeh: BokehJS not loaded, scheduling load and callback at\", now());\n    root._bokeh_is_loading = css_urls.length + js_urls.length;\n\n    function on_load() {\n      root._bokeh_is_loading--;\n      if (root._bokeh_is_loading === 0) {\n        console.debug(\"Bokeh: all BokehJS libraries/stylesheets loaded\");\n        run_callbacks()\n      }\n    }\n\n    function on_error() {\n      console.error(\"failed to load \" + url);\n    }\n\n    for (var i = 0; i < css_urls.length; i++) {\n      var url = css_urls[i];\n      const element = document.createElement(\"link\");\n      element.onload = on_load;\n      element.onerror = on_error;\n      element.rel = \"stylesheet\";\n      element.type = \"text/css\";\n      element.href = url;\n      console.debug(\"Bokeh: injecting link tag for BokehJS stylesheet: \", url);\n      document.body.appendChild(element);\n    }\n\n    for (var i = 0; i < js_urls.length; i++) {\n      var url = js_urls[i];\n      var element = document.createElement('script');\n      element.onload = on_load;\n      element.onerror = on_error;\n      element.async = false;\n      element.src = url;\n      console.debug(\"Bokeh: injecting script tag for BokehJS library: \", url);\n      document.head.appendChild(element);\n    }\n  };var element = document.getElementById(\"1234\");\n  if (element == null) {\n    console.error(\"Bokeh: ERROR: autoload.js configured with elementid '1234' but no matching script tag was found. \")\n    return false;\n  }\n\n  function inject_raw_css(css) {\n    const element = document.createElement(\"style\");\n    element.appendChild(document.createTextNode(css));\n    document.body.appendChild(element);\n  }\n\n  var js_urls = [\"https://cdn.pydata.org/bokeh/release/bokeh-1.2.0.min.js\", \"https://cdn.pydata.org/bokeh/release/bokeh-widgets-1.2.0.min.js\", \"https://cdn.pydata.org/bokeh/release/bokeh-tables-1.2.0.min.js\", \"https://cdn.pydata.org/bokeh/release/bokeh-gl-1.2.0.min.js\"];\n  var css_urls = [\"https://cdn.pydata.org/bokeh/release/bokeh-1.2.0.min.css\", \"https://cdn.pydata.org/bokeh/release/bokeh-widgets-1.2.0.min.css\", \"https://cdn.pydata.org/bokeh/release/bokeh-tables-1.2.0.min.css\"];\n\n  var inline_js = [\n    function(Bokeh) {\n      Bokeh.set_log_level(\"info\");\n    },\n    \n    function(Bokeh) {\n      \n    },\n    function(Bokeh) {} // ensure no trailing comma for IE\n  ];\n\n  function run_inline_js() {\n    \n    if ((root.Bokeh !== undefined) || (force === true)) {\n      for (var i = 0; i < inline_js.length; i++) {\n        inline_js[i].call(root, root.Bokeh);\n      }if (force === true) {\n        display_loaded();\n      }} else if (Date.now() < root._bokeh_timeout) {\n      setTimeout(run_inline_js, 100);\n    } else if (!root._bokeh_failed_load) {\n      console.log(\"Bokeh: BokehJS failed to load within specified timeout.\");\n      root._bokeh_failed_load = true;\n    } else if (force !== true) {\n      var cell = $(document.getElementById(\"1234\")).parents('.cell').data().cell;\n      cell.output_area.append_execute_result(NB_LOAD_WARNING)\n    }\n\n  }\n\n  if (root._bokeh_is_loading === 0) {\n    console.debug(\"Bokeh: BokehJS loaded, going straight to plotting\");\n    run_inline_js();\n  } else {\n    load_libs(css_urls, js_urls, function() {\n      console.debug(\"Bokeh: BokehJS plotting callback run at\", now());\n      run_inline_js();\n    });\n  }\n}(window));"
     },
     "metadata": {},
     "output_type": "display_data"
    },
    {
     "data": {
      "text/html": [
       "\n",
       "\n",
       "\n",
       "\n",
       "\n",
       "\n",
       "  <div class=\"bk-root\" id=\"38ec47c2-305c-4ff1-9a8f-90a527795dd6\" data-root-id=\"1235\"></div>\n"
      ]
     },
     "metadata": {},
     "output_type": "display_data"
    },
    {
     "data": {
      "application/javascript": [
       "(function(root) {\n",
       "  function embed_document(root) {\n",
       "    \n",
       "  var docs_json = {\"c9720a93-3b0b-4924-aac0-a76b92e84c23\":{\"roots\":{\"references\":[{\"attributes\":{\"below\":[{\"id\":\"1244\",\"type\":\"LinearAxis\"}],\"center\":[{\"id\":\"1248\",\"type\":\"Grid\"},{\"id\":\"1253\",\"type\":\"Grid\"}],\"left\":[{\"id\":\"1249\",\"type\":\"LinearAxis\"}],\"renderers\":[{\"id\":\"1272\",\"type\":\"GlyphRenderer\"}],\"title\":{\"id\":\"1295\",\"type\":\"Title\"},\"toolbar\":{\"id\":\"1260\",\"type\":\"Toolbar\"},\"x_range\":{\"id\":\"1236\",\"type\":\"DataRange1d\"},\"x_scale\":{\"id\":\"1240\",\"type\":\"LinearScale\"},\"y_range\":{\"id\":\"1238\",\"type\":\"DataRange1d\"},\"y_scale\":{\"id\":\"1242\",\"type\":\"LinearScale\"}},\"id\":\"1235\",\"subtype\":\"Figure\",\"type\":\"Plot\"},{\"attributes\":{},\"id\":\"1254\",\"type\":\"PanTool\"},{\"attributes\":{},\"id\":\"1255\",\"type\":\"WheelZoomTool\"},{\"attributes\":{\"overlay\":{\"id\":\"1300\",\"type\":\"BoxAnnotation\"}},\"id\":\"1256\",\"type\":\"BoxZoomTool\"},{\"attributes\":{},\"id\":\"1257\",\"type\":\"SaveTool\"},{\"attributes\":{\"callback\":null},\"id\":\"1236\",\"type\":\"DataRange1d\"},{\"attributes\":{},\"id\":\"1259\",\"type\":\"HelpTool\"},{\"attributes\":{},\"id\":\"1258\",\"type\":\"ResetTool\"},{\"attributes\":{\"active_drag\":\"auto\",\"active_inspect\":\"auto\",\"active_multi\":null,\"active_scroll\":\"auto\",\"active_tap\":\"auto\",\"tools\":[{\"id\":\"1254\",\"type\":\"PanTool\"},{\"id\":\"1255\",\"type\":\"WheelZoomTool\"},{\"id\":\"1256\",\"type\":\"BoxZoomTool\"},{\"id\":\"1257\",\"type\":\"SaveTool\"},{\"id\":\"1258\",\"type\":\"ResetTool\"},{\"id\":\"1259\",\"type\":\"HelpTool\"}]},\"id\":\"1260\",\"type\":\"Toolbar\"},{\"attributes\":{\"palette\":[\"#7f0000\",\"#b30000\",\"#d7301f\",\"#ef6548\",\"#fc8d59\",\"#fdbb84\",\"#fdd49e\",\"#fee8c8\",\"#fff7ec\"]},\"id\":\"1269\",\"type\":\"LinearColorMapper\"},{\"attributes\":{\"color_mapper\":{\"id\":\"1271\",\"type\":\"LinearColorMapper\"},\"dh\":{\"field\":\"dh\",\"units\":\"data\"},\"dw\":{\"field\":\"dw\",\"units\":\"data\"},\"image\":{\"field\":\"image\"},\"x\":{\"field\":\"x\"},\"y\":{\"field\":\"y\"}},\"id\":\"1270\",\"type\":\"Image\"},{\"attributes\":{\"callback\":null},\"id\":\"1238\",\"type\":\"DataRange1d\"},{\"attributes\":{\"palette\":[\"#7f0000\",\"#b30000\",\"#d7301f\",\"#ef6548\",\"#fc8d59\",\"#fdbb84\",\"#fdd49e\",\"#fee8c8\",\"#fff7ec\"]},\"id\":\"1271\",\"type\":\"LinearColorMapper\"},{\"attributes\":{},\"id\":\"1240\",\"type\":\"LinearScale\"},{\"attributes\":{},\"id\":\"1242\",\"type\":\"LinearScale\"},{\"attributes\":{\"data_source\":{\"id\":\"1267\",\"type\":\"ColumnDataSource\"},\"glyph\":{\"id\":\"1268\",\"type\":\"Image\"},\"hover_glyph\":null,\"muted_glyph\":null,\"nonselection_glyph\":{\"id\":\"1270\",\"type\":\"Image\"},\"selection_glyph\":null,\"view\":{\"id\":\"1273\",\"type\":\"CDSView\"}},\"id\":\"1272\",\"type\":\"GlyphRenderer\"},{\"attributes\":{\"formatter\":{\"id\":\"1298\",\"type\":\"BasicTickFormatter\"},\"ticker\":{\"id\":\"1245\",\"type\":\"BasicTicker\"}},\"id\":\"1244\",\"type\":\"LinearAxis\"},{\"attributes\":{\"source\":{\"id\":\"1267\",\"type\":\"ColumnDataSource\"}},\"id\":\"1273\",\"type\":\"CDSView\"},{\"attributes\":{},\"id\":\"1245\",\"type\":\"BasicTicker\"},{\"attributes\":{\"text\":\"\"},\"id\":\"1295\",\"type\":\"Title\"},{\"attributes\":{\"ticker\":{\"id\":\"1245\",\"type\":\"BasicTicker\"}},\"id\":\"1248\",\"type\":\"Grid\"},{\"attributes\":{},\"id\":\"1296\",\"type\":\"BasicTickFormatter\"},{\"attributes\":{\"formatter\":{\"id\":\"1296\",\"type\":\"BasicTickFormatter\"},\"ticker\":{\"id\":\"1250\",\"type\":\"BasicTicker\"}},\"id\":\"1249\",\"type\":\"LinearAxis\"},{\"attributes\":{},\"id\":\"1298\",\"type\":\"BasicTickFormatter\"},{\"attributes\":{},\"id\":\"1250\",\"type\":\"BasicTicker\"},{\"attributes\":{\"bottom_units\":\"screen\",\"fill_alpha\":{\"value\":0.5},\"fill_color\":{\"value\":\"lightgrey\"},\"left_units\":\"screen\",\"level\":\"overlay\",\"line_alpha\":{\"value\":1.0},\"line_color\":{\"value\":\"black\"},\"line_dash\":[4,4],\"line_width\":{\"value\":2},\"render_mode\":\"css\",\"right_units\":\"screen\",\"top_units\":\"screen\"},\"id\":\"1300\",\"type\":\"BoxAnnotation\"},{\"attributes\":{\"dimension\":1,\"ticker\":{\"id\":\"1250\",\"type\":\"BasicTicker\"}},\"id\":\"1253\",\"type\":\"Grid\"},{\"attributes\":{},\"id\":\"1301\",\"type\":\"Selection\"},{\"attributes\":{\"color_mapper\":{\"id\":\"1269\",\"type\":\"LinearColorMapper\"},\"dh\":{\"field\":\"dh\",\"units\":\"data\"},\"dw\":{\"field\":\"dw\",\"units\":\"data\"},\"image\":{\"field\":\"image\"},\"x\":{\"field\":\"x\"},\"y\":{\"field\":\"y\"}},\"id\":\"1268\",\"type\":\"Image\"},{\"attributes\":{},\"id\":\"1302\",\"type\":\"UnionRenderers\"},{\"attributes\":{\"callback\":null,\"data\":{\"dh\":[1],\"dw\":[1],\"image\":[{\"__ndarray__\":\"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\",\"dtype\":\"float64\",\"shape\":[120,120]}],\"x\":[0],\"y\":[0]},\"selected\":{\"id\":\"1301\",\"type\":\"Selection\"},\"selection_policy\":{\"id\":\"1302\",\"type\":\"UnionRenderers\"}},\"id\":\"1267\",\"type\":\"ColumnDataSource\"}],\"root_ids\":[\"1235\"]},\"title\":\"Bokeh Application\",\"version\":\"1.2.0\"}};\n",
       "  var render_items = [{\"docid\":\"c9720a93-3b0b-4924-aac0-a76b92e84c23\",\"roots\":{\"1235\":\"38ec47c2-305c-4ff1-9a8f-90a527795dd6\"}}];\n",
       "  root.Bokeh.embed.embed_items_notebook(docs_json, render_items);\n",
       "\n",
       "  }\n",
       "  if (root.Bokeh !== undefined) {\n",
       "    embed_document(root);\n",
       "  } else {\n",
       "    var attempts = 0;\n",
       "    var timer = setInterval(function(root) {\n",
       "      if (root.Bokeh !== undefined) {\n",
       "        embed_document(root);\n",
       "        clearInterval(timer);\n",
       "      }\n",
       "      attempts++;\n",
       "      if (attempts > 100) {\n",
       "        console.log(\"Bokeh: ERROR: Unable to run BokehJS code because BokehJS library is missing\");\n",
       "        clearInterval(timer);\n",
       "      }\n",
       "    }, 10, root)\n",
       "  }\n",
       "})(window);"
      ],
      "application/vnd.bokehjs_exec.v0+json": ""
     },
     "metadata": {
      "application/vnd.bokehjs_exec.v0+json": {
       "id": "1235"
      }
     },
     "output_type": "display_data"
    }
   ],
   "source": [
    "# %load utilities/plot_utilities.py\n",
    "import numpy as np\n",
    "import bokeh.plotting as bk\n",
    "bk.output_notebook()\n",
    "    \n",
    "def plot_01():\n",
    "    image = np.random.randn(120, 120)\n",
    "    fig = bk.figure()\n",
    "    fig.image([image], x=[0], y=[0], dw=[1], dh=[1], palette='OrRd9')\n",
    "    return fig\n",
    "\n",
    "if __name__ == '__main__':\n",
    "    fig = plot_01()\n",
    "    bk.show(fig)\n"
   ]
  },
  {
   "cell_type": "markdown",
   "metadata": {},
   "source": [
    "## 4 Basic Linear Algebra"
   ]
  },
  {
   "cell_type": "code",
   "execution_count": 28,
   "metadata": {},
   "outputs": [
    {
     "name": "stdout",
     "output_type": "stream",
     "text": [
      "[0.         0.15789474 0.31578947 0.47368421 0.63157895 0.78947368\n",
      " 0.94736842 1.10526316 1.26315789 1.42105263 1.57894737 1.73684211\n",
      " 1.89473684 2.05263158 2.21052632 2.36842105 2.52631579 2.68421053\n",
      " 2.84210526 3.        ]\n"
     ]
    }
   ],
   "source": [
    "# Transpose\n",
    "print (x.T)"
   ]
  },
  {
   "cell_type": "markdown",
   "metadata": {},
   "source": [
    "Explore the available commands for numpy arrays (press x.+TAB) ***Try by yourself:*** \n",
    "    \n",
    "    x.min()\n",
    "    x.max()\n",
    "    x.mean()\n",
    "    x.cumsum()"
   ]
  },
  {
   "cell_type": "code",
   "execution_count": 29,
   "metadata": {},
   "outputs": [
    {
     "data": {
      "text/plain": [
       "0.0"
      ]
     },
     "execution_count": 29,
     "metadata": {},
     "output_type": "execute_result"
    }
   ],
   "source": [
    "x.min()"
   ]
  },
  {
   "cell_type": "code",
   "execution_count": 30,
   "metadata": {},
   "outputs": [
    {
     "name": "stdout",
     "output_type": "stream",
     "text": [
      "[ 0.          0.78947368  1.57894737  2.36842105  3.15789474  3.94736842\n",
      "  4.73684211  5.52631579  6.31578947  7.10526316  7.89473684  8.68421053\n",
      "  9.47368421 10.26315789 11.05263158 11.84210526 12.63157895 13.42105263\n",
      " 14.21052632 15.        ]\n",
      "[3.         3.15789474 3.31578947 3.47368421 3.63157895 3.78947368\n",
      " 3.94736842 4.10526316 4.26315789 4.42105263 4.57894737 4.73684211\n",
      " 4.89473684 5.05263158 5.21052632 5.36842105 5.52631579 5.68421053\n",
      " 5.84210526 6.        ]\n"
     ]
    }
   ],
   "source": [
    "print (x*5)         # Scalar expansion\n",
    "print (x+3)"
   ]
  },
  {
   "cell_type": "code",
   "execution_count": 31,
   "metadata": {},
   "outputs": [
    {
     "name": "stdout",
     "output_type": "stream",
     "text": [
      "[0.         0.02493075 0.09972299 0.22437673 0.39889197 0.6232687\n",
      " 0.89750693 1.22160665 1.59556787 2.01939058 2.49307479 3.0166205\n",
      " 3.5900277  4.2132964  4.88642659 5.60941828 6.38227147 7.20498615\n",
      " 8.07756233 9.        ]\n",
      "61.57894736842104\n"
     ]
    }
   ],
   "source": [
    "print (x*x.T)       # Elementwise product\n",
    "print (np.dot(x,x.T))  # Dot (matrix) product"
   ]
  },
  {
   "cell_type": "markdown",
   "metadata": {},
   "source": [
    "### 4.1 Determinant of a square matrix"
   ]
  },
  {
   "cell_type": "markdown",
   "metadata": {},
   "source": [
    "The `scipy.linalg.det()` function computes the determinant of a square matrix:"
   ]
  },
  {
   "cell_type": "code",
   "execution_count": 32,
   "metadata": {},
   "outputs": [
    {
     "data": {
      "text/plain": [
       "-2.0"
      ]
     },
     "execution_count": 32,
     "metadata": {},
     "output_type": "execute_result"
    }
   ],
   "source": [
    "from scipy import linalg\n",
    "arr = np.array([[1, 2],\n",
    "               [3, 4]])\n",
    "linalg.det(arr)"
   ]
  },
  {
   "cell_type": "markdown",
   "metadata": {},
   "source": [
    "### 4.2 Inverse of a square matrix"
   ]
  },
  {
   "cell_type": "markdown",
   "metadata": {},
   "source": [
    "The `scipy.linalg.inv()` function computes the inverse of a square matrix:"
   ]
  },
  {
   "cell_type": "code",
   "execution_count": 33,
   "metadata": {},
   "outputs": [
    {
     "name": "stdout",
     "output_type": "stream",
     "text": [
      "[[-2.   1. ]\n",
      " [ 1.5 -0.5]]\n"
     ]
    }
   ],
   "source": [
    "print (linalg.inv(arr))"
   ]
  },
  {
   "cell_type": "markdown",
   "metadata": {},
   "source": [
    "### 4.3 Advanced Linear Algebra"
   ]
  },
  {
   "cell_type": "markdown",
   "metadata": {},
   "source": [
    "In **Scipy** many advanced operations are available (check the Scipy Reference), for example singular-value decomposition (SVD):"
   ]
  },
  {
   "cell_type": "code",
   "execution_count": 34,
   "metadata": {},
   "outputs": [],
   "source": [
    "arr = np.arange(9).reshape((3, 3)) + np.diag([1, 0, 1])\n",
    "uarr, spec, vharr = linalg.svd(arr)"
   ]
  },
  {
   "cell_type": "markdown",
   "metadata": {},
   "source": [
    "The resulting array spectrum is:"
   ]
  },
  {
   "cell_type": "code",
   "execution_count": 35,
   "metadata": {},
   "outputs": [
    {
     "data": {
      "text/plain": [
       "array([14.88982544,  0.45294236,  0.29654967])"
      ]
     },
     "execution_count": 35,
     "metadata": {},
     "output_type": "execute_result"
    }
   ],
   "source": [
    "spec"
   ]
  },
  {
   "cell_type": "markdown",
   "metadata": {},
   "source": [
    "## 5 Slicing -Indexing for MATLAB<sup>&reg;</sup> Users-"
   ]
  },
  {
   "cell_type": "markdown",
   "metadata": {},
   "source": [
    "For MATLAB<sup>&reg;</sup> users: in Python, like many other languages, indexing start from **zero** and not from one like MATLAB.\n",
    "\n",
    "Remember: slices (indexed subarrays) are references to memory in the original array, this means that if you modify a slice, you modify the original array. In other words a slice is a pointer to the original array."
   ]
  },
  {
   "cell_type": "code",
   "execution_count": 36,
   "metadata": {},
   "outputs": [
    {
     "name": "stdout",
     "output_type": "stream",
     "text": [
      "[[0 1 2 3]\n",
      " [4 5 6 7]]\n"
     ]
    }
   ],
   "source": [
    "b = np.arange(8).reshape(2,4)\n",
    "print (b)"
   ]
  },
  {
   "cell_type": "markdown",
   "metadata": {},
   "source": [
    "### 5.1 Indexing single elements"
   ]
  },
  {
   "cell_type": "markdown",
   "metadata": {},
   "source": [
    "***Try by yourself:***\n",
    "\n",
    "    print b[0,0]\n",
    "    print b[-1,-1]   # Last element\n",
    "    print b[:,1]     # column number 1 (second column)"
   ]
  },
  {
   "cell_type": "code",
   "execution_count": 37,
   "metadata": {},
   "outputs": [],
   "source": [
    "# Indexing single elements\n"
   ]
  },
  {
   "cell_type": "markdown",
   "metadata": {},
   "source": [
    "<img src=\"images/numpy_array.jpg\" > *Figure 01*"
   ]
  },
  {
   "cell_type": "markdown",
   "metadata": {},
   "source": [
    "### 5.2 Indexing by rows and columns"
   ]
  },
  {
   "cell_type": "code",
   "execution_count": 38,
   "metadata": {},
   "outputs": [],
   "source": [
    "# With reference to Figure 01:\n",
    "a = np.array([[10*j+i for i in range(6)] for j in range(6)])"
   ]
  },
  {
   "cell_type": "markdown",
   "metadata": {},
   "source": [
    "***Try by yourself:***\n",
    "\n",
    "    print a[0,3:5]     # Orange\n",
    "    print a[4:,4:]     # Blue\n",
    "    print a[:, 2]      # Red\n",
    "    print a[2::2, ::2] # Green"
   ]
  },
  {
   "cell_type": "code",
   "execution_count": 39,
   "metadata": {},
   "outputs": [],
   "source": [
    "#Indexing multiple elements\n"
   ]
  },
  {
   "cell_type": "markdown",
   "metadata": {},
   "source": [
    "To replicate an array use 'copy':"
   ]
  },
  {
   "cell_type": "code",
   "execution_count": 40,
   "metadata": {},
   "outputs": [],
   "source": [
    "c = np.array(a, copy=True)"
   ]
  },
  {
   "cell_type": "markdown",
   "metadata": {},
   "source": [
    "## 6 File Input / Output"
   ]
  },
  {
   "cell_type": "markdown",
   "metadata": {},
   "source": [
    "Numpy has special functions for:\n",
    "\n",
    "* Load/Save text files: `numpy.loadtxt()`/`numpy.savetxt()`\n",
    "* Clever loading of text/csv files: `numpy.genfromtxt()`/`numpy.recfromcsv()`\n",
    "* Fast and efficient, but numpy-specific, binary format: `numpy.save()`/`numpy.load()`\n",
    "\n",
    "In particular Numpy can load and save native MATLAB<sup>&reg;</sup> files:"
   ]
  },
  {
   "cell_type": "code",
   "execution_count": 41,
   "metadata": {},
   "outputs": [
    {
     "data": {
      "text/plain": [
       "array([[ 0,  1,  2,  3,  4,  5],\n",
       "       [10, 11, 12, 13, 14, 15],\n",
       "       [20, 21, 22, 23, 24, 25],\n",
       "       [30, 31, 32, 33, 34, 35],\n",
       "       [40, 41, 42, 43, 44, 45],\n",
       "       [50, 51, 52, 53, 54, 55]])"
      ]
     },
     "execution_count": 41,
     "metadata": {},
     "output_type": "execute_result"
    }
   ],
   "source": [
    "from scipy import io as spio\n",
    "spio.savemat('temp/test.mat', {'c': c}, oned_as='row') # savemat expects a dictionary\n",
    "data = spio.loadmat('temp/test.mat')\n",
    "data['c']"
   ]
  },
  {
   "cell_type": "markdown",
   "metadata": {},
   "source": [
    "---\n",
    "\n",
    "Visit [www.add-for.com](<http://www.add-for.com/>) for more tutorials and updates.\n",
    "\n",
    "This work is licensed under a <a rel=\"license\" href=\"http://creativecommons.org/licenses/by-sa/4.0/\">Creative Commons Attribution-ShareAlike 4.0 International License</a>."
   ]
  },
  {
   "cell_type": "code",
   "execution_count": null,
   "metadata": {},
   "outputs": [],
   "source": []
  }
 ],
 "metadata": {
  "kernelspec": {
   "display_name": "Python 3",
   "language": "python",
   "name": "python3"
  },
  "language_info": {
   "codemirror_mode": {
    "name": "ipython",
    "version": 3
   },
   "file_extension": ".py",
   "mimetype": "text/x-python",
   "name": "python",
   "nbconvert_exporter": "python",
   "pygments_lexer": "ipython3",
   "version": "3.7.0"
  }
 },
 "nbformat": 4,
 "nbformat_minor": 1
}
